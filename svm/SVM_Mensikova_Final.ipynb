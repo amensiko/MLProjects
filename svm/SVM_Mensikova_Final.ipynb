{
 "cells": [
  {
   "cell_type": "code",
   "execution_count": 72,
   "metadata": {},
   "outputs": [
    {
     "name": "stdout",
     "output_type": "stream",
     "text": [
      "Requirement already satisfied: info_gain in /Library/Frameworks/Python.framework/Versions/3.7/lib/python3.7/site-packages (1.0.1)\n",
      "\u001b[33mYou are using pip version 18.1, however version 19.3.1 is available.\n",
      "You should consider upgrading via the 'pip install --upgrade pip' command.\u001b[0m\n"
     ]
    }
   ],
   "source": [
    "!{sys.executable} -m pip install info_gain"
   ]
  },
  {
   "cell_type": "code",
   "execution_count": 73,
   "metadata": {},
   "outputs": [],
   "source": [
    "import sys\n",
    "import csv\n",
    "import math\n",
    "import random\n",
    "import operator\n",
    "import time\n",
    "import pandas as pd\n",
    "import numpy as np \n",
    "import seaborn as sns\n",
    "import matplotlib.pyplot as plt\n",
    "from random import seed, shuffle, randrange\n",
    "\n",
    "from info_gain import info_gain\n",
    "from sklearn.svm import LinearSVC\n",
    "from sklearn.model_selection import StratifiedKFold\n",
    "from sklearn.preprocessing import OneHotEncoder, LabelEncoder\n",
    "from sklearn.feature_selection import mutual_info_classif\n",
    "from sklearn.feature_extraction.text import CountVectorizer\n",
    "from sklearn import svm\n",
    "from sklearn.metrics import average_precision_score, precision_recall_curve, f1_score, explained_variance_score\n",
    "from sklearn.preprocessing import StandardScaler\n",
    "from sklearn.decomposition import PCA\n",
    "\n",
    "from sklearn.preprocessing import normalize\n",
    "import time"
   ]
  },
  {
   "cell_type": "code",
   "execution_count": 74,
   "metadata": {},
   "outputs": [],
   "source": [
    "df = pd.read_csv(\"./census-income_10percentData.csv\")"
   ]
  },
  {
   "cell_type": "code",
   "execution_count": 75,
   "metadata": {
    "scrolled": true
   },
   "outputs": [
    {
     "data": {
      "text/html": [
       "<div>\n",
       "<style scoped>\n",
       "    .dataframe tbody tr th:only-of-type {\n",
       "        vertical-align: middle;\n",
       "    }\n",
       "\n",
       "    .dataframe tbody tr th {\n",
       "        vertical-align: top;\n",
       "    }\n",
       "\n",
       "    .dataframe thead th {\n",
       "        text-align: right;\n",
       "    }\n",
       "</style>\n",
       "<table border=\"1\" class=\"dataframe\">\n",
       "  <thead>\n",
       "    <tr style=\"text-align: right;\">\n",
       "      <th></th>\n",
       "      <th>age</th>\n",
       "      <th>workclass</th>\n",
       "      <th>fnlwgt</th>\n",
       "      <th>education</th>\n",
       "      <th>education-num</th>\n",
       "      <th>marital-status</th>\n",
       "      <th>occupation</th>\n",
       "      <th>relationship</th>\n",
       "      <th>race</th>\n",
       "      <th>sex</th>\n",
       "      <th>capital-gain</th>\n",
       "      <th>capital-loss</th>\n",
       "      <th>hours-per-week</th>\n",
       "      <th>native-country</th>\n",
       "      <th>class</th>\n",
       "    </tr>\n",
       "  </thead>\n",
       "  <tbody>\n",
       "    <tr>\n",
       "      <td>0</td>\n",
       "      <td>39</td>\n",
       "      <td>State-gov</td>\n",
       "      <td>77516</td>\n",
       "      <td>Bachelors</td>\n",
       "      <td>13</td>\n",
       "      <td>Never-married</td>\n",
       "      <td>Adm-clerical</td>\n",
       "      <td>Not-in-family</td>\n",
       "      <td>White</td>\n",
       "      <td>Male</td>\n",
       "      <td>2174</td>\n",
       "      <td>0</td>\n",
       "      <td>40</td>\n",
       "      <td>United-States</td>\n",
       "      <td>&lt;=50K</td>\n",
       "    </tr>\n",
       "    <tr>\n",
       "      <td>1</td>\n",
       "      <td>25</td>\n",
       "      <td>Self-emp-not-inc</td>\n",
       "      <td>176756</td>\n",
       "      <td>HS-grad</td>\n",
       "      <td>9</td>\n",
       "      <td>Never-married</td>\n",
       "      <td>Farming-fishing</td>\n",
       "      <td>Own-child</td>\n",
       "      <td>White</td>\n",
       "      <td>Male</td>\n",
       "      <td>0</td>\n",
       "      <td>0</td>\n",
       "      <td>35</td>\n",
       "      <td>United-States</td>\n",
       "      <td>&lt;=50K</td>\n",
       "    </tr>\n",
       "    <tr>\n",
       "      <td>2</td>\n",
       "      <td>23</td>\n",
       "      <td>Local-gov</td>\n",
       "      <td>190709</td>\n",
       "      <td>Assoc-acdm</td>\n",
       "      <td>12</td>\n",
       "      <td>Never-married</td>\n",
       "      <td>Protective-serv</td>\n",
       "      <td>Not-in-family</td>\n",
       "      <td>White</td>\n",
       "      <td>Male</td>\n",
       "      <td>0</td>\n",
       "      <td>0</td>\n",
       "      <td>52</td>\n",
       "      <td>United-States</td>\n",
       "      <td>&lt;=50K</td>\n",
       "    </tr>\n",
       "    <tr>\n",
       "      <td>3</td>\n",
       "      <td>53</td>\n",
       "      <td>Self-emp-not-inc</td>\n",
       "      <td>88506</td>\n",
       "      <td>Bachelors</td>\n",
       "      <td>13</td>\n",
       "      <td>Married-civ-spouse</td>\n",
       "      <td>Prof-specialty</td>\n",
       "      <td>Husband</td>\n",
       "      <td>White</td>\n",
       "      <td>Male</td>\n",
       "      <td>0</td>\n",
       "      <td>0</td>\n",
       "      <td>40</td>\n",
       "      <td>United-States</td>\n",
       "      <td>&lt;=50K</td>\n",
       "    </tr>\n",
       "    <tr>\n",
       "      <td>4</td>\n",
       "      <td>47</td>\n",
       "      <td>Self-emp-inc</td>\n",
       "      <td>109832</td>\n",
       "      <td>HS-grad</td>\n",
       "      <td>9</td>\n",
       "      <td>Divorced</td>\n",
       "      <td>Exec-managerial</td>\n",
       "      <td>Not-in-family</td>\n",
       "      <td>White</td>\n",
       "      <td>Male</td>\n",
       "      <td>0</td>\n",
       "      <td>0</td>\n",
       "      <td>60</td>\n",
       "      <td>United-States</td>\n",
       "      <td>&lt;=50K</td>\n",
       "    </tr>\n",
       "    <tr>\n",
       "      <td>...</td>\n",
       "      <td>...</td>\n",
       "      <td>...</td>\n",
       "      <td>...</td>\n",
       "      <td>...</td>\n",
       "      <td>...</td>\n",
       "      <td>...</td>\n",
       "      <td>...</td>\n",
       "      <td>...</td>\n",
       "      <td>...</td>\n",
       "      <td>...</td>\n",
       "      <td>...</td>\n",
       "      <td>...</td>\n",
       "      <td>...</td>\n",
       "      <td>...</td>\n",
       "      <td>...</td>\n",
       "    </tr>\n",
       "    <tr>\n",
       "      <td>3252</td>\n",
       "      <td>53</td>\n",
       "      <td>Local-gov</td>\n",
       "      <td>155314</td>\n",
       "      <td>HS-grad</td>\n",
       "      <td>9</td>\n",
       "      <td>Married-civ-spouse</td>\n",
       "      <td>Adm-clerical</td>\n",
       "      <td>Wife</td>\n",
       "      <td>White</td>\n",
       "      <td>Female</td>\n",
       "      <td>0</td>\n",
       "      <td>0</td>\n",
       "      <td>40</td>\n",
       "      <td>United-States</td>\n",
       "      <td>&gt;50K</td>\n",
       "    </tr>\n",
       "    <tr>\n",
       "      <td>3253</td>\n",
       "      <td>35</td>\n",
       "      <td>?</td>\n",
       "      <td>320084</td>\n",
       "      <td>Bachelors</td>\n",
       "      <td>13</td>\n",
       "      <td>Married-civ-spouse</td>\n",
       "      <td>?</td>\n",
       "      <td>Wife</td>\n",
       "      <td>White</td>\n",
       "      <td>Female</td>\n",
       "      <td>0</td>\n",
       "      <td>0</td>\n",
       "      <td>55</td>\n",
       "      <td>United-States</td>\n",
       "      <td>&gt;50K</td>\n",
       "    </tr>\n",
       "    <tr>\n",
       "      <td>3254</td>\n",
       "      <td>45</td>\n",
       "      <td>State-gov</td>\n",
       "      <td>103406</td>\n",
       "      <td>Bachelors</td>\n",
       "      <td>13</td>\n",
       "      <td>Married-civ-spouse</td>\n",
       "      <td>Exec-managerial</td>\n",
       "      <td>Husband</td>\n",
       "      <td>White</td>\n",
       "      <td>Male</td>\n",
       "      <td>0</td>\n",
       "      <td>1977</td>\n",
       "      <td>60</td>\n",
       "      <td>United-States</td>\n",
       "      <td>&gt;50K</td>\n",
       "    </tr>\n",
       "    <tr>\n",
       "      <td>3255</td>\n",
       "      <td>67</td>\n",
       "      <td>?</td>\n",
       "      <td>182378</td>\n",
       "      <td>Bachelors</td>\n",
       "      <td>13</td>\n",
       "      <td>Married-civ-spouse</td>\n",
       "      <td>?</td>\n",
       "      <td>Husband</td>\n",
       "      <td>White</td>\n",
       "      <td>Male</td>\n",
       "      <td>9386</td>\n",
       "      <td>0</td>\n",
       "      <td>60</td>\n",
       "      <td>United-States</td>\n",
       "      <td>&gt;50K</td>\n",
       "    </tr>\n",
       "    <tr>\n",
       "      <td>3256</td>\n",
       "      <td>52</td>\n",
       "      <td>Self-emp-inc</td>\n",
       "      <td>287927</td>\n",
       "      <td>HS-grad</td>\n",
       "      <td>9</td>\n",
       "      <td>Married-civ-spouse</td>\n",
       "      <td>Exec-managerial</td>\n",
       "      <td>Wife</td>\n",
       "      <td>White</td>\n",
       "      <td>Female</td>\n",
       "      <td>15024</td>\n",
       "      <td>0</td>\n",
       "      <td>40</td>\n",
       "      <td>United-States</td>\n",
       "      <td>&gt;50K</td>\n",
       "    </tr>\n",
       "  </tbody>\n",
       "</table>\n",
       "<p>3257 rows × 15 columns</p>\n",
       "</div>"
      ],
      "text/plain": [
       "      age         workclass  fnlwgt   education  education-num  \\\n",
       "0      39         State-gov   77516   Bachelors             13   \n",
       "1      25  Self-emp-not-inc  176756     HS-grad              9   \n",
       "2      23         Local-gov  190709  Assoc-acdm             12   \n",
       "3      53  Self-emp-not-inc   88506   Bachelors             13   \n",
       "4      47      Self-emp-inc  109832     HS-grad              9   \n",
       "...   ...               ...     ...         ...            ...   \n",
       "3252   53         Local-gov  155314     HS-grad              9   \n",
       "3253   35                 ?  320084   Bachelors             13   \n",
       "3254   45         State-gov  103406   Bachelors             13   \n",
       "3255   67                 ?  182378   Bachelors             13   \n",
       "3256   52      Self-emp-inc  287927     HS-grad              9   \n",
       "\n",
       "          marital-status       occupation   relationship   race     sex  \\\n",
       "0          Never-married     Adm-clerical  Not-in-family  White    Male   \n",
       "1          Never-married  Farming-fishing      Own-child  White    Male   \n",
       "2          Never-married  Protective-serv  Not-in-family  White    Male   \n",
       "3     Married-civ-spouse   Prof-specialty        Husband  White    Male   \n",
       "4               Divorced  Exec-managerial  Not-in-family  White    Male   \n",
       "...                  ...              ...            ...    ...     ...   \n",
       "3252  Married-civ-spouse     Adm-clerical           Wife  White  Female   \n",
       "3253  Married-civ-spouse                ?           Wife  White  Female   \n",
       "3254  Married-civ-spouse  Exec-managerial        Husband  White    Male   \n",
       "3255  Married-civ-spouse                ?        Husband  White    Male   \n",
       "3256  Married-civ-spouse  Exec-managerial           Wife  White  Female   \n",
       "\n",
       "      capital-gain  capital-loss  hours-per-week native-country  class  \n",
       "0             2174             0              40  United-States  <=50K  \n",
       "1                0             0              35  United-States  <=50K  \n",
       "2                0             0              52  United-States  <=50K  \n",
       "3                0             0              40  United-States  <=50K  \n",
       "4                0             0              60  United-States  <=50K  \n",
       "...            ...           ...             ...            ...    ...  \n",
       "3252             0             0              40  United-States   >50K  \n",
       "3253             0             0              55  United-States   >50K  \n",
       "3254             0          1977              60  United-States   >50K  \n",
       "3255          9386             0              60  United-States   >50K  \n",
       "3256         15024             0              40  United-States   >50K  \n",
       "\n",
       "[3257 rows x 15 columns]"
      ]
     },
     "execution_count": 75,
     "metadata": {},
     "output_type": "execute_result"
    }
   ],
   "source": [
    "df"
   ]
  },
  {
   "cell_type": "code",
   "execution_count": 76,
   "metadata": {},
   "outputs": [],
   "source": [
    "# replacing dashes in column names with underscores\n",
    "df.columns = [c.replace('-', '_') for c in df.columns]\n",
    "df.rename(columns = {'class':'income_class'}, inplace = True)"
   ]
  },
  {
   "cell_type": "code",
   "execution_count": 77,
   "metadata": {},
   "outputs": [
    {
     "data": {
      "text/html": [
       "<div>\n",
       "<style scoped>\n",
       "    .dataframe tbody tr th:only-of-type {\n",
       "        vertical-align: middle;\n",
       "    }\n",
       "\n",
       "    .dataframe tbody tr th {\n",
       "        vertical-align: top;\n",
       "    }\n",
       "\n",
       "    .dataframe thead th {\n",
       "        text-align: right;\n",
       "    }\n",
       "</style>\n",
       "<table border=\"1\" class=\"dataframe\">\n",
       "  <thead>\n",
       "    <tr style=\"text-align: right;\">\n",
       "      <th></th>\n",
       "      <th>age</th>\n",
       "      <th>workclass</th>\n",
       "      <th>fnlwgt</th>\n",
       "      <th>education</th>\n",
       "      <th>education_num</th>\n",
       "      <th>marital_status</th>\n",
       "      <th>occupation</th>\n",
       "      <th>relationship</th>\n",
       "      <th>race</th>\n",
       "      <th>sex</th>\n",
       "      <th>capital_gain</th>\n",
       "      <th>capital_loss</th>\n",
       "      <th>hours_per_week</th>\n",
       "      <th>native_country</th>\n",
       "      <th>income_class</th>\n",
       "    </tr>\n",
       "  </thead>\n",
       "  <tbody>\n",
       "    <tr>\n",
       "      <td>0</td>\n",
       "      <td>39</td>\n",
       "      <td>State-gov</td>\n",
       "      <td>77516</td>\n",
       "      <td>Bachelors</td>\n",
       "      <td>13</td>\n",
       "      <td>Never-married</td>\n",
       "      <td>Adm-clerical</td>\n",
       "      <td>Not-in-family</td>\n",
       "      <td>White</td>\n",
       "      <td>Male</td>\n",
       "      <td>2174</td>\n",
       "      <td>0</td>\n",
       "      <td>40</td>\n",
       "      <td>United-States</td>\n",
       "      <td>&lt;=50K</td>\n",
       "    </tr>\n",
       "    <tr>\n",
       "      <td>1</td>\n",
       "      <td>25</td>\n",
       "      <td>Self-emp-not-inc</td>\n",
       "      <td>176756</td>\n",
       "      <td>HS-grad</td>\n",
       "      <td>9</td>\n",
       "      <td>Never-married</td>\n",
       "      <td>Farming-fishing</td>\n",
       "      <td>Own-child</td>\n",
       "      <td>White</td>\n",
       "      <td>Male</td>\n",
       "      <td>0</td>\n",
       "      <td>0</td>\n",
       "      <td>35</td>\n",
       "      <td>United-States</td>\n",
       "      <td>&lt;=50K</td>\n",
       "    </tr>\n",
       "    <tr>\n",
       "      <td>2</td>\n",
       "      <td>23</td>\n",
       "      <td>Local-gov</td>\n",
       "      <td>190709</td>\n",
       "      <td>Assoc-acdm</td>\n",
       "      <td>12</td>\n",
       "      <td>Never-married</td>\n",
       "      <td>Protective-serv</td>\n",
       "      <td>Not-in-family</td>\n",
       "      <td>White</td>\n",
       "      <td>Male</td>\n",
       "      <td>0</td>\n",
       "      <td>0</td>\n",
       "      <td>52</td>\n",
       "      <td>United-States</td>\n",
       "      <td>&lt;=50K</td>\n",
       "    </tr>\n",
       "    <tr>\n",
       "      <td>3</td>\n",
       "      <td>53</td>\n",
       "      <td>Self-emp-not-inc</td>\n",
       "      <td>88506</td>\n",
       "      <td>Bachelors</td>\n",
       "      <td>13</td>\n",
       "      <td>Married-civ-spouse</td>\n",
       "      <td>Prof-specialty</td>\n",
       "      <td>Husband</td>\n",
       "      <td>White</td>\n",
       "      <td>Male</td>\n",
       "      <td>0</td>\n",
       "      <td>0</td>\n",
       "      <td>40</td>\n",
       "      <td>United-States</td>\n",
       "      <td>&lt;=50K</td>\n",
       "    </tr>\n",
       "    <tr>\n",
       "      <td>4</td>\n",
       "      <td>47</td>\n",
       "      <td>Self-emp-inc</td>\n",
       "      <td>109832</td>\n",
       "      <td>HS-grad</td>\n",
       "      <td>9</td>\n",
       "      <td>Divorced</td>\n",
       "      <td>Exec-managerial</td>\n",
       "      <td>Not-in-family</td>\n",
       "      <td>White</td>\n",
       "      <td>Male</td>\n",
       "      <td>0</td>\n",
       "      <td>0</td>\n",
       "      <td>60</td>\n",
       "      <td>United-States</td>\n",
       "      <td>&lt;=50K</td>\n",
       "    </tr>\n",
       "  </tbody>\n",
       "</table>\n",
       "</div>"
      ],
      "text/plain": [
       "   age         workclass  fnlwgt   education  education_num  \\\n",
       "0   39         State-gov   77516   Bachelors             13   \n",
       "1   25  Self-emp-not-inc  176756     HS-grad              9   \n",
       "2   23         Local-gov  190709  Assoc-acdm             12   \n",
       "3   53  Self-emp-not-inc   88506   Bachelors             13   \n",
       "4   47      Self-emp-inc  109832     HS-grad              9   \n",
       "\n",
       "       marital_status       occupation   relationship   race   sex  \\\n",
       "0       Never-married     Adm-clerical  Not-in-family  White  Male   \n",
       "1       Never-married  Farming-fishing      Own-child  White  Male   \n",
       "2       Never-married  Protective-serv  Not-in-family  White  Male   \n",
       "3  Married-civ-spouse   Prof-specialty        Husband  White  Male   \n",
       "4            Divorced  Exec-managerial  Not-in-family  White  Male   \n",
       "\n",
       "   capital_gain  capital_loss  hours_per_week native_country income_class  \n",
       "0          2174             0              40  United-States        <=50K  \n",
       "1             0             0              35  United-States        <=50K  \n",
       "2             0             0              52  United-States        <=50K  \n",
       "3             0             0              40  United-States        <=50K  \n",
       "4             0             0              60  United-States        <=50K  "
      ]
     },
     "execution_count": 77,
     "metadata": {},
     "output_type": "execute_result"
    }
   ],
   "source": [
    "df.head()"
   ]
  },
  {
   "cell_type": "code",
   "execution_count": 78,
   "metadata": {},
   "outputs": [
    {
     "data": {
      "text/plain": [
       "array(['State-gov', 'Self-emp-not-inc', 'Local-gov', 'Self-emp-inc',\n",
       "       'Private', '?', 'Federal-gov', 'Without-pay'], dtype=object)"
      ]
     },
     "execution_count": 78,
     "metadata": {},
     "output_type": "execute_result"
    }
   ],
   "source": [
    "df['workclass'].unique()"
   ]
  },
  {
   "cell_type": "code",
   "execution_count": 79,
   "metadata": {},
   "outputs": [
    {
     "data": {
      "text/plain": [
       "array(['<=50K', '>50K'], dtype=object)"
      ]
     },
     "execution_count": 79,
     "metadata": {},
     "output_type": "execute_result"
    }
   ],
   "source": [
    "df['income_class'].unique()"
   ]
  },
  {
   "cell_type": "code",
   "execution_count": 80,
   "metadata": {},
   "outputs": [
    {
     "data": {
      "text/plain": [
       "array(['Adm-clerical', 'Farming-fishing', 'Protective-serv',\n",
       "       'Prof-specialty', 'Exec-managerial', 'Machine-op-inspct',\n",
       "       'Tech-support', 'Other-service', 'Craft-repair',\n",
       "       'Transport-moving', 'Sales', 'Handlers-cleaners', '?',\n",
       "       'Priv-house-serv'], dtype=object)"
      ]
     },
     "execution_count": 80,
     "metadata": {},
     "output_type": "execute_result"
    }
   ],
   "source": [
    "df['occupation'].unique()"
   ]
  },
  {
   "cell_type": "code",
   "execution_count": 81,
   "metadata": {},
   "outputs": [
    {
     "data": {
      "text/plain": [
       "array(['Not-in-family', 'Own-child', 'Husband', 'Unmarried',\n",
       "       'Other-relative', 'Wife'], dtype=object)"
      ]
     },
     "execution_count": 81,
     "metadata": {},
     "output_type": "execute_result"
    }
   ],
   "source": [
    "df['relationship'].unique()"
   ]
  },
  {
   "cell_type": "code",
   "execution_count": 82,
   "metadata": {},
   "outputs": [
    {
     "data": {
      "text/plain": [
       "array(['Never-married', 'Married-civ-spouse', 'Divorced', 'Widowed',\n",
       "       'Separated', 'Married-spouse-absent', 'Married-AF-spouse'],\n",
       "      dtype=object)"
      ]
     },
     "execution_count": 82,
     "metadata": {},
     "output_type": "execute_result"
    }
   ],
   "source": [
    "df['marital_status'].unique()"
   ]
  },
  {
   "cell_type": "code",
   "execution_count": 83,
   "metadata": {},
   "outputs": [
    {
     "name": "stdout",
     "output_type": "stream",
     "text": [
      "Columns has '?': ['workclass', 'occupation', 'native_country']\n"
     ]
    }
   ],
   "source": [
    "# find columns that has ?\n",
    "\n",
    "columns_with_question = []\n",
    "for column in df.columns:\n",
    "    if len(df[df[column] == \"?\"]):\n",
    "        columns_with_question.append(column)\n",
    "print(\"Columns has '?': %s\" % columns_with_question)"
   ]
  },
  {
   "cell_type": "markdown",
   "metadata": {},
   "source": [
    "## Getting rid of '?' values"
   ]
  },
  {
   "cell_type": "code",
   "execution_count": 84,
   "metadata": {},
   "outputs": [
    {
     "data": {
      "text/html": [
       "<div>\n",
       "<style scoped>\n",
       "    .dataframe tbody tr th:only-of-type {\n",
       "        vertical-align: middle;\n",
       "    }\n",
       "\n",
       "    .dataframe tbody tr th {\n",
       "        vertical-align: top;\n",
       "    }\n",
       "\n",
       "    .dataframe thead th {\n",
       "        text-align: right;\n",
       "    }\n",
       "</style>\n",
       "<table border=\"1\" class=\"dataframe\">\n",
       "  <thead>\n",
       "    <tr style=\"text-align: right;\">\n",
       "      <th></th>\n",
       "      <th>age</th>\n",
       "      <th>workclass</th>\n",
       "      <th>fnlwgt</th>\n",
       "      <th>education</th>\n",
       "      <th>education_num</th>\n",
       "      <th>marital_status</th>\n",
       "      <th>occupation</th>\n",
       "      <th>relationship</th>\n",
       "      <th>race</th>\n",
       "      <th>sex</th>\n",
       "      <th>capital_gain</th>\n",
       "      <th>capital_loss</th>\n",
       "      <th>hours_per_week</th>\n",
       "      <th>native_country</th>\n",
       "      <th>income_class</th>\n",
       "    </tr>\n",
       "  </thead>\n",
       "  <tbody>\n",
       "    <tr>\n",
       "      <td>33</td>\n",
       "      <td>17</td>\n",
       "      <td>?</td>\n",
       "      <td>202521</td>\n",
       "      <td>11th</td>\n",
       "      <td>7</td>\n",
       "      <td>Never-married</td>\n",
       "      <td>?</td>\n",
       "      <td>Own-child</td>\n",
       "      <td>White</td>\n",
       "      <td>Male</td>\n",
       "      <td>0</td>\n",
       "      <td>0</td>\n",
       "      <td>40</td>\n",
       "      <td>United-States</td>\n",
       "      <td>&lt;=50K</td>\n",
       "    </tr>\n",
       "    <tr>\n",
       "      <td>35</td>\n",
       "      <td>32</td>\n",
       "      <td>?</td>\n",
       "      <td>115745</td>\n",
       "      <td>Some-college</td>\n",
       "      <td>10</td>\n",
       "      <td>Married-civ-spouse</td>\n",
       "      <td>?</td>\n",
       "      <td>Husband</td>\n",
       "      <td>White</td>\n",
       "      <td>Male</td>\n",
       "      <td>0</td>\n",
       "      <td>0</td>\n",
       "      <td>40</td>\n",
       "      <td>United-States</td>\n",
       "      <td>&lt;=50K</td>\n",
       "    </tr>\n",
       "    <tr>\n",
       "      <td>46</td>\n",
       "      <td>55</td>\n",
       "      <td>?</td>\n",
       "      <td>105138</td>\n",
       "      <td>HS-grad</td>\n",
       "      <td>9</td>\n",
       "      <td>Married-civ-spouse</td>\n",
       "      <td>?</td>\n",
       "      <td>Wife</td>\n",
       "      <td>Asian-Pac-Islander</td>\n",
       "      <td>Female</td>\n",
       "      <td>0</td>\n",
       "      <td>0</td>\n",
       "      <td>40</td>\n",
       "      <td>United-States</td>\n",
       "      <td>&lt;=50K</td>\n",
       "    </tr>\n",
       "    <tr>\n",
       "      <td>52</td>\n",
       "      <td>17</td>\n",
       "      <td>?</td>\n",
       "      <td>80077</td>\n",
       "      <td>11th</td>\n",
       "      <td>7</td>\n",
       "      <td>Never-married</td>\n",
       "      <td>?</td>\n",
       "      <td>Own-child</td>\n",
       "      <td>White</td>\n",
       "      <td>Female</td>\n",
       "      <td>0</td>\n",
       "      <td>0</td>\n",
       "      <td>20</td>\n",
       "      <td>United-States</td>\n",
       "      <td>&lt;=50K</td>\n",
       "    </tr>\n",
       "    <tr>\n",
       "      <td>54</td>\n",
       "      <td>25</td>\n",
       "      <td>?</td>\n",
       "      <td>202480</td>\n",
       "      <td>Assoc-acdm</td>\n",
       "      <td>12</td>\n",
       "      <td>Never-married</td>\n",
       "      <td>?</td>\n",
       "      <td>Other-relative</td>\n",
       "      <td>White</td>\n",
       "      <td>Male</td>\n",
       "      <td>0</td>\n",
       "      <td>0</td>\n",
       "      <td>45</td>\n",
       "      <td>United-States</td>\n",
       "      <td>&lt;=50K</td>\n",
       "    </tr>\n",
       "    <tr>\n",
       "      <td>...</td>\n",
       "      <td>...</td>\n",
       "      <td>...</td>\n",
       "      <td>...</td>\n",
       "      <td>...</td>\n",
       "      <td>...</td>\n",
       "      <td>...</td>\n",
       "      <td>...</td>\n",
       "      <td>...</td>\n",
       "      <td>...</td>\n",
       "      <td>...</td>\n",
       "      <td>...</td>\n",
       "      <td>...</td>\n",
       "      <td>...</td>\n",
       "      <td>...</td>\n",
       "      <td>...</td>\n",
       "    </tr>\n",
       "    <tr>\n",
       "      <td>3161</td>\n",
       "      <td>57</td>\n",
       "      <td>?</td>\n",
       "      <td>300104</td>\n",
       "      <td>5th-6th</td>\n",
       "      <td>3</td>\n",
       "      <td>Married-civ-spouse</td>\n",
       "      <td>?</td>\n",
       "      <td>Husband</td>\n",
       "      <td>White</td>\n",
       "      <td>Male</td>\n",
       "      <td>7298</td>\n",
       "      <td>0</td>\n",
       "      <td>84</td>\n",
       "      <td>United-States</td>\n",
       "      <td>&gt;50K</td>\n",
       "    </tr>\n",
       "    <tr>\n",
       "      <td>3201</td>\n",
       "      <td>39</td>\n",
       "      <td>?</td>\n",
       "      <td>361838</td>\n",
       "      <td>Bachelors</td>\n",
       "      <td>13</td>\n",
       "      <td>Married-civ-spouse</td>\n",
       "      <td>?</td>\n",
       "      <td>Wife</td>\n",
       "      <td>White</td>\n",
       "      <td>Female</td>\n",
       "      <td>0</td>\n",
       "      <td>0</td>\n",
       "      <td>6</td>\n",
       "      <td>United-States</td>\n",
       "      <td>&gt;50K</td>\n",
       "    </tr>\n",
       "    <tr>\n",
       "      <td>3227</td>\n",
       "      <td>27</td>\n",
       "      <td>?</td>\n",
       "      <td>251854</td>\n",
       "      <td>Bachelors</td>\n",
       "      <td>13</td>\n",
       "      <td>Married-civ-spouse</td>\n",
       "      <td>?</td>\n",
       "      <td>Wife</td>\n",
       "      <td>Black</td>\n",
       "      <td>Female</td>\n",
       "      <td>0</td>\n",
       "      <td>0</td>\n",
       "      <td>35</td>\n",
       "      <td>?</td>\n",
       "      <td>&gt;50K</td>\n",
       "    </tr>\n",
       "    <tr>\n",
       "      <td>3253</td>\n",
       "      <td>35</td>\n",
       "      <td>?</td>\n",
       "      <td>320084</td>\n",
       "      <td>Bachelors</td>\n",
       "      <td>13</td>\n",
       "      <td>Married-civ-spouse</td>\n",
       "      <td>?</td>\n",
       "      <td>Wife</td>\n",
       "      <td>White</td>\n",
       "      <td>Female</td>\n",
       "      <td>0</td>\n",
       "      <td>0</td>\n",
       "      <td>55</td>\n",
       "      <td>United-States</td>\n",
       "      <td>&gt;50K</td>\n",
       "    </tr>\n",
       "    <tr>\n",
       "      <td>3255</td>\n",
       "      <td>67</td>\n",
       "      <td>?</td>\n",
       "      <td>182378</td>\n",
       "      <td>Bachelors</td>\n",
       "      <td>13</td>\n",
       "      <td>Married-civ-spouse</td>\n",
       "      <td>?</td>\n",
       "      <td>Husband</td>\n",
       "      <td>White</td>\n",
       "      <td>Male</td>\n",
       "      <td>9386</td>\n",
       "      <td>0</td>\n",
       "      <td>60</td>\n",
       "      <td>United-States</td>\n",
       "      <td>&gt;50K</td>\n",
       "    </tr>\n",
       "  </tbody>\n",
       "</table>\n",
       "<p>190 rows × 15 columns</p>\n",
       "</div>"
      ],
      "text/plain": [
       "      age workclass  fnlwgt     education  education_num      marital_status  \\\n",
       "33     17         ?  202521          11th              7       Never-married   \n",
       "35     32         ?  115745  Some-college             10  Married-civ-spouse   \n",
       "46     55         ?  105138       HS-grad              9  Married-civ-spouse   \n",
       "52     17         ?   80077          11th              7       Never-married   \n",
       "54     25         ?  202480    Assoc-acdm             12       Never-married   \n",
       "...   ...       ...     ...           ...            ...                 ...   \n",
       "3161   57         ?  300104       5th-6th              3  Married-civ-spouse   \n",
       "3201   39         ?  361838     Bachelors             13  Married-civ-spouse   \n",
       "3227   27         ?  251854     Bachelors             13  Married-civ-spouse   \n",
       "3253   35         ?  320084     Bachelors             13  Married-civ-spouse   \n",
       "3255   67         ?  182378     Bachelors             13  Married-civ-spouse   \n",
       "\n",
       "     occupation    relationship                race     sex  capital_gain  \\\n",
       "33            ?       Own-child               White    Male             0   \n",
       "35            ?         Husband               White    Male             0   \n",
       "46            ?            Wife  Asian-Pac-Islander  Female             0   \n",
       "52            ?       Own-child               White  Female             0   \n",
       "54            ?  Other-relative               White    Male             0   \n",
       "...         ...             ...                 ...     ...           ...   \n",
       "3161          ?         Husband               White    Male          7298   \n",
       "3201          ?            Wife               White  Female             0   \n",
       "3227          ?            Wife               Black  Female             0   \n",
       "3253          ?            Wife               White  Female             0   \n",
       "3255          ?         Husband               White    Male          9386   \n",
       "\n",
       "      capital_loss  hours_per_week native_country income_class  \n",
       "33               0              40  United-States        <=50K  \n",
       "35               0              40  United-States        <=50K  \n",
       "46               0              40  United-States        <=50K  \n",
       "52               0              20  United-States        <=50K  \n",
       "54               0              45  United-States        <=50K  \n",
       "...            ...             ...            ...          ...  \n",
       "3161             0              84  United-States         >50K  \n",
       "3201             0               6  United-States         >50K  \n",
       "3227             0              35              ?         >50K  \n",
       "3253             0              55  United-States         >50K  \n",
       "3255             0              60  United-States         >50K  \n",
       "\n",
       "[190 rows x 15 columns]"
      ]
     },
     "execution_count": 84,
     "metadata": {},
     "output_type": "execute_result"
    }
   ],
   "source": [
    "df[df['workclass'] == '?']"
   ]
  },
  {
   "cell_type": "markdown",
   "metadata": {},
   "source": [
    "'?'s are in the following columns:\n",
    "\n",
    "- workclass\n",
    "- occupation\n",
    "- native_country\n",
    "\n",
    "Since those don't have numeric values, we can't replace the '?'s with a mean, so we will replace them with the mode (the value appearing most often in each of the given columns)"
   ]
  },
  {
   "cell_type": "code",
   "execution_count": 85,
   "metadata": {},
   "outputs": [
    {
     "data": {
      "text/html": [
       "<div>\n",
       "<style scoped>\n",
       "    .dataframe tbody tr th:only-of-type {\n",
       "        vertical-align: middle;\n",
       "    }\n",
       "\n",
       "    .dataframe tbody tr th {\n",
       "        vertical-align: top;\n",
       "    }\n",
       "\n",
       "    .dataframe thead th {\n",
       "        text-align: right;\n",
       "    }\n",
       "</style>\n",
       "<table border=\"1\" class=\"dataframe\">\n",
       "  <thead>\n",
       "    <tr style=\"text-align: right;\">\n",
       "      <th></th>\n",
       "      <th>age</th>\n",
       "      <th>workclass</th>\n",
       "      <th>fnlwgt</th>\n",
       "      <th>education</th>\n",
       "      <th>education_num</th>\n",
       "      <th>marital_status</th>\n",
       "      <th>occupation</th>\n",
       "      <th>relationship</th>\n",
       "      <th>race</th>\n",
       "      <th>sex</th>\n",
       "      <th>capital_gain</th>\n",
       "      <th>capital_loss</th>\n",
       "      <th>hours_per_week</th>\n",
       "      <th>native_country</th>\n",
       "      <th>income_class</th>\n",
       "    </tr>\n",
       "  </thead>\n",
       "  <tbody>\n",
       "    <tr>\n",
       "      <td>0</td>\n",
       "      <td>39</td>\n",
       "      <td>Private</td>\n",
       "      <td>102130</td>\n",
       "      <td>HS-grad</td>\n",
       "      <td>9</td>\n",
       "      <td>Married-civ-spouse</td>\n",
       "      <td>Prof-specialty</td>\n",
       "      <td>Husband</td>\n",
       "      <td>White</td>\n",
       "      <td>Male</td>\n",
       "      <td>0</td>\n",
       "      <td>0</td>\n",
       "      <td>40</td>\n",
       "      <td>United-States</td>\n",
       "      <td>&lt;=50K</td>\n",
       "    </tr>\n",
       "  </tbody>\n",
       "</table>\n",
       "</div>"
      ],
      "text/plain": [
       "   age workclass  fnlwgt education  education_num      marital_status  \\\n",
       "0   39   Private  102130   HS-grad              9  Married-civ-spouse   \n",
       "\n",
       "       occupation relationship   race   sex  capital_gain  capital_loss  \\\n",
       "0  Prof-specialty      Husband  White  Male             0             0   \n",
       "\n",
       "   hours_per_week native_country income_class  \n",
       "0              40  United-States        <=50K  "
      ]
     },
     "execution_count": 85,
     "metadata": {},
     "output_type": "execute_result"
    }
   ],
   "source": [
    "most_often = df.mode(dropna=True)\n",
    "most_often"
   ]
  },
  {
   "cell_type": "code",
   "execution_count": 86,
   "metadata": {},
   "outputs": [
    {
     "data": {
      "text/plain": [
       "'Prof-specialty'"
      ]
     },
     "execution_count": 86,
     "metadata": {},
     "output_type": "execute_result"
    }
   ],
   "source": [
    "most_often['occupation'][0]"
   ]
  },
  {
   "cell_type": "code",
   "execution_count": 87,
   "metadata": {},
   "outputs": [],
   "source": [
    "# replace columns with ? to most often\n",
    "for column in columns_with_question:\n",
    "    df[df[column] == \"?\"].apply(lambda x: most_often[column][0] )\n",
    "\n",
    "df.loc[(df.workclass == '?'), \"workclass\"] = df.mode(dropna=True)['workclass'][0]\n",
    "df.loc[(df.occupation == '?'), \"occupation\"] = df.mode(dropna=True)['occupation'][0]\n",
    "df.loc[(df.native_country == '?'), \"native_country\"] = df.mode(dropna=True)['native_country'][0]"
   ]
  },
  {
   "cell_type": "code",
   "execution_count": 88,
   "metadata": {
    "scrolled": true
   },
   "outputs": [
    {
     "data": {
      "text/html": [
       "<div>\n",
       "<style scoped>\n",
       "    .dataframe tbody tr th:only-of-type {\n",
       "        vertical-align: middle;\n",
       "    }\n",
       "\n",
       "    .dataframe tbody tr th {\n",
       "        vertical-align: top;\n",
       "    }\n",
       "\n",
       "    .dataframe thead th {\n",
       "        text-align: right;\n",
       "    }\n",
       "</style>\n",
       "<table border=\"1\" class=\"dataframe\">\n",
       "  <thead>\n",
       "    <tr style=\"text-align: right;\">\n",
       "      <th></th>\n",
       "      <th>age</th>\n",
       "      <th>workclass</th>\n",
       "      <th>fnlwgt</th>\n",
       "      <th>education</th>\n",
       "      <th>education_num</th>\n",
       "      <th>marital_status</th>\n",
       "      <th>occupation</th>\n",
       "      <th>relationship</th>\n",
       "      <th>race</th>\n",
       "      <th>sex</th>\n",
       "      <th>capital_gain</th>\n",
       "      <th>capital_loss</th>\n",
       "      <th>hours_per_week</th>\n",
       "      <th>native_country</th>\n",
       "      <th>income_class</th>\n",
       "    </tr>\n",
       "  </thead>\n",
       "  <tbody>\n",
       "    <tr>\n",
       "      <td>0</td>\n",
       "      <td>39</td>\n",
       "      <td>State-gov</td>\n",
       "      <td>77516</td>\n",
       "      <td>Bachelors</td>\n",
       "      <td>13</td>\n",
       "      <td>Never-married</td>\n",
       "      <td>Adm-clerical</td>\n",
       "      <td>Not-in-family</td>\n",
       "      <td>White</td>\n",
       "      <td>Male</td>\n",
       "      <td>2174</td>\n",
       "      <td>0</td>\n",
       "      <td>40</td>\n",
       "      <td>United-States</td>\n",
       "      <td>&lt;=50K</td>\n",
       "    </tr>\n",
       "    <tr>\n",
       "      <td>1</td>\n",
       "      <td>25</td>\n",
       "      <td>Self-emp-not-inc</td>\n",
       "      <td>176756</td>\n",
       "      <td>HS-grad</td>\n",
       "      <td>9</td>\n",
       "      <td>Never-married</td>\n",
       "      <td>Farming-fishing</td>\n",
       "      <td>Own-child</td>\n",
       "      <td>White</td>\n",
       "      <td>Male</td>\n",
       "      <td>0</td>\n",
       "      <td>0</td>\n",
       "      <td>35</td>\n",
       "      <td>United-States</td>\n",
       "      <td>&lt;=50K</td>\n",
       "    </tr>\n",
       "    <tr>\n",
       "      <td>2</td>\n",
       "      <td>23</td>\n",
       "      <td>Local-gov</td>\n",
       "      <td>190709</td>\n",
       "      <td>Assoc-acdm</td>\n",
       "      <td>12</td>\n",
       "      <td>Never-married</td>\n",
       "      <td>Protective-serv</td>\n",
       "      <td>Not-in-family</td>\n",
       "      <td>White</td>\n",
       "      <td>Male</td>\n",
       "      <td>0</td>\n",
       "      <td>0</td>\n",
       "      <td>52</td>\n",
       "      <td>United-States</td>\n",
       "      <td>&lt;=50K</td>\n",
       "    </tr>\n",
       "    <tr>\n",
       "      <td>3</td>\n",
       "      <td>53</td>\n",
       "      <td>Self-emp-not-inc</td>\n",
       "      <td>88506</td>\n",
       "      <td>Bachelors</td>\n",
       "      <td>13</td>\n",
       "      <td>Married-civ-spouse</td>\n",
       "      <td>Prof-specialty</td>\n",
       "      <td>Husband</td>\n",
       "      <td>White</td>\n",
       "      <td>Male</td>\n",
       "      <td>0</td>\n",
       "      <td>0</td>\n",
       "      <td>40</td>\n",
       "      <td>United-States</td>\n",
       "      <td>&lt;=50K</td>\n",
       "    </tr>\n",
       "    <tr>\n",
       "      <td>4</td>\n",
       "      <td>47</td>\n",
       "      <td>Self-emp-inc</td>\n",
       "      <td>109832</td>\n",
       "      <td>HS-grad</td>\n",
       "      <td>9</td>\n",
       "      <td>Divorced</td>\n",
       "      <td>Exec-managerial</td>\n",
       "      <td>Not-in-family</td>\n",
       "      <td>White</td>\n",
       "      <td>Male</td>\n",
       "      <td>0</td>\n",
       "      <td>0</td>\n",
       "      <td>60</td>\n",
       "      <td>United-States</td>\n",
       "      <td>&lt;=50K</td>\n",
       "    </tr>\n",
       "    <tr>\n",
       "      <td>...</td>\n",
       "      <td>...</td>\n",
       "      <td>...</td>\n",
       "      <td>...</td>\n",
       "      <td>...</td>\n",
       "      <td>...</td>\n",
       "      <td>...</td>\n",
       "      <td>...</td>\n",
       "      <td>...</td>\n",
       "      <td>...</td>\n",
       "      <td>...</td>\n",
       "      <td>...</td>\n",
       "      <td>...</td>\n",
       "      <td>...</td>\n",
       "      <td>...</td>\n",
       "      <td>...</td>\n",
       "    </tr>\n",
       "    <tr>\n",
       "      <td>3252</td>\n",
       "      <td>53</td>\n",
       "      <td>Local-gov</td>\n",
       "      <td>155314</td>\n",
       "      <td>HS-grad</td>\n",
       "      <td>9</td>\n",
       "      <td>Married-civ-spouse</td>\n",
       "      <td>Adm-clerical</td>\n",
       "      <td>Wife</td>\n",
       "      <td>White</td>\n",
       "      <td>Female</td>\n",
       "      <td>0</td>\n",
       "      <td>0</td>\n",
       "      <td>40</td>\n",
       "      <td>United-States</td>\n",
       "      <td>&gt;50K</td>\n",
       "    </tr>\n",
       "    <tr>\n",
       "      <td>3253</td>\n",
       "      <td>35</td>\n",
       "      <td>Private</td>\n",
       "      <td>320084</td>\n",
       "      <td>Bachelors</td>\n",
       "      <td>13</td>\n",
       "      <td>Married-civ-spouse</td>\n",
       "      <td>Prof-specialty</td>\n",
       "      <td>Wife</td>\n",
       "      <td>White</td>\n",
       "      <td>Female</td>\n",
       "      <td>0</td>\n",
       "      <td>0</td>\n",
       "      <td>55</td>\n",
       "      <td>United-States</td>\n",
       "      <td>&gt;50K</td>\n",
       "    </tr>\n",
       "    <tr>\n",
       "      <td>3254</td>\n",
       "      <td>45</td>\n",
       "      <td>State-gov</td>\n",
       "      <td>103406</td>\n",
       "      <td>Bachelors</td>\n",
       "      <td>13</td>\n",
       "      <td>Married-civ-spouse</td>\n",
       "      <td>Exec-managerial</td>\n",
       "      <td>Husband</td>\n",
       "      <td>White</td>\n",
       "      <td>Male</td>\n",
       "      <td>0</td>\n",
       "      <td>1977</td>\n",
       "      <td>60</td>\n",
       "      <td>United-States</td>\n",
       "      <td>&gt;50K</td>\n",
       "    </tr>\n",
       "    <tr>\n",
       "      <td>3255</td>\n",
       "      <td>67</td>\n",
       "      <td>Private</td>\n",
       "      <td>182378</td>\n",
       "      <td>Bachelors</td>\n",
       "      <td>13</td>\n",
       "      <td>Married-civ-spouse</td>\n",
       "      <td>Prof-specialty</td>\n",
       "      <td>Husband</td>\n",
       "      <td>White</td>\n",
       "      <td>Male</td>\n",
       "      <td>9386</td>\n",
       "      <td>0</td>\n",
       "      <td>60</td>\n",
       "      <td>United-States</td>\n",
       "      <td>&gt;50K</td>\n",
       "    </tr>\n",
       "    <tr>\n",
       "      <td>3256</td>\n",
       "      <td>52</td>\n",
       "      <td>Self-emp-inc</td>\n",
       "      <td>287927</td>\n",
       "      <td>HS-grad</td>\n",
       "      <td>9</td>\n",
       "      <td>Married-civ-spouse</td>\n",
       "      <td>Exec-managerial</td>\n",
       "      <td>Wife</td>\n",
       "      <td>White</td>\n",
       "      <td>Female</td>\n",
       "      <td>15024</td>\n",
       "      <td>0</td>\n",
       "      <td>40</td>\n",
       "      <td>United-States</td>\n",
       "      <td>&gt;50K</td>\n",
       "    </tr>\n",
       "  </tbody>\n",
       "</table>\n",
       "<p>3257 rows × 15 columns</p>\n",
       "</div>"
      ],
      "text/plain": [
       "      age         workclass  fnlwgt   education  education_num  \\\n",
       "0      39         State-gov   77516   Bachelors             13   \n",
       "1      25  Self-emp-not-inc  176756     HS-grad              9   \n",
       "2      23         Local-gov  190709  Assoc-acdm             12   \n",
       "3      53  Self-emp-not-inc   88506   Bachelors             13   \n",
       "4      47      Self-emp-inc  109832     HS-grad              9   \n",
       "...   ...               ...     ...         ...            ...   \n",
       "3252   53         Local-gov  155314     HS-grad              9   \n",
       "3253   35           Private  320084   Bachelors             13   \n",
       "3254   45         State-gov  103406   Bachelors             13   \n",
       "3255   67           Private  182378   Bachelors             13   \n",
       "3256   52      Self-emp-inc  287927     HS-grad              9   \n",
       "\n",
       "          marital_status       occupation   relationship   race     sex  \\\n",
       "0          Never-married     Adm-clerical  Not-in-family  White    Male   \n",
       "1          Never-married  Farming-fishing      Own-child  White    Male   \n",
       "2          Never-married  Protective-serv  Not-in-family  White    Male   \n",
       "3     Married-civ-spouse   Prof-specialty        Husband  White    Male   \n",
       "4               Divorced  Exec-managerial  Not-in-family  White    Male   \n",
       "...                  ...              ...            ...    ...     ...   \n",
       "3252  Married-civ-spouse     Adm-clerical           Wife  White  Female   \n",
       "3253  Married-civ-spouse   Prof-specialty           Wife  White  Female   \n",
       "3254  Married-civ-spouse  Exec-managerial        Husband  White    Male   \n",
       "3255  Married-civ-spouse   Prof-specialty        Husband  White    Male   \n",
       "3256  Married-civ-spouse  Exec-managerial           Wife  White  Female   \n",
       "\n",
       "      capital_gain  capital_loss  hours_per_week native_country income_class  \n",
       "0             2174             0              40  United-States        <=50K  \n",
       "1                0             0              35  United-States        <=50K  \n",
       "2                0             0              52  United-States        <=50K  \n",
       "3                0             0              40  United-States        <=50K  \n",
       "4                0             0              60  United-States        <=50K  \n",
       "...            ...           ...             ...            ...          ...  \n",
       "3252             0             0              40  United-States         >50K  \n",
       "3253             0             0              55  United-States         >50K  \n",
       "3254             0          1977              60  United-States         >50K  \n",
       "3255          9386             0              60  United-States         >50K  \n",
       "3256         15024             0              40  United-States         >50K  \n",
       "\n",
       "[3257 rows x 15 columns]"
      ]
     },
     "execution_count": 88,
     "metadata": {},
     "output_type": "execute_result"
    }
   ],
   "source": [
    "df"
   ]
  },
  {
   "cell_type": "markdown",
   "metadata": {},
   "source": [
    "## Information Gain"
   ]
  },
  {
   "cell_type": "markdown",
   "metadata": {},
   "source": [
    "Using this package -- https://pypi.org/project/info-gain/\n",
    "\n",
    "https://github.com/Thijsvanede/info_gain"
   ]
  },
  {
   "cell_type": "code",
   "execution_count": 89,
   "metadata": {},
   "outputs": [
    {
     "name": "stdout",
     "output_type": "stream",
     "text": [
      "IG(age): 0.07868354342024597\n",
      "IG(workclass): 0.014844898303145393\n",
      "IG(fnlwgt): 0.5222886086315057\n",
      "IG(education): 0.06409179586687075\n",
      "IG(education_num): 0.06409179586687075\n",
      "IG(marital_status): 0.1147377359864643\n",
      "IG(occupation): 0.055601714063640895\n",
      "IG(relationship): 0.11839751234770657\n",
      "IG(race): 0.00518854681815395\n",
      "IG(sex): 0.025000749576874037\n",
      "IG(capital_gain): 0.08243445402217187\n",
      "IG(capital_loss): 0.03529628068440388\n",
      "IG(hours_per_week): 0.05051684552841085\n",
      "IG(native_country): 0.012698314298945745\n",
      "\n",
      "[('fnlwgt', 0.5222886086315057), ('relationship', 0.11839751234770657)]\n"
     ]
    }
   ],
   "source": [
    "# ig_age  = info_gain.info_gain(df['age'].tolist(), df['income_class'].tolist())       # information gain\n",
    "# iv  = info_gain.intrinsic_value(df['age'].tolist(), df['income_class'].tolist()) # intrinsic value\n",
    "# igr = info_gain.info_gain_ratio(df['age'].tolist(), df['income_class'].tolist()) # information gain ratio\n",
    "\n",
    "igs = {}\n",
    "for column in df:\n",
    "    if column == 'income_class':\n",
    "        continue\n",
    "    ig  = info_gain.info_gain(df[column].tolist(), df['income_class'].tolist())\n",
    "    igs[column] = ig\n",
    "    print(\"IG(\" + str(column) + \"): %s\" % ig)\n",
    "\n",
    "print()\n",
    "\n",
    "sorted_igs = sorted(igs.items(), key=operator.itemgetter(1), reverse=True)\n",
    "print(sorted_igs[:2])"
   ]
  },
  {
   "cell_type": "markdown",
   "metadata": {},
   "source": [
    "Therefore, top two information gains:\n",
    "\n",
    "- fnlwgt\n",
    "- relationship"
   ]
  },
  {
   "cell_type": "code",
   "execution_count": 90,
   "metadata": {},
   "outputs": [
    {
     "data": {
      "text/html": [
       "<div>\n",
       "<style scoped>\n",
       "    .dataframe tbody tr th:only-of-type {\n",
       "        vertical-align: middle;\n",
       "    }\n",
       "\n",
       "    .dataframe tbody tr th {\n",
       "        vertical-align: top;\n",
       "    }\n",
       "\n",
       "    .dataframe thead th {\n",
       "        text-align: right;\n",
       "    }\n",
       "</style>\n",
       "<table border=\"1\" class=\"dataframe\">\n",
       "  <thead>\n",
       "    <tr style=\"text-align: right;\">\n",
       "      <th></th>\n",
       "      <th>age</th>\n",
       "      <th>workclass</th>\n",
       "      <th>fnlwgt</th>\n",
       "      <th>education</th>\n",
       "      <th>education_num</th>\n",
       "      <th>marital_status</th>\n",
       "      <th>occupation</th>\n",
       "      <th>relationship</th>\n",
       "      <th>race</th>\n",
       "      <th>sex</th>\n",
       "      <th>capital_gain</th>\n",
       "      <th>capital_loss</th>\n",
       "      <th>hours_per_week</th>\n",
       "      <th>native_country</th>\n",
       "      <th>income_class</th>\n",
       "    </tr>\n",
       "  </thead>\n",
       "  <tbody>\n",
       "    <tr>\n",
       "      <td>0</td>\n",
       "      <td>39</td>\n",
       "      <td>State-gov</td>\n",
       "      <td>77516</td>\n",
       "      <td>Bachelors</td>\n",
       "      <td>13</td>\n",
       "      <td>Never-married</td>\n",
       "      <td>Adm-clerical</td>\n",
       "      <td>Not-in-family</td>\n",
       "      <td>White</td>\n",
       "      <td>Male</td>\n",
       "      <td>2174</td>\n",
       "      <td>0</td>\n",
       "      <td>40</td>\n",
       "      <td>United-States</td>\n",
       "      <td>&lt;=50K</td>\n",
       "    </tr>\n",
       "    <tr>\n",
       "      <td>1</td>\n",
       "      <td>25</td>\n",
       "      <td>Self-emp-not-inc</td>\n",
       "      <td>176756</td>\n",
       "      <td>HS-grad</td>\n",
       "      <td>9</td>\n",
       "      <td>Never-married</td>\n",
       "      <td>Farming-fishing</td>\n",
       "      <td>Own-child</td>\n",
       "      <td>White</td>\n",
       "      <td>Male</td>\n",
       "      <td>0</td>\n",
       "      <td>0</td>\n",
       "      <td>35</td>\n",
       "      <td>United-States</td>\n",
       "      <td>&lt;=50K</td>\n",
       "    </tr>\n",
       "    <tr>\n",
       "      <td>2</td>\n",
       "      <td>23</td>\n",
       "      <td>Local-gov</td>\n",
       "      <td>190709</td>\n",
       "      <td>Assoc-acdm</td>\n",
       "      <td>12</td>\n",
       "      <td>Never-married</td>\n",
       "      <td>Protective-serv</td>\n",
       "      <td>Not-in-family</td>\n",
       "      <td>White</td>\n",
       "      <td>Male</td>\n",
       "      <td>0</td>\n",
       "      <td>0</td>\n",
       "      <td>52</td>\n",
       "      <td>United-States</td>\n",
       "      <td>&lt;=50K</td>\n",
       "    </tr>\n",
       "    <tr>\n",
       "      <td>3</td>\n",
       "      <td>53</td>\n",
       "      <td>Self-emp-not-inc</td>\n",
       "      <td>88506</td>\n",
       "      <td>Bachelors</td>\n",
       "      <td>13</td>\n",
       "      <td>Married-civ-spouse</td>\n",
       "      <td>Prof-specialty</td>\n",
       "      <td>Husband</td>\n",
       "      <td>White</td>\n",
       "      <td>Male</td>\n",
       "      <td>0</td>\n",
       "      <td>0</td>\n",
       "      <td>40</td>\n",
       "      <td>United-States</td>\n",
       "      <td>&lt;=50K</td>\n",
       "    </tr>\n",
       "    <tr>\n",
       "      <td>4</td>\n",
       "      <td>47</td>\n",
       "      <td>Self-emp-inc</td>\n",
       "      <td>109832</td>\n",
       "      <td>HS-grad</td>\n",
       "      <td>9</td>\n",
       "      <td>Divorced</td>\n",
       "      <td>Exec-managerial</td>\n",
       "      <td>Not-in-family</td>\n",
       "      <td>White</td>\n",
       "      <td>Male</td>\n",
       "      <td>0</td>\n",
       "      <td>0</td>\n",
       "      <td>60</td>\n",
       "      <td>United-States</td>\n",
       "      <td>&lt;=50K</td>\n",
       "    </tr>\n",
       "    <tr>\n",
       "      <td>...</td>\n",
       "      <td>...</td>\n",
       "      <td>...</td>\n",
       "      <td>...</td>\n",
       "      <td>...</td>\n",
       "      <td>...</td>\n",
       "      <td>...</td>\n",
       "      <td>...</td>\n",
       "      <td>...</td>\n",
       "      <td>...</td>\n",
       "      <td>...</td>\n",
       "      <td>...</td>\n",
       "      <td>...</td>\n",
       "      <td>...</td>\n",
       "      <td>...</td>\n",
       "      <td>...</td>\n",
       "    </tr>\n",
       "    <tr>\n",
       "      <td>3252</td>\n",
       "      <td>53</td>\n",
       "      <td>Local-gov</td>\n",
       "      <td>155314</td>\n",
       "      <td>HS-grad</td>\n",
       "      <td>9</td>\n",
       "      <td>Married-civ-spouse</td>\n",
       "      <td>Adm-clerical</td>\n",
       "      <td>Wife</td>\n",
       "      <td>White</td>\n",
       "      <td>Female</td>\n",
       "      <td>0</td>\n",
       "      <td>0</td>\n",
       "      <td>40</td>\n",
       "      <td>United-States</td>\n",
       "      <td>&gt;50K</td>\n",
       "    </tr>\n",
       "    <tr>\n",
       "      <td>3253</td>\n",
       "      <td>35</td>\n",
       "      <td>Private</td>\n",
       "      <td>320084</td>\n",
       "      <td>Bachelors</td>\n",
       "      <td>13</td>\n",
       "      <td>Married-civ-spouse</td>\n",
       "      <td>Prof-specialty</td>\n",
       "      <td>Wife</td>\n",
       "      <td>White</td>\n",
       "      <td>Female</td>\n",
       "      <td>0</td>\n",
       "      <td>0</td>\n",
       "      <td>55</td>\n",
       "      <td>United-States</td>\n",
       "      <td>&gt;50K</td>\n",
       "    </tr>\n",
       "    <tr>\n",
       "      <td>3254</td>\n",
       "      <td>45</td>\n",
       "      <td>State-gov</td>\n",
       "      <td>103406</td>\n",
       "      <td>Bachelors</td>\n",
       "      <td>13</td>\n",
       "      <td>Married-civ-spouse</td>\n",
       "      <td>Exec-managerial</td>\n",
       "      <td>Husband</td>\n",
       "      <td>White</td>\n",
       "      <td>Male</td>\n",
       "      <td>0</td>\n",
       "      <td>1977</td>\n",
       "      <td>60</td>\n",
       "      <td>United-States</td>\n",
       "      <td>&gt;50K</td>\n",
       "    </tr>\n",
       "    <tr>\n",
       "      <td>3255</td>\n",
       "      <td>67</td>\n",
       "      <td>Private</td>\n",
       "      <td>182378</td>\n",
       "      <td>Bachelors</td>\n",
       "      <td>13</td>\n",
       "      <td>Married-civ-spouse</td>\n",
       "      <td>Prof-specialty</td>\n",
       "      <td>Husband</td>\n",
       "      <td>White</td>\n",
       "      <td>Male</td>\n",
       "      <td>9386</td>\n",
       "      <td>0</td>\n",
       "      <td>60</td>\n",
       "      <td>United-States</td>\n",
       "      <td>&gt;50K</td>\n",
       "    </tr>\n",
       "    <tr>\n",
       "      <td>3256</td>\n",
       "      <td>52</td>\n",
       "      <td>Self-emp-inc</td>\n",
       "      <td>287927</td>\n",
       "      <td>HS-grad</td>\n",
       "      <td>9</td>\n",
       "      <td>Married-civ-spouse</td>\n",
       "      <td>Exec-managerial</td>\n",
       "      <td>Wife</td>\n",
       "      <td>White</td>\n",
       "      <td>Female</td>\n",
       "      <td>15024</td>\n",
       "      <td>0</td>\n",
       "      <td>40</td>\n",
       "      <td>United-States</td>\n",
       "      <td>&gt;50K</td>\n",
       "    </tr>\n",
       "  </tbody>\n",
       "</table>\n",
       "<p>3257 rows × 15 columns</p>\n",
       "</div>"
      ],
      "text/plain": [
       "      age         workclass  fnlwgt   education  education_num  \\\n",
       "0      39         State-gov   77516   Bachelors             13   \n",
       "1      25  Self-emp-not-inc  176756     HS-grad              9   \n",
       "2      23         Local-gov  190709  Assoc-acdm             12   \n",
       "3      53  Self-emp-not-inc   88506   Bachelors             13   \n",
       "4      47      Self-emp-inc  109832     HS-grad              9   \n",
       "...   ...               ...     ...         ...            ...   \n",
       "3252   53         Local-gov  155314     HS-grad              9   \n",
       "3253   35           Private  320084   Bachelors             13   \n",
       "3254   45         State-gov  103406   Bachelors             13   \n",
       "3255   67           Private  182378   Bachelors             13   \n",
       "3256   52      Self-emp-inc  287927     HS-grad              9   \n",
       "\n",
       "          marital_status       occupation   relationship   race     sex  \\\n",
       "0          Never-married     Adm-clerical  Not-in-family  White    Male   \n",
       "1          Never-married  Farming-fishing      Own-child  White    Male   \n",
       "2          Never-married  Protective-serv  Not-in-family  White    Male   \n",
       "3     Married-civ-spouse   Prof-specialty        Husband  White    Male   \n",
       "4               Divorced  Exec-managerial  Not-in-family  White    Male   \n",
       "...                  ...              ...            ...    ...     ...   \n",
       "3252  Married-civ-spouse     Adm-clerical           Wife  White  Female   \n",
       "3253  Married-civ-spouse   Prof-specialty           Wife  White  Female   \n",
       "3254  Married-civ-spouse  Exec-managerial        Husband  White    Male   \n",
       "3255  Married-civ-spouse   Prof-specialty        Husband  White    Male   \n",
       "3256  Married-civ-spouse  Exec-managerial           Wife  White  Female   \n",
       "\n",
       "      capital_gain  capital_loss  hours_per_week native_country income_class  \n",
       "0             2174             0              40  United-States        <=50K  \n",
       "1                0             0              35  United-States        <=50K  \n",
       "2                0             0              52  United-States        <=50K  \n",
       "3                0             0              40  United-States        <=50K  \n",
       "4                0             0              60  United-States        <=50K  \n",
       "...            ...           ...             ...            ...          ...  \n",
       "3252             0             0              40  United-States         >50K  \n",
       "3253             0             0              55  United-States         >50K  \n",
       "3254             0          1977              60  United-States         >50K  \n",
       "3255          9386             0              60  United-States         >50K  \n",
       "3256         15024             0              40  United-States         >50K  \n",
       "\n",
       "[3257 rows x 15 columns]"
      ]
     },
     "execution_count": 90,
     "metadata": {},
     "output_type": "execute_result"
    }
   ],
   "source": [
    "df"
   ]
  },
  {
   "cell_type": "code",
   "execution_count": 91,
   "metadata": {},
   "outputs": [
    {
     "data": {
      "text/plain": [
       "Index(['age', 'workclass', 'fnlwgt', 'education', 'education_num',\n",
       "       'marital_status', 'occupation', 'relationship', 'race', 'sex',\n",
       "       'capital_gain', 'capital_loss', 'hours_per_week', 'native_country',\n",
       "       'income_class'],\n",
       "      dtype='object')"
      ]
     },
     "execution_count": 91,
     "metadata": {},
     "output_type": "execute_result"
    }
   ],
   "source": [
    "df.columns"
   ]
  },
  {
   "cell_type": "code",
   "execution_count": 153,
   "metadata": {},
   "outputs": [
    {
     "data": {
      "text/plain": [
       "<matplotlib.legend.Legend at 0x11c16a668>"
      ]
     },
     "execution_count": 153,
     "metadata": {},
     "output_type": "execute_result"
    },
    {
     "data": {
      "image/png": "[encoded data removed]",
      "text/plain": [
       "<Figure size 360x360 with 1 Axes>"
      ]
     },
     "metadata": {},
     "output_type": "display_data"
    }
   ],
   "source": [
    "# this is the code for the scatter plot\n",
    "# input features for x and y\n",
    "sns.lmplot(x=\"relationship\", y=\"fnlwgt\", data=df, fit_reg=False, hue='income_class', legend=False)\n",
    "st = sns.axes_style(\"whitegrid\")\n",
    "sns.set_style(\"ticks\", {\"xtick.major.size\": 20, \"ytick.major.size\": 8})\n",
    "plt.legend(loc='upper right')\n",
    "\n"
   ]
  },
  {
   "cell_type": "markdown",
   "metadata": {},
   "source": [
    "## Converting nominal values to numeric"
   ]
  },
  {
   "cell_type": "code",
   "execution_count": 93,
   "metadata": {},
   "outputs": [],
   "source": [
    "columns_to_factorize = ['workclass', 'education', 'marital_status', 'occupation', 'relationship', 'race', 'sex', 'native_country', 'income_class']\n",
    "factorized_columns = []\n",
    "for column in columns_to_factorize:\n",
    "    column_f = column + '_f'\n",
    "    df[column_f] = pd.factorize(df[column])[0]\n",
    "    factorized_columns.append(column_f)\n"
   ]
  },
  {
   "cell_type": "code",
   "execution_count": 94,
   "metadata": {},
   "outputs": [
    {
     "data": {
      "text/html": [
       "<div>\n",
       "<style scoped>\n",
       "    .dataframe tbody tr th:only-of-type {\n",
       "        vertical-align: middle;\n",
       "    }\n",
       "\n",
       "    .dataframe tbody tr th {\n",
       "        vertical-align: top;\n",
       "    }\n",
       "\n",
       "    .dataframe thead th {\n",
       "        text-align: right;\n",
       "    }\n",
       "</style>\n",
       "<table border=\"1\" class=\"dataframe\">\n",
       "  <thead>\n",
       "    <tr style=\"text-align: right;\">\n",
       "      <th></th>\n",
       "      <th>age</th>\n",
       "      <th>workclass</th>\n",
       "      <th>fnlwgt</th>\n",
       "      <th>education</th>\n",
       "      <th>education_num</th>\n",
       "      <th>marital_status</th>\n",
       "      <th>occupation</th>\n",
       "      <th>relationship</th>\n",
       "      <th>race</th>\n",
       "      <th>sex</th>\n",
       "      <th>...</th>\n",
       "      <th>income_class</th>\n",
       "      <th>workclass_f</th>\n",
       "      <th>education_f</th>\n",
       "      <th>marital_status_f</th>\n",
       "      <th>occupation_f</th>\n",
       "      <th>relationship_f</th>\n",
       "      <th>race_f</th>\n",
       "      <th>sex_f</th>\n",
       "      <th>native_country_f</th>\n",
       "      <th>income_class_f</th>\n",
       "    </tr>\n",
       "  </thead>\n",
       "  <tbody>\n",
       "    <tr>\n",
       "      <td>0</td>\n",
       "      <td>39</td>\n",
       "      <td>State-gov</td>\n",
       "      <td>77516</td>\n",
       "      <td>Bachelors</td>\n",
       "      <td>13</td>\n",
       "      <td>Never-married</td>\n",
       "      <td>Adm-clerical</td>\n",
       "      <td>Not-in-family</td>\n",
       "      <td>White</td>\n",
       "      <td>Male</td>\n",
       "      <td>...</td>\n",
       "      <td>&lt;=50K</td>\n",
       "      <td>0</td>\n",
       "      <td>0</td>\n",
       "      <td>0</td>\n",
       "      <td>0</td>\n",
       "      <td>0</td>\n",
       "      <td>0</td>\n",
       "      <td>0</td>\n",
       "      <td>0</td>\n",
       "      <td>0</td>\n",
       "    </tr>\n",
       "    <tr>\n",
       "      <td>1</td>\n",
       "      <td>25</td>\n",
       "      <td>Self-emp-not-inc</td>\n",
       "      <td>176756</td>\n",
       "      <td>HS-grad</td>\n",
       "      <td>9</td>\n",
       "      <td>Never-married</td>\n",
       "      <td>Farming-fishing</td>\n",
       "      <td>Own-child</td>\n",
       "      <td>White</td>\n",
       "      <td>Male</td>\n",
       "      <td>...</td>\n",
       "      <td>&lt;=50K</td>\n",
       "      <td>1</td>\n",
       "      <td>1</td>\n",
       "      <td>0</td>\n",
       "      <td>1</td>\n",
       "      <td>1</td>\n",
       "      <td>0</td>\n",
       "      <td>0</td>\n",
       "      <td>0</td>\n",
       "      <td>0</td>\n",
       "    </tr>\n",
       "    <tr>\n",
       "      <td>2</td>\n",
       "      <td>23</td>\n",
       "      <td>Local-gov</td>\n",
       "      <td>190709</td>\n",
       "      <td>Assoc-acdm</td>\n",
       "      <td>12</td>\n",
       "      <td>Never-married</td>\n",
       "      <td>Protective-serv</td>\n",
       "      <td>Not-in-family</td>\n",
       "      <td>White</td>\n",
       "      <td>Male</td>\n",
       "      <td>...</td>\n",
       "      <td>&lt;=50K</td>\n",
       "      <td>2</td>\n",
       "      <td>2</td>\n",
       "      <td>0</td>\n",
       "      <td>2</td>\n",
       "      <td>0</td>\n",
       "      <td>0</td>\n",
       "      <td>0</td>\n",
       "      <td>0</td>\n",
       "      <td>0</td>\n",
       "    </tr>\n",
       "    <tr>\n",
       "      <td>3</td>\n",
       "      <td>53</td>\n",
       "      <td>Self-emp-not-inc</td>\n",
       "      <td>88506</td>\n",
       "      <td>Bachelors</td>\n",
       "      <td>13</td>\n",
       "      <td>Married-civ-spouse</td>\n",
       "      <td>Prof-specialty</td>\n",
       "      <td>Husband</td>\n",
       "      <td>White</td>\n",
       "      <td>Male</td>\n",
       "      <td>...</td>\n",
       "      <td>&lt;=50K</td>\n",
       "      <td>1</td>\n",
       "      <td>0</td>\n",
       "      <td>1</td>\n",
       "      <td>3</td>\n",
       "      <td>2</td>\n",
       "      <td>0</td>\n",
       "      <td>0</td>\n",
       "      <td>0</td>\n",
       "      <td>0</td>\n",
       "    </tr>\n",
       "    <tr>\n",
       "      <td>4</td>\n",
       "      <td>47</td>\n",
       "      <td>Self-emp-inc</td>\n",
       "      <td>109832</td>\n",
       "      <td>HS-grad</td>\n",
       "      <td>9</td>\n",
       "      <td>Divorced</td>\n",
       "      <td>Exec-managerial</td>\n",
       "      <td>Not-in-family</td>\n",
       "      <td>White</td>\n",
       "      <td>Male</td>\n",
       "      <td>...</td>\n",
       "      <td>&lt;=50K</td>\n",
       "      <td>3</td>\n",
       "      <td>1</td>\n",
       "      <td>2</td>\n",
       "      <td>4</td>\n",
       "      <td>0</td>\n",
       "      <td>0</td>\n",
       "      <td>0</td>\n",
       "      <td>0</td>\n",
       "      <td>0</td>\n",
       "    </tr>\n",
       "    <tr>\n",
       "      <td>...</td>\n",
       "      <td>...</td>\n",
       "      <td>...</td>\n",
       "      <td>...</td>\n",
       "      <td>...</td>\n",
       "      <td>...</td>\n",
       "      <td>...</td>\n",
       "      <td>...</td>\n",
       "      <td>...</td>\n",
       "      <td>...</td>\n",
       "      <td>...</td>\n",
       "      <td>...</td>\n",
       "      <td>...</td>\n",
       "      <td>...</td>\n",
       "      <td>...</td>\n",
       "      <td>...</td>\n",
       "      <td>...</td>\n",
       "      <td>...</td>\n",
       "      <td>...</td>\n",
       "      <td>...</td>\n",
       "      <td>...</td>\n",
       "      <td>...</td>\n",
       "    </tr>\n",
       "    <tr>\n",
       "      <td>3252</td>\n",
       "      <td>53</td>\n",
       "      <td>Local-gov</td>\n",
       "      <td>155314</td>\n",
       "      <td>HS-grad</td>\n",
       "      <td>9</td>\n",
       "      <td>Married-civ-spouse</td>\n",
       "      <td>Adm-clerical</td>\n",
       "      <td>Wife</td>\n",
       "      <td>White</td>\n",
       "      <td>Female</td>\n",
       "      <td>...</td>\n",
       "      <td>&gt;50K</td>\n",
       "      <td>2</td>\n",
       "      <td>1</td>\n",
       "      <td>1</td>\n",
       "      <td>0</td>\n",
       "      <td>5</td>\n",
       "      <td>0</td>\n",
       "      <td>1</td>\n",
       "      <td>0</td>\n",
       "      <td>1</td>\n",
       "    </tr>\n",
       "    <tr>\n",
       "      <td>3253</td>\n",
       "      <td>35</td>\n",
       "      <td>Private</td>\n",
       "      <td>320084</td>\n",
       "      <td>Bachelors</td>\n",
       "      <td>13</td>\n",
       "      <td>Married-civ-spouse</td>\n",
       "      <td>Prof-specialty</td>\n",
       "      <td>Wife</td>\n",
       "      <td>White</td>\n",
       "      <td>Female</td>\n",
       "      <td>...</td>\n",
       "      <td>&gt;50K</td>\n",
       "      <td>4</td>\n",
       "      <td>0</td>\n",
       "      <td>1</td>\n",
       "      <td>3</td>\n",
       "      <td>5</td>\n",
       "      <td>0</td>\n",
       "      <td>1</td>\n",
       "      <td>0</td>\n",
       "      <td>1</td>\n",
       "    </tr>\n",
       "    <tr>\n",
       "      <td>3254</td>\n",
       "      <td>45</td>\n",
       "      <td>State-gov</td>\n",
       "      <td>103406</td>\n",
       "      <td>Bachelors</td>\n",
       "      <td>13</td>\n",
       "      <td>Married-civ-spouse</td>\n",
       "      <td>Exec-managerial</td>\n",
       "      <td>Husband</td>\n",
       "      <td>White</td>\n",
       "      <td>Male</td>\n",
       "      <td>...</td>\n",
       "      <td>&gt;50K</td>\n",
       "      <td>0</td>\n",
       "      <td>0</td>\n",
       "      <td>1</td>\n",
       "      <td>4</td>\n",
       "      <td>2</td>\n",
       "      <td>0</td>\n",
       "      <td>0</td>\n",
       "      <td>0</td>\n",
       "      <td>1</td>\n",
       "    </tr>\n",
       "    <tr>\n",
       "      <td>3255</td>\n",
       "      <td>67</td>\n",
       "      <td>Private</td>\n",
       "      <td>182378</td>\n",
       "      <td>Bachelors</td>\n",
       "      <td>13</td>\n",
       "      <td>Married-civ-spouse</td>\n",
       "      <td>Prof-specialty</td>\n",
       "      <td>Husband</td>\n",
       "      <td>White</td>\n",
       "      <td>Male</td>\n",
       "      <td>...</td>\n",
       "      <td>&gt;50K</td>\n",
       "      <td>4</td>\n",
       "      <td>0</td>\n",
       "      <td>1</td>\n",
       "      <td>3</td>\n",
       "      <td>2</td>\n",
       "      <td>0</td>\n",
       "      <td>0</td>\n",
       "      <td>0</td>\n",
       "      <td>1</td>\n",
       "    </tr>\n",
       "    <tr>\n",
       "      <td>3256</td>\n",
       "      <td>52</td>\n",
       "      <td>Self-emp-inc</td>\n",
       "      <td>287927</td>\n",
       "      <td>HS-grad</td>\n",
       "      <td>9</td>\n",
       "      <td>Married-civ-spouse</td>\n",
       "      <td>Exec-managerial</td>\n",
       "      <td>Wife</td>\n",
       "      <td>White</td>\n",
       "      <td>Female</td>\n",
       "      <td>...</td>\n",
       "      <td>&gt;50K</td>\n",
       "      <td>3</td>\n",
       "      <td>1</td>\n",
       "      <td>1</td>\n",
       "      <td>4</td>\n",
       "      <td>5</td>\n",
       "      <td>0</td>\n",
       "      <td>1</td>\n",
       "      <td>0</td>\n",
       "      <td>1</td>\n",
       "    </tr>\n",
       "  </tbody>\n",
       "</table>\n",
       "<p>3257 rows × 24 columns</p>\n",
       "</div>"
      ],
      "text/plain": [
       "      age         workclass  fnlwgt   education  education_num  \\\n",
       "0      39         State-gov   77516   Bachelors             13   \n",
       "1      25  Self-emp-not-inc  176756     HS-grad              9   \n",
       "2      23         Local-gov  190709  Assoc-acdm             12   \n",
       "3      53  Self-emp-not-inc   88506   Bachelors             13   \n",
       "4      47      Self-emp-inc  109832     HS-grad              9   \n",
       "...   ...               ...     ...         ...            ...   \n",
       "3252   53         Local-gov  155314     HS-grad              9   \n",
       "3253   35           Private  320084   Bachelors             13   \n",
       "3254   45         State-gov  103406   Bachelors             13   \n",
       "3255   67           Private  182378   Bachelors             13   \n",
       "3256   52      Self-emp-inc  287927     HS-grad              9   \n",
       "\n",
       "          marital_status       occupation   relationship   race     sex  ...  \\\n",
       "0          Never-married     Adm-clerical  Not-in-family  White    Male  ...   \n",
       "1          Never-married  Farming-fishing      Own-child  White    Male  ...   \n",
       "2          Never-married  Protective-serv  Not-in-family  White    Male  ...   \n",
       "3     Married-civ-spouse   Prof-specialty        Husband  White    Male  ...   \n",
       "4               Divorced  Exec-managerial  Not-in-family  White    Male  ...   \n",
       "...                  ...              ...            ...    ...     ...  ...   \n",
       "3252  Married-civ-spouse     Adm-clerical           Wife  White  Female  ...   \n",
       "3253  Married-civ-spouse   Prof-specialty           Wife  White  Female  ...   \n",
       "3254  Married-civ-spouse  Exec-managerial        Husband  White    Male  ...   \n",
       "3255  Married-civ-spouse   Prof-specialty        Husband  White    Male  ...   \n",
       "3256  Married-civ-spouse  Exec-managerial           Wife  White  Female  ...   \n",
       "\n",
       "      income_class  workclass_f  education_f marital_status_f occupation_f  \\\n",
       "0            <=50K            0            0                0            0   \n",
       "1            <=50K            1            1                0            1   \n",
       "2            <=50K            2            2                0            2   \n",
       "3            <=50K            1            0                1            3   \n",
       "4            <=50K            3            1                2            4   \n",
       "...            ...          ...          ...              ...          ...   \n",
       "3252          >50K            2            1                1            0   \n",
       "3253          >50K            4            0                1            3   \n",
       "3254          >50K            0            0                1            4   \n",
       "3255          >50K            4            0                1            3   \n",
       "3256          >50K            3            1                1            4   \n",
       "\n",
       "      relationship_f  race_f  sex_f  native_country_f  income_class_f  \n",
       "0                  0       0      0                 0               0  \n",
       "1                  1       0      0                 0               0  \n",
       "2                  0       0      0                 0               0  \n",
       "3                  2       0      0                 0               0  \n",
       "4                  0       0      0                 0               0  \n",
       "...              ...     ...    ...               ...             ...  \n",
       "3252               5       0      1                 0               1  \n",
       "3253               5       0      1                 0               1  \n",
       "3254               2       0      0                 0               1  \n",
       "3255               2       0      0                 0               1  \n",
       "3256               5       0      1                 0               1  \n",
       "\n",
       "[3257 rows x 24 columns]"
      ]
     },
     "execution_count": 94,
     "metadata": {},
     "output_type": "execute_result"
    }
   ],
   "source": [
    "df"
   ]
  },
  {
   "cell_type": "code",
   "execution_count": 95,
   "metadata": {},
   "outputs": [],
   "source": [
    "feature_columns = ['age', 'fnlwgt', 'education_num'] + factorized_columns\n",
    "features_df = df[feature_columns]"
   ]
  },
  {
   "cell_type": "code",
   "execution_count": 96,
   "metadata": {},
   "outputs": [
    {
     "data": {
      "text/html": [
       "<div>\n",
       "<style scoped>\n",
       "    .dataframe tbody tr th:only-of-type {\n",
       "        vertical-align: middle;\n",
       "    }\n",
       "\n",
       "    .dataframe tbody tr th {\n",
       "        vertical-align: top;\n",
       "    }\n",
       "\n",
       "    .dataframe thead th {\n",
       "        text-align: right;\n",
       "    }\n",
       "</style>\n",
       "<table border=\"1\" class=\"dataframe\">\n",
       "  <thead>\n",
       "    <tr style=\"text-align: right;\">\n",
       "      <th></th>\n",
       "      <th>age</th>\n",
       "      <th>fnlwgt</th>\n",
       "      <th>education_num</th>\n",
       "      <th>workclass_f</th>\n",
       "      <th>education_f</th>\n",
       "      <th>marital_status_f</th>\n",
       "      <th>occupation_f</th>\n",
       "      <th>relationship_f</th>\n",
       "      <th>race_f</th>\n",
       "      <th>sex_f</th>\n",
       "      <th>native_country_f</th>\n",
       "      <th>income_class_f</th>\n",
       "    </tr>\n",
       "  </thead>\n",
       "  <tbody>\n",
       "    <tr>\n",
       "      <td>0</td>\n",
       "      <td>39</td>\n",
       "      <td>77516</td>\n",
       "      <td>13</td>\n",
       "      <td>0</td>\n",
       "      <td>0</td>\n",
       "      <td>0</td>\n",
       "      <td>0</td>\n",
       "      <td>0</td>\n",
       "      <td>0</td>\n",
       "      <td>0</td>\n",
       "      <td>0</td>\n",
       "      <td>0</td>\n",
       "    </tr>\n",
       "    <tr>\n",
       "      <td>1</td>\n",
       "      <td>25</td>\n",
       "      <td>176756</td>\n",
       "      <td>9</td>\n",
       "      <td>1</td>\n",
       "      <td>1</td>\n",
       "      <td>0</td>\n",
       "      <td>1</td>\n",
       "      <td>1</td>\n",
       "      <td>0</td>\n",
       "      <td>0</td>\n",
       "      <td>0</td>\n",
       "      <td>0</td>\n",
       "    </tr>\n",
       "    <tr>\n",
       "      <td>2</td>\n",
       "      <td>23</td>\n",
       "      <td>190709</td>\n",
       "      <td>12</td>\n",
       "      <td>2</td>\n",
       "      <td>2</td>\n",
       "      <td>0</td>\n",
       "      <td>2</td>\n",
       "      <td>0</td>\n",
       "      <td>0</td>\n",
       "      <td>0</td>\n",
       "      <td>0</td>\n",
       "      <td>0</td>\n",
       "    </tr>\n",
       "    <tr>\n",
       "      <td>3</td>\n",
       "      <td>53</td>\n",
       "      <td>88506</td>\n",
       "      <td>13</td>\n",
       "      <td>1</td>\n",
       "      <td>0</td>\n",
       "      <td>1</td>\n",
       "      <td>3</td>\n",
       "      <td>2</td>\n",
       "      <td>0</td>\n",
       "      <td>0</td>\n",
       "      <td>0</td>\n",
       "      <td>0</td>\n",
       "    </tr>\n",
       "    <tr>\n",
       "      <td>4</td>\n",
       "      <td>47</td>\n",
       "      <td>109832</td>\n",
       "      <td>9</td>\n",
       "      <td>3</td>\n",
       "      <td>1</td>\n",
       "      <td>2</td>\n",
       "      <td>4</td>\n",
       "      <td>0</td>\n",
       "      <td>0</td>\n",
       "      <td>0</td>\n",
       "      <td>0</td>\n",
       "      <td>0</td>\n",
       "    </tr>\n",
       "    <tr>\n",
       "      <td>...</td>\n",
       "      <td>...</td>\n",
       "      <td>...</td>\n",
       "      <td>...</td>\n",
       "      <td>...</td>\n",
       "      <td>...</td>\n",
       "      <td>...</td>\n",
       "      <td>...</td>\n",
       "      <td>...</td>\n",
       "      <td>...</td>\n",
       "      <td>...</td>\n",
       "      <td>...</td>\n",
       "      <td>...</td>\n",
       "    </tr>\n",
       "    <tr>\n",
       "      <td>3252</td>\n",
       "      <td>53</td>\n",
       "      <td>155314</td>\n",
       "      <td>9</td>\n",
       "      <td>2</td>\n",
       "      <td>1</td>\n",
       "      <td>1</td>\n",
       "      <td>0</td>\n",
       "      <td>5</td>\n",
       "      <td>0</td>\n",
       "      <td>1</td>\n",
       "      <td>0</td>\n",
       "      <td>1</td>\n",
       "    </tr>\n",
       "    <tr>\n",
       "      <td>3253</td>\n",
       "      <td>35</td>\n",
       "      <td>320084</td>\n",
       "      <td>13</td>\n",
       "      <td>4</td>\n",
       "      <td>0</td>\n",
       "      <td>1</td>\n",
       "      <td>3</td>\n",
       "      <td>5</td>\n",
       "      <td>0</td>\n",
       "      <td>1</td>\n",
       "      <td>0</td>\n",
       "      <td>1</td>\n",
       "    </tr>\n",
       "    <tr>\n",
       "      <td>3254</td>\n",
       "      <td>45</td>\n",
       "      <td>103406</td>\n",
       "      <td>13</td>\n",
       "      <td>0</td>\n",
       "      <td>0</td>\n",
       "      <td>1</td>\n",
       "      <td>4</td>\n",
       "      <td>2</td>\n",
       "      <td>0</td>\n",
       "      <td>0</td>\n",
       "      <td>0</td>\n",
       "      <td>1</td>\n",
       "    </tr>\n",
       "    <tr>\n",
       "      <td>3255</td>\n",
       "      <td>67</td>\n",
       "      <td>182378</td>\n",
       "      <td>13</td>\n",
       "      <td>4</td>\n",
       "      <td>0</td>\n",
       "      <td>1</td>\n",
       "      <td>3</td>\n",
       "      <td>2</td>\n",
       "      <td>0</td>\n",
       "      <td>0</td>\n",
       "      <td>0</td>\n",
       "      <td>1</td>\n",
       "    </tr>\n",
       "    <tr>\n",
       "      <td>3256</td>\n",
       "      <td>52</td>\n",
       "      <td>287927</td>\n",
       "      <td>9</td>\n",
       "      <td>3</td>\n",
       "      <td>1</td>\n",
       "      <td>1</td>\n",
       "      <td>4</td>\n",
       "      <td>5</td>\n",
       "      <td>0</td>\n",
       "      <td>1</td>\n",
       "      <td>0</td>\n",
       "      <td>1</td>\n",
       "    </tr>\n",
       "  </tbody>\n",
       "</table>\n",
       "<p>3257 rows × 12 columns</p>\n",
       "</div>"
      ],
      "text/plain": [
       "      age  fnlwgt  education_num  workclass_f  education_f  marital_status_f  \\\n",
       "0      39   77516             13            0            0                 0   \n",
       "1      25  176756              9            1            1                 0   \n",
       "2      23  190709             12            2            2                 0   \n",
       "3      53   88506             13            1            0                 1   \n",
       "4      47  109832              9            3            1                 2   \n",
       "...   ...     ...            ...          ...          ...               ...   \n",
       "3252   53  155314              9            2            1                 1   \n",
       "3253   35  320084             13            4            0                 1   \n",
       "3254   45  103406             13            0            0                 1   \n",
       "3255   67  182378             13            4            0                 1   \n",
       "3256   52  287927              9            3            1                 1   \n",
       "\n",
       "      occupation_f  relationship_f  race_f  sex_f  native_country_f  \\\n",
       "0                0               0       0      0                 0   \n",
       "1                1               1       0      0                 0   \n",
       "2                2               0       0      0                 0   \n",
       "3                3               2       0      0                 0   \n",
       "4                4               0       0      0                 0   \n",
       "...            ...             ...     ...    ...               ...   \n",
       "3252             0               5       0      1                 0   \n",
       "3253             3               5       0      1                 0   \n",
       "3254             4               2       0      0                 0   \n",
       "3255             3               2       0      0                 0   \n",
       "3256             4               5       0      1                 0   \n",
       "\n",
       "      income_class_f  \n",
       "0                  0  \n",
       "1                  0  \n",
       "2                  0  \n",
       "3                  0  \n",
       "4                  0  \n",
       "...              ...  \n",
       "3252               1  \n",
       "3253               1  \n",
       "3254               1  \n",
       "3255               1  \n",
       "3256               1  \n",
       "\n",
       "[3257 rows x 12 columns]"
      ]
     },
     "execution_count": 96,
     "metadata": {},
     "output_type": "execute_result"
    }
   ],
   "source": [
    "features_df"
   ]
  },
  {
   "cell_type": "code",
   "execution_count": 97,
   "metadata": {},
   "outputs": [
    {
     "name": "stdout",
     "output_type": "stream",
     "text": [
      "  income_class  Count\n",
      "0        <=50K   2472\n",
      "1         >50K    785\n"
     ]
    }
   ],
   "source": [
    "ct = df['income_class'].value_counts().reset_index()\n",
    "ct.columns = ['income_class', 'Count']\n",
    "print(ct)\n",
    "\n",
    "# # Too many 0's, have to remove some\n",
    "\n",
    "# count_0 = 0\n",
    "# for index, row in df.iterrows():\n",
    "#     if row['income_class'] == 0:\n",
    "#         count_0 += 1\n",
    "#     if row['income_class'] == 0 and count_0 > 785:\n",
    "#         df = df.drop(index)\n",
    "\n",
    "# ct1 = df['income_class'].value_counts().reset_index()\n",
    "# ct1.columns = ['income_class', 'Count']\n",
    "# print(ct1)"
   ]
  },
  {
   "cell_type": "markdown",
   "metadata": {},
   "source": [
    "## Min-Max Rescaling"
   ]
  },
  {
   "cell_type": "code",
   "execution_count": 98,
   "metadata": {},
   "outputs": [],
   "source": [
    "def main_max_rescaling(df, columns):\n",
    "    for col in columns:\n",
    "        pt_min = df[col].min()\n",
    "        pt_max = df[col].max()\n",
    "        df[col] = (df[col] - pt_min) / (pt_max - pt_min)"
   ]
  },
  {
   "cell_type": "code",
   "execution_count": 99,
   "metadata": {},
   "outputs": [],
   "source": [
    "main_max_rescaling(df, feature_columns)"
   ]
  },
  {
   "cell_type": "code",
   "execution_count": 100,
   "metadata": {},
   "outputs": [
    {
     "data": {
      "text/html": [
       "<div>\n",
       "<style scoped>\n",
       "    .dataframe tbody tr th:only-of-type {\n",
       "        vertical-align: middle;\n",
       "    }\n",
       "\n",
       "    .dataframe tbody tr th {\n",
       "        vertical-align: top;\n",
       "    }\n",
       "\n",
       "    .dataframe thead th {\n",
       "        text-align: right;\n",
       "    }\n",
       "</style>\n",
       "<table border=\"1\" class=\"dataframe\">\n",
       "  <thead>\n",
       "    <tr style=\"text-align: right;\">\n",
       "      <th></th>\n",
       "      <th>age</th>\n",
       "      <th>workclass</th>\n",
       "      <th>fnlwgt</th>\n",
       "      <th>education</th>\n",
       "      <th>education_num</th>\n",
       "      <th>marital_status</th>\n",
       "      <th>occupation</th>\n",
       "      <th>relationship</th>\n",
       "      <th>race</th>\n",
       "      <th>sex</th>\n",
       "      <th>...</th>\n",
       "      <th>income_class</th>\n",
       "      <th>workclass_f</th>\n",
       "      <th>education_f</th>\n",
       "      <th>marital_status_f</th>\n",
       "      <th>occupation_f</th>\n",
       "      <th>relationship_f</th>\n",
       "      <th>race_f</th>\n",
       "      <th>sex_f</th>\n",
       "      <th>native_country_f</th>\n",
       "      <th>income_class_f</th>\n",
       "    </tr>\n",
       "  </thead>\n",
       "  <tbody>\n",
       "    <tr>\n",
       "      <td>0</td>\n",
       "      <td>0.301370</td>\n",
       "      <td>State-gov</td>\n",
       "      <td>0.077816</td>\n",
       "      <td>Bachelors</td>\n",
       "      <td>0.800000</td>\n",
       "      <td>Never-married</td>\n",
       "      <td>Adm-clerical</td>\n",
       "      <td>Not-in-family</td>\n",
       "      <td>White</td>\n",
       "      <td>Male</td>\n",
       "      <td>...</td>\n",
       "      <td>&lt;=50K</td>\n",
       "      <td>0.000000</td>\n",
       "      <td>0.000000</td>\n",
       "      <td>0.000000</td>\n",
       "      <td>0.000000</td>\n",
       "      <td>0.0</td>\n",
       "      <td>0.0</td>\n",
       "      <td>0.0</td>\n",
       "      <td>0.0</td>\n",
       "      <td>0.0</td>\n",
       "    </tr>\n",
       "    <tr>\n",
       "      <td>1</td>\n",
       "      <td>0.109589</td>\n",
       "      <td>Self-emp-not-inc</td>\n",
       "      <td>0.210472</td>\n",
       "      <td>HS-grad</td>\n",
       "      <td>0.533333</td>\n",
       "      <td>Never-married</td>\n",
       "      <td>Farming-fishing</td>\n",
       "      <td>Own-child</td>\n",
       "      <td>White</td>\n",
       "      <td>Male</td>\n",
       "      <td>...</td>\n",
       "      <td>&lt;=50K</td>\n",
       "      <td>0.166667</td>\n",
       "      <td>0.066667</td>\n",
       "      <td>0.000000</td>\n",
       "      <td>0.083333</td>\n",
       "      <td>0.2</td>\n",
       "      <td>0.0</td>\n",
       "      <td>0.0</td>\n",
       "      <td>0.0</td>\n",
       "      <td>0.0</td>\n",
       "    </tr>\n",
       "    <tr>\n",
       "      <td>2</td>\n",
       "      <td>0.082192</td>\n",
       "      <td>Local-gov</td>\n",
       "      <td>0.229123</td>\n",
       "      <td>Assoc-acdm</td>\n",
       "      <td>0.733333</td>\n",
       "      <td>Never-married</td>\n",
       "      <td>Protective-serv</td>\n",
       "      <td>Not-in-family</td>\n",
       "      <td>White</td>\n",
       "      <td>Male</td>\n",
       "      <td>...</td>\n",
       "      <td>&lt;=50K</td>\n",
       "      <td>0.333333</td>\n",
       "      <td>0.133333</td>\n",
       "      <td>0.000000</td>\n",
       "      <td>0.166667</td>\n",
       "      <td>0.0</td>\n",
       "      <td>0.0</td>\n",
       "      <td>0.0</td>\n",
       "      <td>0.0</td>\n",
       "      <td>0.0</td>\n",
       "    </tr>\n",
       "    <tr>\n",
       "      <td>3</td>\n",
       "      <td>0.493151</td>\n",
       "      <td>Self-emp-not-inc</td>\n",
       "      <td>0.092506</td>\n",
       "      <td>Bachelors</td>\n",
       "      <td>0.800000</td>\n",
       "      <td>Married-civ-spouse</td>\n",
       "      <td>Prof-specialty</td>\n",
       "      <td>Husband</td>\n",
       "      <td>White</td>\n",
       "      <td>Male</td>\n",
       "      <td>...</td>\n",
       "      <td>&lt;=50K</td>\n",
       "      <td>0.166667</td>\n",
       "      <td>0.000000</td>\n",
       "      <td>0.166667</td>\n",
       "      <td>0.250000</td>\n",
       "      <td>0.4</td>\n",
       "      <td>0.0</td>\n",
       "      <td>0.0</td>\n",
       "      <td>0.0</td>\n",
       "      <td>0.0</td>\n",
       "    </tr>\n",
       "    <tr>\n",
       "      <td>4</td>\n",
       "      <td>0.410959</td>\n",
       "      <td>Self-emp-inc</td>\n",
       "      <td>0.121013</td>\n",
       "      <td>HS-grad</td>\n",
       "      <td>0.533333</td>\n",
       "      <td>Divorced</td>\n",
       "      <td>Exec-managerial</td>\n",
       "      <td>Not-in-family</td>\n",
       "      <td>White</td>\n",
       "      <td>Male</td>\n",
       "      <td>...</td>\n",
       "      <td>&lt;=50K</td>\n",
       "      <td>0.500000</td>\n",
       "      <td>0.066667</td>\n",
       "      <td>0.333333</td>\n",
       "      <td>0.333333</td>\n",
       "      <td>0.0</td>\n",
       "      <td>0.0</td>\n",
       "      <td>0.0</td>\n",
       "      <td>0.0</td>\n",
       "      <td>0.0</td>\n",
       "    </tr>\n",
       "    <tr>\n",
       "      <td>...</td>\n",
       "      <td>...</td>\n",
       "      <td>...</td>\n",
       "      <td>...</td>\n",
       "      <td>...</td>\n",
       "      <td>...</td>\n",
       "      <td>...</td>\n",
       "      <td>...</td>\n",
       "      <td>...</td>\n",
       "      <td>...</td>\n",
       "      <td>...</td>\n",
       "      <td>...</td>\n",
       "      <td>...</td>\n",
       "      <td>...</td>\n",
       "      <td>...</td>\n",
       "      <td>...</td>\n",
       "      <td>...</td>\n",
       "      <td>...</td>\n",
       "      <td>...</td>\n",
       "      <td>...</td>\n",
       "      <td>...</td>\n",
       "      <td>...</td>\n",
       "    </tr>\n",
       "    <tr>\n",
       "      <td>3252</td>\n",
       "      <td>0.493151</td>\n",
       "      <td>Local-gov</td>\n",
       "      <td>0.181810</td>\n",
       "      <td>HS-grad</td>\n",
       "      <td>0.533333</td>\n",
       "      <td>Married-civ-spouse</td>\n",
       "      <td>Adm-clerical</td>\n",
       "      <td>Wife</td>\n",
       "      <td>White</td>\n",
       "      <td>Female</td>\n",
       "      <td>...</td>\n",
       "      <td>&gt;50K</td>\n",
       "      <td>0.333333</td>\n",
       "      <td>0.066667</td>\n",
       "      <td>0.166667</td>\n",
       "      <td>0.000000</td>\n",
       "      <td>1.0</td>\n",
       "      <td>0.0</td>\n",
       "      <td>1.0</td>\n",
       "      <td>0.0</td>\n",
       "      <td>1.0</td>\n",
       "    </tr>\n",
       "    <tr>\n",
       "      <td>3253</td>\n",
       "      <td>0.246575</td>\n",
       "      <td>Private</td>\n",
       "      <td>0.402061</td>\n",
       "      <td>Bachelors</td>\n",
       "      <td>0.800000</td>\n",
       "      <td>Married-civ-spouse</td>\n",
       "      <td>Prof-specialty</td>\n",
       "      <td>Wife</td>\n",
       "      <td>White</td>\n",
       "      <td>Female</td>\n",
       "      <td>...</td>\n",
       "      <td>&gt;50K</td>\n",
       "      <td>0.666667</td>\n",
       "      <td>0.000000</td>\n",
       "      <td>0.166667</td>\n",
       "      <td>0.250000</td>\n",
       "      <td>1.0</td>\n",
       "      <td>0.0</td>\n",
       "      <td>1.0</td>\n",
       "      <td>0.0</td>\n",
       "      <td>1.0</td>\n",
       "    </tr>\n",
       "    <tr>\n",
       "      <td>3254</td>\n",
       "      <td>0.383562</td>\n",
       "      <td>State-gov</td>\n",
       "      <td>0.112423</td>\n",
       "      <td>Bachelors</td>\n",
       "      <td>0.800000</td>\n",
       "      <td>Married-civ-spouse</td>\n",
       "      <td>Exec-managerial</td>\n",
       "      <td>Husband</td>\n",
       "      <td>White</td>\n",
       "      <td>Male</td>\n",
       "      <td>...</td>\n",
       "      <td>&gt;50K</td>\n",
       "      <td>0.000000</td>\n",
       "      <td>0.000000</td>\n",
       "      <td>0.166667</td>\n",
       "      <td>0.333333</td>\n",
       "      <td>0.4</td>\n",
       "      <td>0.0</td>\n",
       "      <td>0.0</td>\n",
       "      <td>0.0</td>\n",
       "      <td>1.0</td>\n",
       "    </tr>\n",
       "    <tr>\n",
       "      <td>3255</td>\n",
       "      <td>0.684932</td>\n",
       "      <td>Private</td>\n",
       "      <td>0.217987</td>\n",
       "      <td>Bachelors</td>\n",
       "      <td>0.800000</td>\n",
       "      <td>Married-civ-spouse</td>\n",
       "      <td>Prof-specialty</td>\n",
       "      <td>Husband</td>\n",
       "      <td>White</td>\n",
       "      <td>Male</td>\n",
       "      <td>...</td>\n",
       "      <td>&gt;50K</td>\n",
       "      <td>0.666667</td>\n",
       "      <td>0.000000</td>\n",
       "      <td>0.166667</td>\n",
       "      <td>0.250000</td>\n",
       "      <td>0.4</td>\n",
       "      <td>0.0</td>\n",
       "      <td>0.0</td>\n",
       "      <td>0.0</td>\n",
       "      <td>1.0</td>\n",
       "    </tr>\n",
       "    <tr>\n",
       "      <td>3256</td>\n",
       "      <td>0.479452</td>\n",
       "      <td>Self-emp-inc</td>\n",
       "      <td>0.359076</td>\n",
       "      <td>HS-grad</td>\n",
       "      <td>0.533333</td>\n",
       "      <td>Married-civ-spouse</td>\n",
       "      <td>Exec-managerial</td>\n",
       "      <td>Wife</td>\n",
       "      <td>White</td>\n",
       "      <td>Female</td>\n",
       "      <td>...</td>\n",
       "      <td>&gt;50K</td>\n",
       "      <td>0.500000</td>\n",
       "      <td>0.066667</td>\n",
       "      <td>0.166667</td>\n",
       "      <td>0.333333</td>\n",
       "      <td>1.0</td>\n",
       "      <td>0.0</td>\n",
       "      <td>1.0</td>\n",
       "      <td>0.0</td>\n",
       "      <td>1.0</td>\n",
       "    </tr>\n",
       "  </tbody>\n",
       "</table>\n",
       "<p>3257 rows × 24 columns</p>\n",
       "</div>"
      ],
      "text/plain": [
       "           age         workclass    fnlwgt   education  education_num  \\\n",
       "0     0.301370         State-gov  0.077816   Bachelors       0.800000   \n",
       "1     0.109589  Self-emp-not-inc  0.210472     HS-grad       0.533333   \n",
       "2     0.082192         Local-gov  0.229123  Assoc-acdm       0.733333   \n",
       "3     0.493151  Self-emp-not-inc  0.092506   Bachelors       0.800000   \n",
       "4     0.410959      Self-emp-inc  0.121013     HS-grad       0.533333   \n",
       "...        ...               ...       ...         ...            ...   \n",
       "3252  0.493151         Local-gov  0.181810     HS-grad       0.533333   \n",
       "3253  0.246575           Private  0.402061   Bachelors       0.800000   \n",
       "3254  0.383562         State-gov  0.112423   Bachelors       0.800000   \n",
       "3255  0.684932           Private  0.217987   Bachelors       0.800000   \n",
       "3256  0.479452      Self-emp-inc  0.359076     HS-grad       0.533333   \n",
       "\n",
       "          marital_status       occupation   relationship   race     sex  ...  \\\n",
       "0          Never-married     Adm-clerical  Not-in-family  White    Male  ...   \n",
       "1          Never-married  Farming-fishing      Own-child  White    Male  ...   \n",
       "2          Never-married  Protective-serv  Not-in-family  White    Male  ...   \n",
       "3     Married-civ-spouse   Prof-specialty        Husband  White    Male  ...   \n",
       "4               Divorced  Exec-managerial  Not-in-family  White    Male  ...   \n",
       "...                  ...              ...            ...    ...     ...  ...   \n",
       "3252  Married-civ-spouse     Adm-clerical           Wife  White  Female  ...   \n",
       "3253  Married-civ-spouse   Prof-specialty           Wife  White  Female  ...   \n",
       "3254  Married-civ-spouse  Exec-managerial        Husband  White    Male  ...   \n",
       "3255  Married-civ-spouse   Prof-specialty        Husband  White    Male  ...   \n",
       "3256  Married-civ-spouse  Exec-managerial           Wife  White  Female  ...   \n",
       "\n",
       "      income_class  workclass_f  education_f marital_status_f occupation_f  \\\n",
       "0            <=50K     0.000000     0.000000         0.000000     0.000000   \n",
       "1            <=50K     0.166667     0.066667         0.000000     0.083333   \n",
       "2            <=50K     0.333333     0.133333         0.000000     0.166667   \n",
       "3            <=50K     0.166667     0.000000         0.166667     0.250000   \n",
       "4            <=50K     0.500000     0.066667         0.333333     0.333333   \n",
       "...            ...          ...          ...              ...          ...   \n",
       "3252          >50K     0.333333     0.066667         0.166667     0.000000   \n",
       "3253          >50K     0.666667     0.000000         0.166667     0.250000   \n",
       "3254          >50K     0.000000     0.000000         0.166667     0.333333   \n",
       "3255          >50K     0.666667     0.000000         0.166667     0.250000   \n",
       "3256          >50K     0.500000     0.066667         0.166667     0.333333   \n",
       "\n",
       "      relationship_f  race_f  sex_f  native_country_f  income_class_f  \n",
       "0                0.0     0.0    0.0               0.0             0.0  \n",
       "1                0.2     0.0    0.0               0.0             0.0  \n",
       "2                0.0     0.0    0.0               0.0             0.0  \n",
       "3                0.4     0.0    0.0               0.0             0.0  \n",
       "4                0.0     0.0    0.0               0.0             0.0  \n",
       "...              ...     ...    ...               ...             ...  \n",
       "3252             1.0     0.0    1.0               0.0             1.0  \n",
       "3253             1.0     0.0    1.0               0.0             1.0  \n",
       "3254             0.4     0.0    0.0               0.0             1.0  \n",
       "3255             0.4     0.0    0.0               0.0             1.0  \n",
       "3256             1.0     0.0    1.0               0.0             1.0  \n",
       "\n",
       "[3257 rows x 24 columns]"
      ]
     },
     "execution_count": 100,
     "metadata": {},
     "output_type": "execute_result"
    }
   ],
   "source": [
    "df"
   ]
  },
  {
   "cell_type": "markdown",
   "metadata": {},
   "source": [
    "# Charts"
   ]
  },
  {
   "cell_type": "code",
   "execution_count": 101,
   "metadata": {},
   "outputs": [
    {
     "data": {
      "image/png": "[encoded data removed]",
      "text/plain": [
       "<Figure size 936x792 with 2 Axes>"
      ]
     },
     "metadata": {},
     "output_type": "display_data"
    }
   ],
   "source": [
    "# correlation plot\n",
    "#feature_columns = ['age', 'workclass', 'fnlwgt', 'education', 'education_num',\n",
    "#       'marital_status', 'occupation', 'relationship', 'race', 'sex',\n",
    "#       'capital_gain', 'capital_loss', 'hours_per_week', 'native_country',\n",
    "#       'income_class']\n",
    "mean_corr = df[feature_columns].corr()\n",
    "fig=plt.figure(figsize=(13,11))\n",
    "g1 = sns.heatmap(mean_corr, cmap='coolwarm', vmin=0, vmax=1)\n",
    "g1.set_xticklabels(g1.get_xticklabels(), rotation=70, fontsize=8)\n",
    "g1.set_yticklabels(g1.get_yticklabels(), rotation=15, fontsize=8)\n",
    "plt.title(\"Correlation Plot of Features\")\n",
    "plt.show()\n",
    "\n",
    "# which column depends on which column more"
   ]
  },
  {
   "cell_type": "code",
   "execution_count": 102,
   "metadata": {},
   "outputs": [
    {
     "name": "stderr",
     "output_type": "stream",
     "text": [
      "/Library/Frameworks/Python.framework/Versions/3.7/lib/python3.7/site-packages/scipy/stats/stats.py:1713: FutureWarning: Using a non-tuple sequence for multidimensional indexing is deprecated; use `arr[tuple(seq)]` instead of `arr[seq]`. In the future this will be interpreted as an array index, `arr[np.array(seq)]`, which will result either in an error or a different result.\n",
      "  return np.add.reduce(sorted[indexer] * weights, axis=axis) / sumval\n"
     ]
    },
    {
     "data": {
      "image/png": "[encoded data removed]",
      "text/plain": [
       "<Figure size 432x432 with 3 Axes>"
      ]
     },
     "metadata": {},
     "output_type": "display_data"
    }
   ],
   "source": [
    "sns.set(font_scale=1.2)\n",
    "j=sns.jointplot(df['income_class_f'], df['education_num'], kind='hex', color=\"#4CB391\")\n",
    "j.set_axis_labels('Income', 'Education', fontsize=15)\n",
    "plt.show()\n",
    "\n",
    "# don't need this\n"
   ]
  },
  {
   "cell_type": "code",
   "execution_count": 103,
   "metadata": {},
   "outputs": [
    {
     "data": {
      "image/png": "[encoded data removed]",
      "text/plain": [
       "<Figure size 432x432 with 3 Axes>"
      ]
     },
     "metadata": {},
     "output_type": "display_data"
    }
   ],
   "source": [
    "sns.set(font_scale=1.2)\n",
    "j=sns.jointplot(df['marital_status_f'], df['age'], kind='kde', color=\"orange\")\n",
    "j.set_axis_labels('Marital status', 'Age', fontsize=15)\n",
    "plt.show()"
   ]
  },
  {
   "cell_type": "code",
   "execution_count": 104,
   "metadata": {},
   "outputs": [
    {
     "name": "stdout",
     "output_type": "stream",
     "text": [
      "shape of the scaled and 'PCA'ed features:  (3257, 4)\n"
     ]
    }
   ],
   "source": [
    "# PCA\n",
    "data = df[feature_columns].to_numpy()\n",
    "scaler1 = StandardScaler()\n",
    "scaler1.fit(data)\n",
    "feature_scaled = scaler1.transform(data)\n",
    "\n",
    "pca1 = PCA(n_components=4)\n",
    "pca1.fit(feature_scaled)\n",
    "feature_scaled_pca = pca1.transform(feature_scaled)\n",
    "print(\"shape of the scaled and 'PCA'ed features: \", np.shape(feature_scaled_pca))"
   ]
  },
  {
   "cell_type": "code",
   "execution_count": 105,
   "metadata": {},
   "outputs": [
    {
     "name": "stdout",
     "output_type": "stream",
     "text": [
      "Variance Ratio of the 4 Principal Components Ananlysis:  [0.30374693 0.25620752 0.22297694 0.21706862]\n"
     ]
    }
   ],
   "source": [
    "feat_var = np.var(feature_scaled_pca, axis=0)\n",
    "feat_var_rat = feat_var/(np.sum(feat_var))\n",
    "\n",
    "print (\"Variance Ratio of the 4 Principal Components Ananlysis: \", feat_var_rat)"
   ]
  },
  {
   "cell_type": "code",
   "execution_count": 106,
   "metadata": {},
   "outputs": [
    {
     "data": {
      "text/html": [
       "<div>\n",
       "<style scoped>\n",
       "    .dataframe tbody tr th:only-of-type {\n",
       "        vertical-align: middle;\n",
       "    }\n",
       "\n",
       "    .dataframe tbody tr th {\n",
       "        vertical-align: top;\n",
       "    }\n",
       "\n",
       "    .dataframe thead th {\n",
       "        text-align: right;\n",
       "    }\n",
       "</style>\n",
       "<table border=\"1\" class=\"dataframe\">\n",
       "  <thead>\n",
       "    <tr style=\"text-align: right;\">\n",
       "      <th></th>\n",
       "      <th>age</th>\n",
       "      <th>fnlwgt</th>\n",
       "      <th>education_num</th>\n",
       "      <th>workclass_f</th>\n",
       "      <th>education_f</th>\n",
       "      <th>marital_status_f</th>\n",
       "      <th>occupation_f</th>\n",
       "      <th>relationship_f</th>\n",
       "      <th>race_f</th>\n",
       "      <th>sex_f</th>\n",
       "      <th>native_country_f</th>\n",
       "      <th>income_class_f</th>\n",
       "    </tr>\n",
       "  </thead>\n",
       "  <tbody>\n",
       "    <tr>\n",
       "      <td>PC-1</td>\n",
       "      <td>0.513716</td>\n",
       "      <td>-0.112797</td>\n",
       "      <td>0.356947</td>\n",
       "      <td>-0.297841</td>\n",
       "      <td>0.079742</td>\n",
       "      <td>0.308010</td>\n",
       "      <td>-0.251421</td>\n",
       "      <td>0.269210</td>\n",
       "      <td>-0.049284</td>\n",
       "      <td>-0.077252</td>\n",
       "      <td>-0.017014</td>\n",
       "      <td>0.511519</td>\n",
       "    </tr>\n",
       "    <tr>\n",
       "      <td>PC-2</td>\n",
       "      <td>0.165682</td>\n",
       "      <td>-0.074028</td>\n",
       "      <td>-0.329841</td>\n",
       "      <td>0.126489</td>\n",
       "      <td>0.118561</td>\n",
       "      <td>0.449719</td>\n",
       "      <td>-0.082811</td>\n",
       "      <td>0.257636</td>\n",
       "      <td>0.392958</td>\n",
       "      <td>0.423600</td>\n",
       "      <td>0.407935</td>\n",
       "      <td>-0.229070</td>\n",
       "    </tr>\n",
       "    <tr>\n",
       "      <td>PC-3</td>\n",
       "      <td>0.067887</td>\n",
       "      <td>0.184188</td>\n",
       "      <td>-0.128750</td>\n",
       "      <td>0.045168</td>\n",
       "      <td>0.294741</td>\n",
       "      <td>-0.096525</td>\n",
       "      <td>0.446805</td>\n",
       "      <td>0.019540</td>\n",
       "      <td>0.290166</td>\n",
       "      <td>-0.551509</td>\n",
       "      <td>0.431132</td>\n",
       "      <td>0.269090</td>\n",
       "    </tr>\n",
       "    <tr>\n",
       "      <td>PC-4</td>\n",
       "      <td>-0.370328</td>\n",
       "      <td>-0.018131</td>\n",
       "      <td>0.428281</td>\n",
       "      <td>-0.137898</td>\n",
       "      <td>0.118955</td>\n",
       "      <td>-0.398058</td>\n",
       "      <td>-0.411629</td>\n",
       "      <td>-0.003104</td>\n",
       "      <td>0.404347</td>\n",
       "      <td>0.162546</td>\n",
       "      <td>0.347872</td>\n",
       "      <td>0.084298</td>\n",
       "    </tr>\n",
       "  </tbody>\n",
       "</table>\n",
       "</div>"
      ],
      "text/plain": [
       "           age    fnlwgt  education_num  workclass_f  education_f  \\\n",
       "PC-1  0.513716 -0.112797       0.356947    -0.297841     0.079742   \n",
       "PC-2  0.165682 -0.074028      -0.329841     0.126489     0.118561   \n",
       "PC-3  0.067887  0.184188      -0.128750     0.045168     0.294741   \n",
       "PC-4 -0.370328 -0.018131       0.428281    -0.137898     0.118955   \n",
       "\n",
       "      marital_status_f  occupation_f  relationship_f    race_f     sex_f  \\\n",
       "PC-1          0.308010     -0.251421        0.269210 -0.049284 -0.077252   \n",
       "PC-2          0.449719     -0.082811        0.257636  0.392958  0.423600   \n",
       "PC-3         -0.096525      0.446805        0.019540  0.290166 -0.551509   \n",
       "PC-4         -0.398058     -0.411629       -0.003104  0.404347  0.162546   \n",
       "\n",
       "      native_country_f  income_class_f  \n",
       "PC-1         -0.017014        0.511519  \n",
       "PC-2          0.407935       -0.229070  \n",
       "PC-3          0.431132        0.269090  \n",
       "PC-4          0.347872        0.084298  "
      ]
     },
     "execution_count": 106,
     "metadata": {},
     "output_type": "execute_result"
    }
   ],
   "source": [
    "pca_df = pd.DataFrame(pca1.components_,columns=feature_columns,index = ['PC-1','PC-2','PC-3','PC-4'])\n",
    "pca_df\n"
   ]
  },
  {
   "cell_type": "code",
   "execution_count": 107,
   "metadata": {},
   "outputs": [
    {
     "data": {
      "image/png": "[encoded data removed]",
      "text/plain": [
       "<Figure size 864x504 with 2 Axes>"
      ]
     },
     "metadata": {},
     "output_type": "display_data"
    }
   ],
   "source": [
    "labels = df[\"income_class_f\"].to_numpy()\n",
    "feature_scaled_pca_X0 = feature_scaled_pca[:, 0]\n",
    "feature_scaled_pca_X1 = feature_scaled_pca[:, 1]\n",
    "feature_scaled_pca_X2 = feature_scaled_pca[:, 2]\n",
    "feature_scaled_pca_X3 = feature_scaled_pca[:, 3]\n",
    "\n",
    "colordict = {0:'brown', 1:'darkslategray'}\n",
    "piclabel = {0:'Less', 1:'More'}\n",
    "markers = {0:'o', 1:'*'}\n",
    "alphas = {0:0.3, 1:0.4}\n",
    "\n",
    "fig = plt.figure(figsize=(12, 7))\n",
    "plt.subplot(1,2,1)\n",
    "for l in np.unique(labels):\n",
    "    ix = np.where(labels==l)\n",
    "    plt.scatter(feature_scaled_pca_X0[ix], feature_scaled_pca_X1[ix], c=colordict[l], \n",
    "               label=piclabel[l], s=40, marker=markers[l], alpha=alphas[l])\n",
    "plt.xlabel(\"First Principal Component\", fontsize=15)\n",
    "plt.ylabel(\"Second Principal Component\", fontsize=15)\n",
    "\n",
    "plt.legend(fontsize=15)\n",
    "\n",
    "plt.subplot(1,2,2)\n",
    "for l1 in np.unique(labels):\n",
    "    ix1 = np.where(labels==l1)\n",
    "    plt.scatter(feature_scaled_pca_X2[ix1], feature_scaled_pca_X3[ix1], c=colordict[l1], \n",
    "               label=piclabel[l1], s=40, marker=markers[l1], alpha=alphas[l1])\n",
    "plt.xlabel(\"Third Principal Component\", fontsize=15)\n",
    "plt.ylabel(\"Fourth Principal Component\", fontsize=15)\n",
    "\n",
    "plt.legend(fontsize=15)\n",
    "plt.show()"
   ]
  },
  {
   "cell_type": "markdown",
   "metadata": {},
   "source": [
    "## Stratified n-fold-cross-validation"
   ]
  },
  {
   "cell_type": "code",
   "execution_count": 108,
   "metadata": {},
   "outputs": [],
   "source": [
    "# use shuffle False and fixed random_state to have constant result\n",
    "# DELETE\n",
    "skf = StratifiedKFold(n_splits=10, shuffle = False, random_state = 1)\n",
    "t = df.income_class_f\n",
    "for train_index, test_index in skf.split(np.zeros(len(t)), t):\n",
    "    train = df.loc[train_index]\n",
    "    test = df.loc[test_index]"
   ]
  },
  {
   "cell_type": "code",
   "execution_count": 109,
   "metadata": {},
   "outputs": [],
   "source": [
    "# don't use the first one\n",
    "def cross_validation(columns):\n",
    "    selected_df = df[columns]\n",
    "    x = df.to_numpy()\n",
    "    y = df[\"income_class_f\"].to_numpy()\n",
    "\n",
    "    for train_index, test_index in skf.split(x, y):\n",
    "        x_train, x_test = x[train_index], x[test_index]\n",
    "        y_train, y_test = y[train_index], y[test_index]\n",
    "        yield x_train, x_test, y_train, y_test\n",
    "\n",
    "        \n",
    "def cross_validation_num(x, y):\n",
    "    skf = StratifiedKFold(n_splits=10, shuffle = False, random_state = 2)\n",
    "    data = []\n",
    "    for train_index, test_index in skf.split(x, y):\n",
    "        x_train, x_test = x[train_index], x[test_index]\n",
    "        y_train, y_test = y[train_index], y[test_index]\n",
    "        data.append((x_train, x_test, y_train, y_test))\n",
    "    return data"
   ]
  },
  {
   "cell_type": "code",
   "execution_count": 110,
   "metadata": {},
   "outputs": [
    {
     "data": {
      "text/plain": [
       "2932"
      ]
     },
     "execution_count": 110,
     "metadata": {},
     "output_type": "execute_result"
    }
   ],
   "source": [
    "len(train)"
   ]
  },
  {
   "cell_type": "code",
   "execution_count": 111,
   "metadata": {},
   "outputs": [
    {
     "data": {
      "text/plain": [
       "325"
      ]
     },
     "execution_count": 111,
     "metadata": {},
     "output_type": "execute_result"
    }
   ],
   "source": [
    "len(test)"
   ]
  },
  {
   "cell_type": "code",
   "execution_count": 112,
   "metadata": {},
   "outputs": [],
   "source": [
    "# df[[\"class\", \"workclass\"]]"
   ]
  },
  {
   "cell_type": "markdown",
   "metadata": {},
   "source": [
    "## Linear Soft-Margin SVM"
   ]
  },
  {
   "cell_type": "markdown",
   "metadata": {},
   "source": [
    "### Just using top two features -- fnlwgt and relationship"
   ]
  },
  {
   "cell_type": "markdown",
   "metadata": {},
   "source": [
    "Score = the mean accuracy on the given test data and labels.\n",
    "\n",
    "F1 = 2 * (precision * recall) / (precision + recall)\n",
    "\n",
    "https://towardsdatascience.com/accuracy-precision-recall-or-f1-331fb37c5cb9 --> F1 Score might be a better measure to use if we need to seek a balance between Precision and Recall AND there is an uneven class distribution (large number of Actual Negatives)."
   ]
  },
  {
   "cell_type": "code",
   "execution_count": 113,
   "metadata": {},
   "outputs": [],
   "source": [
    "#training\n",
    "def train(x_train, x_test, y_train, y_test, kernel=\"linear\", c=1.0):\n",
    "    print(\"Train data set with size: %s kernel %s C %s\" % (len(x_train), kernel, c))\n",
    "    print(\"Test size: %s\" % len(x_test))\n",
    "    current = time.time()\n",
    "    clf = svm.SVC(kernel=kernel, C=c, cache_size=len(x_train))\n",
    "    clf.fit(x_train, y_train)\n",
    "    y_score = clf.score(x_test, y_test)\n",
    "    y_result = clf.predict(x_test)\n",
    "    average_precision = average_precision_score(y_test, y_result)\n",
    "    precision, recall, _ = precision_recall_curve(y_test, y_result)\n",
    "    f1 = f1_score(y_test, y_result, average='weighted')\n",
    "    var = explained_variance_score(y_test, y_result)  \n",
    "    print(\"Score: %s\" % y_score)\n",
    "    print(\"Average precision score: %s\" % average_precision)\n",
    "    print(\"Precision: %s\" % precision)\n",
    "    print(\"Recall: %s\" % recall)\n",
    "    print(\"F1: %s\" % f1)\n",
    "    print(\"Variance: %s\" % var)\n",
    "    elapsed = time.time() - current \n",
    "    print(\"======================== Time: %s\" % elapsed)\n",
    "    return (clf, y_score)\n",
    "\n",
    "def train_crosss(kernel, c):\n",
    "    best = None\n",
    "    best_score = 0.0\n",
    "    for x_train, x_test, y_train, y_test in data:\n",
    "        print(\"Start with set %s\" % len(x_train))\n",
    "        clf, y_score = train(x_train, x_test, y_train, y_test, kernel, c)\n",
    "        if best_score < y_score:\n",
    "            best = clf\n",
    "            best_score = y_score\n",
    "        \n",
    "    print(\"Best score: %s\" % best_score)\n",
    "    return best"
   ]
  },
  {
   "cell_type": "code",
   "execution_count": 114,
   "metadata": {},
   "outputs": [],
   "source": [
    "Y_train_top2 = df[['income_class_f']].copy().values.tolist()"
   ]
  },
  {
   "cell_type": "code",
   "execution_count": 115,
   "metadata": {},
   "outputs": [],
   "source": [
    "feature = df[['relationship_f', 'fnlwgt']].to_numpy()\n",
    "labels = df['income_class_f'].to_numpy()"
   ]
  },
  {
   "cell_type": "code",
   "execution_count": 116,
   "metadata": {},
   "outputs": [
    {
     "data": {
      "text/plain": [
       "array([[0.        , 0.0778157 ],\n",
       "       [0.2       , 0.21047158],\n",
       "       [0.        , 0.22912281],\n",
       "       ...,\n",
       "       [0.4       , 0.11242332],\n",
       "       [0.4       , 0.21798661],\n",
       "       [1.        , 0.35907585]])"
      ]
     },
     "execution_count": 116,
     "metadata": {},
     "output_type": "execute_result"
    }
   ],
   "source": [
    "feature"
   ]
  },
  {
   "cell_type": "code",
   "execution_count": 117,
   "metadata": {},
   "outputs": [
    {
     "data": {
      "text/plain": [
       "array([0., 0., 0., ..., 1., 1., 1.])"
      ]
     },
     "execution_count": 117,
     "metadata": {},
     "output_type": "execute_result"
    }
   ],
   "source": [
    "labels"
   ]
  },
  {
   "cell_type": "code",
   "execution_count": 118,
   "metadata": {},
   "outputs": [],
   "source": [
    "data = cross_validation_num(feature, labels)"
   ]
  },
  {
   "cell_type": "code",
   "execution_count": 119,
   "metadata": {},
   "outputs": [
    {
     "name": "stdout",
     "output_type": "stream",
     "text": [
      "Start with set 2930\n",
      "Train data set with size: 2930 kernel linear C 0.1\n",
      "Test size: 327\n",
      "Score: 0.7584097859327217\n",
      "Average precision score: 0.2415902140672783\n",
      "Precision: [0.24159021 1.        ]\n",
      "Recall: [1. 0.]\n",
      "F1: 0.6542108762132695\n",
      "Variance: 0.0\n",
      "======================== Time: 0.11842989921569824\n",
      "Start with set 2930\n",
      "Train data set with size: 2930 kernel linear C 0.1\n",
      "Test size: 327\n",
      "Score: 0.7584097859327217\n",
      "Average precision score: 0.2415902140672783\n",
      "Precision: [0.24159021 1.        ]\n",
      "Recall: [1. 0.]\n",
      "F1: 0.6542108762132695\n",
      "Variance: 0.0\n",
      "======================== Time: 0.07725858688354492\n",
      "Start with set 2931\n",
      "Train data set with size: 2931 kernel linear C 0.1\n",
      "Test size: 326\n"
     ]
    },
    {
     "name": "stderr",
     "output_type": "stream",
     "text": [
      "/Library/Frameworks/Python.framework/Versions/3.7/lib/python3.7/site-packages/sklearn/metrics/classification.py:1143: UndefinedMetricWarning: F-score is ill-defined and being set to 0.0 in labels with no predicted samples.\n",
      "  'precision', 'predicted', average, warn_for)\n",
      "/Library/Frameworks/Python.framework/Versions/3.7/lib/python3.7/site-packages/sklearn/metrics/classification.py:1143: UndefinedMetricWarning: F-score is ill-defined and being set to 0.0 in labels with no predicted samples.\n",
      "  'precision', 'predicted', average, warn_for)\n",
      "/Library/Frameworks/Python.framework/Versions/3.7/lib/python3.7/site-packages/sklearn/metrics/classification.py:1143: UndefinedMetricWarning: F-score is ill-defined and being set to 0.0 in labels with no predicted samples.\n",
      "  'precision', 'predicted', average, warn_for)\n"
     ]
    },
    {
     "name": "stdout",
     "output_type": "stream",
     "text": [
      "Score: 0.7576687116564417\n",
      "Average precision score: 0.24233128834355827\n",
      "Precision: [0.24233129 1.        ]\n",
      "Recall: [1. 0.]\n",
      "F1: 0.6532082784612255\n",
      "Variance: 0.0\n",
      "======================== Time: 0.07011008262634277\n",
      "Start with set 2931\n",
      "Train data set with size: 2931 kernel linear C 0.1\n",
      "Test size: 326\n",
      "Score: 0.7576687116564417\n",
      "Average precision score: 0.24233128834355827\n",
      "Precision: [0.24233129 1.        ]\n",
      "Recall: [1. 0.]\n",
      "F1: 0.6532082784612255\n",
      "Variance: 0.0\n",
      "======================== Time: 0.09684514999389648\n",
      "Start with set 2931\n",
      "Train data set with size: 2931 kernel linear C 0.1\n",
      "Test size: 326\n",
      "Score: 0.7576687116564417\n",
      "Average precision score: 0.24233128834355827\n",
      "Precision: [0.24233129 1.        ]\n",
      "Recall: [1. 0.]\n",
      "F1: 0.6532082784612255\n",
      "Variance: 0.0\n",
      "======================== Time: 0.06862115859985352\n",
      "Start with set 2932\n",
      "Train data set with size: 2932 kernel linear C 0.1\n",
      "Test size: 325\n"
     ]
    },
    {
     "name": "stderr",
     "output_type": "stream",
     "text": [
      "/Library/Frameworks/Python.framework/Versions/3.7/lib/python3.7/site-packages/sklearn/metrics/classification.py:1143: UndefinedMetricWarning: F-score is ill-defined and being set to 0.0 in labels with no predicted samples.\n",
      "  'precision', 'predicted', average, warn_for)\n",
      "/Library/Frameworks/Python.framework/Versions/3.7/lib/python3.7/site-packages/sklearn/metrics/classification.py:1143: UndefinedMetricWarning: F-score is ill-defined and being set to 0.0 in labels with no predicted samples.\n",
      "  'precision', 'predicted', average, warn_for)\n",
      "/Library/Frameworks/Python.framework/Versions/3.7/lib/python3.7/site-packages/sklearn/metrics/classification.py:1143: UndefinedMetricWarning: F-score is ill-defined and being set to 0.0 in labels with no predicted samples.\n",
      "  'precision', 'predicted', average, warn_for)\n",
      "/Library/Frameworks/Python.framework/Versions/3.7/lib/python3.7/site-packages/sklearn/metrics/classification.py:1143: UndefinedMetricWarning: F-score is ill-defined and being set to 0.0 in labels with no predicted samples.\n",
      "  'precision', 'predicted', average, warn_for)\n"
     ]
    },
    {
     "name": "stdout",
     "output_type": "stream",
     "text": [
      "Score: 0.76\n",
      "Average precision score: 0.24\n",
      "Precision: [0.24 1.  ]\n",
      "Recall: [1. 0.]\n",
      "F1: 0.6563636363636364\n",
      "Variance: 0.0\n",
      "======================== Time: 0.0641930103302002\n",
      "Start with set 2932\n",
      "Train data set with size: 2932 kernel linear C 0.1\n",
      "Test size: 325\n",
      "Score: 0.76\n",
      "Average precision score: 0.24\n",
      "Precision: [0.24 1.  ]\n",
      "Recall: [1. 0.]\n",
      "F1: 0.6563636363636364\n",
      "Variance: 0.0\n",
      "======================== Time: 0.06752514839172363\n",
      "Start with set 2932\n",
      "Train data set with size: 2932 kernel linear C 0.1\n",
      "Test size: 325\n",
      "Score: 0.76\n",
      "Average precision score: 0.24\n",
      "Precision: [0.24 1.  ]\n",
      "Recall: [1. 0.]\n",
      "F1: 0.6563636363636364\n",
      "Variance: 0.0\n",
      "======================== Time: 0.07285094261169434\n",
      "Start with set 2932\n",
      "Train data set with size: 2932 kernel linear C 0.1\n",
      "Test size: 325\n",
      "Score: 0.76\n",
      "Average precision score: 0.24\n",
      "Precision: [0.24 1.  ]\n",
      "Recall: [1. 0.]\n",
      "F1: 0.6563636363636364\n",
      "Variance: 0.0\n",
      "======================== Time: 0.07893610000610352\n",
      "Start with set 2932\n",
      "Train data set with size: 2932 kernel linear C 0.1\n",
      "Test size: 325\n",
      "Score: 0.76\n",
      "Average precision score: 0.24\n",
      "Precision: [0.24 1.  ]\n",
      "Recall: [1. 0.]\n",
      "F1: 0.6563636363636364\n",
      "Variance: 0.0\n",
      "======================== Time: 0.06661605834960938\n",
      "Best score: 0.76\n"
     ]
    },
    {
     "name": "stderr",
     "output_type": "stream",
     "text": [
      "/Library/Frameworks/Python.framework/Versions/3.7/lib/python3.7/site-packages/sklearn/metrics/classification.py:1143: UndefinedMetricWarning: F-score is ill-defined and being set to 0.0 in labels with no predicted samples.\n",
      "  'precision', 'predicted', average, warn_for)\n",
      "/Library/Frameworks/Python.framework/Versions/3.7/lib/python3.7/site-packages/sklearn/metrics/classification.py:1143: UndefinedMetricWarning: F-score is ill-defined and being set to 0.0 in labels with no predicted samples.\n",
      "  'precision', 'predicted', average, warn_for)\n",
      "/Library/Frameworks/Python.framework/Versions/3.7/lib/python3.7/site-packages/sklearn/metrics/classification.py:1143: UndefinedMetricWarning: F-score is ill-defined and being set to 0.0 in labels with no predicted samples.\n",
      "  'precision', 'predicted', average, warn_for)\n"
     ]
    }
   ],
   "source": [
    "best = train_crosss(\"linear\", 0.1)"
   ]
  },
  {
   "cell_type": "code",
   "execution_count": 120,
   "metadata": {},
   "outputs": [],
   "source": [
    "fignum = 1\n",
    "def draw_svm(clf, x, y):\n",
    "    # get the separating hyperplane\n",
    "    w = clf.coef_[0]\n",
    "    a = -w[0] / w[1]\n",
    "    xx = np.linspace(-5, 5)\n",
    "    yy = a * xx - (clf.intercept_[0]) / w[1]\n",
    "    \n",
    "    # plot the parallels to the separating hyperplane that pass through the\n",
    "    # support vectors (margin away from hyperplane in direction\n",
    "    # perpendicular to hyperplane). This is sqrt(1+a^2) away vertically in\n",
    "    # 2-d.\n",
    "    margin = 1 / np.sqrt(np.sum(clf.coef_ ** 2))\n",
    "    yy_down = yy - np.sqrt(1 + a ** 2) * margin\n",
    "    yy_up = yy + np.sqrt(1 + a ** 2) * margin\n",
    "\n",
    "    # plot the line, the points, and the nearest vectors to the plane\n",
    "    plt.figure(fignum, figsize=(10, 6))\n",
    "    plt.clf()\n",
    "    plt.plot(xx, yy, 'k-')\n",
    "    plt.plot(xx, yy_down, 'k--')\n",
    "    plt.plot(xx, yy_up, 'k--')\n",
    "\n",
    "    plt.scatter(clf.support_vectors_[:, 0], clf.support_vectors_[:, 1], s=80,\n",
    "                facecolors='none', zorder=10, edgecolors='k')\n",
    "    plt.scatter(x[:, 0], x[:, 1], c=y, zorder=10, cmap=plt.cm.Paired,\n",
    "                edgecolors='k')\n",
    "\n",
    "    plt.axis('tight')\n",
    "    #x_min = np.amin(x) - 1 #-4.8\n",
    "    #x_max = np.amax(x) + 1#4.2\n",
    "    #y_min = np.amin(x) - 1 #-6\n",
    "    #y_max = np.amax(x) + 1#6\n",
    "    x_mins = np.amin(x, axis=0)\n",
    "    x_maxs = np.amax(x, axis=0)\n",
    "    \n",
    "    x_min = min(x_mins[0], np.amin(xx))\n",
    "    x_max = max(x_maxs[0], np.amax(xx))\n",
    "    y_min = min(x_mins[1], np.amin(yy), np.amin(yy_up), np.amin(yy_down))\n",
    "    y_max = max(x_maxs[1], np.amax(yy), np.amax(yy_up), np.amax(yy_down))\n",
    "    \n",
    "    XX, YY = np.mgrid[x_min:x_max:200j, y_min:y_max:200j]\n",
    "    Z = clf.predict(np.c_[XX.ravel(), YY.ravel()])\n",
    "\n",
    "    # Put the result into a color plot\n",
    "    Z = Z.reshape(XX.shape)\n",
    "    plt.figure(fignum, figsize=(4, 3))\n",
    "    plt.pcolormesh(XX, YY, Z, cmap=plt.cm.Paired)\n",
    "\n",
    "    delta_x = (x_max - x_min) / 30\n",
    "    delta_y = (y_max - y_min) / 30\n",
    "    plt.xlim(x_min - delta_x, x_max + delta_x)\n",
    "    plt.ylim(y_min - delta_y, y_max + delta_y)\n",
    "\n",
    "    plt.xticks(())\n",
    "    plt.yticks(())"
   ]
  },
  {
   "cell_type": "code",
   "execution_count": 121,
   "metadata": {},
   "outputs": [],
   "source": [
    "def draw_svm2(clf, X, Y):\n",
    "    # get the separating hyperplane\n",
    "    w = clf.coef_[0]\n",
    "    a = -w[0] / w[1]\n",
    "    xx = np.linspace(-5, 5)\n",
    "    yy = a * xx - (clf.intercept_[0]) / w[1]\n",
    "\n",
    "    # plot the parallels to the separating hyperplane that pass through the\n",
    "    # support vectors\n",
    "    # =========\n",
    "    #b = clf.support_vectors_[0]\n",
    "    #yy_down = a * xx + (b[1] - a * b[0])\n",
    "    #b = clf.support_vectors_[-1]\n",
    "    #yy_up = a * xx + (b[1] - a * b[0])\n",
    "    # =========\n",
    "    \n",
    "    margin = 1 / np.sqrt(np.sum(clf.coef_ ** 2))\n",
    "    yy_down = yy - np.sqrt(1 + a ** 2) * margin\n",
    "    yy_up = yy + np.sqrt(1 + a ** 2) * margin\n",
    "\n",
    "    # plot the line, the points, and the nearest vectors to the plane\n",
    "    plt.figure(fignum)\n",
    "    plt.clf()\n",
    "    plt.plot(xx, yy, 'k-')\n",
    "    plt.plot(xx, yy_down, 'k--')\n",
    "    plt.plot(xx, yy_up, 'k--')\n",
    "\n",
    "    plt.scatter(clf.support_vectors_[:, 0], clf.support_vectors_[:, 1],\n",
    "                s=80, facecolors='none', zorder=10, edgecolors='k')\n",
    "    plt.scatter(X[:, 0], X[:, 1], c=Y, zorder=10, cmap=plt.cm.Paired, edgecolors='k')\n",
    "\n",
    "    plt.axis('tight')\n",
    "    \n",
    "    x_mins = np.amin(X, axis=0)\n",
    "    x_maxs = np.amax(X, axis=0)\n",
    "    \n",
    "    x_min = min(x_mins[0], np.amin(xx))\n",
    "    x_max = max(x_maxs[0], np.amax(xx))\n",
    "    y_min = min(x_mins[1], np.amin(yy), np.amin(yy_up), np.amin(yy_down))\n",
    "    y_max = max(x_maxs[1], np.amax(yy), np.amax(yy_up), np.amax(yy_down))\n",
    "    \n",
    "    XX, YY = np.mgrid[x_min:x_max:200j, y_min:y_max:200j]\n",
    "    Z = clf.predict(np.c_[XX.ravel(), YY.ravel()])\n",
    "    \n",
    "    Z = Z.reshape(XX.shape)\n",
    "    plt.figure(fignum, figsize=(4, 3))\n",
    "    plt.pcolormesh(XX, YY, Z, cmap=plt.cm.Paired)\n",
    "    \n",
    "    delta_x = (x_max - x_min) / 30\n",
    "    delta_y = (y_max - y_min) / 30\n",
    "    plt.xlim(x_min - delta_x, x_max + delta_x)\n",
    "    plt.ylim(y_min - delta_y, y_max + delta_y)\n",
    "\n",
    "    plt.xticks(())\n",
    "    plt.yticks(())\n",
    "    \n",
    "    plt.show()"
   ]
  },
  {
   "cell_type": "code",
   "execution_count": 122,
   "metadata": {},
   "outputs": [
    {
     "data": {
      "image/png": "[encoded data removed]",
      "text/plain": [
       "<Figure size 720x432 with 1 Axes>"
      ]
     },
     "metadata": {},
     "output_type": "display_data"
    }
   ],
   "source": [
    "x_train, x_test, y_train, y_test = data[0]\n",
    "draw_svm(best, x_train, y_train)"
   ]
  },
  {
   "cell_type": "code",
   "execution_count": 123,
   "metadata": {},
   "outputs": [
    {
     "data": {
      "image/png": "[encoded data removed]",
      "text/plain": [
       "<Figure size 432x288 with 1 Axes>"
      ]
     },
     "metadata": {},
     "output_type": "display_data"
    },
    {
     "data": {
      "image/png": "[encoded data removed]",
      "text/plain": [
       "<Figure size 432x288 with 1 Axes>"
      ]
     },
     "metadata": {},
     "output_type": "display_data"
    },
    {
     "data": {
      "image/png": "[encoded data removed]",
      "text/plain": [
       "<Figure size 432x288 with 1 Axes>"
      ]
     },
     "metadata": {},
     "output_type": "display_data"
    },
    {
     "data": {
      "image/png": "[encoded data removed]",
      "text/plain": [
       "<Figure size 432x288 with 1 Axes>"
      ]
     },
     "metadata": {},
     "output_type": "display_data"
    },
    {
     "data": {
      "image/png": "[encoded data removed]",
      "text/plain": [
       "<Figure size 432x288 with 1 Axes>"
      ]
     },
     "metadata": {},
     "output_type": "display_data"
    },
    {
     "data": {
      "image/png": "[encoded data removed]",
      "text/plain": [
       "<Figure size 432x288 with 1 Axes>"
      ]
     },
     "metadata": {},
     "output_type": "display_data"
    },
    {
     "data": {
      "image/png": "[encoded data removed]",
      "text/plain": [
       "<Figure size 432x288 with 1 Axes>"
      ]
     },
     "metadata": {},
     "output_type": "display_data"
    },
    {
     "data": {
      "image/png": "[encoded data removed]",
      "text/plain": [
       "<Figure size 432x288 with 1 Axes>"
      ]
     },
     "metadata": {},
     "output_type": "display_data"
    },
    {
     "data": {
      "image/png": "[encoded data removed]",
      "text/plain": [
       "<Figure size 432x288 with 1 Axes>"
      ]
     },
     "metadata": {},
     "output_type": "display_data"
    },
    {
     "data": {
      "image/png": "[encoded data removed]",
      "text/plain": [
       "<Figure size 432x288 with 1 Axes>"
      ]
     },
     "metadata": {},
     "output_type": "display_data"
    }
   ],
   "source": [
    "for x_train, x_test, y_train, y_test in data:\n",
    "    draw_svm2(best, x_train, y_train)"
   ]
  },
  {
   "cell_type": "markdown",
   "metadata": {},
   "source": [
    "## Increase C"
   ]
  },
  {
   "cell_type": "code",
   "execution_count": 124,
   "metadata": {},
   "outputs": [
    {
     "name": "stdout",
     "output_type": "stream",
     "text": [
      "Start with set 2930\n",
      "Train data set with size: 2930 kernel linear C 1000\n",
      "Test size: 327\n"
     ]
    },
    {
     "name": "stderr",
     "output_type": "stream",
     "text": [
      "/Library/Frameworks/Python.framework/Versions/3.7/lib/python3.7/site-packages/sklearn/metrics/classification.py:1143: UndefinedMetricWarning: F-score is ill-defined and being set to 0.0 in labels with no predicted samples.\n",
      "  'precision', 'predicted', average, warn_for)\n"
     ]
    },
    {
     "name": "stdout",
     "output_type": "stream",
     "text": [
      "Score: 0.7584097859327217\n",
      "Average precision score: 0.2415902140672783\n",
      "Precision: [0.24159021 1.        ]\n",
      "Recall: [1. 0.]\n",
      "F1: 0.6542108762132695\n",
      "Variance: 0.0\n",
      "======================== Time: 37.00256586074829\n",
      "Start with set 2930\n",
      "Train data set with size: 2930 kernel linear C 1000\n",
      "Test size: 327\n"
     ]
    },
    {
     "name": "stderr",
     "output_type": "stream",
     "text": [
      "/Library/Frameworks/Python.framework/Versions/3.7/lib/python3.7/site-packages/sklearn/metrics/classification.py:1143: UndefinedMetricWarning: F-score is ill-defined and being set to 0.0 in labels with no predicted samples.\n",
      "  'precision', 'predicted', average, warn_for)\n"
     ]
    },
    {
     "name": "stdout",
     "output_type": "stream",
     "text": [
      "Score: 0.7584097859327217\n",
      "Average precision score: 0.2415902140672783\n",
      "Precision: [0.24159021 1.        ]\n",
      "Recall: [1. 0.]\n",
      "F1: 0.6542108762132695\n",
      "Variance: 0.0\n",
      "======================== Time: 39.54854464530945\n",
      "Start with set 2931\n",
      "Train data set with size: 2931 kernel linear C 1000\n",
      "Test size: 326\n"
     ]
    },
    {
     "name": "stderr",
     "output_type": "stream",
     "text": [
      "/Library/Frameworks/Python.framework/Versions/3.7/lib/python3.7/site-packages/sklearn/metrics/classification.py:1143: UndefinedMetricWarning: F-score is ill-defined and being set to 0.0 in labels with no predicted samples.\n",
      "  'precision', 'predicted', average, warn_for)\n"
     ]
    },
    {
     "name": "stdout",
     "output_type": "stream",
     "text": [
      "Score: 0.7576687116564417\n",
      "Average precision score: 0.24233128834355827\n",
      "Precision: [0.24233129 1.        ]\n",
      "Recall: [1. 0.]\n",
      "F1: 0.6532082784612255\n",
      "Variance: 0.0\n",
      "======================== Time: 43.576114892959595\n",
      "Start with set 2931\n",
      "Train data set with size: 2931 kernel linear C 1000\n",
      "Test size: 326\n"
     ]
    },
    {
     "name": "stderr",
     "output_type": "stream",
     "text": [
      "/Library/Frameworks/Python.framework/Versions/3.7/lib/python3.7/site-packages/sklearn/metrics/classification.py:1143: UndefinedMetricWarning: F-score is ill-defined and being set to 0.0 in labels with no predicted samples.\n",
      "  'precision', 'predicted', average, warn_for)\n"
     ]
    },
    {
     "name": "stdout",
     "output_type": "stream",
     "text": [
      "Score: 0.7576687116564417\n",
      "Average precision score: 0.24233128834355827\n",
      "Precision: [0.24233129 1.        ]\n",
      "Recall: [1. 0.]\n",
      "F1: 0.6532082784612255\n",
      "Variance: 0.0\n",
      "======================== Time: 38.725950956344604\n",
      "Start with set 2931\n",
      "Train data set with size: 2931 kernel linear C 1000\n",
      "Test size: 326\n"
     ]
    },
    {
     "name": "stderr",
     "output_type": "stream",
     "text": [
      "/Library/Frameworks/Python.framework/Versions/3.7/lib/python3.7/site-packages/sklearn/metrics/classification.py:1143: UndefinedMetricWarning: F-score is ill-defined and being set to 0.0 in labels with no predicted samples.\n",
      "  'precision', 'predicted', average, warn_for)\n"
     ]
    },
    {
     "name": "stdout",
     "output_type": "stream",
     "text": [
      "Score: 0.7576687116564417\n",
      "Average precision score: 0.24233128834355827\n",
      "Precision: [0.24233129 1.        ]\n",
      "Recall: [1. 0.]\n",
      "F1: 0.6532082784612255\n",
      "Variance: 0.0\n",
      "======================== Time: 41.470974922180176\n",
      "Start with set 2932\n",
      "Train data set with size: 2932 kernel linear C 1000\n",
      "Test size: 325\n"
     ]
    },
    {
     "name": "stderr",
     "output_type": "stream",
     "text": [
      "/Library/Frameworks/Python.framework/Versions/3.7/lib/python3.7/site-packages/sklearn/metrics/classification.py:1143: UndefinedMetricWarning: F-score is ill-defined and being set to 0.0 in labels with no predicted samples.\n",
      "  'precision', 'predicted', average, warn_for)\n"
     ]
    },
    {
     "name": "stdout",
     "output_type": "stream",
     "text": [
      "Score: 0.76\n",
      "Average precision score: 0.24\n",
      "Precision: [0.24 1.  ]\n",
      "Recall: [1. 0.]\n",
      "F1: 0.6563636363636364\n",
      "Variance: 0.0\n",
      "======================== Time: 31.510292053222656\n",
      "Start with set 2932\n",
      "Train data set with size: 2932 kernel linear C 1000\n",
      "Test size: 325\n"
     ]
    },
    {
     "name": "stderr",
     "output_type": "stream",
     "text": [
      "/Library/Frameworks/Python.framework/Versions/3.7/lib/python3.7/site-packages/sklearn/metrics/classification.py:1143: UndefinedMetricWarning: F-score is ill-defined and being set to 0.0 in labels with no predicted samples.\n",
      "  'precision', 'predicted', average, warn_for)\n"
     ]
    },
    {
     "name": "stdout",
     "output_type": "stream",
     "text": [
      "Score: 0.76\n",
      "Average precision score: 0.24\n",
      "Precision: [0.24 1.  ]\n",
      "Recall: [1. 0.]\n",
      "F1: 0.6563636363636364\n",
      "Variance: 0.0\n",
      "======================== Time: 48.13824486732483\n",
      "Start with set 2932\n",
      "Train data set with size: 2932 kernel linear C 1000\n",
      "Test size: 325\n"
     ]
    },
    {
     "name": "stderr",
     "output_type": "stream",
     "text": [
      "/Library/Frameworks/Python.framework/Versions/3.7/lib/python3.7/site-packages/sklearn/metrics/classification.py:1143: UndefinedMetricWarning: F-score is ill-defined and being set to 0.0 in labels with no predicted samples.\n",
      "  'precision', 'predicted', average, warn_for)\n"
     ]
    },
    {
     "name": "stdout",
     "output_type": "stream",
     "text": [
      "Score: 0.76\n",
      "Average precision score: 0.24\n",
      "Precision: [0.24 1.  ]\n",
      "Recall: [1. 0.]\n",
      "F1: 0.6563636363636364\n",
      "Variance: 0.0\n",
      "======================== Time: 43.44383883476257\n",
      "Start with set 2932\n",
      "Train data set with size: 2932 kernel linear C 1000\n",
      "Test size: 325\n"
     ]
    },
    {
     "name": "stderr",
     "output_type": "stream",
     "text": [
      "/Library/Frameworks/Python.framework/Versions/3.7/lib/python3.7/site-packages/sklearn/metrics/classification.py:1143: UndefinedMetricWarning: F-score is ill-defined and being set to 0.0 in labels with no predicted samples.\n",
      "  'precision', 'predicted', average, warn_for)\n"
     ]
    },
    {
     "name": "stdout",
     "output_type": "stream",
     "text": [
      "Score: 0.76\n",
      "Average precision score: 0.24\n",
      "Precision: [0.24 1.  ]\n",
      "Recall: [1. 0.]\n",
      "F1: 0.6563636363636364\n",
      "Variance: 0.0\n",
      "======================== Time: 38.72108817100525\n",
      "Start with set 2932\n",
      "Train data set with size: 2932 kernel linear C 1000\n",
      "Test size: 325\n",
      "Score: 0.76\n",
      "Average precision score: 0.24\n",
      "Precision: [0.24 1.  ]\n",
      "Recall: [1. 0.]\n",
      "F1: 0.6563636363636364\n",
      "Variance: 0.0\n",
      "======================== Time: 31.742671012878418\n",
      "Best score: 0.76\n"
     ]
    },
    {
     "name": "stderr",
     "output_type": "stream",
     "text": [
      "/Library/Frameworks/Python.framework/Versions/3.7/lib/python3.7/site-packages/sklearn/metrics/classification.py:1143: UndefinedMetricWarning: F-score is ill-defined and being set to 0.0 in labels with no predicted samples.\n",
      "  'precision', 'predicted', average, warn_for)\n"
     ]
    }
   ],
   "source": [
    "best = train_crosss(\"linear\", 1000)\n",
    "# stays the same as with c 0.1"
   ]
  },
  {
   "cell_type": "markdown",
   "metadata": {},
   "source": [
    "## Try age and education"
   ]
  },
  {
   "cell_type": "code",
   "execution_count": 125,
   "metadata": {},
   "outputs": [],
   "source": [
    "feature = df[['education_f', 'age']].to_numpy()\n",
    "labels = df['income_class_f'].to_numpy()"
   ]
  },
  {
   "cell_type": "code",
   "execution_count": 126,
   "metadata": {},
   "outputs": [],
   "source": [
    "data = cross_validation_num(feature, labels)"
   ]
  },
  {
   "cell_type": "code",
   "execution_count": 127,
   "metadata": {},
   "outputs": [
    {
     "name": "stderr",
     "output_type": "stream",
     "text": [
      "/Library/Frameworks/Python.framework/Versions/3.7/lib/python3.7/site-packages/sklearn/metrics/classification.py:1143: UndefinedMetricWarning: F-score is ill-defined and being set to 0.0 in labels with no predicted samples.\n",
      "  'precision', 'predicted', average, warn_for)\n"
     ]
    },
    {
     "name": "stdout",
     "output_type": "stream",
     "text": [
      "Start with set 2930\n",
      "Train data set with size: 2930 kernel linear C 0.1\n",
      "Test size: 327\n",
      "Score: 0.7584097859327217\n",
      "Average precision score: 0.2415902140672783\n",
      "Precision: [0.24159021 1.        ]\n",
      "Recall: [1. 0.]\n",
      "F1: 0.6542108762132695\n",
      "Variance: 0.0\n",
      "======================== Time: 0.06814908981323242\n",
      "Start with set 2930\n",
      "Train data set with size: 2930 kernel linear C 0.1\n",
      "Test size: 327\n",
      "Score: 0.7584097859327217\n",
      "Average precision score: 0.2415902140672783\n",
      "Precision: [0.24159021 1.        ]\n",
      "Recall: [1. 0.]\n",
      "F1: 0.6542108762132695\n",
      "Variance: 0.0\n",
      "======================== Time: 0.07822394371032715\n",
      "Start with set 2931\n",
      "Train data set with size: 2931 kernel linear C 0.1\n",
      "Test size: 326\n"
     ]
    },
    {
     "name": "stderr",
     "output_type": "stream",
     "text": [
      "/Library/Frameworks/Python.framework/Versions/3.7/lib/python3.7/site-packages/sklearn/metrics/classification.py:1143: UndefinedMetricWarning: F-score is ill-defined and being set to 0.0 in labels with no predicted samples.\n",
      "  'precision', 'predicted', average, warn_for)\n",
      "/Library/Frameworks/Python.framework/Versions/3.7/lib/python3.7/site-packages/sklearn/metrics/classification.py:1143: UndefinedMetricWarning: F-score is ill-defined and being set to 0.0 in labels with no predicted samples.\n",
      "  'precision', 'predicted', average, warn_for)\n",
      "/Library/Frameworks/Python.framework/Versions/3.7/lib/python3.7/site-packages/sklearn/metrics/classification.py:1143: UndefinedMetricWarning: F-score is ill-defined and being set to 0.0 in labels with no predicted samples.\n",
      "  'precision', 'predicted', average, warn_for)\n",
      "/Library/Frameworks/Python.framework/Versions/3.7/lib/python3.7/site-packages/sklearn/metrics/classification.py:1143: UndefinedMetricWarning: F-score is ill-defined and being set to 0.0 in labels with no predicted samples.\n",
      "  'precision', 'predicted', average, warn_for)\n"
     ]
    },
    {
     "name": "stdout",
     "output_type": "stream",
     "text": [
      "Score: 0.7576687116564417\n",
      "Average precision score: 0.24233128834355827\n",
      "Precision: [0.24233129 1.        ]\n",
      "Recall: [1. 0.]\n",
      "F1: 0.6532082784612255\n",
      "Variance: 0.0\n",
      "======================== Time: 0.06928300857543945\n",
      "Start with set 2931\n",
      "Train data set with size: 2931 kernel linear C 0.1\n",
      "Test size: 326\n",
      "Score: 0.7576687116564417\n",
      "Average precision score: 0.24233128834355827\n",
      "Precision: [0.24233129 1.        ]\n",
      "Recall: [1. 0.]\n",
      "F1: 0.6532082784612255\n",
      "Variance: 0.0\n",
      "======================== Time: 0.05865788459777832\n",
      "Start with set 2931\n",
      "Train data set with size: 2931 kernel linear C 0.1\n",
      "Test size: 326\n",
      "Score: 0.7576687116564417\n",
      "Average precision score: 0.24233128834355827\n",
      "Precision: [0.24233129 1.        ]\n",
      "Recall: [1. 0.]\n",
      "F1: 0.6532082784612255\n",
      "Variance: 0.0\n",
      "======================== Time: 0.05373382568359375\n",
      "Start with set 2932\n",
      "Train data set with size: 2932 kernel linear C 0.1\n",
      "Test size: 325\n",
      "Score: 0.76\n",
      "Average precision score: 0.24\n",
      "Precision: [0.24 1.  ]\n",
      "Recall: [1. 0.]\n",
      "F1: 0.6563636363636364\n",
      "Variance: 0.0\n",
      "======================== Time: 0.05976700782775879\n",
      "Start with set 2932\n",
      "Train data set with size: 2932 kernel linear C 0.1\n",
      "Test size: 325\n"
     ]
    },
    {
     "name": "stderr",
     "output_type": "stream",
     "text": [
      "/Library/Frameworks/Python.framework/Versions/3.7/lib/python3.7/site-packages/sklearn/metrics/classification.py:1143: UndefinedMetricWarning: F-score is ill-defined and being set to 0.0 in labels with no predicted samples.\n",
      "  'precision', 'predicted', average, warn_for)\n",
      "/Library/Frameworks/Python.framework/Versions/3.7/lib/python3.7/site-packages/sklearn/metrics/classification.py:1143: UndefinedMetricWarning: F-score is ill-defined and being set to 0.0 in labels with no predicted samples.\n",
      "  'precision', 'predicted', average, warn_for)\n",
      "/Library/Frameworks/Python.framework/Versions/3.7/lib/python3.7/site-packages/sklearn/metrics/classification.py:1143: UndefinedMetricWarning: F-score is ill-defined and being set to 0.0 in labels with no predicted samples.\n",
      "  'precision', 'predicted', average, warn_for)\n",
      "/Library/Frameworks/Python.framework/Versions/3.7/lib/python3.7/site-packages/sklearn/metrics/classification.py:1143: UndefinedMetricWarning: F-score is ill-defined and being set to 0.0 in labels with no predicted samples.\n",
      "  'precision', 'predicted', average, warn_for)\n"
     ]
    },
    {
     "name": "stdout",
     "output_type": "stream",
     "text": [
      "Score: 0.76\n",
      "Average precision score: 0.24\n",
      "Precision: [0.24 1.  ]\n",
      "Recall: [1. 0.]\n",
      "F1: 0.6563636363636364\n",
      "Variance: 0.0\n",
      "======================== Time: 0.05691170692443848\n",
      "Start with set 2932\n",
      "Train data set with size: 2932 kernel linear C 0.1\n",
      "Test size: 325\n",
      "Score: 0.76\n",
      "Average precision score: 0.24\n",
      "Precision: [0.24 1.  ]\n",
      "Recall: [1. 0.]\n",
      "F1: 0.6563636363636364\n",
      "Variance: 0.0\n",
      "======================== Time: 0.06290102005004883\n",
      "Start with set 2932\n",
      "Train data set with size: 2932 kernel linear C 0.1\n",
      "Test size: 325\n",
      "Score: 0.76\n",
      "Average precision score: 0.24\n",
      "Precision: [0.24 1.  ]\n",
      "Recall: [1. 0.]\n",
      "F1: 0.6563636363636364\n",
      "Variance: 0.0\n",
      "======================== Time: 0.0663900375366211\n",
      "Start with set 2932\n",
      "Train data set with size: 2932 kernel linear C 0.1\n",
      "Test size: 325\n",
      "Score: 0.76\n",
      "Average precision score: 0.24\n",
      "Precision: [0.24 1.  ]\n",
      "Recall: [1. 0.]\n",
      "F1: 0.6563636363636364\n",
      "Variance: 0.0\n",
      "======================== Time: 0.07446503639221191\n",
      "Best score: 0.76\n"
     ]
    },
    {
     "name": "stderr",
     "output_type": "stream",
     "text": [
      "/Library/Frameworks/Python.framework/Versions/3.7/lib/python3.7/site-packages/sklearn/metrics/classification.py:1143: UndefinedMetricWarning: F-score is ill-defined and being set to 0.0 in labels with no predicted samples.\n",
      "  'precision', 'predicted', average, warn_for)\n"
     ]
    }
   ],
   "source": [
    "best = train_crosss(\"linear\", 0.1)"
   ]
  },
  {
   "cell_type": "code",
   "execution_count": 128,
   "metadata": {},
   "outputs": [
    {
     "name": "stderr",
     "output_type": "stream",
     "text": [
      "/Library/Frameworks/Python.framework/Versions/3.7/lib/python3.7/site-packages/sklearn/metrics/classification.py:1143: UndefinedMetricWarning: F-score is ill-defined and being set to 0.0 in labels with no predicted samples.\n",
      "  'precision', 'predicted', average, warn_for)\n",
      "/Library/Frameworks/Python.framework/Versions/3.7/lib/python3.7/site-packages/sklearn/metrics/classification.py:1143: UndefinedMetricWarning: F-score is ill-defined and being set to 0.0 in labels with no predicted samples.\n",
      "  'precision', 'predicted', average, warn_for)\n"
     ]
    },
    {
     "name": "stdout",
     "output_type": "stream",
     "text": [
      "Start with set 2930\n",
      "Train data set with size: 2930 kernel linear C 100\n",
      "Test size: 327\n",
      "Score: 0.7584097859327217\n",
      "Average precision score: 0.2415902140672783\n",
      "Precision: [0.24159021 1.        ]\n",
      "Recall: [1. 0.]\n",
      "F1: 0.6542108762132695\n",
      "Variance: 0.0\n",
      "======================== Time: 0.09664320945739746\n",
      "Start with set 2930\n",
      "Train data set with size: 2930 kernel linear C 100\n",
      "Test size: 327\n",
      "Score: 0.7584097859327217\n",
      "Average precision score: 0.2415902140672783\n",
      "Precision: [0.24159021 1.        ]\n",
      "Recall: [1. 0.]\n",
      "F1: 0.6542108762132695\n",
      "Variance: 0.0\n",
      "======================== Time: 0.08515667915344238\n",
      "Start with set 2931\n",
      "Train data set with size: 2931 kernel linear C 100\n",
      "Test size: 326\n"
     ]
    },
    {
     "name": "stderr",
     "output_type": "stream",
     "text": [
      "/Library/Frameworks/Python.framework/Versions/3.7/lib/python3.7/site-packages/sklearn/metrics/classification.py:1143: UndefinedMetricWarning: F-score is ill-defined and being set to 0.0 in labels with no predicted samples.\n",
      "  'precision', 'predicted', average, warn_for)\n",
      "/Library/Frameworks/Python.framework/Versions/3.7/lib/python3.7/site-packages/sklearn/metrics/classification.py:1143: UndefinedMetricWarning: F-score is ill-defined and being set to 0.0 in labels with no predicted samples.\n",
      "  'precision', 'predicted', average, warn_for)\n",
      "/Library/Frameworks/Python.framework/Versions/3.7/lib/python3.7/site-packages/sklearn/metrics/classification.py:1143: UndefinedMetricWarning: F-score is ill-defined and being set to 0.0 in labels with no predicted samples.\n",
      "  'precision', 'predicted', average, warn_for)\n"
     ]
    },
    {
     "name": "stdout",
     "output_type": "stream",
     "text": [
      "Score: 0.7576687116564417\n",
      "Average precision score: 0.24233128834355827\n",
      "Precision: [0.24233129 1.        ]\n",
      "Recall: [1. 0.]\n",
      "F1: 0.6532082784612255\n",
      "Variance: 0.0\n",
      "======================== Time: 0.10906028747558594\n",
      "Start with set 2931\n",
      "Train data set with size: 2931 kernel linear C 100\n",
      "Test size: 326\n",
      "Score: 0.7576687116564417\n",
      "Average precision score: 0.24233128834355827\n",
      "Precision: [0.24233129 1.        ]\n",
      "Recall: [1. 0.]\n",
      "F1: 0.6532082784612255\n",
      "Variance: 0.0\n",
      "======================== Time: 0.10192489624023438\n",
      "Start with set 2931\n",
      "Train data set with size: 2931 kernel linear C 100\n",
      "Test size: 326\n",
      "Score: 0.7576687116564417\n",
      "Average precision score: 0.24233128834355827\n",
      "Precision: [0.24233129 1.        ]\n",
      "Recall: [1. 0.]\n",
      "F1: 0.6532082784612255\n",
      "Variance: 0.0\n",
      "======================== Time: 0.0891871452331543\n",
      "Start with set 2932\n",
      "Train data set with size: 2932 kernel linear C 100\n",
      "Test size: 325\n"
     ]
    },
    {
     "name": "stderr",
     "output_type": "stream",
     "text": [
      "/Library/Frameworks/Python.framework/Versions/3.7/lib/python3.7/site-packages/sklearn/metrics/classification.py:1143: UndefinedMetricWarning: F-score is ill-defined and being set to 0.0 in labels with no predicted samples.\n",
      "  'precision', 'predicted', average, warn_for)\n",
      "/Library/Frameworks/Python.framework/Versions/3.7/lib/python3.7/site-packages/sklearn/metrics/classification.py:1143: UndefinedMetricWarning: F-score is ill-defined and being set to 0.0 in labels with no predicted samples.\n",
      "  'precision', 'predicted', average, warn_for)\n"
     ]
    },
    {
     "name": "stdout",
     "output_type": "stream",
     "text": [
      "Score: 0.76\n",
      "Average precision score: 0.24\n",
      "Precision: [0.24 1.  ]\n",
      "Recall: [1. 0.]\n",
      "F1: 0.6563636363636364\n",
      "Variance: 0.0\n",
      "======================== Time: 0.08953404426574707\n",
      "Start with set 2932\n",
      "Train data set with size: 2932 kernel linear C 100\n",
      "Test size: 325\n",
      "Score: 0.76\n",
      "Average precision score: 0.24\n",
      "Precision: [0.24 1.  ]\n",
      "Recall: [1. 0.]\n",
      "F1: 0.6563636363636364\n",
      "Variance: 0.0\n",
      "======================== Time: 0.11424708366394043\n",
      "Start with set 2932\n",
      "Train data set with size: 2932 kernel linear C 100\n",
      "Test size: 325\n"
     ]
    },
    {
     "name": "stderr",
     "output_type": "stream",
     "text": [
      "/Library/Frameworks/Python.framework/Versions/3.7/lib/python3.7/site-packages/sklearn/metrics/classification.py:1143: UndefinedMetricWarning: F-score is ill-defined and being set to 0.0 in labels with no predicted samples.\n",
      "  'precision', 'predicted', average, warn_for)\n"
     ]
    },
    {
     "name": "stdout",
     "output_type": "stream",
     "text": [
      "Score: 0.76\n",
      "Average precision score: 0.24\n",
      "Precision: [0.24 1.  ]\n",
      "Recall: [1. 0.]\n",
      "F1: 0.6563636363636364\n",
      "Variance: 0.0\n",
      "======================== Time: 0.10797286033630371\n",
      "Start with set 2932\n",
      "Train data set with size: 2932 kernel linear C 100\n",
      "Test size: 325\n",
      "Score: 0.76\n",
      "Average precision score: 0.24\n",
      "Precision: [0.24 1.  ]\n",
      "Recall: [1. 0.]\n",
      "F1: 0.6563636363636364\n",
      "Variance: 0.0\n",
      "======================== Time: 0.10095071792602539\n",
      "Start with set 2932\n",
      "Train data set with size: 2932 kernel linear C 100\n",
      "Test size: 325\n",
      "Score: 0.76\n",
      "Average precision score: 0.24\n",
      "Precision: [0.24 1.  ]\n",
      "Recall: [1. 0.]\n",
      "F1: 0.6563636363636364\n",
      "Variance: 0.0\n",
      "======================== Time: 0.09105682373046875\n",
      "Best score: 0.76\n"
     ]
    },
    {
     "name": "stderr",
     "output_type": "stream",
     "text": [
      "/Library/Frameworks/Python.framework/Versions/3.7/lib/python3.7/site-packages/sklearn/metrics/classification.py:1143: UndefinedMetricWarning: F-score is ill-defined and being set to 0.0 in labels with no predicted samples.\n",
      "  'precision', 'predicted', average, warn_for)\n",
      "/Library/Frameworks/Python.framework/Versions/3.7/lib/python3.7/site-packages/sklearn/metrics/classification.py:1143: UndefinedMetricWarning: F-score is ill-defined and being set to 0.0 in labels with no predicted samples.\n",
      "  'precision', 'predicted', average, warn_for)\n"
     ]
    }
   ],
   "source": [
    "best = train_crosss(\"linear\", 100)"
   ]
  },
  {
   "cell_type": "code",
   "execution_count": 129,
   "metadata": {},
   "outputs": [
    {
     "data": {
      "image/png": "[encoded data removed]",
      "text/plain": [
       "<Figure size 720x432 with 1 Axes>"
      ]
     },
     "metadata": {},
     "output_type": "display_data"
    }
   ],
   "source": [
    "x_train, x_test, y_train, y_test = data[0]\n",
    "draw_svm(best, x_train, y_train)"
   ]
  },
  {
   "cell_type": "markdown",
   "metadata": {},
   "source": [
    "## All features"
   ]
  },
  {
   "cell_type": "code",
   "execution_count": 130,
   "metadata": {},
   "outputs": [],
   "source": [
    "all_columns = [x for x in feature_columns if x != 'income_class_f']\n",
    "feature = df[all_columns].to_numpy()\n",
    "labels = df['income_class_f'].to_numpy()"
   ]
  },
  {
   "cell_type": "code",
   "execution_count": 131,
   "metadata": {},
   "outputs": [],
   "source": [
    "data = cross_validation_num(feature, labels)"
   ]
  },
  {
   "cell_type": "code",
   "execution_count": 132,
   "metadata": {},
   "outputs": [
    {
     "name": "stdout",
     "output_type": "stream",
     "text": [
      "Start with set 2930\n",
      "Train data set with size: 2930 kernel linear C 0.1\n",
      "Test size: 327\n",
      "Score: 0.7981651376146789\n",
      "Average precision score: 0.3632135151489221\n",
      "Precision: [0.24159021 0.84210526 1.        ]\n",
      "Recall: [1.         0.20253165 0.        ]\n",
      "F1: 0.7472693255244147\n",
      "Variance: 0.08217639853001191\n",
      "======================== Time: 0.10207724571228027\n",
      "Start with set 2930\n",
      "Train data set with size: 2930 kernel linear C 0.1\n",
      "Test size: 327\n",
      "Score: 0.8287461773700305\n",
      "Average precision score: 0.45815214819976174\n",
      "Precision: [0.24159021 0.92592593 1.        ]\n",
      "Recall: [1.        0.3164557 0.       ]\n",
      "F1: 0.7948657041283349\n",
      "Variance: 0.20334830543078775\n",
      "======================== Time: 0.10298609733581543\n",
      "Start with set 2931\n",
      "Train data set with size: 2931 kernel linear C 0.1\n",
      "Test size: 326\n",
      "Score: 0.7914110429447853\n",
      "Average precision score: 0.3511671973285703\n",
      "Precision: [0.24233129 0.72       1.        ]\n",
      "Recall: [1.        0.2278481 0.       ]\n",
      "F1: 0.7475353337719555\n",
      "Variance: 0.013375698252447554\n",
      "======================== Time: 0.09451413154602051\n",
      "Start with set 2931\n",
      "Train data set with size: 2931 kernel linear C 0.1\n",
      "Test size: 326\n",
      "Score: 0.7668711656441718\n",
      "Average precision score: 0.2986270093965986\n",
      "Precision: [0.24233129 0.56       1.        ]\n",
      "Recall: [1.         0.17721519 0.        ]\n",
      "F1: 0.7178336083333621\n",
      "Variance: -0.12027878849997387\n",
      "======================== Time: 0.09650826454162598\n",
      "Start with set 2931\n",
      "Train data set with size: 2931 kernel linear C 0.1\n",
      "Test size: 326\n",
      "Score: 0.7914110429447853\n",
      "Average precision score: 0.345328424139711\n",
      "Precision: [0.24233129 0.82352941 1.        ]\n",
      "Recall: [1.         0.17721519 0.        ]\n",
      "F1: 0.7356841520648512\n",
      "Variance: 0.060933736483370304\n",
      "======================== Time: 0.11652803421020508\n",
      "Start with set 2932\n",
      "Train data set with size: 2932 kernel linear C 0.1\n",
      "Test size: 325\n",
      "Score: 0.7815384615384615\n",
      "Average precision score: 0.3192642140468227\n",
      "Precision: [0.24       0.65217391 1.        ]\n",
      "Recall: [1.         0.19230769 0.        ]\n",
      "F1: 0.7329993327201573\n",
      "Variance: -0.04069344960033261\n",
      "======================== Time: 0.10939788818359375\n",
      "Start with set 2932\n",
      "Train data set with size: 2932 kernel linear C 0.1\n",
      "Test size: 325\n",
      "Score: 0.7907692307692308\n",
      "Average precision score: 0.33494505494505494\n",
      "Precision: [0.24       0.85714286 1.        ]\n",
      "Recall: [1.         0.15384615 0.        ]\n",
      "F1: 0.7299922081969767\n",
      "Variance: 0.06550399667808526\n",
      "======================== Time: 0.10342884063720703\n",
      "Start with set 2932\n",
      "Train data set with size: 2932 kernel linear C 0.1\n",
      "Test size: 325\n",
      "Score: 0.7815384615384615\n",
      "Average precision score: 0.30957264957264957\n",
      "Precision: [0.24       0.73333333 1.        ]\n",
      "Recall: [1.         0.14102564 0.        ]\n",
      "F1: 0.7198980714658018\n",
      "Variance: 0.008304785632720302\n",
      "======================== Time: 0.09364676475524902\n",
      "Start with set 2932\n",
      "Train data set with size: 2932 kernel linear C 0.1\n",
      "Test size: 325\n",
      "Score: 0.8061538461538461\n",
      "Average precision score: 0.38358974358974357\n",
      "Precision: [0.24 0.8  1.  ]\n",
      "Recall: [1.         0.25641026 0.        ]\n",
      "F1: 0.7656718908077599\n",
      "Variance: 0.08304785632720879\n",
      "======================== Time: 0.0836338996887207\n",
      "Start with set 2932\n",
      "Train data set with size: 2932 kernel linear C 0.1\n",
      "Test size: 325\n",
      "Score: 0.7938461538461539\n",
      "Average precision score: 0.3487848383500557\n",
      "Precision: [0.24       0.73913043 1.        ]\n",
      "Recall: [1.         0.21794872 0.        ]\n",
      "F1: 0.7480416238345146\n",
      "Variance: 0.026782933665524533\n",
      "======================== Time: 0.08161258697509766\n",
      "Best score: 0.8287461773700305\n"
     ]
    }
   ],
   "source": [
    "best = train_crosss(\"linear\", 0.1)\n",
    "# Best score: 0.8287461773700305"
   ]
  },
  {
   "cell_type": "code",
   "execution_count": 133,
   "metadata": {},
   "outputs": [
    {
     "name": "stdout",
     "output_type": "stream",
     "text": [
      "Start with set 2930\n",
      "Train data set with size: 2930 kernel linear C 100\n",
      "Test size: 327\n",
      "Score: 0.8103975535168195\n",
      "Average precision score: 0.40339375867076743\n",
      "Precision: [0.24159021 0.77419355 1.        ]\n",
      "Recall: [1.         0.30379747 0.        ]\n",
      "F1: 0.7773945608268328\n",
      "Variance: 0.08278889342588802\n",
      "======================== Time: 0.43323421478271484\n",
      "Start with set 2930\n",
      "Train data set with size: 2930 kernel linear C 100\n",
      "Test size: 327\n",
      "Score: 0.8195718654434251\n",
      "Average precision score: 0.4294845739945031\n",
      "Precision: [0.24159021 0.8125     1.        ]\n",
      "Recall: [1.         0.32911392 0.        ]\n",
      "F1: 0.7891817003277289\n",
      "Variance: 0.12801143323805608\n",
      "======================== Time: 0.479982852935791\n",
      "Start with set 2931\n",
      "Train data set with size: 2931 kernel linear C 100\n",
      "Test size: 326\n",
      "Score: 0.7852760736196319\n",
      "Average precision score: 0.34989183372347155\n",
      "Precision: [0.24233129 0.62857143 1.        ]\n",
      "Recall: [1.         0.27848101 0.        ]\n",
      "F1: 0.7526186552201655\n",
      "Variance: -0.07026085173986507\n",
      "======================== Time: 0.4781191349029541\n",
      "Start with set 2931\n",
      "Train data set with size: 2931 kernel linear C 100\n",
      "Test size: 326\n",
      "Score: 0.7638036809815951\n",
      "Average precision score: 0.30774202979320175\n",
      "Precision: [0.24233129 0.52941176 1.        ]\n",
      "Recall: [1.        0.2278481 0.       ]\n",
      "F1: 0.7266332125987918\n",
      "Variance: -0.18264746579203606\n",
      "======================== Time: 0.5110518932342529\n",
      "Start with set 2931\n",
      "Train data set with size: 2931 kernel linear C 100\n",
      "Test size: 326\n",
      "Score: 0.7944785276073619\n",
      "Average precision score: 0.3618134214934712\n",
      "Precision: [0.24233129 0.71428571 1.        ]\n",
      "Recall: [1.         0.25316456 0.        ]\n",
      "F1: 0.7551152535757514\n",
      "Variance: 0.013939424998719474\n",
      "======================== Time: 0.47852611541748047\n",
      "Start with set 2932\n",
      "Train data set with size: 2932 kernel linear C 100\n",
      "Test size: 325\n",
      "Score: 0.7846153846153846\n",
      "Average precision score: 0.3387179487179487\n",
      "Precision: [0.24  0.625 1.   ]\n",
      "Recall: [1.         0.25641026 0.        ]\n",
      "F1: 0.7487542087542087\n",
      "Variance: -0.07100591715976345\n",
      "======================== Time: 0.4674561023712158\n",
      "Start with set 2932\n",
      "Train data set with size: 2932 kernel linear C 100\n",
      "Test size: 325\n",
      "Score: 0.7815384615384615\n",
      "Average precision score: 0.3308354011579818\n",
      "Precision: [0.24       0.61290323 1.        ]\n",
      "Recall: [1.         0.24358974 0.        ]\n",
      "F1: 0.7439285048076109\n",
      "Variance: -0.08304785632720879\n",
      "======================== Time: 0.41625499725341797\n",
      "Start with set 2932\n",
      "Train data set with size: 2932 kernel linear C 100\n",
      "Test size: 325\n",
      "Score: 0.796923076923077\n",
      "Average precision score: 0.35769230769230764\n",
      "Precision: [0.24 0.75 1.  ]\n",
      "Recall: [1.         0.23076923 0.        ]\n",
      "F1: 0.7531730356376127\n",
      "Variance: 0.03799439426969753\n",
      "======================== Time: 0.4338343143463135\n",
      "Start with set 2932\n",
      "Train data set with size: 2932 kernel linear C 100\n",
      "Test size: 325\n",
      "Score: 0.8092307692307692\n",
      "Average precision score: 0.4028744939271255\n",
      "Precision: [0.24       0.71052632 1.        ]\n",
      "Recall: [1.         0.34615385 0.        ]\n",
      "F1: 0.7834844375565028\n",
      "Variance: 0.03716391570642563\n",
      "======================== Time: 0.4615061283111572\n",
      "Start with set 2932\n",
      "Train data set with size: 2932 kernel linear C 100\n",
      "Test size: 325\n",
      "Score: 0.803076923076923\n",
      "Average precision score: 0.39057692307692304\n",
      "Precision: [0.24  0.675 1.   ]\n",
      "Recall: [1.         0.34615385 0.        ]\n",
      "F1: 0.7784019370460047\n",
      "Variance: -0.004671441918406183\n",
      "======================== Time: 0.5194742679595947\n",
      "Best score: 0.8195718654434251\n"
     ]
    }
   ],
   "source": [
    "best = train_crosss(\"linear\", 100)\n",
    "# Best score: 0.8256880733944955"
   ]
  },
  {
   "cell_type": "code",
   "execution_count": 134,
   "metadata": {},
   "outputs": [
    {
     "name": "stdout",
     "output_type": "stream",
     "text": [
      "Split train 2605 test 652\n",
      "Train data set with size: 3257 kernel linear C 0.001\n",
      "Test size: 3257\n"
     ]
    },
    {
     "name": "stderr",
     "output_type": "stream",
     "text": [
      "/Library/Frameworks/Python.framework/Versions/3.7/lib/python3.7/site-packages/sklearn/metrics/classification.py:1143: UndefinedMetricWarning: F-score is ill-defined and being set to 0.0 in labels with no predicted samples.\n",
      "  'precision', 'predicted', average, warn_for)\n"
     ]
    },
    {
     "name": "stdout",
     "output_type": "stream",
     "text": [
      "Score: 0.7589806570463616\n",
      "Average precision score: 0.2410193429536383\n",
      "Precision: [0.24101934 1.        ]\n",
      "Recall: [1. 0.]\n",
      "F1: 0.6549834820103355\n",
      "Variance: 0.0\n",
      "======================== Time: 0.25925302505493164\n",
      "Train data set with size: 3257 kernel linear C 0.1\n",
      "Test size: 3257\n",
      "Score: 0.7936751611912803\n",
      "Average precision score: 0.3500263520927568\n",
      "Precision: [0.24101934 0.7627907  1.        ]\n",
      "Recall: [1.        0.2089172 0.       ]\n",
      "F1: 0.7455368148222143\n",
      "Variance: 0.03953373322614562\n",
      "======================== Time: 0.21666407585144043\n",
      "Train data set with size: 3257 kernel linear C 5\n",
      "Test size: 3257\n",
      "Score: 0.7936751611912803\n",
      "Average precision score: 0.3607658786726392\n",
      "Precision: [0.24101934 0.67823344 1.        ]\n",
      "Recall: [1.         0.27388535 0.        ]\n",
      "F1: 0.7587848165293296\n",
      "Variance: -0.015026900006183785\n",
      "======================== Time: 0.23361992835998535\n",
      "Train data set with size: 3257 kernel linear C 10\n",
      "Test size: 3257\n",
      "Score: 0.7945962542216763\n",
      "Average precision score: 0.36302879382148767\n",
      "Precision: [0.24101934 0.68238994 1.        ]\n",
      "Recall: [1.         0.27643312 0.        ]\n",
      "F1: 0.7599769852992084\n",
      "Variance: -0.010473481334899892\n",
      "======================== Time: 0.3170619010925293\n",
      "Train data set with size: 3257 kernel linear C 100\n",
      "Test size: 3257\n",
      "Score: 0.7945962542216763\n",
      "Average precision score: 0.36327448083402925\n",
      "Precision: [0.24101934 0.68125    1.        ]\n",
      "Recall: [1.         0.27770701 0.        ]\n",
      "F1: 0.7602068763161657\n",
      "Variance: -0.011434048605528213\n",
      "======================== Time: 0.6792662143707275\n",
      "Train data set with size: 3257 kernel linear C 100\n",
      "Test size: 3257\n",
      "Score: 0.7945962542216763\n",
      "Average precision score: 0.36327448083402925\n",
      "Precision: [0.24101934 0.68125    1.        ]\n",
      "Recall: [1.         0.27770701 0.        ]\n",
      "F1: 0.7602068763161657\n",
      "Variance: -0.011434048605528213\n",
      "======================== Time: 1.0462231636047363\n",
      "Best C=10 with score: 0.7945962542216763\n"
     ]
    }
   ],
   "source": [
    "# try to train on all data set and find best C\n",
    "best = None\n",
    "best_score = 0.0\n",
    "best_c = None\n",
    "poosible_c = [ 0.001, 0.1, 5, 10, 100, 100]\n",
    "cut = int(len(feature) * 0.8) # take 80% for training\n",
    "\n",
    "print(\"Split train %s test %s\" %(cut, len(feature) - cut))\n",
    "# Split doesn't work\n",
    "#feature_train, feature_test = np.split(np.array(feature), cut)\n",
    "#labels_train, labels_test = np.split(np.array(labels), cut)\n",
    "\n",
    "# = feature[cut:len(feature)]\n",
    "#labels_test = labels[cut:len(feature)]\n",
    "\n",
    "for c in poosible_c:\n",
    "    clf, y_score = train(feature, feature, labels, labels, \"linear\", c)\n",
    "    if best_score < y_score:\n",
    "        best = clf\n",
    "        best_score = y_score\n",
    "        best_c = c\n",
    "\n",
    "print(\"Best C=%s with score: %s\" % (best_c, best_score) )"
   ]
  },
  {
   "cell_type": "markdown",
   "metadata": {},
   "source": [
    "## Try different kerneles"
   ]
  },
  {
   "cell_type": "code",
   "execution_count": 135,
   "metadata": {},
   "outputs": [
    {
     "name": "stdout",
     "output_type": "stream",
     "text": [
      "Train data set with size: 3257 kernel rbf C 0.001\n",
      "Test size: 3257\n"
     ]
    },
    {
     "name": "stderr",
     "output_type": "stream",
     "text": [
      "/Library/Frameworks/Python.framework/Versions/3.7/lib/python3.7/site-packages/sklearn/svm/base.py:196: FutureWarning: The default value of gamma will change from 'auto' to 'scale' in version 0.22 to account better for unscaled features. Set gamma explicitly to 'auto' or 'scale' to avoid this warning.\n",
      "  \"avoid this warning.\", FutureWarning)\n"
     ]
    },
    {
     "name": "stdout",
     "output_type": "stream",
     "text": [
      "Score: 0.7589806570463616\n",
      "Average precision score: 0.2410193429536383\n",
      "Precision: [0.24101934 1.        ]\n",
      "Recall: [1. 0.]\n",
      "F1: 0.6549834820103355\n",
      "Variance: 0.0\n",
      "======================== Time: 0.6657729148864746\n"
     ]
    },
    {
     "name": "stderr",
     "output_type": "stream",
     "text": [
      "/Library/Frameworks/Python.framework/Versions/3.7/lib/python3.7/site-packages/sklearn/metrics/classification.py:1143: UndefinedMetricWarning: F-score is ill-defined and being set to 0.0 in labels with no predicted samples.\n",
      "  'precision', 'predicted', average, warn_for)\n"
     ]
    }
   ],
   "source": [
    "# C might be not the best for that kernels\n",
    "clf, y_score = train(feature, feature, labels, labels, \"rbf\", 0.001)"
   ]
  },
  {
   "cell_type": "code",
   "execution_count": 136,
   "metadata": {},
   "outputs": [
    {
     "name": "stderr",
     "output_type": "stream",
     "text": [
      "/Library/Frameworks/Python.framework/Versions/3.7/lib/python3.7/site-packages/sklearn/svm/base.py:196: FutureWarning: The default value of gamma will change from 'auto' to 'scale' in version 0.22 to account better for unscaled features. Set gamma explicitly to 'auto' or 'scale' to avoid this warning.\n",
      "  \"avoid this warning.\", FutureWarning)\n"
     ]
    },
    {
     "name": "stdout",
     "output_type": "stream",
     "text": [
      "Train data set with size: 3257 kernel poly C 0.001\n",
      "Test size: 3257\n",
      "Score: 0.7589806570463616\n",
      "Average precision score: 0.2410193429536383\n",
      "Precision: [0.24101934 1.        ]\n",
      "Recall: [1. 0.]\n",
      "F1: 0.6549834820103355\n",
      "Variance: 0.0\n",
      "======================== Time: 0.28189682960510254\n"
     ]
    },
    {
     "name": "stderr",
     "output_type": "stream",
     "text": [
      "/Library/Frameworks/Python.framework/Versions/3.7/lib/python3.7/site-packages/sklearn/metrics/classification.py:1143: UndefinedMetricWarning: F-score is ill-defined and being set to 0.0 in labels with no predicted samples.\n",
      "  'precision', 'predicted', average, warn_for)\n"
     ]
    }
   ],
   "source": [
    "clf, y_score = train(feature, feature, labels, labels, \"poly\", 0.001)"
   ]
  },
  {
   "cell_type": "markdown",
   "metadata": {},
   "source": [
    "# One hot encoding"
   ]
  },
  {
   "cell_type": "markdown",
   "metadata": {},
   "source": [
    "Trying out one-hot encoding for the last question -- improving the performance"
   ]
  },
  {
   "cell_type": "markdown",
   "metadata": {},
   "source": [
    "## Categories"
   ]
  },
  {
   "cell_type": "code",
   "execution_count": 137,
   "metadata": {},
   "outputs": [],
   "source": [
    "def create_categories(columns):\n",
    "    enc = OneHotEncoder(sparse=False)\n",
    "    enc.fit(df[columns])\n",
    "    return enc.fit_transform(df[columns]) #enc.transform([ df[column] ])\n",
    "    #df[column + \"_category\"] = \n",
    "    \n",
    "def create_labels(columns):\n",
    "    enc = LabelEncoder()\n",
    "    enc.fit(df[columns])\n",
    "    d = enc.fit_transform(df[columns])\n",
    "    return d.reshape((len(d), 1))"
   ]
  },
  {
   "cell_type": "code",
   "execution_count": 138,
   "metadata": {},
   "outputs": [],
   "source": [
    "#categorical_features = create_labels('relationship')\n",
    "categorical_features = create_categories(['relationship'])\n",
    "num_features = df[['fnlwgt']].to_numpy()\n",
    "feature = np.concatenate((num_features, categorical_features), axis=1)\n",
    "feature = normalize(feature, axis=1)\n",
    "labels = create_labels('income_class') #pd.Categorical(df['income_class']).codes #categories(['class'])"
   ]
  },
  {
   "cell_type": "code",
   "execution_count": 139,
   "metadata": {},
   "outputs": [],
   "source": [
    "data = cross_validation_num(feature, labels)"
   ]
  },
  {
   "cell_type": "code",
   "execution_count": 140,
   "metadata": {},
   "outputs": [
    {
     "name": "stderr",
     "output_type": "stream",
     "text": [
      "/Library/Frameworks/Python.framework/Versions/3.7/lib/python3.7/site-packages/sklearn/utils/validation.py:761: DataConversionWarning: A column-vector y was passed when a 1d array was expected. Please change the shape of y to (n_samples, ), for example using ravel().\n",
      "  y = column_or_1d(y, warn=True)\n",
      "/Library/Frameworks/Python.framework/Versions/3.7/lib/python3.7/site-packages/sklearn/metrics/classification.py:1143: UndefinedMetricWarning: F-score is ill-defined and being set to 0.0 in labels with no predicted samples.\n",
      "  'precision', 'predicted', average, warn_for)\n",
      "/Library/Frameworks/Python.framework/Versions/3.7/lib/python3.7/site-packages/sklearn/utils/validation.py:761: DataConversionWarning: A column-vector y was passed when a 1d array was expected. Please change the shape of y to (n_samples, ), for example using ravel().\n",
      "  y = column_or_1d(y, warn=True)\n"
     ]
    },
    {
     "name": "stdout",
     "output_type": "stream",
     "text": [
      "Start with set 2930\n",
      "Train data set with size: 2930 kernel linear C 0.1\n",
      "Test size: 327\n",
      "Score: 0.7584097859327217\n",
      "Average precision score: 0.2415902140672783\n",
      "Precision: [0.24159021 1.        ]\n",
      "Recall: [1. 0.]\n",
      "F1: 0.6542108762132695\n",
      "Variance: 0.0\n",
      "======================== Time: 0.11403489112854004\n",
      "Start with set 2930\n",
      "Train data set with size: 2930 kernel linear C 0.1\n",
      "Test size: 327\n"
     ]
    },
    {
     "name": "stderr",
     "output_type": "stream",
     "text": [
      "/Library/Frameworks/Python.framework/Versions/3.7/lib/python3.7/site-packages/sklearn/metrics/classification.py:1143: UndefinedMetricWarning: F-score is ill-defined and being set to 0.0 in labels with no predicted samples.\n",
      "  'precision', 'predicted', average, warn_for)\n",
      "/Library/Frameworks/Python.framework/Versions/3.7/lib/python3.7/site-packages/sklearn/utils/validation.py:761: DataConversionWarning: A column-vector y was passed when a 1d array was expected. Please change the shape of y to (n_samples, ), for example using ravel().\n",
      "  y = column_or_1d(y, warn=True)\n",
      "/Library/Frameworks/Python.framework/Versions/3.7/lib/python3.7/site-packages/sklearn/metrics/classification.py:1143: UndefinedMetricWarning: F-score is ill-defined and being set to 0.0 in labels with no predicted samples.\n",
      "  'precision', 'predicted', average, warn_for)\n",
      "/Library/Frameworks/Python.framework/Versions/3.7/lib/python3.7/site-packages/sklearn/utils/validation.py:761: DataConversionWarning: A column-vector y was passed when a 1d array was expected. Please change the shape of y to (n_samples, ), for example using ravel().\n",
      "  y = column_or_1d(y, warn=True)\n",
      "/Library/Frameworks/Python.framework/Versions/3.7/lib/python3.7/site-packages/sklearn/metrics/classification.py:1143: UndefinedMetricWarning: F-score is ill-defined and being set to 0.0 in labels with no predicted samples.\n",
      "  'precision', 'predicted', average, warn_for)\n"
     ]
    },
    {
     "name": "stdout",
     "output_type": "stream",
     "text": [
      "Score: 0.7584097859327217\n",
      "Average precision score: 0.2415902140672783\n",
      "Precision: [0.24159021 1.        ]\n",
      "Recall: [1. 0.]\n",
      "F1: 0.6542108762132695\n",
      "Variance: 0.0\n",
      "======================== Time: 0.09644627571105957\n",
      "Start with set 2931\n",
      "Train data set with size: 2931 kernel linear C 0.1\n",
      "Test size: 326\n",
      "Score: 0.7576687116564417\n",
      "Average precision score: 0.24233128834355827\n",
      "Precision: [0.24233129 1.        ]\n",
      "Recall: [1. 0.]\n",
      "F1: 0.6532082784612255\n",
      "Variance: 0.0\n",
      "======================== Time: 0.09768223762512207\n",
      "Start with set 2931\n",
      "Train data set with size: 2931 kernel linear C 0.1\n",
      "Test size: 326\n",
      "Score: 0.7576687116564417\n",
      "Average precision score: 0.24233128834355827\n",
      "Precision: [0.24233129 1.        ]\n",
      "Recall: [1. 0.]\n",
      "F1: 0.6532082784612255\n",
      "Variance: 0.0\n",
      "======================== Time: 0.10394287109375\n",
      "Start with set 2931\n",
      "Train data set with size: 2931 kernel linear C 0.1\n",
      "Test size: 326\n"
     ]
    },
    {
     "name": "stderr",
     "output_type": "stream",
     "text": [
      "/Library/Frameworks/Python.framework/Versions/3.7/lib/python3.7/site-packages/sklearn/utils/validation.py:761: DataConversionWarning: A column-vector y was passed when a 1d array was expected. Please change the shape of y to (n_samples, ), for example using ravel().\n",
      "  y = column_or_1d(y, warn=True)\n",
      "/Library/Frameworks/Python.framework/Versions/3.7/lib/python3.7/site-packages/sklearn/metrics/classification.py:1143: UndefinedMetricWarning: F-score is ill-defined and being set to 0.0 in labels with no predicted samples.\n",
      "  'precision', 'predicted', average, warn_for)\n",
      "/Library/Frameworks/Python.framework/Versions/3.7/lib/python3.7/site-packages/sklearn/utils/validation.py:761: DataConversionWarning: A column-vector y was passed when a 1d array was expected. Please change the shape of y to (n_samples, ), for example using ravel().\n",
      "  y = column_or_1d(y, warn=True)\n"
     ]
    },
    {
     "name": "stdout",
     "output_type": "stream",
     "text": [
      "Score: 0.7576687116564417\n",
      "Average precision score: 0.24233128834355827\n",
      "Precision: [0.24233129 1.        ]\n",
      "Recall: [1. 0.]\n",
      "F1: 0.6532082784612255\n",
      "Variance: 0.0\n",
      "======================== Time: 0.12078380584716797\n",
      "Start with set 2932\n",
      "Train data set with size: 2932 kernel linear C 0.1\n",
      "Test size: 325\n",
      "Score: 0.76\n",
      "Average precision score: 0.24\n",
      "Precision: [0.24 1.  ]\n",
      "Recall: [1. 0.]\n",
      "F1: 0.6563636363636364\n",
      "Variance: 0.0\n",
      "======================== Time: 0.08827900886535645\n",
      "Start with set 2932\n",
      "Train data set with size: 2932 kernel linear C 0.1\n",
      "Test size: 325\n",
      "Score: 0.76\n",
      "Average precision score: 0.24\n",
      "Precision: [0.24 1.  ]\n",
      "Recall: [1. 0.]\n",
      "F1: 0.6563636363636364\n",
      "Variance: 0.0\n",
      "======================== Time: 0.08416199684143066\n",
      "Start with set 2932\n",
      "Train data set with size: 2932 kernel linear C 0.1\n",
      "Test size: 325\n"
     ]
    },
    {
     "name": "stderr",
     "output_type": "stream",
     "text": [
      "/Library/Frameworks/Python.framework/Versions/3.7/lib/python3.7/site-packages/sklearn/metrics/classification.py:1143: UndefinedMetricWarning: F-score is ill-defined and being set to 0.0 in labels with no predicted samples.\n",
      "  'precision', 'predicted', average, warn_for)\n",
      "/Library/Frameworks/Python.framework/Versions/3.7/lib/python3.7/site-packages/sklearn/utils/validation.py:761: DataConversionWarning: A column-vector y was passed when a 1d array was expected. Please change the shape of y to (n_samples, ), for example using ravel().\n",
      "  y = column_or_1d(y, warn=True)\n",
      "/Library/Frameworks/Python.framework/Versions/3.7/lib/python3.7/site-packages/sklearn/metrics/classification.py:1143: UndefinedMetricWarning: F-score is ill-defined and being set to 0.0 in labels with no predicted samples.\n",
      "  'precision', 'predicted', average, warn_for)\n",
      "/Library/Frameworks/Python.framework/Versions/3.7/lib/python3.7/site-packages/sklearn/utils/validation.py:761: DataConversionWarning: A column-vector y was passed when a 1d array was expected. Please change the shape of y to (n_samples, ), for example using ravel().\n",
      "  y = column_or_1d(y, warn=True)\n",
      "/Library/Frameworks/Python.framework/Versions/3.7/lib/python3.7/site-packages/sklearn/metrics/classification.py:1143: UndefinedMetricWarning: F-score is ill-defined and being set to 0.0 in labels with no predicted samples.\n",
      "  'precision', 'predicted', average, warn_for)\n",
      "/Library/Frameworks/Python.framework/Versions/3.7/lib/python3.7/site-packages/sklearn/utils/validation.py:761: DataConversionWarning: A column-vector y was passed when a 1d array was expected. Please change the shape of y to (n_samples, ), for example using ravel().\n",
      "  y = column_or_1d(y, warn=True)\n"
     ]
    },
    {
     "name": "stdout",
     "output_type": "stream",
     "text": [
      "Score: 0.76\n",
      "Average precision score: 0.24\n",
      "Precision: [0.24 1.  ]\n",
      "Recall: [1. 0.]\n",
      "F1: 0.6563636363636364\n",
      "Variance: 0.0\n",
      "======================== Time: 0.1091771125793457\n",
      "Start with set 2932\n",
      "Train data set with size: 2932 kernel linear C 0.1\n",
      "Test size: 325\n",
      "Score: 0.76\n",
      "Average precision score: 0.24\n",
      "Precision: [0.24 1.  ]\n",
      "Recall: [1. 0.]\n",
      "F1: 0.6563636363636364\n",
      "Variance: 0.0\n",
      "======================== Time: 0.12093901634216309\n",
      "Start with set 2932\n",
      "Train data set with size: 2932 kernel linear C 0.1\n",
      "Test size: 325\n",
      "Score: 0.76\n",
      "Average precision score: 0.24\n",
      "Precision: [0.24 1.  ]\n",
      "Recall: [1. 0.]\n",
      "F1: 0.6563636363636364\n",
      "Variance: 0.0\n",
      "======================== Time: 0.11421895027160645\n",
      "Best score: 0.76\n"
     ]
    },
    {
     "name": "stderr",
     "output_type": "stream",
     "text": [
      "/Library/Frameworks/Python.framework/Versions/3.7/lib/python3.7/site-packages/sklearn/metrics/classification.py:1143: UndefinedMetricWarning: F-score is ill-defined and being set to 0.0 in labels with no predicted samples.\n",
      "  'precision', 'predicted', average, warn_for)\n",
      "/Library/Frameworks/Python.framework/Versions/3.7/lib/python3.7/site-packages/sklearn/utils/validation.py:761: DataConversionWarning: A column-vector y was passed when a 1d array was expected. Please change the shape of y to (n_samples, ), for example using ravel().\n",
      "  y = column_or_1d(y, warn=True)\n",
      "/Library/Frameworks/Python.framework/Versions/3.7/lib/python3.7/site-packages/sklearn/metrics/classification.py:1143: UndefinedMetricWarning: F-score is ill-defined and being set to 0.0 in labels with no predicted samples.\n",
      "  'precision', 'predicted', average, warn_for)\n"
     ]
    }
   ],
   "source": [
    "best = train_crosss(\"linear\", 0.1)"
   ]
  },
  {
   "cell_type": "code",
   "execution_count": 142,
   "metadata": {},
   "outputs": [
    {
     "name": "stdout",
     "output_type": "stream",
     "text": [
      "Start with set 2930\n",
      "Train data set with size: 2930 kernel linear C 10\n",
      "Test size: 327\n"
     ]
    },
    {
     "name": "stderr",
     "output_type": "stream",
     "text": [
      "/Library/Frameworks/Python.framework/Versions/3.7/lib/python3.7/site-packages/sklearn/utils/validation.py:761: DataConversionWarning: A column-vector y was passed when a 1d array was expected. Please change the shape of y to (n_samples, ), for example using ravel().\n",
      "  y = column_or_1d(y, warn=True)\n"
     ]
    },
    {
     "name": "stdout",
     "output_type": "stream",
     "text": [
      "Score: 0.7553516819571865\n",
      "Average precision score: 0.248690766516803\n",
      "Precision: [0.24159021 0.42857143 1.        ]\n",
      "Recall: [1.         0.03797468 0.        ]\n",
      "F1: 0.6684466374378838\n",
      "Variance: -0.07064107799101693\n",
      "======================== Time: 0.37168002128601074\n",
      "Start with set 2930\n",
      "Train data set with size: 2930 kernel linear C 10\n",
      "Test size: 327\n",
      "Score: 0.7522935779816514\n",
      "Average precision score: 0.2621324146118015\n",
      "Precision: [0.24159021 0.44444444 1.        ]\n",
      "Recall: [1.         0.10126582 0.        ]\n",
      "F1: 0.6879703237863595\n",
      "Variance: -0.16200489995916745\n",
      "======================== Time: 0.13642287254333496\n",
      "Start with set 2931\n",
      "Train data set with size: 2931 kernel linear C 10\n",
      "Test size: 326\n"
     ]
    },
    {
     "name": "stderr",
     "output_type": "stream",
     "text": [
      "/Library/Frameworks/Python.framework/Versions/3.7/lib/python3.7/site-packages/sklearn/utils/validation.py:761: DataConversionWarning: A column-vector y was passed when a 1d array was expected. Please change the shape of y to (n_samples, ), for example using ravel().\n",
      "  y = column_or_1d(y, warn=True)\n",
      "/Library/Frameworks/Python.framework/Versions/3.7/lib/python3.7/site-packages/sklearn/utils/validation.py:761: DataConversionWarning: A column-vector y was passed when a 1d array was expected. Please change the shape of y to (n_samples, ), for example using ravel().\n",
      "  y = column_or_1d(y, warn=True)\n"
     ]
    },
    {
     "name": "stdout",
     "output_type": "stream",
     "text": [
      "Score: 0.7607361963190185\n",
      "Average precision score: 0.2717998498615102\n",
      "Precision: [0.24233129 0.53333333 1.        ]\n",
      "Recall: [1.         0.10126582 0.        ]\n",
      "F1: 0.6930059103994115\n",
      "Variance: -0.09321990467893149\n",
      "======================== Time: 0.1085968017578125\n",
      "Start with set 2931\n",
      "Train data set with size: 2931 kernel linear C 10\n",
      "Test size: 326\n",
      "Score: 0.7576687116564417\n",
      "Average precision score: 0.24233128834355827\n",
      "Precision: [0.24233129 1.        ]\n",
      "Recall: [1. 0.]\n",
      "F1: 0.6532082784612255\n",
      "Variance: 0.0\n",
      "======================== Time: 0.15583109855651855\n",
      "Start with set 2931\n",
      "Train data set with size: 2931 kernel linear C 10\n",
      "Test size: 326\n"
     ]
    },
    {
     "name": "stderr",
     "output_type": "stream",
     "text": [
      "/Library/Frameworks/Python.framework/Versions/3.7/lib/python3.7/site-packages/sklearn/utils/validation.py:761: DataConversionWarning: A column-vector y was passed when a 1d array was expected. Please change the shape of y to (n_samples, ), for example using ravel().\n",
      "  y = column_or_1d(y, warn=True)\n",
      "/Library/Frameworks/Python.framework/Versions/3.7/lib/python3.7/site-packages/sklearn/metrics/classification.py:1143: UndefinedMetricWarning: F-score is ill-defined and being set to 0.0 in labels with no predicted samples.\n",
      "  'precision', 'predicted', average, warn_for)\n",
      "/Library/Frameworks/Python.framework/Versions/3.7/lib/python3.7/site-packages/sklearn/utils/validation.py:761: DataConversionWarning: A column-vector y was passed when a 1d array was expected. Please change the shape of y to (n_samples, ), for example using ravel().\n",
      "  y = column_or_1d(y, warn=True)\n"
     ]
    },
    {
     "name": "stdout",
     "output_type": "stream",
     "text": [
      "Score: 0.7515337423312883\n",
      "Average precision score: 0.2691938410273426\n",
      "Precision: [0.24233129 0.45454545 1.        ]\n",
      "Recall: [1.         0.12658228 0.        ]\n",
      "F1: 0.694273679536348\n",
      "Variance: -0.18674729667401202\n",
      "======================== Time: 0.15509295463562012\n",
      "Start with set 2932\n",
      "Train data set with size: 2932 kernel linear C 10\n",
      "Test size: 325\n",
      "Score: 0.76\n",
      "Average precision score: 0.24\n",
      "Precision: [0.24 1.  ]\n",
      "Recall: [1. 0.]\n",
      "F1: 0.6563636363636364\n",
      "Variance: 0.0\n",
      "======================== Time: 0.15866398811340332\n",
      "Start with set 2932\n",
      "Train data set with size: 2932 kernel linear C 10\n",
      "Test size: 325\n"
     ]
    },
    {
     "name": "stderr",
     "output_type": "stream",
     "text": [
      "/Library/Frameworks/Python.framework/Versions/3.7/lib/python3.7/site-packages/sklearn/utils/validation.py:761: DataConversionWarning: A column-vector y was passed when a 1d array was expected. Please change the shape of y to (n_samples, ), for example using ravel().\n",
      "  y = column_or_1d(y, warn=True)\n",
      "/Library/Frameworks/Python.framework/Versions/3.7/lib/python3.7/site-packages/sklearn/metrics/classification.py:1143: UndefinedMetricWarning: F-score is ill-defined and being set to 0.0 in labels with no predicted samples.\n",
      "  'precision', 'predicted', average, warn_for)\n",
      "/Library/Frameworks/Python.framework/Versions/3.7/lib/python3.7/site-packages/sklearn/utils/validation.py:761: DataConversionWarning: A column-vector y was passed when a 1d array was expected. Please change the shape of y to (n_samples, ), for example using ravel().\n",
      "  y = column_or_1d(y, warn=True)\n"
     ]
    },
    {
     "name": "stdout",
     "output_type": "stream",
     "text": [
      "Score: 0.7630769230769231\n",
      "Average precision score: 0.27339366515837105\n",
      "Precision: [0.24       0.52941176 1.        ]\n",
      "Recall: [1.         0.11538462 0.        ]\n",
      "F1: 0.7000322427690849\n",
      "Variance: -0.1057822069967822\n",
      "======================== Time: 0.13824105262756348\n",
      "Start with set 2932\n",
      "Train data set with size: 2932 kernel linear C 10\n",
      "Test size: 325\n",
      "Score: 0.76\n",
      "Average precision score: 0.24\n",
      "Precision: [0.24 1.  ]\n",
      "Recall: [1. 0.]\n",
      "F1: 0.6563636363636364\n",
      "Variance: 0.0\n",
      "======================== Time: 0.1684739589691162\n",
      "Start with set 2932\n",
      "Train data set with size: 2932 kernel linear C 10\n",
      "Test size: 325\n"
     ]
    },
    {
     "name": "stderr",
     "output_type": "stream",
     "text": [
      "/Library/Frameworks/Python.framework/Versions/3.7/lib/python3.7/site-packages/sklearn/utils/validation.py:761: DataConversionWarning: A column-vector y was passed when a 1d array was expected. Please change the shape of y to (n_samples, ), for example using ravel().\n",
      "  y = column_or_1d(y, warn=True)\n",
      "/Library/Frameworks/Python.framework/Versions/3.7/lib/python3.7/site-packages/sklearn/metrics/classification.py:1143: UndefinedMetricWarning: F-score is ill-defined and being set to 0.0 in labels with no predicted samples.\n",
      "  'precision', 'predicted', average, warn_for)\n",
      "/Library/Frameworks/Python.framework/Versions/3.7/lib/python3.7/site-packages/sklearn/utils/validation.py:761: DataConversionWarning: A column-vector y was passed when a 1d array was expected. Please change the shape of y to (n_samples, ), for example using ravel().\n",
      "  y = column_or_1d(y, warn=True)\n"
     ]
    },
    {
     "name": "stdout",
     "output_type": "stream",
     "text": [
      "Score: 0.76\n",
      "Average precision score: 0.24\n",
      "Precision: [0.24 1.  ]\n",
      "Recall: [1. 0.]\n",
      "F1: 0.6563636363636364\n",
      "Variance: 0.0\n",
      "======================== Time: 0.16274309158325195\n",
      "Start with set 2932\n",
      "Train data set with size: 2932 kernel linear C 10\n",
      "Test size: 325\n",
      "Score: 0.7507692307692307\n",
      "Average precision score: 0.25856950067476386\n",
      "Precision: [0.24       0.42105263 1.        ]\n",
      "Recall: [1.        0.1025641 0.       ]\n",
      "F1: 0.6882675565332489\n",
      "Variance: -0.1857157687117208\n",
      "======================== Time: 0.17306900024414062\n",
      "Best score: 0.7630769230769231\n"
     ]
    },
    {
     "name": "stderr",
     "output_type": "stream",
     "text": [
      "/Library/Frameworks/Python.framework/Versions/3.7/lib/python3.7/site-packages/sklearn/metrics/classification.py:1143: UndefinedMetricWarning: F-score is ill-defined and being set to 0.0 in labels with no predicted samples.\n",
      "  'precision', 'predicted', average, warn_for)\n",
      "/Library/Frameworks/Python.framework/Versions/3.7/lib/python3.7/site-packages/sklearn/utils/validation.py:761: DataConversionWarning: A column-vector y was passed when a 1d array was expected. Please change the shape of y to (n_samples, ), for example using ravel().\n",
      "  y = column_or_1d(y, warn=True)\n"
     ]
    }
   ],
   "source": [
    "best = train_crosss(\"linear\", 10)\n",
    "# Best score: 0.7630769230769231"
   ]
  },
  {
   "cell_type": "code",
   "execution_count": 143,
   "metadata": {},
   "outputs": [
    {
     "name": "stdout",
     "output_type": "stream",
     "text": [
      "Start with set 2930\n",
      "Train data set with size: 2930 kernel linear C 100\n",
      "Test size: 327\n"
     ]
    },
    {
     "name": "stderr",
     "output_type": "stream",
     "text": [
      "/Library/Frameworks/Python.framework/Versions/3.7/lib/python3.7/site-packages/sklearn/utils/validation.py:761: DataConversionWarning: A column-vector y was passed when a 1d array was expected. Please change the shape of y to (n_samples, ), for example using ravel().\n",
      "  y = column_or_1d(y, warn=True)\n"
     ]
    },
    {
     "name": "stdout",
     "output_type": "stream",
     "text": [
      "Score: 0.7553516819571865\n",
      "Average precision score: 0.248690766516803\n",
      "Precision: [0.24159021 0.42857143 1.        ]\n",
      "Recall: [1.         0.03797468 0.        ]\n",
      "F1: 0.6684466374378838\n",
      "Variance: -0.07064107799101693\n",
      "======================== Time: 0.2595341205596924\n",
      "Start with set 2930\n",
      "Train data set with size: 2930 kernel linear C 100\n",
      "Test size: 327\n"
     ]
    },
    {
     "name": "stderr",
     "output_type": "stream",
     "text": [
      "/Library/Frameworks/Python.framework/Versions/3.7/lib/python3.7/site-packages/sklearn/utils/validation.py:761: DataConversionWarning: A column-vector y was passed when a 1d array was expected. Please change the shape of y to (n_samples, ), for example using ravel().\n",
      "  y = column_or_1d(y, warn=True)\n"
     ]
    },
    {
     "name": "stdout",
     "output_type": "stream",
     "text": [
      "Score: 0.7522935779816514\n",
      "Average precision score: 0.2621324146118015\n",
      "Precision: [0.24159021 0.44444444 1.        ]\n",
      "Recall: [1.         0.10126582 0.        ]\n",
      "F1: 0.6879703237863595\n",
      "Variance: -0.16200489995916745\n",
      "======================== Time: 0.36708617210388184\n",
      "Start with set 2931\n",
      "Train data set with size: 2931 kernel linear C 100\n",
      "Test size: 326\n",
      "Score: 0.7607361963190185\n",
      "Average precision score: 0.2717998498615102\n",
      "Precision: [0.24233129 0.53333333 1.        ]\n",
      "Recall: [1.         0.10126582 0.        ]\n",
      "F1: 0.6930059103994115\n",
      "Variance: -0.09321990467893149\n",
      "======================== Time: 0.1719808578491211\n",
      "Start with set 2931\n",
      "Train data set with size: 2931 kernel linear C 100\n",
      "Test size: 326\n"
     ]
    },
    {
     "name": "stderr",
     "output_type": "stream",
     "text": [
      "/Library/Frameworks/Python.framework/Versions/3.7/lib/python3.7/site-packages/sklearn/utils/validation.py:761: DataConversionWarning: A column-vector y was passed when a 1d array was expected. Please change the shape of y to (n_samples, ), for example using ravel().\n",
      "  y = column_or_1d(y, warn=True)\n",
      "/Library/Frameworks/Python.framework/Versions/3.7/lib/python3.7/site-packages/sklearn/utils/validation.py:761: DataConversionWarning: A column-vector y was passed when a 1d array was expected. Please change the shape of y to (n_samples, ), for example using ravel().\n",
      "  y = column_or_1d(y, warn=True)\n",
      "/Library/Frameworks/Python.framework/Versions/3.7/lib/python3.7/site-packages/sklearn/metrics/classification.py:1143: UndefinedMetricWarning: F-score is ill-defined and being set to 0.0 in labels with no predicted samples.\n",
      "  'precision', 'predicted', average, warn_for)\n",
      "/Library/Frameworks/Python.framework/Versions/3.7/lib/python3.7/site-packages/sklearn/utils/validation.py:761: DataConversionWarning: A column-vector y was passed when a 1d array was expected. Please change the shape of y to (n_samples, ), for example using ravel().\n",
      "  y = column_or_1d(y, warn=True)\n"
     ]
    },
    {
     "name": "stdout",
     "output_type": "stream",
     "text": [
      "Score: 0.7576687116564417\n",
      "Average precision score: 0.24233128834355827\n",
      "Precision: [0.24233129 1.        ]\n",
      "Recall: [1. 0.]\n",
      "F1: 0.6532082784612255\n",
      "Variance: 0.0\n",
      "======================== Time: 0.27136707305908203\n",
      "Start with set 2931\n",
      "Train data set with size: 2931 kernel linear C 100\n",
      "Test size: 326\n",
      "Score: 0.7515337423312883\n",
      "Average precision score: 0.2691938410273426\n",
      "Precision: [0.24233129 0.45454545 1.        ]\n",
      "Recall: [1.         0.12658228 0.        ]\n",
      "F1: 0.694273679536348\n",
      "Variance: -0.18674729667401202\n",
      "======================== Time: 0.4165201187133789\n",
      "Start with set 2932\n",
      "Train data set with size: 2932 kernel linear C 100\n",
      "Test size: 325\n",
      "Score: 0.76\n",
      "Average precision score: 0.24\n",
      "Precision: [0.24 1.  ]\n",
      "Recall: [1. 0.]\n",
      "F1: 0.6563636363636364\n",
      "Variance: 0.0\n",
      "======================== Time: 0.1983332633972168\n",
      "Start with set 2932\n",
      "Train data set with size: 2932 kernel linear C 100\n",
      "Test size: 325\n"
     ]
    },
    {
     "name": "stderr",
     "output_type": "stream",
     "text": [
      "/Library/Frameworks/Python.framework/Versions/3.7/lib/python3.7/site-packages/sklearn/utils/validation.py:761: DataConversionWarning: A column-vector y was passed when a 1d array was expected. Please change the shape of y to (n_samples, ), for example using ravel().\n",
      "  y = column_or_1d(y, warn=True)\n",
      "/Library/Frameworks/Python.framework/Versions/3.7/lib/python3.7/site-packages/sklearn/metrics/classification.py:1143: UndefinedMetricWarning: F-score is ill-defined and being set to 0.0 in labels with no predicted samples.\n",
      "  'precision', 'predicted', average, warn_for)\n",
      "/Library/Frameworks/Python.framework/Versions/3.7/lib/python3.7/site-packages/sklearn/utils/validation.py:761: DataConversionWarning: A column-vector y was passed when a 1d array was expected. Please change the shape of y to (n_samples, ), for example using ravel().\n",
      "  y = column_or_1d(y, warn=True)\n"
     ]
    },
    {
     "name": "stdout",
     "output_type": "stream",
     "text": [
      "Score: 0.7630769230769231\n",
      "Average precision score: 0.27339366515837105\n",
      "Precision: [0.24       0.52941176 1.        ]\n",
      "Recall: [1.         0.11538462 0.        ]\n",
      "F1: 0.7000322427690849\n",
      "Variance: -0.1057822069967822\n",
      "======================== Time: 0.2494490146636963\n",
      "Start with set 2932\n",
      "Train data set with size: 2932 kernel linear C 100\n",
      "Test size: 325\n",
      "Score: 0.76\n",
      "Average precision score: 0.24\n",
      "Precision: [0.24 1.  ]\n",
      "Recall: [1. 0.]\n",
      "F1: 0.6563636363636364\n",
      "Variance: 0.0\n",
      "======================== Time: 0.17256879806518555\n",
      "Start with set 2932\n",
      "Train data set with size: 2932 kernel linear C 100\n",
      "Test size: 325\n"
     ]
    },
    {
     "name": "stderr",
     "output_type": "stream",
     "text": [
      "/Library/Frameworks/Python.framework/Versions/3.7/lib/python3.7/site-packages/sklearn/utils/validation.py:761: DataConversionWarning: A column-vector y was passed when a 1d array was expected. Please change the shape of y to (n_samples, ), for example using ravel().\n",
      "  y = column_or_1d(y, warn=True)\n",
      "/Library/Frameworks/Python.framework/Versions/3.7/lib/python3.7/site-packages/sklearn/metrics/classification.py:1143: UndefinedMetricWarning: F-score is ill-defined and being set to 0.0 in labels with no predicted samples.\n",
      "  'precision', 'predicted', average, warn_for)\n",
      "/Library/Frameworks/Python.framework/Versions/3.7/lib/python3.7/site-packages/sklearn/utils/validation.py:761: DataConversionWarning: A column-vector y was passed when a 1d array was expected. Please change the shape of y to (n_samples, ), for example using ravel().\n",
      "  y = column_or_1d(y, warn=True)\n"
     ]
    },
    {
     "name": "stdout",
     "output_type": "stream",
     "text": [
      "Score: 0.7661538461538462\n",
      "Average precision score: 0.2708119658119658\n",
      "Precision: [0.24       0.58333333 1.        ]\n",
      "Recall: [1.         0.08974359 0.        ]\n",
      "F1: 0.694190476190476\n",
      "Variance: -0.05595349320045706\n",
      "======================== Time: 0.20567011833190918\n",
      "Start with set 2932\n",
      "Train data set with size: 2932 kernel linear C 100\n",
      "Test size: 325\n"
     ]
    },
    {
     "name": "stderr",
     "output_type": "stream",
     "text": [
      "/Library/Frameworks/Python.framework/Versions/3.7/lib/python3.7/site-packages/sklearn/utils/validation.py:761: DataConversionWarning: A column-vector y was passed when a 1d array was expected. Please change the shape of y to (n_samples, ), for example using ravel().\n",
      "  y = column_or_1d(y, warn=True)\n"
     ]
    },
    {
     "name": "stdout",
     "output_type": "stream",
     "text": [
      "Score: 0.7507692307692307\n",
      "Average precision score: 0.25856950067476386\n",
      "Precision: [0.24       0.42105263 1.        ]\n",
      "Recall: [1.        0.1025641 0.       ]\n",
      "F1: 0.6882675565332489\n",
      "Variance: -0.1857157687117208\n",
      "======================== Time: 0.3161189556121826\n",
      "Best score: 0.7661538461538462\n"
     ]
    }
   ],
   "source": [
    "best = train_crosss(\"linear\", 100)\n",
    "# Best score: 0.7661538461538462"
   ]
  },
  {
   "cell_type": "code",
   "execution_count": 144,
   "metadata": {},
   "outputs": [
    {
     "name": "stdout",
     "output_type": "stream",
     "text": [
      "Start with set 2930\n",
      "Train data set with size: 2930 kernel linear C 1000\n",
      "Test size: 327\n"
     ]
    },
    {
     "name": "stderr",
     "output_type": "stream",
     "text": [
      "/Library/Frameworks/Python.framework/Versions/3.7/lib/python3.7/site-packages/sklearn/utils/validation.py:761: DataConversionWarning: A column-vector y was passed when a 1d array was expected. Please change the shape of y to (n_samples, ), for example using ravel().\n",
      "  y = column_or_1d(y, warn=True)\n"
     ]
    },
    {
     "name": "stdout",
     "output_type": "stream",
     "text": [
      "Score: 0.7553516819571865\n",
      "Average precision score: 0.248690766516803\n",
      "Precision: [0.24159021 0.42857143 1.        ]\n",
      "Recall: [1.         0.03797468 0.        ]\n",
      "F1: 0.6684466374378838\n",
      "Variance: -0.07064107799101693\n",
      "======================== Time: 2.8907651901245117\n",
      "Start with set 2930\n",
      "Train data set with size: 2930 kernel linear C 1000\n",
      "Test size: 327\n"
     ]
    },
    {
     "name": "stderr",
     "output_type": "stream",
     "text": [
      "/Library/Frameworks/Python.framework/Versions/3.7/lib/python3.7/site-packages/sklearn/utils/validation.py:761: DataConversionWarning: A column-vector y was passed when a 1d array was expected. Please change the shape of y to (n_samples, ), for example using ravel().\n",
      "  y = column_or_1d(y, warn=True)\n"
     ]
    },
    {
     "name": "stdout",
     "output_type": "stream",
     "text": [
      "Score: 0.7522935779816514\n",
      "Average precision score: 0.2621324146118015\n",
      "Precision: [0.24159021 0.44444444 1.        ]\n",
      "Recall: [1.         0.10126582 0.        ]\n",
      "F1: 0.6879703237863595\n",
      "Variance: -0.16200489995916745\n",
      "======================== Time: 2.96256422996521\n",
      "Start with set 2931\n",
      "Train data set with size: 2931 kernel linear C 1000\n",
      "Test size: 326\n"
     ]
    },
    {
     "name": "stderr",
     "output_type": "stream",
     "text": [
      "/Library/Frameworks/Python.framework/Versions/3.7/lib/python3.7/site-packages/sklearn/utils/validation.py:761: DataConversionWarning: A column-vector y was passed when a 1d array was expected. Please change the shape of y to (n_samples, ), for example using ravel().\n",
      "  y = column_or_1d(y, warn=True)\n"
     ]
    },
    {
     "name": "stdout",
     "output_type": "stream",
     "text": [
      "Score: 0.7607361963190185\n",
      "Average precision score: 0.2717998498615102\n",
      "Precision: [0.24233129 0.53333333 1.        ]\n",
      "Recall: [1.         0.10126582 0.        ]\n",
      "F1: 0.6930059103994115\n",
      "Variance: -0.09321990467893149\n",
      "======================== Time: 2.640604257583618\n",
      "Start with set 2931\n",
      "Train data set with size: 2931 kernel linear C 1000\n",
      "Test size: 326\n"
     ]
    },
    {
     "name": "stderr",
     "output_type": "stream",
     "text": [
      "/Library/Frameworks/Python.framework/Versions/3.7/lib/python3.7/site-packages/sklearn/utils/validation.py:761: DataConversionWarning: A column-vector y was passed when a 1d array was expected. Please change the shape of y to (n_samples, ), for example using ravel().\n",
      "  y = column_or_1d(y, warn=True)\n",
      "/Library/Frameworks/Python.framework/Versions/3.7/lib/python3.7/site-packages/sklearn/metrics/classification.py:1143: UndefinedMetricWarning: F-score is ill-defined and being set to 0.0 in labels with no predicted samples.\n",
      "  'precision', 'predicted', average, warn_for)\n",
      "/Library/Frameworks/Python.framework/Versions/3.7/lib/python3.7/site-packages/sklearn/utils/validation.py:761: DataConversionWarning: A column-vector y was passed when a 1d array was expected. Please change the shape of y to (n_samples, ), for example using ravel().\n",
      "  y = column_or_1d(y, warn=True)\n"
     ]
    },
    {
     "name": "stdout",
     "output_type": "stream",
     "text": [
      "Score: 0.7576687116564417\n",
      "Average precision score: 0.24233128834355827\n",
      "Precision: [0.24233129 1.        ]\n",
      "Recall: [1. 0.]\n",
      "F1: 0.6532082784612255\n",
      "Variance: 0.0\n",
      "======================== Time: 3.869216203689575\n",
      "Start with set 2931\n",
      "Train data set with size: 2931 kernel linear C 1000\n",
      "Test size: 326\n",
      "Score: 0.7515337423312883\n",
      "Average precision score: 0.2691938410273426\n",
      "Precision: [0.24233129 0.45454545 1.        ]\n",
      "Recall: [1.         0.12658228 0.        ]\n",
      "F1: 0.694273679536348\n",
      "Variance: -0.18674729667401202\n",
      "======================== Time: 2.7042181491851807\n",
      "Start with set 2932\n",
      "Train data set with size: 2932 kernel linear C 1000\n",
      "Test size: 325\n"
     ]
    },
    {
     "name": "stderr",
     "output_type": "stream",
     "text": [
      "/Library/Frameworks/Python.framework/Versions/3.7/lib/python3.7/site-packages/sklearn/utils/validation.py:761: DataConversionWarning: A column-vector y was passed when a 1d array was expected. Please change the shape of y to (n_samples, ), for example using ravel().\n",
      "  y = column_or_1d(y, warn=True)\n",
      "/Library/Frameworks/Python.framework/Versions/3.7/lib/python3.7/site-packages/sklearn/metrics/classification.py:1143: UndefinedMetricWarning: F-score is ill-defined and being set to 0.0 in labels with no predicted samples.\n",
      "  'precision', 'predicted', average, warn_for)\n",
      "/Library/Frameworks/Python.framework/Versions/3.7/lib/python3.7/site-packages/sklearn/utils/validation.py:761: DataConversionWarning: A column-vector y was passed when a 1d array was expected. Please change the shape of y to (n_samples, ), for example using ravel().\n",
      "  y = column_or_1d(y, warn=True)\n"
     ]
    },
    {
     "name": "stdout",
     "output_type": "stream",
     "text": [
      "Score: 0.76\n",
      "Average precision score: 0.24\n",
      "Precision: [0.24 1.  ]\n",
      "Recall: [1. 0.]\n",
      "F1: 0.6563636363636364\n",
      "Variance: 0.0\n",
      "======================== Time: 3.7468369007110596\n",
      "Start with set 2932\n",
      "Train data set with size: 2932 kernel linear C 1000\n",
      "Test size: 325\n",
      "Score: 0.7630769230769231\n",
      "Average precision score: 0.27339366515837105\n",
      "Precision: [0.24       0.52941176 1.        ]\n",
      "Recall: [1.         0.11538462 0.        ]\n",
      "F1: 0.7000322427690849\n",
      "Variance: -0.1057822069967822\n",
      "======================== Time: 2.557969808578491\n",
      "Start with set 2932\n",
      "Train data set with size: 2932 kernel linear C 1000\n",
      "Test size: 325\n"
     ]
    },
    {
     "name": "stderr",
     "output_type": "stream",
     "text": [
      "/Library/Frameworks/Python.framework/Versions/3.7/lib/python3.7/site-packages/sklearn/utils/validation.py:761: DataConversionWarning: A column-vector y was passed when a 1d array was expected. Please change the shape of y to (n_samples, ), for example using ravel().\n",
      "  y = column_or_1d(y, warn=True)\n",
      "/Library/Frameworks/Python.framework/Versions/3.7/lib/python3.7/site-packages/sklearn/metrics/classification.py:1143: UndefinedMetricWarning: F-score is ill-defined and being set to 0.0 in labels with no predicted samples.\n",
      "  'precision', 'predicted', average, warn_for)\n",
      "/Library/Frameworks/Python.framework/Versions/3.7/lib/python3.7/site-packages/sklearn/utils/validation.py:761: DataConversionWarning: A column-vector y was passed when a 1d array was expected. Please change the shape of y to (n_samples, ), for example using ravel().\n",
      "  y = column_or_1d(y, warn=True)\n"
     ]
    },
    {
     "name": "stdout",
     "output_type": "stream",
     "text": [
      "Score: 0.76\n",
      "Average precision score: 0.24\n",
      "Precision: [0.24 1.  ]\n",
      "Recall: [1. 0.]\n",
      "F1: 0.6563636363636364\n",
      "Variance: 0.0\n",
      "======================== Time: 4.617470026016235\n",
      "Start with set 2932\n",
      "Train data set with size: 2932 kernel linear C 1000\n",
      "Test size: 325\n",
      "Score: 0.7661538461538462\n",
      "Average precision score: 0.2708119658119658\n",
      "Precision: [0.24       0.58333333 1.        ]\n",
      "Recall: [1.         0.08974359 0.        ]\n",
      "F1: 0.694190476190476\n",
      "Variance: -0.05595349320045706\n",
      "======================== Time: 2.7791218757629395\n",
      "Start with set 2932\n",
      "Train data set with size: 2932 kernel linear C 1000\n",
      "Test size: 325\n"
     ]
    },
    {
     "name": "stderr",
     "output_type": "stream",
     "text": [
      "/Library/Frameworks/Python.framework/Versions/3.7/lib/python3.7/site-packages/sklearn/utils/validation.py:761: DataConversionWarning: A column-vector y was passed when a 1d array was expected. Please change the shape of y to (n_samples, ), for example using ravel().\n",
      "  y = column_or_1d(y, warn=True)\n"
     ]
    },
    {
     "name": "stdout",
     "output_type": "stream",
     "text": [
      "Score: 0.7507692307692307\n",
      "Average precision score: 0.25856950067476386\n",
      "Precision: [0.24       0.42105263 1.        ]\n",
      "Recall: [1.        0.1025641 0.       ]\n",
      "F1: 0.6882675565332489\n",
      "Variance: -0.1857157687117208\n",
      "======================== Time: 4.258738994598389\n",
      "Best score: 0.7661538461538462\n"
     ]
    }
   ],
   "source": [
    "best = train_crosss(\"linear\", 1000)\n",
    "# Best score: 0.7661538461538462"
   ]
  },
  {
   "cell_type": "markdown",
   "metadata": {},
   "source": [
    "# Test age and education"
   ]
  },
  {
   "cell_type": "markdown",
   "metadata": {},
   "source": [
    "Also with one-hot"
   ]
  },
  {
   "cell_type": "code",
   "execution_count": 145,
   "metadata": {},
   "outputs": [],
   "source": [
    "categorical_features = create_categories(['education'])\n",
    "num_features = df[['age']].to_numpy()\n",
    "feature = np.concatenate((num_features, categorical_features), axis=1)\n",
    "feature = normalize(feature, axis=1)\n",
    "labels = create_labels('income_class') #pd.Categorical(df['income_class']).codes #categories(['class'])"
   ]
  },
  {
   "cell_type": "code",
   "execution_count": 146,
   "metadata": {},
   "outputs": [],
   "source": [
    "data = cross_validation_num(feature, labels)"
   ]
  },
  {
   "cell_type": "code",
   "execution_count": 147,
   "metadata": {},
   "outputs": [
    {
     "name": "stdout",
     "output_type": "stream",
     "text": [
      "Start with set 2930\n",
      "Train data set with size: 2930 kernel linear C 0.1\n",
      "Test size: 327\n"
     ]
    },
    {
     "name": "stderr",
     "output_type": "stream",
     "text": [
      "/Library/Frameworks/Python.framework/Versions/3.7/lib/python3.7/site-packages/sklearn/utils/validation.py:761: DataConversionWarning: A column-vector y was passed when a 1d array was expected. Please change the shape of y to (n_samples, ), for example using ravel().\n",
      "  y = column_or_1d(y, warn=True)\n"
     ]
    },
    {
     "name": "stdout",
     "output_type": "stream",
     "text": [
      "Score: 0.8012232415902141\n",
      "Average precision score: 0.37296551627059116\n",
      "Precision: [0.24159021 0.81818182 1.        ]\n",
      "Recall: [1.        0.2278481 0.       ]\n",
      "F1: 0.7553771419745289\n",
      "Variance: 0.08095140873826012\n",
      "======================== Time: 0.22648882865905762\n",
      "Start with set 2930\n",
      "Train data set with size: 2930 kernel linear C 0.1\n",
      "Test size: 327\n",
      "Score: 0.8165137614678899\n",
      "Average precision score: 0.42138139025840804\n",
      "Precision: [0.24159021 0.78787879 1.        ]\n",
      "Recall: [1.         0.32911392 0.        ]\n",
      "F1: 0.7866198681646057\n",
      "Variance: 0.10657411188240062\n",
      "======================== Time: 0.18789196014404297\n",
      "Start with set 2931\n",
      "Train data set with size: 2931 kernel linear C 0.1\n",
      "Test size: 326\n"
     ]
    },
    {
     "name": "stderr",
     "output_type": "stream",
     "text": [
      "/Library/Frameworks/Python.framework/Versions/3.7/lib/python3.7/site-packages/sklearn/utils/validation.py:761: DataConversionWarning: A column-vector y was passed when a 1d array was expected. Please change the shape of y to (n_samples, ), for example using ravel().\n",
      "  y = column_or_1d(y, warn=True)\n",
      "/Library/Frameworks/Python.framework/Versions/3.7/lib/python3.7/site-packages/sklearn/utils/validation.py:761: DataConversionWarning: A column-vector y was passed when a 1d array was expected. Please change the shape of y to (n_samples, ), for example using ravel().\n",
      "  y = column_or_1d(y, warn=True)\n"
     ]
    },
    {
     "name": "stdout",
     "output_type": "stream",
     "text": [
      "Score: 0.7760736196319018\n",
      "Average precision score: 0.3268497126659936\n",
      "Precision: [0.24233129 0.59375    1.        ]\n",
      "Recall: [1.         0.24050633 0.        ]\n",
      "F1: 0.7383927138414965\n",
      "Variance: -0.1063906113872799\n",
      "======================== Time: 0.19406890869140625\n",
      "Start with set 2931\n",
      "Train data set with size: 2931 kernel linear C 0.1\n",
      "Test size: 326\n"
     ]
    },
    {
     "name": "stderr",
     "output_type": "stream",
     "text": [
      "/Library/Frameworks/Python.framework/Versions/3.7/lib/python3.7/site-packages/sklearn/utils/validation.py:761: DataConversionWarning: A column-vector y was passed when a 1d array was expected. Please change the shape of y to (n_samples, ), for example using ravel().\n",
      "  y = column_or_1d(y, warn=True)\n"
     ]
    },
    {
     "name": "stdout",
     "output_type": "stream",
     "text": [
      "Score: 0.7607361963190185\n",
      "Average precision score: 0.3075523298401298\n",
      "Precision: [0.24233129 0.51351351 1.        ]\n",
      "Recall: [1.         0.24050633 0.        ]\n",
      "F1: 0.7267953389388998\n",
      "Variance: -0.21272997488853496\n",
      "======================== Time: 0.21022820472717285\n",
      "Start with set 2931\n",
      "Train data set with size: 2931 kernel linear C 0.1\n",
      "Test size: 326\n"
     ]
    },
    {
     "name": "stderr",
     "output_type": "stream",
     "text": [
      "/Library/Frameworks/Python.framework/Versions/3.7/lib/python3.7/site-packages/sklearn/utils/validation.py:761: DataConversionWarning: A column-vector y was passed when a 1d array was expected. Please change the shape of y to (n_samples, ), for example using ravel().\n",
      "  y = column_or_1d(y, warn=True)\n"
     ]
    },
    {
     "name": "stdout",
     "output_type": "stream",
     "text": [
      "Score: 0.7914110429447853\n",
      "Average precision score: 0.3475613589382324\n",
      "Precision: [0.24233129 0.76190476 1.        ]\n",
      "Recall: [1.         0.20253165 0.        ]\n",
      "F1: 0.7418787232150795\n",
      "Variance: 0.03633475119151375\n",
      "======================== Time: 0.20456290245056152\n",
      "Start with set 2932\n",
      "Train data set with size: 2932 kernel linear C 0.1\n",
      "Test size: 325\n",
      "Score: 0.7784615384615384\n",
      "Average precision score: 0.320018315018315\n",
      "Precision: [0.24       0.60714286 1.        ]\n",
      "Recall: [1.         0.21794872 0.        ]\n",
      "F1: 0.7363928967813541\n",
      "Variance: -0.08481262327416195\n",
      "======================== Time: 0.25728774070739746\n",
      "Start with set 2932\n",
      "Train data set with size: 2932 kernel linear C 0.1\n",
      "Test size: 325\n",
      "Score: 0.7784615384615384\n",
      "Average precision score: 0.30564102564102563\n",
      "Precision: [0.24       0.66666667 1.        ]\n",
      "Recall: [1.         0.15384615 0.        ]\n",
      "F1: 0.7212274368231048\n",
      "Variance: -0.027717222049206347\n",
      "======================== Time: 0.16812896728515625\n",
      "Start with set 2932\n",
      "Train data set with size: 2932 kernel linear C 0.1\n",
      "Test size: 325\n"
     ]
    },
    {
     "name": "stderr",
     "output_type": "stream",
     "text": [
      "/Library/Frameworks/Python.framework/Versions/3.7/lib/python3.7/site-packages/sklearn/utils/validation.py:761: DataConversionWarning: A column-vector y was passed when a 1d array was expected. Please change the shape of y to (n_samples, ), for example using ravel().\n",
      "  y = column_or_1d(y, warn=True)\n",
      "/Library/Frameworks/Python.framework/Versions/3.7/lib/python3.7/site-packages/sklearn/utils/validation.py:761: DataConversionWarning: A column-vector y was passed when a 1d array was expected. Please change the shape of y to (n_samples, ), for example using ravel().\n",
      "  y = column_or_1d(y, warn=True)\n",
      "/Library/Frameworks/Python.framework/Versions/3.7/lib/python3.7/site-packages/sklearn/utils/validation.py:761: DataConversionWarning: A column-vector y was passed when a 1d array was expected. Please change the shape of y to (n_samples, ), for example using ravel().\n",
      "  y = column_or_1d(y, warn=True)\n"
     ]
    },
    {
     "name": "stdout",
     "output_type": "stream",
     "text": [
      "Score: 0.7753846153846153\n",
      "Average precision score: 0.3031746031746032\n",
      "Precision: [0.24       0.61904762 1.        ]\n",
      "Recall: [1.         0.16666667 0.        ]\n",
      "F1: 0.7223406478578893\n",
      "Variance: -0.06280494134745185\n",
      "======================== Time: 0.18734526634216309\n",
      "Start with set 2932\n",
      "Train data set with size: 2932 kernel linear C 0.1\n",
      "Test size: 325\n",
      "Score: 0.7938461538461539\n",
      "Average precision score: 0.3603418803418803\n",
      "Precision: [0.24       0.66666667 1.        ]\n",
      "Recall: [1.         0.28205128 0.        ]\n",
      "F1: 0.7606638920924634\n",
      "Variance: -0.02512197653898074\n",
      "======================== Time: 0.20074701309204102\n",
      "Start with set 2932\n",
      "Train data set with size: 2932 kernel linear C 0.1\n",
      "Test size: 325\n"
     ]
    },
    {
     "name": "stderr",
     "output_type": "stream",
     "text": [
      "/Library/Frameworks/Python.framework/Versions/3.7/lib/python3.7/site-packages/sklearn/utils/validation.py:761: DataConversionWarning: A column-vector y was passed when a 1d array was expected. Please change the shape of y to (n_samples, ), for example using ravel().\n",
      "  y = column_or_1d(y, warn=True)\n",
      "/Library/Frameworks/Python.framework/Versions/3.7/lib/python3.7/site-packages/sklearn/utils/validation.py:761: DataConversionWarning: A column-vector y was passed when a 1d array was expected. Please change the shape of y to (n_samples, ), for example using ravel().\n",
      "  y = column_or_1d(y, warn=True)\n"
     ]
    },
    {
     "name": "stdout",
     "output_type": "stream",
     "text": [
      "Score: 0.7784615384615384\n",
      "Average precision score: 0.32307692307692304\n",
      "Precision: [0.24 0.6  1.  ]\n",
      "Recall: [1.         0.23076923 0.        ]\n",
      "F1: 0.7390405904059041\n",
      "Variance: -0.09498598567424477\n",
      "======================== Time: 0.17539095878601074\n",
      "Best score: 0.8165137614678899\n"
     ]
    }
   ],
   "source": [
    "best = train_crosss(\"linear\", 0.1)"
   ]
  },
  {
   "cell_type": "code",
   "execution_count": 148,
   "metadata": {},
   "outputs": [
    {
     "name": "stdout",
     "output_type": "stream",
     "text": [
      "Start with set 2930\n",
      "Train data set with size: 2930 kernel linear C 10\n",
      "Test size: 327\n"
     ]
    },
    {
     "name": "stderr",
     "output_type": "stream",
     "text": [
      "/Library/Frameworks/Python.framework/Versions/3.7/lib/python3.7/site-packages/sklearn/utils/validation.py:761: DataConversionWarning: A column-vector y was passed when a 1d array was expected. Please change the shape of y to (n_samples, ), for example using ravel().\n",
      "  y = column_or_1d(y, warn=True)\n"
     ]
    },
    {
     "name": "stdout",
     "output_type": "stream",
     "text": [
      "Score: 0.8012232415902141\n",
      "Average precision score: 0.37296551627059116\n",
      "Precision: [0.24159021 0.81818182 1.        ]\n",
      "Recall: [1.        0.2278481 0.       ]\n",
      "F1: 0.7553771419745289\n",
      "Variance: 0.08095140873826012\n",
      "======================== Time: 0.2694549560546875\n",
      "Start with set 2930\n",
      "Train data set with size: 2930 kernel linear C 10\n",
      "Test size: 327\n"
     ]
    },
    {
     "name": "stderr",
     "output_type": "stream",
     "text": [
      "/Library/Frameworks/Python.framework/Versions/3.7/lib/python3.7/site-packages/sklearn/utils/validation.py:761: DataConversionWarning: A column-vector y was passed when a 1d array was expected. Please change the shape of y to (n_samples, ), for example using ravel().\n",
      "  y = column_or_1d(y, warn=True)\n"
     ]
    },
    {
     "name": "stdout",
     "output_type": "stream",
     "text": [
      "Score: 0.8165137614678899\n",
      "Average precision score: 0.42138139025840804\n",
      "Precision: [0.24159021 0.78787879 1.        ]\n",
      "Recall: [1.         0.32911392 0.        ]\n",
      "F1: 0.7866198681646057\n",
      "Variance: 0.10657411188240062\n",
      "======================== Time: 0.22167515754699707\n",
      "Start with set 2931\n",
      "Train data set with size: 2931 kernel linear C 10\n",
      "Test size: 326\n",
      "Score: 0.7760736196319018\n",
      "Average precision score: 0.3268497126659936\n",
      "Precision: [0.24233129 0.59375    1.        ]\n",
      "Recall: [1.         0.24050633 0.        ]\n",
      "F1: 0.7383927138414965\n",
      "Variance: -0.1063906113872799\n",
      "======================== Time: 0.18614625930786133\n",
      "Start with set 2931\n",
      "Train data set with size: 2931 kernel linear C 10\n",
      "Test size: 326\n"
     ]
    },
    {
     "name": "stderr",
     "output_type": "stream",
     "text": [
      "/Library/Frameworks/Python.framework/Versions/3.7/lib/python3.7/site-packages/sklearn/utils/validation.py:761: DataConversionWarning: A column-vector y was passed when a 1d array was expected. Please change the shape of y to (n_samples, ), for example using ravel().\n",
      "  y = column_or_1d(y, warn=True)\n",
      "/Library/Frameworks/Python.framework/Versions/3.7/lib/python3.7/site-packages/sklearn/utils/validation.py:761: DataConversionWarning: A column-vector y was passed when a 1d array was expected. Please change the shape of y to (n_samples, ), for example using ravel().\n",
      "  y = column_or_1d(y, warn=True)\n"
     ]
    },
    {
     "name": "stdout",
     "output_type": "stream",
     "text": [
      "Score: 0.7607361963190185\n",
      "Average precision score: 0.3075523298401298\n",
      "Precision: [0.24233129 0.51351351 1.        ]\n",
      "Recall: [1.         0.24050633 0.        ]\n",
      "F1: 0.7267953389388998\n",
      "Variance: -0.21272997488853496\n",
      "======================== Time: 0.191680908203125\n",
      "Start with set 2931\n",
      "Train data set with size: 2931 kernel linear C 10\n",
      "Test size: 326\n",
      "Score: 0.7914110429447853\n",
      "Average precision score: 0.3475613589382324\n",
      "Precision: [0.24233129 0.76190476 1.        ]\n",
      "Recall: [1.         0.20253165 0.        ]\n",
      "F1: 0.7418787232150795\n",
      "Variance: 0.03633475119151375\n",
      "======================== Time: 0.19088268280029297\n",
      "Start with set 2932\n",
      "Train data set with size: 2932 kernel linear C 10\n",
      "Test size: 325\n"
     ]
    },
    {
     "name": "stderr",
     "output_type": "stream",
     "text": [
      "/Library/Frameworks/Python.framework/Versions/3.7/lib/python3.7/site-packages/sklearn/utils/validation.py:761: DataConversionWarning: A column-vector y was passed when a 1d array was expected. Please change the shape of y to (n_samples, ), for example using ravel().\n",
      "  y = column_or_1d(y, warn=True)\n",
      "/Library/Frameworks/Python.framework/Versions/3.7/lib/python3.7/site-packages/sklearn/utils/validation.py:761: DataConversionWarning: A column-vector y was passed when a 1d array was expected. Please change the shape of y to (n_samples, ), for example using ravel().\n",
      "  y = column_or_1d(y, warn=True)\n"
     ]
    },
    {
     "name": "stdout",
     "output_type": "stream",
     "text": [
      "Score: 0.7784615384615384\n",
      "Average precision score: 0.320018315018315\n",
      "Precision: [0.24       0.60714286 1.        ]\n",
      "Recall: [1.         0.21794872 0.        ]\n",
      "F1: 0.7363928967813541\n",
      "Variance: -0.08481262327416195\n",
      "======================== Time: 0.21482396125793457\n",
      "Start with set 2932\n",
      "Train data set with size: 2932 kernel linear C 10\n",
      "Test size: 325\n",
      "Score: 0.7784615384615384\n",
      "Average precision score: 0.30564102564102563\n",
      "Precision: [0.24       0.66666667 1.        ]\n",
      "Recall: [1.         0.15384615 0.        ]\n",
      "F1: 0.7212274368231048\n",
      "Variance: -0.027717222049206347\n",
      "======================== Time: 0.1788318157196045\n",
      "Start with set 2932\n",
      "Train data set with size: 2932 kernel linear C 10\n",
      "Test size: 325\n"
     ]
    },
    {
     "name": "stderr",
     "output_type": "stream",
     "text": [
      "/Library/Frameworks/Python.framework/Versions/3.7/lib/python3.7/site-packages/sklearn/utils/validation.py:761: DataConversionWarning: A column-vector y was passed when a 1d array was expected. Please change the shape of y to (n_samples, ), for example using ravel().\n",
      "  y = column_or_1d(y, warn=True)\n",
      "/Library/Frameworks/Python.framework/Versions/3.7/lib/python3.7/site-packages/sklearn/utils/validation.py:761: DataConversionWarning: A column-vector y was passed when a 1d array was expected. Please change the shape of y to (n_samples, ), for example using ravel().\n",
      "  y = column_or_1d(y, warn=True)\n"
     ]
    },
    {
     "name": "stdout",
     "output_type": "stream",
     "text": [
      "Score: 0.7753846153846153\n",
      "Average precision score: 0.3031746031746032\n",
      "Precision: [0.24       0.61904762 1.        ]\n",
      "Recall: [1.         0.16666667 0.        ]\n",
      "F1: 0.7223406478578893\n",
      "Variance: -0.06280494134745185\n",
      "======================== Time: 0.20019769668579102\n",
      "Start with set 2932\n",
      "Train data set with size: 2932 kernel linear C 10\n",
      "Test size: 325\n",
      "Score: 0.7938461538461539\n",
      "Average precision score: 0.3603418803418803\n",
      "Precision: [0.24       0.66666667 1.        ]\n",
      "Recall: [1.         0.28205128 0.        ]\n",
      "F1: 0.7606638920924634\n",
      "Variance: -0.02512197653898074\n",
      "======================== Time: 0.17246198654174805\n",
      "Start with set 2932\n",
      "Train data set with size: 2932 kernel linear C 10\n",
      "Test size: 325\n"
     ]
    },
    {
     "name": "stderr",
     "output_type": "stream",
     "text": [
      "/Library/Frameworks/Python.framework/Versions/3.7/lib/python3.7/site-packages/sklearn/utils/validation.py:761: DataConversionWarning: A column-vector y was passed when a 1d array was expected. Please change the shape of y to (n_samples, ), for example using ravel().\n",
      "  y = column_or_1d(y, warn=True)\n",
      "/Library/Frameworks/Python.framework/Versions/3.7/lib/python3.7/site-packages/sklearn/utils/validation.py:761: DataConversionWarning: A column-vector y was passed when a 1d array was expected. Please change the shape of y to (n_samples, ), for example using ravel().\n",
      "  y = column_or_1d(y, warn=True)\n"
     ]
    },
    {
     "name": "stdout",
     "output_type": "stream",
     "text": [
      "Score: 0.7784615384615384\n",
      "Average precision score: 0.32307692307692304\n",
      "Precision: [0.24 0.6  1.  ]\n",
      "Recall: [1.         0.23076923 0.        ]\n",
      "F1: 0.7390405904059041\n",
      "Variance: -0.09498598567424477\n",
      "======================== Time: 0.18410086631774902\n",
      "Best score: 0.8165137614678899\n"
     ]
    }
   ],
   "source": [
    "best = train_crosss(\"linear\", 10)\n",
    "# Best score: 0.7630769230769231"
   ]
  },
  {
   "cell_type": "code",
   "execution_count": 149,
   "metadata": {},
   "outputs": [
    {
     "name": "stdout",
     "output_type": "stream",
     "text": [
      "Start with set 2930\n",
      "Train data set with size: 2930 kernel linear C 100\n",
      "Test size: 327\n"
     ]
    },
    {
     "name": "stderr",
     "output_type": "stream",
     "text": [
      "/Library/Frameworks/Python.framework/Versions/3.7/lib/python3.7/site-packages/sklearn/utils/validation.py:761: DataConversionWarning: A column-vector y was passed when a 1d array was expected. Please change the shape of y to (n_samples, ), for example using ravel().\n",
      "  y = column_or_1d(y, warn=True)\n"
     ]
    },
    {
     "name": "stdout",
     "output_type": "stream",
     "text": [
      "Score: 0.8012232415902141\n",
      "Average precision score: 0.37296551627059116\n",
      "Precision: [0.24159021 0.81818182 1.        ]\n",
      "Recall: [1.        0.2278481 0.       ]\n",
      "F1: 0.7553771419745289\n",
      "Variance: 0.08095140873826012\n",
      "======================== Time: 0.44068479537963867\n",
      "Start with set 2930\n",
      "Train data set with size: 2930 kernel linear C 100\n",
      "Test size: 327\n"
     ]
    },
    {
     "name": "stderr",
     "output_type": "stream",
     "text": [
      "/Library/Frameworks/Python.framework/Versions/3.7/lib/python3.7/site-packages/sklearn/utils/validation.py:761: DataConversionWarning: A column-vector y was passed when a 1d array was expected. Please change the shape of y to (n_samples, ), for example using ravel().\n",
      "  y = column_or_1d(y, warn=True)\n"
     ]
    },
    {
     "name": "stdout",
     "output_type": "stream",
     "text": [
      "Score: 0.8165137614678899\n",
      "Average precision score: 0.42138139025840804\n",
      "Precision: [0.24159021 0.78787879 1.        ]\n",
      "Recall: [1.         0.32911392 0.        ]\n",
      "F1: 0.7866198681646057\n",
      "Variance: 0.10657411188240062\n",
      "======================== Time: 0.36385607719421387\n",
      "Start with set 2931\n",
      "Train data set with size: 2931 kernel linear C 100\n",
      "Test size: 326\n"
     ]
    },
    {
     "name": "stderr",
     "output_type": "stream",
     "text": [
      "/Library/Frameworks/Python.framework/Versions/3.7/lib/python3.7/site-packages/sklearn/utils/validation.py:761: DataConversionWarning: A column-vector y was passed when a 1d array was expected. Please change the shape of y to (n_samples, ), for example using ravel().\n",
      "  y = column_or_1d(y, warn=True)\n"
     ]
    },
    {
     "name": "stdout",
     "output_type": "stream",
     "text": [
      "Score: 0.7760736196319018\n",
      "Average precision score: 0.3268497126659936\n",
      "Precision: [0.24233129 0.59375    1.        ]\n",
      "Recall: [1.         0.24050633 0.        ]\n",
      "F1: 0.7383927138414965\n",
      "Variance: -0.1063906113872799\n",
      "======================== Time: 0.4905049800872803\n",
      "Start with set 2931\n",
      "Train data set with size: 2931 kernel linear C 100\n",
      "Test size: 326\n"
     ]
    },
    {
     "name": "stderr",
     "output_type": "stream",
     "text": [
      "/Library/Frameworks/Python.framework/Versions/3.7/lib/python3.7/site-packages/sklearn/utils/validation.py:761: DataConversionWarning: A column-vector y was passed when a 1d array was expected. Please change the shape of y to (n_samples, ), for example using ravel().\n",
      "  y = column_or_1d(y, warn=True)\n"
     ]
    },
    {
     "name": "stdout",
     "output_type": "stream",
     "text": [
      "Score: 0.7607361963190185\n",
      "Average precision score: 0.3075523298401298\n",
      "Precision: [0.24233129 0.51351351 1.        ]\n",
      "Recall: [1.         0.24050633 0.        ]\n",
      "F1: 0.7267953389388998\n",
      "Variance: -0.21272997488853496\n",
      "======================== Time: 0.36113524436950684\n",
      "Start with set 2931\n",
      "Train data set with size: 2931 kernel linear C 100\n",
      "Test size: 326\n"
     ]
    },
    {
     "name": "stderr",
     "output_type": "stream",
     "text": [
      "/Library/Frameworks/Python.framework/Versions/3.7/lib/python3.7/site-packages/sklearn/utils/validation.py:761: DataConversionWarning: A column-vector y was passed when a 1d array was expected. Please change the shape of y to (n_samples, ), for example using ravel().\n",
      "  y = column_or_1d(y, warn=True)\n"
     ]
    },
    {
     "name": "stdout",
     "output_type": "stream",
     "text": [
      "Score: 0.7914110429447853\n",
      "Average precision score: 0.3475613589382324\n",
      "Precision: [0.24233129 0.76190476 1.        ]\n",
      "Recall: [1.         0.20253165 0.        ]\n",
      "F1: 0.7418787232150795\n",
      "Variance: 0.03633475119151375\n",
      "======================== Time: 0.37800097465515137\n",
      "Start with set 2932\n",
      "Train data set with size: 2932 kernel linear C 100\n",
      "Test size: 325\n"
     ]
    },
    {
     "name": "stderr",
     "output_type": "stream",
     "text": [
      "/Library/Frameworks/Python.framework/Versions/3.7/lib/python3.7/site-packages/sklearn/utils/validation.py:761: DataConversionWarning: A column-vector y was passed when a 1d array was expected. Please change the shape of y to (n_samples, ), for example using ravel().\n",
      "  y = column_or_1d(y, warn=True)\n"
     ]
    },
    {
     "name": "stdout",
     "output_type": "stream",
     "text": [
      "Score: 0.7784615384615384\n",
      "Average precision score: 0.320018315018315\n",
      "Precision: [0.24       0.60714286 1.        ]\n",
      "Recall: [1.         0.21794872 0.        ]\n",
      "F1: 0.7363928967813541\n",
      "Variance: -0.08481262327416195\n",
      "======================== Time: 0.5276732444763184\n",
      "Start with set 2932\n",
      "Train data set with size: 2932 kernel linear C 100\n",
      "Test size: 325\n"
     ]
    },
    {
     "name": "stderr",
     "output_type": "stream",
     "text": [
      "/Library/Frameworks/Python.framework/Versions/3.7/lib/python3.7/site-packages/sklearn/utils/validation.py:761: DataConversionWarning: A column-vector y was passed when a 1d array was expected. Please change the shape of y to (n_samples, ), for example using ravel().\n",
      "  y = column_or_1d(y, warn=True)\n"
     ]
    },
    {
     "name": "stdout",
     "output_type": "stream",
     "text": [
      "Score: 0.7784615384615384\n",
      "Average precision score: 0.30564102564102563\n",
      "Precision: [0.24       0.66666667 1.        ]\n",
      "Recall: [1.         0.15384615 0.        ]\n",
      "F1: 0.7212274368231048\n",
      "Variance: -0.027717222049206347\n",
      "======================== Time: 0.35530877113342285\n",
      "Start with set 2932\n",
      "Train data set with size: 2932 kernel linear C 100\n",
      "Test size: 325\n"
     ]
    },
    {
     "name": "stderr",
     "output_type": "stream",
     "text": [
      "/Library/Frameworks/Python.framework/Versions/3.7/lib/python3.7/site-packages/sklearn/utils/validation.py:761: DataConversionWarning: A column-vector y was passed when a 1d array was expected. Please change the shape of y to (n_samples, ), for example using ravel().\n",
      "  y = column_or_1d(y, warn=True)\n"
     ]
    },
    {
     "name": "stdout",
     "output_type": "stream",
     "text": [
      "Score: 0.7753846153846153\n",
      "Average precision score: 0.3031746031746032\n",
      "Precision: [0.24       0.61904762 1.        ]\n",
      "Recall: [1.         0.16666667 0.        ]\n",
      "F1: 0.7223406478578893\n",
      "Variance: -0.06280494134745185\n",
      "======================== Time: 0.38309717178344727\n",
      "Start with set 2932\n",
      "Train data set with size: 2932 kernel linear C 100\n",
      "Test size: 325\n"
     ]
    },
    {
     "name": "stderr",
     "output_type": "stream",
     "text": [
      "/Library/Frameworks/Python.framework/Versions/3.7/lib/python3.7/site-packages/sklearn/utils/validation.py:761: DataConversionWarning: A column-vector y was passed when a 1d array was expected. Please change the shape of y to (n_samples, ), for example using ravel().\n",
      "  y = column_or_1d(y, warn=True)\n"
     ]
    },
    {
     "name": "stdout",
     "output_type": "stream",
     "text": [
      "Score: 0.7938461538461539\n",
      "Average precision score: 0.3603418803418803\n",
      "Precision: [0.24       0.66666667 1.        ]\n",
      "Recall: [1.         0.28205128 0.        ]\n",
      "F1: 0.7606638920924634\n",
      "Variance: -0.02512197653898074\n",
      "======================== Time: 0.32242608070373535\n",
      "Start with set 2932\n",
      "Train data set with size: 2932 kernel linear C 100\n",
      "Test size: 325\n"
     ]
    },
    {
     "name": "stderr",
     "output_type": "stream",
     "text": [
      "/Library/Frameworks/Python.framework/Versions/3.7/lib/python3.7/site-packages/sklearn/utils/validation.py:761: DataConversionWarning: A column-vector y was passed when a 1d array was expected. Please change the shape of y to (n_samples, ), for example using ravel().\n",
      "  y = column_or_1d(y, warn=True)\n"
     ]
    },
    {
     "name": "stdout",
     "output_type": "stream",
     "text": [
      "Score: 0.7784615384615384\n",
      "Average precision score: 0.32307692307692304\n",
      "Precision: [0.24 0.6  1.  ]\n",
      "Recall: [1.         0.23076923 0.        ]\n",
      "F1: 0.7390405904059041\n",
      "Variance: -0.09498598567424477\n",
      "======================== Time: 0.5004618167877197\n",
      "Best score: 0.8165137614678899\n"
     ]
    }
   ],
   "source": [
    "best = train_crosss(\"linear\", 100)\n",
    "# Best score: 0.7661538461538462"
   ]
  },
  {
   "cell_type": "code",
   "execution_count": 150,
   "metadata": {},
   "outputs": [
    {
     "name": "stdout",
     "output_type": "stream",
     "text": [
      "Start with set 2930\n",
      "Train data set with size: 2930 kernel linear C 1000\n",
      "Test size: 327\n"
     ]
    },
    {
     "name": "stderr",
     "output_type": "stream",
     "text": [
      "/Library/Frameworks/Python.framework/Versions/3.7/lib/python3.7/site-packages/sklearn/utils/validation.py:761: DataConversionWarning: A column-vector y was passed when a 1d array was expected. Please change the shape of y to (n_samples, ), for example using ravel().\n",
      "  y = column_or_1d(y, warn=True)\n"
     ]
    },
    {
     "name": "stdout",
     "output_type": "stream",
     "text": [
      "Score: 0.8012232415902141\n",
      "Average precision score: 0.37296551627059116\n",
      "Precision: [0.24159021 0.81818182 1.        ]\n",
      "Recall: [1.        0.2278481 0.       ]\n",
      "F1: 0.7553771419745289\n",
      "Variance: 0.08095140873826012\n",
      "======================== Time: 6.5096869468688965\n",
      "Start with set 2930\n",
      "Train data set with size: 2930 kernel linear C 1000\n",
      "Test size: 327\n"
     ]
    },
    {
     "name": "stderr",
     "output_type": "stream",
     "text": [
      "/Library/Frameworks/Python.framework/Versions/3.7/lib/python3.7/site-packages/sklearn/utils/validation.py:761: DataConversionWarning: A column-vector y was passed when a 1d array was expected. Please change the shape of y to (n_samples, ), for example using ravel().\n",
      "  y = column_or_1d(y, warn=True)\n"
     ]
    },
    {
     "name": "stdout",
     "output_type": "stream",
     "text": [
      "Score: 0.8165137614678899\n",
      "Average precision score: 0.42138139025840804\n",
      "Precision: [0.24159021 0.78787879 1.        ]\n",
      "Recall: [1.         0.32911392 0.        ]\n",
      "F1: 0.7866198681646057\n",
      "Variance: 0.10657411188240062\n",
      "======================== Time: 7.068012952804565\n",
      "Start with set 2931\n",
      "Train data set with size: 2931 kernel linear C 1000\n",
      "Test size: 326\n"
     ]
    },
    {
     "name": "stderr",
     "output_type": "stream",
     "text": [
      "/Library/Frameworks/Python.framework/Versions/3.7/lib/python3.7/site-packages/sklearn/utils/validation.py:761: DataConversionWarning: A column-vector y was passed when a 1d array was expected. Please change the shape of y to (n_samples, ), for example using ravel().\n",
      "  y = column_or_1d(y, warn=True)\n"
     ]
    },
    {
     "name": "stdout",
     "output_type": "stream",
     "text": [
      "Score: 0.7760736196319018\n",
      "Average precision score: 0.3268497126659936\n",
      "Precision: [0.24233129 0.59375    1.        ]\n",
      "Recall: [1.         0.24050633 0.        ]\n",
      "F1: 0.7383927138414965\n",
      "Variance: -0.1063906113872799\n",
      "======================== Time: 7.445476055145264\n",
      "Start with set 2931\n",
      "Train data set with size: 2931 kernel linear C 1000\n",
      "Test size: 326\n"
     ]
    },
    {
     "name": "stderr",
     "output_type": "stream",
     "text": [
      "/Library/Frameworks/Python.framework/Versions/3.7/lib/python3.7/site-packages/sklearn/utils/validation.py:761: DataConversionWarning: A column-vector y was passed when a 1d array was expected. Please change the shape of y to (n_samples, ), for example using ravel().\n",
      "  y = column_or_1d(y, warn=True)\n"
     ]
    },
    {
     "name": "stdout",
     "output_type": "stream",
     "text": [
      "Score: 0.7607361963190185\n",
      "Average precision score: 0.3075523298401298\n",
      "Precision: [0.24233129 0.51351351 1.        ]\n",
      "Recall: [1.         0.24050633 0.        ]\n",
      "F1: 0.7267953389388998\n",
      "Variance: -0.21272997488853496\n",
      "======================== Time: 7.617727041244507\n",
      "Start with set 2931\n",
      "Train data set with size: 2931 kernel linear C 1000\n",
      "Test size: 326\n"
     ]
    },
    {
     "name": "stderr",
     "output_type": "stream",
     "text": [
      "/Library/Frameworks/Python.framework/Versions/3.7/lib/python3.7/site-packages/sklearn/utils/validation.py:761: DataConversionWarning: A column-vector y was passed when a 1d array was expected. Please change the shape of y to (n_samples, ), for example using ravel().\n",
      "  y = column_or_1d(y, warn=True)\n"
     ]
    },
    {
     "name": "stdout",
     "output_type": "stream",
     "text": [
      "Score: 0.7914110429447853\n",
      "Average precision score: 0.3475613589382324\n",
      "Precision: [0.24233129 0.76190476 1.        ]\n",
      "Recall: [1.         0.20253165 0.        ]\n",
      "F1: 0.7418787232150795\n",
      "Variance: 0.03633475119151375\n",
      "======================== Time: 6.92523193359375\n",
      "Start with set 2932\n",
      "Train data set with size: 2932 kernel linear C 1000\n",
      "Test size: 325\n"
     ]
    },
    {
     "name": "stderr",
     "output_type": "stream",
     "text": [
      "/Library/Frameworks/Python.framework/Versions/3.7/lib/python3.7/site-packages/sklearn/utils/validation.py:761: DataConversionWarning: A column-vector y was passed when a 1d array was expected. Please change the shape of y to (n_samples, ), for example using ravel().\n",
      "  y = column_or_1d(y, warn=True)\n"
     ]
    },
    {
     "name": "stdout",
     "output_type": "stream",
     "text": [
      "Score: 0.7784615384615384\n",
      "Average precision score: 0.320018315018315\n",
      "Precision: [0.24       0.60714286 1.        ]\n",
      "Recall: [1.         0.21794872 0.        ]\n",
      "F1: 0.7363928967813541\n",
      "Variance: -0.08481262327416195\n",
      "======================== Time: 4.440351963043213\n",
      "Start with set 2932\n",
      "Train data set with size: 2932 kernel linear C 1000\n",
      "Test size: 325\n"
     ]
    },
    {
     "name": "stderr",
     "output_type": "stream",
     "text": [
      "/Library/Frameworks/Python.framework/Versions/3.7/lib/python3.7/site-packages/sklearn/utils/validation.py:761: DataConversionWarning: A column-vector y was passed when a 1d array was expected. Please change the shape of y to (n_samples, ), for example using ravel().\n",
      "  y = column_or_1d(y, warn=True)\n"
     ]
    },
    {
     "name": "stdout",
     "output_type": "stream",
     "text": [
      "Score: 0.7784615384615384\n",
      "Average precision score: 0.30564102564102563\n",
      "Precision: [0.24       0.66666667 1.        ]\n",
      "Recall: [1.         0.15384615 0.        ]\n",
      "F1: 0.7212274368231048\n",
      "Variance: -0.027717222049206347\n",
      "======================== Time: 6.912554979324341\n",
      "Start with set 2932\n",
      "Train data set with size: 2932 kernel linear C 1000\n",
      "Test size: 325\n"
     ]
    },
    {
     "name": "stderr",
     "output_type": "stream",
     "text": [
      "/Library/Frameworks/Python.framework/Versions/3.7/lib/python3.7/site-packages/sklearn/utils/validation.py:761: DataConversionWarning: A column-vector y was passed when a 1d array was expected. Please change the shape of y to (n_samples, ), for example using ravel().\n",
      "  y = column_or_1d(y, warn=True)\n"
     ]
    },
    {
     "name": "stdout",
     "output_type": "stream",
     "text": [
      "Score: 0.7753846153846153\n",
      "Average precision score: 0.3031746031746032\n",
      "Precision: [0.24       0.61904762 1.        ]\n",
      "Recall: [1.         0.16666667 0.        ]\n",
      "F1: 0.7223406478578893\n",
      "Variance: -0.06280494134745185\n",
      "======================== Time: 4.068649053573608\n",
      "Start with set 2932\n",
      "Train data set with size: 2932 kernel linear C 1000\n",
      "Test size: 325\n"
     ]
    },
    {
     "name": "stderr",
     "output_type": "stream",
     "text": [
      "/Library/Frameworks/Python.framework/Versions/3.7/lib/python3.7/site-packages/sklearn/utils/validation.py:761: DataConversionWarning: A column-vector y was passed when a 1d array was expected. Please change the shape of y to (n_samples, ), for example using ravel().\n",
      "  y = column_or_1d(y, warn=True)\n"
     ]
    },
    {
     "name": "stdout",
     "output_type": "stream",
     "text": [
      "Score: 0.7938461538461539\n",
      "Average precision score: 0.3603418803418803\n",
      "Precision: [0.24       0.66666667 1.        ]\n",
      "Recall: [1.         0.28205128 0.        ]\n",
      "F1: 0.7606638920924634\n",
      "Variance: -0.02512197653898074\n",
      "======================== Time: 4.204250812530518\n",
      "Start with set 2932\n",
      "Train data set with size: 2932 kernel linear C 1000\n",
      "Test size: 325\n"
     ]
    },
    {
     "name": "stderr",
     "output_type": "stream",
     "text": [
      "/Library/Frameworks/Python.framework/Versions/3.7/lib/python3.7/site-packages/sklearn/utils/validation.py:761: DataConversionWarning: A column-vector y was passed when a 1d array was expected. Please change the shape of y to (n_samples, ), for example using ravel().\n",
      "  y = column_or_1d(y, warn=True)\n"
     ]
    },
    {
     "name": "stdout",
     "output_type": "stream",
     "text": [
      "Score: 0.7784615384615384\n",
      "Average precision score: 0.32307692307692304\n",
      "Precision: [0.24 0.6  1.  ]\n",
      "Recall: [1.         0.23076923 0.        ]\n",
      "F1: 0.7390405904059041\n",
      "Variance: -0.09498598567424477\n",
      "======================== Time: 7.943034887313843\n",
      "Best score: 0.8165137614678899\n"
     ]
    }
   ],
   "source": [
    "best = train_crosss(\"linear\", 1000)\n",
    "# Best score: 0.7661538461538462"
   ]
  },
  {
   "cell_type": "code",
   "execution_count": 151,
   "metadata": {},
   "outputs": [
    {
     "name": "stdout",
     "output_type": "stream",
     "text": [
      "Train data set with size: 3257 kernel linear C 10.0\n",
      "Test size: 3257\n"
     ]
    },
    {
     "name": "stderr",
     "output_type": "stream",
     "text": [
      "/Library/Frameworks/Python.framework/Versions/3.7/lib/python3.7/site-packages/sklearn/utils/validation.py:761: DataConversionWarning: A column-vector y was passed when a 1d array was expected. Please change the shape of y to (n_samples, ), for example using ravel().\n",
      "  y = column_or_1d(y, warn=True)\n"
     ]
    },
    {
     "name": "stdout",
     "output_type": "stream",
     "text": [
      "Score: 0.7850782929075837\n",
      "Average precision score: 0.335840616949214\n",
      "Precision: [0.24101934 0.65454545 1.        ]\n",
      "Recall: [1.         0.22929936 0.        ]\n",
      "F1: 0.7434240240749734\n",
      "Variance: -0.04085502854904832\n",
      "======================== Time: 0.4412808418273926\n"
     ]
    }
   ],
   "source": [
    "cf = train(feature, feature, labels, labels, \"linear\", 10.0)"
   ]
  },
  {
   "cell_type": "code",
   "execution_count": 152,
   "metadata": {},
   "outputs": [
    {
     "name": "stdout",
     "output_type": "stream",
     "text": [
      "Train data set with size: 3257 kernel linear C 100.0\n",
      "Test size: 3257\n"
     ]
    },
    {
     "name": "stderr",
     "output_type": "stream",
     "text": [
      "/Library/Frameworks/Python.framework/Versions/3.7/lib/python3.7/site-packages/sklearn/utils/validation.py:761: DataConversionWarning: A column-vector y was passed when a 1d array was expected. Please change the shape of y to (n_samples, ), for example using ravel().\n",
      "  y = column_or_1d(y, warn=True)\n"
     ]
    },
    {
     "name": "stdout",
     "output_type": "stream",
     "text": [
      "Score: 0.7850782929075837\n",
      "Average precision score: 0.335840616949214\n",
      "Precision: [0.24101934 0.65454545 1.        ]\n",
      "Recall: [1.         0.22929936 0.        ]\n",
      "F1: 0.7434240240749734\n",
      "Variance: -0.04085502854904832\n",
      "======================== Time: 0.6211190223693848\n"
     ]
    }
   ],
   "source": [
    "cf = train(feature, feature, labels, labels, \"linear\", 100.0)"
   ]
  },
  {
   "cell_type": "code",
   "execution_count": null,
   "metadata": {},
   "outputs": [],
   "source": []
  }
 ],
 "metadata": {
  "kernelspec": {
   "display_name": "Python 3",
   "language": "python",
   "name": "python3"
  },
  "language_info": {
   "codemirror_mode": {
    "name": "ipython",
    "version": 3
   },
   "file_extension": ".py",
   "mimetype": "text/x-python",
   "name": "python",
   "nbconvert_exporter": "python",
   "pygments_lexer": "ipython3",
   "version": "3.6.0"
  }
 },
 "nbformat": 4,
 "nbformat_minor": 2
}
