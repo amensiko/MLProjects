{
 "cells": [
  {
   "cell_type": "code",
   "execution_count": 189,
   "metadata": {},
   "outputs": [],
   "source": [
    "import sys\n",
    "# !{sys.executable} -m pip install matplotlib"
   ]
  },
  {
   "cell_type": "code",
   "execution_count": 190,
   "metadata": {},
   "outputs": [],
   "source": [
    "import csv\n",
    "import pandas as pd\n",
    "import numpy as np\n",
    "import matplotlib.pyplot as plt\n",
    "\n",
    "from sklearn.ensemble import AdaBoostClassifier\n",
    "from sklearn.tree import DecisionTreeClassifier\n",
    "from sklearn import datasets\n",
    "from sklearn.model_selection import train_test_split, ShuffleSplit, StratifiedKFold\n",
    "from sklearn import metrics\n",
    "from sklearn.metrics import classification_report, zero_one_loss\n",
    "from sklearn.svm import SVC"
   ]
  },
  {
   "cell_type": "code",
   "execution_count": 191,
   "metadata": {},
   "outputs": [],
   "source": [
    "df = pd.read_csv(\"./bupa/bupa.data\", names=['mcv', 'alkphos', 'sgpt', 'sgot', 'gammagt', 'drinks', 'selector'])"
   ]
  },
  {
   "cell_type": "code",
   "execution_count": 192,
   "metadata": {
    "scrolled": true
   },
   "outputs": [
    {
     "data": {
      "text/html": [
       "<div>\n",
       "<style scoped>\n",
       "    .dataframe tbody tr th:only-of-type {\n",
       "        vertical-align: middle;\n",
       "    }\n",
       "\n",
       "    .dataframe tbody tr th {\n",
       "        vertical-align: top;\n",
       "    }\n",
       "\n",
       "    .dataframe thead th {\n",
       "        text-align: right;\n",
       "    }\n",
       "</style>\n",
       "<table border=\"1\" class=\"dataframe\">\n",
       "  <thead>\n",
       "    <tr style=\"text-align: right;\">\n",
       "      <th></th>\n",
       "      <th>mcv</th>\n",
       "      <th>alkphos</th>\n",
       "      <th>sgpt</th>\n",
       "      <th>sgot</th>\n",
       "      <th>gammagt</th>\n",
       "      <th>drinks</th>\n",
       "      <th>selector</th>\n",
       "    </tr>\n",
       "  </thead>\n",
       "  <tbody>\n",
       "    <tr>\n",
       "      <th>0</th>\n",
       "      <td>85</td>\n",
       "      <td>92</td>\n",
       "      <td>45</td>\n",
       "      <td>27</td>\n",
       "      <td>31</td>\n",
       "      <td>0.0</td>\n",
       "      <td>1</td>\n",
       "    </tr>\n",
       "    <tr>\n",
       "      <th>1</th>\n",
       "      <td>85</td>\n",
       "      <td>64</td>\n",
       "      <td>59</td>\n",
       "      <td>32</td>\n",
       "      <td>23</td>\n",
       "      <td>0.0</td>\n",
       "      <td>2</td>\n",
       "    </tr>\n",
       "    <tr>\n",
       "      <th>2</th>\n",
       "      <td>86</td>\n",
       "      <td>54</td>\n",
       "      <td>33</td>\n",
       "      <td>16</td>\n",
       "      <td>54</td>\n",
       "      <td>0.0</td>\n",
       "      <td>2</td>\n",
       "    </tr>\n",
       "    <tr>\n",
       "      <th>3</th>\n",
       "      <td>91</td>\n",
       "      <td>78</td>\n",
       "      <td>34</td>\n",
       "      <td>24</td>\n",
       "      <td>36</td>\n",
       "      <td>0.0</td>\n",
       "      <td>2</td>\n",
       "    </tr>\n",
       "    <tr>\n",
       "      <th>4</th>\n",
       "      <td>87</td>\n",
       "      <td>70</td>\n",
       "      <td>12</td>\n",
       "      <td>28</td>\n",
       "      <td>10</td>\n",
       "      <td>0.0</td>\n",
       "      <td>2</td>\n",
       "    </tr>\n",
       "    <tr>\n",
       "      <th>...</th>\n",
       "      <td>...</td>\n",
       "      <td>...</td>\n",
       "      <td>...</td>\n",
       "      <td>...</td>\n",
       "      <td>...</td>\n",
       "      <td>...</td>\n",
       "      <td>...</td>\n",
       "    </tr>\n",
       "    <tr>\n",
       "      <th>340</th>\n",
       "      <td>99</td>\n",
       "      <td>75</td>\n",
       "      <td>26</td>\n",
       "      <td>24</td>\n",
       "      <td>41</td>\n",
       "      <td>12.0</td>\n",
       "      <td>1</td>\n",
       "    </tr>\n",
       "    <tr>\n",
       "      <th>341</th>\n",
       "      <td>96</td>\n",
       "      <td>69</td>\n",
       "      <td>53</td>\n",
       "      <td>43</td>\n",
       "      <td>203</td>\n",
       "      <td>12.0</td>\n",
       "      <td>2</td>\n",
       "    </tr>\n",
       "    <tr>\n",
       "      <th>342</th>\n",
       "      <td>98</td>\n",
       "      <td>77</td>\n",
       "      <td>55</td>\n",
       "      <td>35</td>\n",
       "      <td>89</td>\n",
       "      <td>15.0</td>\n",
       "      <td>1</td>\n",
       "    </tr>\n",
       "    <tr>\n",
       "      <th>343</th>\n",
       "      <td>91</td>\n",
       "      <td>68</td>\n",
       "      <td>27</td>\n",
       "      <td>26</td>\n",
       "      <td>14</td>\n",
       "      <td>16.0</td>\n",
       "      <td>1</td>\n",
       "    </tr>\n",
       "    <tr>\n",
       "      <th>344</th>\n",
       "      <td>98</td>\n",
       "      <td>99</td>\n",
       "      <td>57</td>\n",
       "      <td>45</td>\n",
       "      <td>65</td>\n",
       "      <td>20.0</td>\n",
       "      <td>1</td>\n",
       "    </tr>\n",
       "  </tbody>\n",
       "</table>\n",
       "<p>345 rows × 7 columns</p>\n",
       "</div>"
      ],
      "text/plain": [
       "     mcv  alkphos  sgpt  sgot  gammagt  drinks  selector\n",
       "0     85       92    45    27       31     0.0         1\n",
       "1     85       64    59    32       23     0.0         2\n",
       "2     86       54    33    16       54     0.0         2\n",
       "3     91       78    34    24       36     0.0         2\n",
       "4     87       70    12    28       10     0.0         2\n",
       "..   ...      ...   ...   ...      ...     ...       ...\n",
       "340   99       75    26    24       41    12.0         1\n",
       "341   96       69    53    43      203    12.0         2\n",
       "342   98       77    55    35       89    15.0         1\n",
       "343   91       68    27    26       14    16.0         1\n",
       "344   98       99    57    45       65    20.0         1\n",
       "\n",
       "[345 rows x 7 columns]"
      ]
     },
     "execution_count": 192,
     "metadata": {},
     "output_type": "execute_result"
    }
   ],
   "source": [
    "df"
   ]
  },
  {
   "cell_type": "code",
   "execution_count": 193,
   "metadata": {},
   "outputs": [],
   "source": [
    "def main_max_rescaling(df, columns):\n",
    "    for col in columns:\n",
    "        pt_min = df[col].min()\n",
    "        pt_max = df[col].max()\n",
    "        df[col] = (df[col] - pt_min) / (pt_max - pt_min)"
   ]
  },
  {
   "cell_type": "code",
   "execution_count": 194,
   "metadata": {},
   "outputs": [],
   "source": [
    "feature_columns = ['mcv', 'alkphos', 'sgpt', 'sgot', 'gammagt', 'drinks']\n",
    "main_max_rescaling(df, feature_columns)"
   ]
  },
  {
   "cell_type": "code",
   "execution_count": 195,
   "metadata": {},
   "outputs": [
    {
     "data": {
      "text/html": [
       "<div>\n",
       "<style scoped>\n",
       "    .dataframe tbody tr th:only-of-type {\n",
       "        vertical-align: middle;\n",
       "    }\n",
       "\n",
       "    .dataframe tbody tr th {\n",
       "        vertical-align: top;\n",
       "    }\n",
       "\n",
       "    .dataframe thead th {\n",
       "        text-align: right;\n",
       "    }\n",
       "</style>\n",
       "<table border=\"1\" class=\"dataframe\">\n",
       "  <thead>\n",
       "    <tr style=\"text-align: right;\">\n",
       "      <th></th>\n",
       "      <th>mcv</th>\n",
       "      <th>alkphos</th>\n",
       "      <th>sgpt</th>\n",
       "      <th>sgot</th>\n",
       "      <th>gammagt</th>\n",
       "      <th>drinks</th>\n",
       "      <th>selector</th>\n",
       "    </tr>\n",
       "  </thead>\n",
       "  <tbody>\n",
       "    <tr>\n",
       "      <th>0</th>\n",
       "      <td>0.526316</td>\n",
       "      <td>0.600000</td>\n",
       "      <td>0.271523</td>\n",
       "      <td>0.285714</td>\n",
       "      <td>0.089041</td>\n",
       "      <td>0.00</td>\n",
       "      <td>1</td>\n",
       "    </tr>\n",
       "    <tr>\n",
       "      <th>1</th>\n",
       "      <td>0.526316</td>\n",
       "      <td>0.356522</td>\n",
       "      <td>0.364238</td>\n",
       "      <td>0.350649</td>\n",
       "      <td>0.061644</td>\n",
       "      <td>0.00</td>\n",
       "      <td>2</td>\n",
       "    </tr>\n",
       "    <tr>\n",
       "      <th>2</th>\n",
       "      <td>0.552632</td>\n",
       "      <td>0.269565</td>\n",
       "      <td>0.192053</td>\n",
       "      <td>0.142857</td>\n",
       "      <td>0.167808</td>\n",
       "      <td>0.00</td>\n",
       "      <td>2</td>\n",
       "    </tr>\n",
       "    <tr>\n",
       "      <th>3</th>\n",
       "      <td>0.684211</td>\n",
       "      <td>0.478261</td>\n",
       "      <td>0.198675</td>\n",
       "      <td>0.246753</td>\n",
       "      <td>0.106164</td>\n",
       "      <td>0.00</td>\n",
       "      <td>2</td>\n",
       "    </tr>\n",
       "    <tr>\n",
       "      <th>4</th>\n",
       "      <td>0.578947</td>\n",
       "      <td>0.408696</td>\n",
       "      <td>0.052980</td>\n",
       "      <td>0.298701</td>\n",
       "      <td>0.017123</td>\n",
       "      <td>0.00</td>\n",
       "      <td>2</td>\n",
       "    </tr>\n",
       "    <tr>\n",
       "      <th>...</th>\n",
       "      <td>...</td>\n",
       "      <td>...</td>\n",
       "      <td>...</td>\n",
       "      <td>...</td>\n",
       "      <td>...</td>\n",
       "      <td>...</td>\n",
       "      <td>...</td>\n",
       "    </tr>\n",
       "    <tr>\n",
       "      <th>340</th>\n",
       "      <td>0.894737</td>\n",
       "      <td>0.452174</td>\n",
       "      <td>0.145695</td>\n",
       "      <td>0.246753</td>\n",
       "      <td>0.123288</td>\n",
       "      <td>0.60</td>\n",
       "      <td>1</td>\n",
       "    </tr>\n",
       "    <tr>\n",
       "      <th>341</th>\n",
       "      <td>0.815789</td>\n",
       "      <td>0.400000</td>\n",
       "      <td>0.324503</td>\n",
       "      <td>0.493506</td>\n",
       "      <td>0.678082</td>\n",
       "      <td>0.60</td>\n",
       "      <td>2</td>\n",
       "    </tr>\n",
       "    <tr>\n",
       "      <th>342</th>\n",
       "      <td>0.868421</td>\n",
       "      <td>0.469565</td>\n",
       "      <td>0.337748</td>\n",
       "      <td>0.389610</td>\n",
       "      <td>0.287671</td>\n",
       "      <td>0.75</td>\n",
       "      <td>1</td>\n",
       "    </tr>\n",
       "    <tr>\n",
       "      <th>343</th>\n",
       "      <td>0.684211</td>\n",
       "      <td>0.391304</td>\n",
       "      <td>0.152318</td>\n",
       "      <td>0.272727</td>\n",
       "      <td>0.030822</td>\n",
       "      <td>0.80</td>\n",
       "      <td>1</td>\n",
       "    </tr>\n",
       "    <tr>\n",
       "      <th>344</th>\n",
       "      <td>0.868421</td>\n",
       "      <td>0.660870</td>\n",
       "      <td>0.350993</td>\n",
       "      <td>0.519481</td>\n",
       "      <td>0.205479</td>\n",
       "      <td>1.00</td>\n",
       "      <td>1</td>\n",
       "    </tr>\n",
       "  </tbody>\n",
       "</table>\n",
       "<p>345 rows × 7 columns</p>\n",
       "</div>"
      ],
      "text/plain": [
       "          mcv   alkphos      sgpt      sgot   gammagt  drinks  selector\n",
       "0    0.526316  0.600000  0.271523  0.285714  0.089041    0.00         1\n",
       "1    0.526316  0.356522  0.364238  0.350649  0.061644    0.00         2\n",
       "2    0.552632  0.269565  0.192053  0.142857  0.167808    0.00         2\n",
       "3    0.684211  0.478261  0.198675  0.246753  0.106164    0.00         2\n",
       "4    0.578947  0.408696  0.052980  0.298701  0.017123    0.00         2\n",
       "..        ...       ...       ...       ...       ...     ...       ...\n",
       "340  0.894737  0.452174  0.145695  0.246753  0.123288    0.60         1\n",
       "341  0.815789  0.400000  0.324503  0.493506  0.678082    0.60         2\n",
       "342  0.868421  0.469565  0.337748  0.389610  0.287671    0.75         1\n",
       "343  0.684211  0.391304  0.152318  0.272727  0.030822    0.80         1\n",
       "344  0.868421  0.660870  0.350993  0.519481  0.205479    1.00         1\n",
       "\n",
       "[345 rows x 7 columns]"
      ]
     },
     "execution_count": 195,
     "metadata": {},
     "output_type": "execute_result"
    }
   ],
   "source": [
    "df"
   ]
  },
  {
   "cell_type": "code",
   "execution_count": 196,
   "metadata": {},
   "outputs": [],
   "source": [
    "X = df.iloc[:, :6]\n",
    "y = df['selector'].apply(lambda x: 0 if x == 1 else 1) # normalize 0, 1\n",
    "X_train, X_test, y_train, y_test = train_test_split(X, y, test_size=0.1)"
   ]
  },
  {
   "cell_type": "markdown",
   "metadata": {},
   "source": [
    "https://www.datacamp.com/community/tutorials/adaboost-classifier-python\n",
    "\n",
    "https://towardsdatascience.com/machine-learning-part-17-boosting-algorithms-adaboost-in-python-d00faac6c464"
   ]
  },
  {
   "cell_type": "code",
   "execution_count": 197,
   "metadata": {},
   "outputs": [
    {
     "name": "stdout",
     "output_type": "stream",
     "text": [
      "Accuracy: 0.6\n"
     ]
    }
   ],
   "source": [
    "# Create adaboost classifer object\n",
    "model = AdaBoostClassifier(n_estimators=100, learning_rate=1)\n",
    "# Train Adaboost Classifer\n",
    "model.fit(X_train, y_train)\n",
    "\n",
    "#Predict the response for test dataset\n",
    "y_pred = model.predict(X_test)\n",
    "print(\"Accuracy:\", metrics.accuracy_score(y_test, y_pred))"
   ]
  },
  {
   "cell_type": "code",
   "execution_count": 198,
   "metadata": {},
   "outputs": [
    {
     "data": {
      "text/plain": [
       "array([0.12, 0.22, 0.25, 0.12, 0.17, 0.12])"
      ]
     },
     "execution_count": 198,
     "metadata": {},
     "output_type": "execute_result"
    }
   ],
   "source": [
    "model.feature_importances_ "
   ]
  },
  {
   "cell_type": "code",
   "execution_count": 199,
   "metadata": {},
   "outputs": [
    {
     "data": {
      "image/png": "[encoded data removed]",
      "text/plain": [
       "<Figure size 432x288 with 1 Axes>"
      ]
     },
     "metadata": {
      "needs_background": "light"
     },
     "output_type": "display_data"
    }
   ],
   "source": [
    "fi = model.feature_importances_\n",
    "columns = ['mcv', 'alkphos', 'sgpt', 'sgot', 'gammagt', 'drinks']\n",
    "pd.Series(fi, index=columns).sort_values()[-len(columns):].plot(kind='barh');"
   ]
  },
  {
   "cell_type": "code",
   "execution_count": 200,
   "metadata": {},
   "outputs": [],
   "source": [
    "dt_stump = DecisionTreeClassifier(max_depth=1, min_samples_leaf=1)\n",
    "dt_stump.fit(X_train, y_train)\n",
    "dt_stump_err = 1.0 - dt_stump.score(X_test, y_test)"
   ]
  },
  {
   "cell_type": "code",
   "execution_count": 201,
   "metadata": {},
   "outputs": [
    {
     "data": {
      "text/plain": [
       "AdaBoostClassifier(algorithm='SAMME.R',\n",
       "                   base_estimator=DecisionTreeClassifier(class_weight=None,\n",
       "                                                         criterion='gini',\n",
       "                                                         max_depth=1,\n",
       "                                                         max_features=None,\n",
       "                                                         max_leaf_nodes=None,\n",
       "                                                         min_impurity_decrease=0.0,\n",
       "                                                         min_impurity_split=None,\n",
       "                                                         min_samples_leaf=1,\n",
       "                                                         min_samples_split=2,\n",
       "                                                         min_weight_fraction_leaf=0.0,\n",
       "                                                         presort=False,\n",
       "                                                         random_state=None,\n",
       "                                                         splitter='best'),\n",
       "                   learning_rate=1, n_estimators=100, random_state=None)"
      ]
     },
     "execution_count": 201,
     "metadata": {},
     "output_type": "execute_result"
    }
   ],
   "source": [
    "n_estimators = 100\n",
    "model = AdaBoostClassifier(\n",
    "    base_estimator=dt_stump,\n",
    "    learning_rate=1,\n",
    "    n_estimators=n_estimators)\n",
    "model.fit(X_train, y_train)"
   ]
  },
  {
   "cell_type": "code",
   "execution_count": 202,
   "metadata": {},
   "outputs": [
    {
     "data": {
      "image/png": "[encoded data removed]",
      "text/plain": [
       "<Figure size 432x288 with 1 Axes>"
      ]
     },
     "metadata": {
      "needs_background": "light"
     },
     "output_type": "display_data"
    }
   ],
   "source": [
    "fig = plt.figure()\n",
    "ax = fig.add_subplot(111)\n",
    "ax.plot([1, n_estimators], [dt_stump_err] * 2, 'k-',\n",
    "        label='Decision Stump Error')\n",
    "\n",
    "model_err = np.zeros((n_estimators,))\n",
    "for i, y_pred in enumerate(model.staged_predict(X_test)):\n",
    "    model_err[i] = zero_one_loss(y_pred, y_test)\n",
    "\n",
    "model_err_train = np.zeros((n_estimators,))\n",
    "for i, y_pred in enumerate(model.staged_predict(X_train)):\n",
    "    model_err_train[i] = zero_one_loss(y_pred, y_train)\n",
    "\n",
    "\n",
    "ax.plot(np.arange(n_estimators) + 1, model_err,\n",
    "    label='AdaBoost Test Error',\n",
    "    color='orange')\n",
    "\n",
    "ax.plot(np.arange(n_estimators) + 1, model_err_train,\n",
    "        label='AdaBoost Train Error',\n",
    "        color='green')\n",
    "\n",
    "ax.set_ylim((0.0, 0.5))\n",
    "ax.set_xlabel('n_estimators')\n",
    "ax.set_ylabel('error rate')\n",
    "\n",
    "leg = ax.legend(loc='upper right', fancybox=True)\n",
    "leg.get_frame().set_alpha(0.7)\n",
    "\n",
    "plt.show()"
   ]
  },
  {
   "cell_type": "code",
   "execution_count": 203,
   "metadata": {},
   "outputs": [
    {
     "data": {
      "text/plain": [
       "array([0., 0., 0., 0., 1., 0.])"
      ]
     },
     "execution_count": 203,
     "metadata": {},
     "output_type": "execute_result"
    }
   ],
   "source": [
    "model.estimators_[0].feature_importances_"
   ]
  },
  {
   "cell_type": "code",
   "execution_count": 204,
   "metadata": {},
   "outputs": [
    {
     "name": "stdout",
     "output_type": "stream",
     "text": [
      "Component gammagt threshhold:\t 0.06\n",
      "Component sgpt threshhold:\t 0.12\n",
      "Component alkphos threshhold:\t 0.32\n",
      "Component sgot threshhold:\t 0.23\n",
      "Component drinks threshhold:\t 0.28\n",
      "Component gammagt threshhold:\t 0.10\n",
      "Component sgpt threshhold:\t 0.09\n",
      "Component gammagt threshhold:\t 0.01\n",
      "Component mcv threshhold:\t 0.64\n",
      "Component sgot threshhold:\t 0.53\n"
     ]
    }
   ],
   "source": [
    "columns = ['mcv', 'alkphos', 'sgpt', 'sgot', 'gammagt', 'drinks']\n",
    "for i in range(10):\n",
    "    estimator = model.estimators_[i]\n",
    "    fid = estimator.tree_.feature[0]\n",
    "    thresh = estimator.tree_.threshold[0]\n",
    "    print(\"Component %s threshhold:\\t %0.2f\" % (columns[fid], thresh))\n"
   ]
  },
  {
   "cell_type": "code",
   "execution_count": 205,
   "metadata": {
    "scrolled": true
   },
   "outputs": [
    {
     "name": "stdout",
     "output_type": "stream",
     "text": [
      "|--- gammagt <= 0.06\n",
      "|   |--- class: 0\n",
      "|--- gammagt >  0.06\n",
      "|   |--- class: 1\n",
      "\n"
     ]
    }
   ],
   "source": [
    "from sklearn.tree.export import export_text\n",
    "r = export_text(model.estimators_[0], feature_names=['mcv', 'alkphos', 'sgpt', 'sgot', 'gammagt', 'drinks'])\n",
    "print(r)"
   ]
  },
  {
   "cell_type": "markdown",
   "metadata": {},
   "source": [
    "## 50 random splits"
   ]
  },
  {
   "cell_type": "code",
   "execution_count": 206,
   "metadata": {},
   "outputs": [],
   "source": [
    "def shuffle_split(x, y):\n",
    "    ss = ShuffleSplit(n_splits=50, train_size=0.9, test_size=0.1, random_state=0)\n",
    "    data = []\n",
    "    for train_index, test_index in ss.split(x, y):\n",
    "        x_train, x_test = x[train_index], x[test_index]\n",
    "        y_train, y_test = y[train_index], y[test_index]\n",
    "        data.append((x_train, x_test, y_train, y_test))\n",
    "    return data"
   ]
  },
  {
   "cell_type": "code",
   "execution_count": 207,
   "metadata": {},
   "outputs": [],
   "source": [
    "feature = df[['mcv', 'alkphos', 'sgpt', 'sgot', 'gammagt', 'drinks']].to_numpy()\n",
    "labels = df['selector'].to_numpy()\n",
    "data = shuffle_split(feature, labels)"
   ]
  },
  {
   "cell_type": "code",
   "execution_count": 208,
   "metadata": {},
   "outputs": [],
   "source": [
    "n_estimators = 100\n",
    "model_err_train = np.zeros((n_estimators,))\n",
    "model_err_test = np.zeros((n_estimators,))\n",
    "\n",
    "for x_train, x_test, y_train, y_test in data:\n",
    "    model = AdaBoostClassifier(\n",
    "        base_estimator=DecisionTreeClassifier(max_depth=1, min_samples_leaf=1),\n",
    "        learning_rate=1,\n",
    "        n_estimators=n_estimators)\n",
    "    model.fit(x_train, y_train)\n",
    "    \n",
    "    \n",
    "    for i, y_pred in enumerate(model.staged_predict(x_train)):\n",
    "        model_err_train[i] += zero_one_loss(y_pred, y_train)\n",
    "\n",
    "    \n",
    "    for i, y_pred in enumerate(model.staged_predict(x_test)):\n",
    "        model_err_test[i] += zero_one_loss(y_pred, y_test)\n",
    "\n",
    "# calc average\n",
    "for i in range(n_estimators):\n",
    "    model_err_train[i] /= len(data)\n",
    "    model_err_test[i] /= len(data)\n",
    "\n",
    "\n",
    "\n",
    "#     y_pred_50.append(y_pred)\n",
    "#     res = classifier.fit(x_train, y_train)\n",
    "#     y_pred = res.predict(X_test)\n",
    "#     acc = metrics.accuracy_score(y_test, y_pred)\n",
    "# #     print(\"Accuracy:\", acc)\n",
    "#     total_acc += acc\n",
    "#     train_err.append(res.score(x_train, y_train))\n",
    "#     test_err.append(res.score(x_test, y_test))\n",
    "#     if best_acc < acc:\n",
    "#         best = y_pred\n",
    "#         best_acc = acc"
   ]
  },
  {
   "cell_type": "code",
   "execution_count": 209,
   "metadata": {},
   "outputs": [
    {
     "data": {
      "image/png": "[encoded data removed]",
      "text/plain": [
       "<Figure size 432x288 with 1 Axes>"
      ]
     },
     "metadata": {
      "needs_background": "light"
     },
     "output_type": "display_data"
    }
   ],
   "source": [
    "fig = plt.figure()\n",
    "ax = fig.add_subplot(111)\n",
    "ax.plot(np.arange(n_estimators) + 1, model_err_test,\n",
    "    label='AdaBoost Test Error',\n",
    "    color='orange')\n",
    "\n",
    "ax.plot(np.arange(n_estimators) + 1, model_err_train,\n",
    "        label='AdaBoost Train Error',\n",
    "        color='green')\n",
    "\n",
    "ax.set_ylim((0.0, 0.5))\n",
    "ax.set_xlabel('n_estimators')\n",
    "ax.set_ylabel('error rate')\n",
    "\n",
    "leg = ax.legend(loc='upper right', fancybox=True)\n",
    "leg.get_frame().set_alpha(0.7)\n",
    "\n",
    "plt.show()"
   ]
  },
  {
   "cell_type": "markdown",
   "metadata": {},
   "source": [
    "# 3"
   ]
  },
  {
   "cell_type": "code",
   "execution_count": 210,
   "metadata": {
    "scrolled": true
   },
   "outputs": [
    {
     "data": {
      "text/plain": [
       "AdaBoostClassifier(algorithm='SAMME',\n",
       "                   base_estimator=DecisionTreeClassifier(class_weight=None,\n",
       "                                                         criterion='gini',\n",
       "                                                         max_depth=1,\n",
       "                                                         max_features=None,\n",
       "                                                         max_leaf_nodes=None,\n",
       "                                                         min_impurity_decrease=0.0,\n",
       "                                                         min_impurity_split=None,\n",
       "                                                         min_samples_leaf=1,\n",
       "                                                         min_samples_split=2,\n",
       "                                                         min_weight_fraction_leaf=0.0,\n",
       "                                                         presort=False,\n",
       "                                                         random_state=None,\n",
       "                                                         splitter='best'),\n",
       "                   learning_rate=1, n_estimators=10, random_state=None)"
      ]
     },
     "execution_count": 210,
     "metadata": {},
     "output_type": "execute_result"
    }
   ],
   "source": [
    "model_10 = AdaBoostClassifier(\n",
    "    base_estimator=dt_stump,\n",
    "    learning_rate=1,\n",
    "    n_estimators=10,\n",
    "    algorithm='SAMME')\n",
    "model_10.fit(X, y)"
   ]
  },
  {
   "cell_type": "code",
   "execution_count": 211,
   "metadata": {},
   "outputs": [
    {
     "data": {
      "text/plain": [
       "AdaBoostClassifier(algorithm='SAMME',\n",
       "                   base_estimator=DecisionTreeClassifier(class_weight=None,\n",
       "                                                         criterion='gini',\n",
       "                                                         max_depth=1,\n",
       "                                                         max_features=None,\n",
       "                                                         max_leaf_nodes=None,\n",
       "                                                         min_impurity_decrease=0.0,\n",
       "                                                         min_impurity_split=None,\n",
       "                                                         min_samples_leaf=1,\n",
       "                                                         min_samples_split=2,\n",
       "                                                         min_weight_fraction_leaf=0.0,\n",
       "                                                         presort=False,\n",
       "                                                         random_state=None,\n",
       "                                                         splitter='best'),\n",
       "                   learning_rate=1, n_estimators=50, random_state=None)"
      ]
     },
     "execution_count": 211,
     "metadata": {},
     "output_type": "execute_result"
    }
   ],
   "source": [
    "model_50 = AdaBoostClassifier(\n",
    "    base_estimator=dt_stump,\n",
    "    learning_rate=1,\n",
    "    n_estimators=50,\n",
    "    algorithm='SAMME')\n",
    "model_50.fit(X, y)"
   ]
  },
  {
   "cell_type": "code",
   "execution_count": 212,
   "metadata": {},
   "outputs": [
    {
     "data": {
      "text/plain": [
       "AdaBoostClassifier(algorithm='SAMME',\n",
       "                   base_estimator=DecisionTreeClassifier(class_weight=None,\n",
       "                                                         criterion='gini',\n",
       "                                                         max_depth=1,\n",
       "                                                         max_features=None,\n",
       "                                                         max_leaf_nodes=None,\n",
       "                                                         min_impurity_decrease=0.0,\n",
       "                                                         min_impurity_split=None,\n",
       "                                                         min_samples_leaf=1,\n",
       "                                                         min_samples_split=2,\n",
       "                                                         min_weight_fraction_leaf=0.0,\n",
       "                                                         presort=False,\n",
       "                                                         random_state=None,\n",
       "                                                         splitter='best'),\n",
       "                   learning_rate=1, n_estimators=100, random_state=None)"
      ]
     },
     "execution_count": 212,
     "metadata": {},
     "output_type": "execute_result"
    }
   ],
   "source": [
    "model_100 = AdaBoostClassifier(\n",
    "    base_estimator=dt_stump,\n",
    "    learning_rate=1,\n",
    "    n_estimators=100,\n",
    "    algorithm='SAMME')\n",
    "model_100.fit(X, y)"
   ]
  },
  {
   "cell_type": "code",
   "execution_count": 213,
   "metadata": {},
   "outputs": [],
   "source": [
    "def plot_vals(model, X):\n",
    "    fx = []\n",
    "    alphas = np.array(model.estimator_weights_)\n",
    "    alphas_norm = alphas / sum(alphas)\n",
    "    i = 0\n",
    "    rez = []\n",
    "    for est in model.estimators_:\n",
    "        pr = []\n",
    "        pred = est.predict(X)\n",
    "        pred[pred == 0] = -1\n",
    "        for res in pred:\n",
    "            pr.append(res * alphas_norm[i])\n",
    "        rez.append(pr)\n",
    "        i += 1\n",
    "    rezdf = pd.DataFrame(rez)\n",
    "    x_axis = []\n",
    "    for col in rezdf:\n",
    "        x_axis.append(rezdf[col].sum())\n",
    "    x_axis = np.sort(np.array(x_axis))\n",
    "    y_axis = np.arange(1, len(x_axis) + 1)/len(x_axis)\n",
    "    return (x_axis, y_axis)"
   ]
  },
  {
   "cell_type": "code",
   "execution_count": 214,
   "metadata": {},
   "outputs": [],
   "source": [
    "x_10, y_10 = plot_vals(model_10, X)\n",
    "x_50, y_50 = plot_vals(model_50, X)\n",
    "x_100, y_100 = plot_vals(model_100, X)"
   ]
  },
  {
   "cell_type": "markdown",
   "metadata": {},
   "source": [
    "### Empirical cumulative distribution functions of the margins yifT(xi) after 10, 50 and 100 iterations"
   ]
  },
  {
   "cell_type": "code",
   "execution_count": 215,
   "metadata": {},
   "outputs": [
    {
     "data": {
      "image/png": "[encoded data removed]",
      "text/plain": [
       "<Figure size 432x288 with 1 Axes>"
      ]
     },
     "metadata": {
      "needs_background": "light"
     },
     "output_type": "display_data"
    }
   ],
   "source": [
    "fig = plt.figure()\n",
    "ax = fig.add_subplot(111)\n",
    "ax.plot(x_10, y_10,\n",
    "    label='10 iterations',\n",
    "    color='orange', marker=\".\", linestyle=\"-\", markersize=1)\n",
    "\n",
    "ax.plot(x_50, y_50,\n",
    "        label='50 iterations',\n",
    "        color='green', marker=\".\", linestyle=\"-\", markersize=1)\n",
    "\n",
    "ax.plot(x_100, y_100,\n",
    "        label='100 iterations',\n",
    "        color='magenta', marker=\".\", linestyle=\"-\", markersize=1)\n",
    "\n",
    "ax.set_ylim((0.0, 1.0))\n",
    "ax.set_xlabel('yfT(x)')\n",
    "ax.set_ylabel('ECDF')\n",
    "\n",
    "leg = ax.legend(loc='lower right', fancybox=True)\n",
    "leg.get_frame().set_alpha(0.7)\n",
    "\n",
    "plt.show()"
   ]
  },
  {
   "cell_type": "code",
   "execution_count": null,
   "metadata": {},
   "outputs": [],
   "source": []
  }
 ],
 "metadata": {
  "kernelspec": {
   "display_name": "Python 3",
   "language": "python",
   "name": "python3"
  },
  "language_info": {
   "codemirror_mode": {
    "name": "ipython",
    "version": 3
   },
   "file_extension": ".py",
   "mimetype": "text/x-python",
   "name": "python",
   "nbconvert_exporter": "python",
   "pygments_lexer": "ipython3",
   "version": "3.6.0"
  }
 },
 "nbformat": 4,
 "nbformat_minor": 2
}
