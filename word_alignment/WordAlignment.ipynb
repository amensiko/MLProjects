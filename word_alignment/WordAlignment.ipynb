{
 "cells": [
  {
   "cell_type": "code",
   "execution_count": 26,
   "metadata": {},
   "outputs": [
    {
     "name": "stdout",
     "output_type": "stream",
     "text": [
      "Collecting seaborn\n",
      "  Using cached https://files.pythonhosted.org/packages/a8/76/220ba4420459d9c4c9c9587c6ce607bf56c25b3d3d2de62056efe482dadc/seaborn-0.9.0-py3-none-any.whl\n",
      "Requirement already satisfied: matplotlib>=1.4.3 in /Library/Frameworks/Python.framework/Versions/3.6/lib/python3.6/site-packages (from seaborn) (3.1.1)\n",
      "Requirement already satisfied: numpy>=1.9.3 in /Library/Frameworks/Python.framework/Versions/3.6/lib/python3.6/site-packages (from seaborn) (1.16.2)\n",
      "Requirement already satisfied: scipy>=0.14.0 in /Library/Frameworks/Python.framework/Versions/3.6/lib/python3.6/site-packages (from seaborn) (1.3.1)\n",
      "Requirement already satisfied: pandas>=0.15.2 in /Library/Frameworks/Python.framework/Versions/3.6/lib/python3.6/site-packages (from seaborn) (0.25.3)\n",
      "Requirement already satisfied: kiwisolver>=1.0.1 in /Library/Frameworks/Python.framework/Versions/3.6/lib/python3.6/site-packages (from matplotlib>=1.4.3->seaborn) (1.1.0)\n",
      "Requirement already satisfied: python-dateutil>=2.1 in /Library/Frameworks/Python.framework/Versions/3.6/lib/python3.6/site-packages (from matplotlib>=1.4.3->seaborn) (2.7.5)\n",
      "Requirement already satisfied: pyparsing!=2.0.4,!=2.1.2,!=2.1.6,>=2.0.1 in /Library/Frameworks/Python.framework/Versions/3.6/lib/python3.6/site-packages (from matplotlib>=1.4.3->seaborn) (2.4.4)\n",
      "Requirement already satisfied: cycler>=0.10 in /Library/Frameworks/Python.framework/Versions/3.6/lib/python3.6/site-packages (from matplotlib>=1.4.3->seaborn) (0.10.0)\n",
      "Requirement already satisfied: pytz>=2017.2 in /Library/Frameworks/Python.framework/Versions/3.6/lib/python3.6/site-packages (from pandas>=0.15.2->seaborn) (2019.3)\n",
      "Requirement already satisfied: setuptools in /Library/Frameworks/Python.framework/Versions/3.6/lib/python3.6/site-packages (from kiwisolver>=1.0.1->matplotlib>=1.4.3->seaborn) (40.6.2)\n",
      "Requirement already satisfied: six>=1.5 in /Library/Frameworks/Python.framework/Versions/3.6/lib/python3.6/site-packages (from python-dateutil>=2.1->matplotlib>=1.4.3->seaborn) (1.11.0)\n",
      "Installing collected packages: seaborn\n",
      "Successfully installed seaborn-0.9.0\n",
      "\u001b[33mYou are using pip version 18.1, however version 19.3.1 is available.\n",
      "You should consider upgrading via the 'pip install --upgrade pip' command.\u001b[0m\n"
     ]
    }
   ],
   "source": [
    "!{sys.executable} -m pip install seaborn"
   ]
  },
  {
   "cell_type": "code",
   "execution_count": 39,
   "metadata": {},
   "outputs": [],
   "source": [
    "import sys\n",
    "import re\n",
    "import operator\n",
    "import numpy as np\n",
    "import seaborn as sns\n",
    "import matplotlib\n",
    "import matplotlib.pyplot as plt"
   ]
  },
  {
   "cell_type": "code",
   "execution_count": 7,
   "metadata": {},
   "outputs": [
    {
     "name": "stdout",
     "output_type": "stream",
     "text": [
      "Usage: ./fast_align/build/fast_align -i file.fr-en\r\n",
      " Standard options ([USE] = strongly recommended):\r\n",
      "  -i: [REQ] Input parallel corpus\r\n",
      "  -v: [USE] Use Dirichlet prior on lexical translation distributions\r\n",
      "  -d: [USE] Favor alignment points close to the monotonic diagonoal\r\n",
      "  -o: [USE] Optimize how close to the diagonal alignment points should be\r\n",
      "  -r: Run alignment in reverse (condition on target and predict source)\r\n",
      "  -c: Output conditional probability table\r\n",
      " Advanced options:\r\n",
      "  -I: number of iterations in EM training (default = 5)\r\n",
      "  -q: p_null parameter (default = 0.08)\r\n",
      "  -N: No null word\r\n",
      "  -a: alpha parameter for optional Dirichlet prior (default = 0.01)\r\n",
      "  -T: starting lambda for diagonal distance parameter (default = 4)\r\n",
      "  -s: print alignment scores (alignment ||| score, disabled by default)\r\n"
     ]
    }
   ],
   "source": [
    "! ./fast_align/build/fast_align"
   ]
  },
  {
   "cell_type": "markdown",
   "metadata": {},
   "source": [
    "# Question 1"
   ]
  },
  {
   "cell_type": "markdown",
   "metadata": {},
   "source": [
    "The following commands were run to generate the alignment for this question (after the fast_align library build):\n",
    "\n",
    "* head -n 1 ../../en_fr.txt > ../../q1_raw.txt\n",
    "* ./fast_align -i ../../q1.txt -d -o -v > ../../q1_forward_align"
   ]
  },
  {
   "cell_type": "code",
   "execution_count": 21,
   "metadata": {},
   "outputs": [],
   "source": [
    "q1 = (open(\"./data/q1_forward_align\",\"r+\")).read().replace(\"\\n\", \"\").split(\" \")\n",
    "q1_raw = (open(\"./data/q1_raw.txt\",\"r+\")).read().replace(\"\\n\", \"\").split(\"|||\")"
   ]
  },
  {
   "cell_type": "code",
   "execution_count": 17,
   "metadata": {},
   "outputs": [
    {
     "data": {
      "text/plain": [
       "['0-0', '1-1', '2-2', '5-3', '4-4', '6-5', '7-6', '8-7', '9-8']"
      ]
     },
     "execution_count": 17,
     "metadata": {},
     "output_type": "execute_result"
    }
   ],
   "source": [
    "q1"
   ]
  },
  {
   "cell_type": "code",
   "execution_count": 22,
   "metadata": {},
   "outputs": [
    {
     "data": {
      "text/plain": [
       "['let us all strive to live and let live . ',\n",
       " ' employons-nous tous à vivre et à laisser vivre .']"
      ]
     },
     "execution_count": 22,
     "metadata": {},
     "output_type": "execute_result"
    }
   ],
   "source": [
    "q1_raw"
   ]
  },
  {
   "cell_type": "code",
   "execution_count": 52,
   "metadata": {},
   "outputs": [],
   "source": [
    "all_q1_al = []\n",
    "all_q1_raw = []\n",
    "for t in q1_raw:\n",
    "    all_q1_raw.append(t.lstrip().rstrip().split(\" \"))\n",
    "for al in q1:\n",
    "    all_q1_al.append(al.split(\"-\"))\n",
    "for i in all_q1_al:\n",
    "    i = [ int(x) for x in i ]"
   ]
  },
  {
   "cell_type": "code",
   "execution_count": 55,
   "metadata": {
    "scrolled": true
   },
   "outputs": [
    {
     "data": {
      "text/plain": [
       "[['0', '0'],\n",
       " ['1', '1'],\n",
       " ['2', '2'],\n",
       " ['5', '3'],\n",
       " ['4', '4'],\n",
       " ['6', '5'],\n",
       " ['7', '6'],\n",
       " ['8', '7'],\n",
       " ['9', '8']]"
      ]
     },
     "execution_count": 55,
     "metadata": {},
     "output_type": "execute_result"
    }
   ],
   "source": [
    "all_q1_al"
   ]
  },
  {
   "cell_type": "code",
   "execution_count": 67,
   "metadata": {},
   "outputs": [],
   "source": [
    "heatmap_arr = [ [] for i in range(10) ]\n",
    "for mini_arr in heatmap_arr:\n",
    "    for i in range(9):\n",
    "        mini_arr.append(0)"
   ]
  },
  {
   "cell_type": "code",
   "execution_count": 71,
   "metadata": {},
   "outputs": [],
   "source": [
    "for als in all_q1_al:\n",
    "    heatmap_arr[int(als[0])][int(als[1])] = 1"
   ]
  },
  {
   "cell_type": "code",
   "execution_count": 73,
   "metadata": {},
   "outputs": [],
   "source": [
    "heatmap_arr = np.array(heatmap_arr)"
   ]
  },
  {
   "cell_type": "code",
   "execution_count": 74,
   "metadata": {},
   "outputs": [
    {
     "data": {
      "text/plain": [
       "array([[1, 0, 0, 0, 0, 0, 0, 0, 0],\n",
       "       [0, 1, 0, 0, 0, 0, 0, 0, 0],\n",
       "       [0, 0, 1, 0, 0, 0, 0, 0, 0],\n",
       "       [0, 0, 0, 0, 0, 0, 0, 0, 0],\n",
       "       [0, 0, 0, 0, 1, 0, 0, 0, 0],\n",
       "       [0, 0, 0, 1, 0, 0, 0, 0, 0],\n",
       "       [0, 0, 0, 0, 0, 1, 0, 0, 0],\n",
       "       [0, 0, 0, 0, 0, 0, 1, 0, 0],\n",
       "       [0, 0, 0, 0, 0, 0, 0, 1, 0],\n",
       "       [0, 0, 0, 0, 0, 0, 0, 0, 1]])"
      ]
     },
     "execution_count": 74,
     "metadata": {},
     "output_type": "execute_result"
    }
   ],
   "source": [
    "heatmap_arr"
   ]
  },
  {
   "cell_type": "code",
   "execution_count": 98,
   "metadata": {},
   "outputs": [],
   "source": [
    "def plot_matrix(heatmap_arr, en, fr):\n",
    "    fig, ax = plt.subplots(figsize=(15, 8))\n",
    "    im = ax.imshow(heatmap_arr)\n",
    "\n",
    "    ax.set_xticks(np.arange(len(fr)))\n",
    "    ax.set_yticks(np.arange(len(en)))\n",
    "    ax.set_xticklabels(fr)\n",
    "    ax.set_yticklabels(en)\n",
    "    ax.xaxis.set_label_position('top') \n",
    "    plt.setp(ax.get_xticklabels(), rotation=45, ha=\"right\",\n",
    "             rotation_mode=\"anchor\")\n",
    "    ax.xaxis.tick_top()\n",
    "    ax.set_ylim(len(heatmap_arr)-0.5, -0.5)\n",
    "\n",
    "    ax.set_title(\"Word Alignment Matrix\")\n",
    "    fig.tight_layout()\n",
    "    plt.show()"
   ]
  },
  {
   "cell_type": "code",
   "execution_count": 99,
   "metadata": {},
   "outputs": [
    {
     "data": {
      "image/png": "[encoded data removed]",
      "text/plain": [
       "<Figure size 1080x576 with 1 Axes>"
      ]
     },
     "metadata": {
      "needs_background": "light"
     },
     "output_type": "display_data"
    }
   ],
   "source": [
    "plot_matrix(heatmap_arr, all_q1_raw[0], all_q1_raw[1])"
   ]
  },
  {
   "cell_type": "markdown",
   "metadata": {},
   "source": [
    "# Question 2"
   ]
  },
  {
   "cell_type": "markdown",
   "metadata": {},
   "source": [
    "This was run using the following command:\n",
    "\n",
    "./fast_align -i ../../data/q1_raw.txt -d -o -v -r > ../../data/q2_reverse_align"
   ]
  },
  {
   "cell_type": "code",
   "execution_count": 101,
   "metadata": {},
   "outputs": [],
   "source": [
    "q2 = (open(\"./data/q2_reverse_align\",\"r+\")).read().replace(\"\\n\", \"\").split(\" \")"
   ]
  },
  {
   "cell_type": "code",
   "execution_count": 103,
   "metadata": {},
   "outputs": [],
   "source": [
    "all_q2_al = []\n",
    "for al in q2:\n",
    "    all_q2_al.append(al.split(\"-\"))"
   ]
  },
  {
   "cell_type": "code",
   "execution_count": 104,
   "metadata": {},
   "outputs": [
    {
     "data": {
      "text/plain": [
       "[['0', '0'],\n",
       " ['1', '1'],\n",
       " ['2', '2'],\n",
       " ['3', '2'],\n",
       " ['4', '4'],\n",
       " ['5', '3'],\n",
       " ['6', '5'],\n",
       " ['7', '6'],\n",
       " ['8', '7'],\n",
       " ['9', '8']]"
      ]
     },
     "execution_count": 104,
     "metadata": {},
     "output_type": "execute_result"
    }
   ],
   "source": [
    "all_q2_al"
   ]
  },
  {
   "cell_type": "code",
   "execution_count": 105,
   "metadata": {},
   "outputs": [],
   "source": [
    "heatmap_arr_q2 = [ [] for i in range(10) ]\n",
    "for mini_arr in heatmap_arr_q2:\n",
    "    for i in range(9):\n",
    "        mini_arr.append(0)"
   ]
  },
  {
   "cell_type": "code",
   "execution_count": 106,
   "metadata": {},
   "outputs": [],
   "source": [
    "for als in all_q2_al:\n",
    "    heatmap_arr_q2[int(als[0])][int(als[1])] = 1"
   ]
  },
  {
   "cell_type": "code",
   "execution_count": 108,
   "metadata": {},
   "outputs": [],
   "source": [
    "heatmap_arr_q2 = np.array(heatmap_arr_q2)"
   ]
  },
  {
   "cell_type": "code",
   "execution_count": 110,
   "metadata": {},
   "outputs": [
    {
     "data": {
      "image/png": "[encoded data removed]",
      "text/plain": [
       "<Figure size 1080x576 with 1 Axes>"
      ]
     },
     "metadata": {
      "needs_background": "light"
     },
     "output_type": "display_data"
    }
   ],
   "source": [
    "plot_matrix(heatmap_arr_q2, all_q1_raw[0], all_q1_raw[1])"
   ]
  },
  {
   "cell_type": "markdown",
   "metadata": {},
   "source": [
    "# Question 3"
   ]
  },
  {
   "cell_type": "markdown",
   "metadata": {},
   "source": [
    "This was run using the following command (as per the instructions):\n",
    "\n",
    "./atools -i ../../data/q1_forward_align -j ../../data/q2_reverse_align -c grow-diag-final-and > ../../data/q3"
   ]
  },
  {
   "cell_type": "code",
   "execution_count": 111,
   "metadata": {},
   "outputs": [],
   "source": [
    "q3 = (open(\"./data/q3\",\"r+\")).read().replace(\"\\n\", \"\").split(\" \")"
   ]
  },
  {
   "cell_type": "code",
   "execution_count": 113,
   "metadata": {},
   "outputs": [],
   "source": [
    "all_q3_al = []\n",
    "for al in q3:\n",
    "    all_q3_al.append(al.split(\"-\"))"
   ]
  },
  {
   "cell_type": "code",
   "execution_count": 114,
   "metadata": {},
   "outputs": [
    {
     "data": {
      "text/plain": [
       "[['0', '0'],\n",
       " ['1', '1'],\n",
       " ['2', '2'],\n",
       " ['3', '2'],\n",
       " ['4', '4'],\n",
       " ['5', '3'],\n",
       " ['6', '5'],\n",
       " ['7', '6'],\n",
       " ['8', '7'],\n",
       " ['9', '8']]"
      ]
     },
     "execution_count": 114,
     "metadata": {},
     "output_type": "execute_result"
    }
   ],
   "source": [
    "all_q3_al"
   ]
  },
  {
   "cell_type": "code",
   "execution_count": 115,
   "metadata": {},
   "outputs": [],
   "source": [
    "heatmap_arr_q3 = [ [] for i in range(10) ]\n",
    "for mini_arr in heatmap_arr_q3:\n",
    "    for i in range(9):\n",
    "        mini_arr.append(0)"
   ]
  },
  {
   "cell_type": "code",
   "execution_count": 117,
   "metadata": {},
   "outputs": [],
   "source": [
    "for als in all_q3_al:\n",
    "    heatmap_arr_q3[int(als[0])][int(als[1])] = 1\n",
    "heatmap_arr_q3 = np.array(heatmap_arr_q3)"
   ]
  },
  {
   "cell_type": "code",
   "execution_count": 118,
   "metadata": {},
   "outputs": [
    {
     "data": {
      "image/png": "[encoded data removed]",
      "text/plain": [
       "<Figure size 1080x576 with 1 Axes>"
      ]
     },
     "metadata": {
      "needs_background": "light"
     },
     "output_type": "display_data"
    }
   ],
   "source": [
    "plot_matrix(heatmap_arr_q3, all_q1_raw[0], all_q1_raw[1])"
   ]
  },
  {
   "cell_type": "markdown",
   "metadata": {},
   "source": [
    "# Question 4"
   ]
  },
  {
   "cell_type": "markdown",
   "metadata": {},
   "source": [
    "Using a large parallel corpus and a word alignment tool like fast_align (plus any additional post-processing), describe how you could extract a set of paraphrases for English."
   ]
  },
  {
   "cell_type": "markdown",
   "metadata": {},
   "source": [
    "There are a lot of ways that paraphrases could be extracted. However, given fast_align, an interesting way to extract them could be done by exploring translations of famous novels. A lot of world-renown novels that were originally written in, for example, French have been translated into English by various famous authors, and some of those, such as \"Madame Bovary\", have been turned into large parallel corpora. Although this could probably be done by using Neural Networks, fast_align is another quite efficient tool that could solve the problem of detecting and extracting paraphrases. For example, given multiple translations of a famous novel, the use of the exactly same words for translating specific sentences would certainly be a big stepping stone in identifying the paraphrases. Alignment with fast_align is then performed, where the paraphrase likelihood is based on the number of common words in a sentence pair, which is very helpful as quite a lot of paraphrases contain the same words in one way or another. After that, POS-Tagging is used to indetify the core structures of sentences, given nouns and verbs, which allows to map out similarities in potential paraphrases given context. Parse trees could also be used for performing a similar task. The context is defined by the similarities of the alignments. That is, if the context (alignment) is similar in two phrases, they are considered paraphrases. The contexts that seem to be the clearest in predicting a paraphrase are thereafter used in training an unsupervised model for future paraphrase extraction in the given corpus."
   ]
  },
  {
   "cell_type": "code",
   "execution_count": null,
   "metadata": {},
   "outputs": [],
   "source": []
  }
 ],
 "metadata": {
  "kernelspec": {
   "display_name": "Python 3",
   "language": "python",
   "name": "python3"
  },
  "language_info": {
   "codemirror_mode": {
    "name": "ipython",
    "version": 3
   },
   "file_extension": ".py",
   "mimetype": "text/x-python",
   "name": "python",
   "nbconvert_exporter": "python",
   "pygments_lexer": "ipython3",
   "version": "3.6.0"
  }
 },
 "nbformat": 4,
 "nbformat_minor": 2
}
