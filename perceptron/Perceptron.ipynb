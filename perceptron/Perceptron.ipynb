{
 "cells": [
  {
   "cell_type": "code",
   "execution_count": 44,
   "metadata": {},
   "outputs": [],
   "source": [
    "import sys\n",
    "import csv\n",
    "import math\n",
    "import random\n",
    "import operator\n",
    "import time\n",
    "import pandas as pd\n",
    "import numpy as np \n",
    "import seaborn as sns\n",
    "import matplotlib.pyplot as plt\n",
    "from random import seed, shuffle, randrange"
   ]
  },
  {
   "cell_type": "markdown",
   "metadata": {},
   "source": [
    "# Preprocesing"
   ]
  },
  {
   "cell_type": "markdown",
   "metadata": {},
   "source": [
    "Features:\n",
    "\n",
    "1. sepal length in cm\n",
    "2. sepal width in cm\n",
    "3. petal length in cm\n",
    "4. petal width in cm\n",
    "5. class: \n",
    "\n",
    "    1. Iris Setosa\n",
    "    2. Iris Virginica"
   ]
  },
  {
   "cell_type": "code",
   "execution_count": 3,
   "metadata": {},
   "outputs": [],
   "source": [
    "df = pd.read_csv(\"./data/iris_clean.csv\")"
   ]
  },
  {
   "cell_type": "code",
   "execution_count": 4,
   "metadata": {},
   "outputs": [
    {
     "data": {
      "text/html": [
       "<div>\n",
       "<style scoped>\n",
       "    .dataframe tbody tr th:only-of-type {\n",
       "        vertical-align: middle;\n",
       "    }\n",
       "\n",
       "    .dataframe tbody tr th {\n",
       "        vertical-align: top;\n",
       "    }\n",
       "\n",
       "    .dataframe thead th {\n",
       "        text-align: right;\n",
       "    }\n",
       "</style>\n",
       "<table border=\"1\" class=\"dataframe\">\n",
       "  <thead>\n",
       "    <tr style=\"text-align: right;\">\n",
       "      <th></th>\n",
       "      <th>sepallength</th>\n",
       "      <th>sepalwidth</th>\n",
       "      <th>petallength</th>\n",
       "      <th>petalwidth</th>\n",
       "      <th>class</th>\n",
       "    </tr>\n",
       "  </thead>\n",
       "  <tbody>\n",
       "    <tr>\n",
       "      <td>0</td>\n",
       "      <td>5.1</td>\n",
       "      <td>3.5</td>\n",
       "      <td>1.4</td>\n",
       "      <td>0.2</td>\n",
       "      <td>Iris-setosa</td>\n",
       "    </tr>\n",
       "    <tr>\n",
       "      <td>1</td>\n",
       "      <td>4.9</td>\n",
       "      <td>3.0</td>\n",
       "      <td>1.4</td>\n",
       "      <td>0.2</td>\n",
       "      <td>Iris-setosa</td>\n",
       "    </tr>\n",
       "    <tr>\n",
       "      <td>2</td>\n",
       "      <td>4.7</td>\n",
       "      <td>3.2</td>\n",
       "      <td>1.3</td>\n",
       "      <td>0.2</td>\n",
       "      <td>Iris-setosa</td>\n",
       "    </tr>\n",
       "    <tr>\n",
       "      <td>3</td>\n",
       "      <td>4.6</td>\n",
       "      <td>3.1</td>\n",
       "      <td>1.5</td>\n",
       "      <td>0.2</td>\n",
       "      <td>Iris-setosa</td>\n",
       "    </tr>\n",
       "    <tr>\n",
       "      <td>4</td>\n",
       "      <td>5.0</td>\n",
       "      <td>3.6</td>\n",
       "      <td>1.4</td>\n",
       "      <td>0.2</td>\n",
       "      <td>Iris-setosa</td>\n",
       "    </tr>\n",
       "    <tr>\n",
       "      <td>...</td>\n",
       "      <td>...</td>\n",
       "      <td>...</td>\n",
       "      <td>...</td>\n",
       "      <td>...</td>\n",
       "      <td>...</td>\n",
       "    </tr>\n",
       "    <tr>\n",
       "      <td>95</td>\n",
       "      <td>6.7</td>\n",
       "      <td>3.0</td>\n",
       "      <td>5.2</td>\n",
       "      <td>2.3</td>\n",
       "      <td>Iris-virginica</td>\n",
       "    </tr>\n",
       "    <tr>\n",
       "      <td>96</td>\n",
       "      <td>6.3</td>\n",
       "      <td>2.5</td>\n",
       "      <td>5.0</td>\n",
       "      <td>1.9</td>\n",
       "      <td>Iris-virginica</td>\n",
       "    </tr>\n",
       "    <tr>\n",
       "      <td>97</td>\n",
       "      <td>6.5</td>\n",
       "      <td>3.0</td>\n",
       "      <td>5.2</td>\n",
       "      <td>2.0</td>\n",
       "      <td>Iris-virginica</td>\n",
       "    </tr>\n",
       "    <tr>\n",
       "      <td>98</td>\n",
       "      <td>6.2</td>\n",
       "      <td>3.4</td>\n",
       "      <td>5.4</td>\n",
       "      <td>2.3</td>\n",
       "      <td>Iris-virginica</td>\n",
       "    </tr>\n",
       "    <tr>\n",
       "      <td>99</td>\n",
       "      <td>5.9</td>\n",
       "      <td>3.0</td>\n",
       "      <td>5.1</td>\n",
       "      <td>1.8</td>\n",
       "      <td>Iris-virginica</td>\n",
       "    </tr>\n",
       "  </tbody>\n",
       "</table>\n",
       "<p>100 rows × 5 columns</p>\n",
       "</div>"
      ],
      "text/plain": [
       "    sepallength  sepalwidth  petallength  petalwidth           class\n",
       "0           5.1         3.5          1.4         0.2     Iris-setosa\n",
       "1           4.9         3.0          1.4         0.2     Iris-setosa\n",
       "2           4.7         3.2          1.3         0.2     Iris-setosa\n",
       "3           4.6         3.1          1.5         0.2     Iris-setosa\n",
       "4           5.0         3.6          1.4         0.2     Iris-setosa\n",
       "..          ...         ...          ...         ...             ...\n",
       "95          6.7         3.0          5.2         2.3  Iris-virginica\n",
       "96          6.3         2.5          5.0         1.9  Iris-virginica\n",
       "97          6.5         3.0          5.2         2.0  Iris-virginica\n",
       "98          6.2         3.4          5.4         2.3  Iris-virginica\n",
       "99          5.9         3.0          5.1         1.8  Iris-virginica\n",
       "\n",
       "[100 rows x 5 columns]"
      ]
     },
     "execution_count": 4,
     "metadata": {},
     "output_type": "execute_result"
    }
   ],
   "source": [
    "df"
   ]
  },
  {
   "cell_type": "markdown",
   "metadata": {},
   "source": [
    "# Perceptron"
   ]
  },
  {
   "cell_type": "markdown",
   "metadata": {},
   "source": [
    "## 10-fold-stratiﬁed-cross-validation"
   ]
  },
  {
   "cell_type": "markdown",
   "metadata": {},
   "source": [
    "\"Stratification is the process of rearranging the data as to ensure each fold is a good representative of the whole. For example in a binary classification problem where each class comprises 50% of the data, it is best to arrange the data such that in every fold, each class comprises around half the instances.\""
   ]
  },
  {
   "cell_type": "code",
   "execution_count": 5,
   "metadata": {},
   "outputs": [],
   "source": [
    "df['class'] = df['class'].map({'Iris-setosa': 0, 'Iris-virginica': 1})"
   ]
  },
  {
   "cell_type": "code",
   "execution_count": 6,
   "metadata": {
    "scrolled": true
   },
   "outputs": [
    {
     "data": {
      "text/html": [
       "<div>\n",
       "<style scoped>\n",
       "    .dataframe tbody tr th:only-of-type {\n",
       "        vertical-align: middle;\n",
       "    }\n",
       "\n",
       "    .dataframe tbody tr th {\n",
       "        vertical-align: top;\n",
       "    }\n",
       "\n",
       "    .dataframe thead th {\n",
       "        text-align: right;\n",
       "    }\n",
       "</style>\n",
       "<table border=\"1\" class=\"dataframe\">\n",
       "  <thead>\n",
       "    <tr style=\"text-align: right;\">\n",
       "      <th></th>\n",
       "      <th>sepallength</th>\n",
       "      <th>sepalwidth</th>\n",
       "      <th>petallength</th>\n",
       "      <th>petalwidth</th>\n",
       "      <th>class</th>\n",
       "    </tr>\n",
       "  </thead>\n",
       "  <tbody>\n",
       "    <tr>\n",
       "      <td>0</td>\n",
       "      <td>5.1</td>\n",
       "      <td>3.5</td>\n",
       "      <td>1.4</td>\n",
       "      <td>0.2</td>\n",
       "      <td>0</td>\n",
       "    </tr>\n",
       "    <tr>\n",
       "      <td>1</td>\n",
       "      <td>4.9</td>\n",
       "      <td>3.0</td>\n",
       "      <td>1.4</td>\n",
       "      <td>0.2</td>\n",
       "      <td>0</td>\n",
       "    </tr>\n",
       "    <tr>\n",
       "      <td>2</td>\n",
       "      <td>4.7</td>\n",
       "      <td>3.2</td>\n",
       "      <td>1.3</td>\n",
       "      <td>0.2</td>\n",
       "      <td>0</td>\n",
       "    </tr>\n",
       "    <tr>\n",
       "      <td>3</td>\n",
       "      <td>4.6</td>\n",
       "      <td>3.1</td>\n",
       "      <td>1.5</td>\n",
       "      <td>0.2</td>\n",
       "      <td>0</td>\n",
       "    </tr>\n",
       "    <tr>\n",
       "      <td>4</td>\n",
       "      <td>5.0</td>\n",
       "      <td>3.6</td>\n",
       "      <td>1.4</td>\n",
       "      <td>0.2</td>\n",
       "      <td>0</td>\n",
       "    </tr>\n",
       "    <tr>\n",
       "      <td>...</td>\n",
       "      <td>...</td>\n",
       "      <td>...</td>\n",
       "      <td>...</td>\n",
       "      <td>...</td>\n",
       "      <td>...</td>\n",
       "    </tr>\n",
       "    <tr>\n",
       "      <td>95</td>\n",
       "      <td>6.7</td>\n",
       "      <td>3.0</td>\n",
       "      <td>5.2</td>\n",
       "      <td>2.3</td>\n",
       "      <td>1</td>\n",
       "    </tr>\n",
       "    <tr>\n",
       "      <td>96</td>\n",
       "      <td>6.3</td>\n",
       "      <td>2.5</td>\n",
       "      <td>5.0</td>\n",
       "      <td>1.9</td>\n",
       "      <td>1</td>\n",
       "    </tr>\n",
       "    <tr>\n",
       "      <td>97</td>\n",
       "      <td>6.5</td>\n",
       "      <td>3.0</td>\n",
       "      <td>5.2</td>\n",
       "      <td>2.0</td>\n",
       "      <td>1</td>\n",
       "    </tr>\n",
       "    <tr>\n",
       "      <td>98</td>\n",
       "      <td>6.2</td>\n",
       "      <td>3.4</td>\n",
       "      <td>5.4</td>\n",
       "      <td>2.3</td>\n",
       "      <td>1</td>\n",
       "    </tr>\n",
       "    <tr>\n",
       "      <td>99</td>\n",
       "      <td>5.9</td>\n",
       "      <td>3.0</td>\n",
       "      <td>5.1</td>\n",
       "      <td>1.8</td>\n",
       "      <td>1</td>\n",
       "    </tr>\n",
       "  </tbody>\n",
       "</table>\n",
       "<p>100 rows × 5 columns</p>\n",
       "</div>"
      ],
      "text/plain": [
       "    sepallength  sepalwidth  petallength  petalwidth  class\n",
       "0           5.1         3.5          1.4         0.2      0\n",
       "1           4.9         3.0          1.4         0.2      0\n",
       "2           4.7         3.2          1.3         0.2      0\n",
       "3           4.6         3.1          1.5         0.2      0\n",
       "4           5.0         3.6          1.4         0.2      0\n",
       "..          ...         ...          ...         ...    ...\n",
       "95          6.7         3.0          5.2         2.3      1\n",
       "96          6.3         2.5          5.0         1.9      1\n",
       "97          6.5         3.0          5.2         2.0      1\n",
       "98          6.2         3.4          5.4         2.3      1\n",
       "99          5.9         3.0          5.1         1.8      1\n",
       "\n",
       "[100 rows x 5 columns]"
      ]
     },
     "execution_count": 6,
     "metadata": {},
     "output_type": "execute_result"
    }
   ],
   "source": [
    "df"
   ]
  },
  {
   "cell_type": "code",
   "execution_count": 45,
   "metadata": {
    "scrolled": false
   },
   "outputs": [
    {
     "data": {
      "text/plain": [
       "<matplotlib.legend.Legend at 0x1131d01d0>"
      ]
     },
     "execution_count": 45,
     "metadata": {},
     "output_type": "execute_result"
    },
    {
     "data": {
      "image/png": "[encoded data removed]",
      "text/plain": [
       "<Figure size 360x360 with 1 Axes>"
      ]
     },
     "metadata": {
      "needs_background": "light"
     },
     "output_type": "display_data"
    }
   ],
   "source": [
    "sns.lmplot(x=\"sepallength\", y=\"sepalwidth\", data=df, fit_reg=False, hue='class', legend=False)\n",
    "plt.legend(loc='lower right')"
   ]
  },
  {
   "cell_type": "code",
   "execution_count": 279,
   "metadata": {
    "scrolled": false
   },
   "outputs": [
    {
     "data": {
      "text/plain": [
       "<matplotlib.legend.Legend at 0x1139ae240>"
      ]
     },
     "execution_count": 279,
     "metadata": {},
     "output_type": "execute_result"
    },
    {
     "data": {
      "image/png": "[encoded data removed]",
      "text/plain": [
       "<Figure size 360x360 with 1 Axes>"
      ]
     },
     "metadata": {
      "needs_background": "light"
     },
     "output_type": "display_data"
    }
   ],
   "source": [
    "sns.lmplot(x=\"petallength\", y=\"petalwidth\", data=df, fit_reg=False, hue='class', legend=False)\n",
    "plt.legend(loc='lower right')"
   ]
  },
  {
   "cell_type": "code",
   "execution_count": 47,
   "metadata": {
    "scrolled": false
   },
   "outputs": [
    {
     "data": {
      "text/plain": [
       "<matplotlib.legend.Legend at 0x113253f98>"
      ]
     },
     "execution_count": 47,
     "metadata": {},
     "output_type": "execute_result"
    },
    {
     "data": {
      "image/png": "[encoded data removed]",
      "text/plain": [
       "<Figure size 360x360 with 1 Axes>"
      ]
     },
     "metadata": {
      "needs_background": "light"
     },
     "output_type": "display_data"
    }
   ],
   "source": [
    "sns.lmplot(x=\"sepallength\", y=\"sepalwidth\", data=df, fit_reg=False, hue='class', legend=False)\n",
    "plt.legend(loc='lower right')"
   ]
  },
  {
   "cell_type": "code",
   "execution_count": 48,
   "metadata": {},
   "outputs": [
    {
     "data": {
      "text/plain": [
       "<matplotlib.legend.Legend at 0x110e02668>"
      ]
     },
     "execution_count": 48,
     "metadata": {},
     "output_type": "execute_result"
    },
    {
     "data": {
      "image/png": "[encoded data removed]",
      "text/plain": [
       "<Figure size 360x360 with 1 Axes>"
      ]
     },
     "metadata": {
      "needs_background": "light"
     },
     "output_type": "display_data"
    }
   ],
   "source": [
    "sns.lmplot(x=\"petallength\", y=\"sepalwidth\", data=df, fit_reg=False, hue='class', legend=False)\n",
    "plt.legend(loc='lower right')"
   ]
  },
  {
   "cell_type": "code",
   "execution_count": 160,
   "metadata": {},
   "outputs": [],
   "source": [
    "def nfscv(df, n):\n",
    "    split_data = []\n",
    "    data_list = df.values.tolist()\n",
    "    setosa = []\n",
    "    virginica = []\n",
    "    for entry in data_list: #stratification\n",
    "        if entry[4] == 0: #setosa\n",
    "            setosa.append(entry)\n",
    "        elif entry[4] == 1: #virginica\n",
    "            virginica.append(entry)\n",
    "    fold = int(len(data_list)/n)\n",
    "    for i in range(n): \n",
    "        f = []\n",
    "        while len(f) < fold:\n",
    "            index1 = randrange(len(setosa))\n",
    "            f.append(setosa.pop(index1))\n",
    "            index2 = randrange(len(virginica))\n",
    "            f.append(virginica.pop(index2))\n",
    "        random.shuffle(f)\n",
    "        split_data.append(f)\n",
    "    return split_data"
   ]
  },
  {
   "cell_type": "code",
   "execution_count": 161,
   "metadata": {},
   "outputs": [],
   "source": [
    "data = nfscv(df, 10)"
   ]
  },
  {
   "cell_type": "markdown",
   "metadata": {},
   "source": [
    "Read this article to understand the logic more: https://medium.com/@thomascountz/19-line-line-by-line-python-perceptron-b6f113b161f3"
   ]
  },
  {
   "cell_type": "code",
   "execution_count": 214,
   "metadata": {},
   "outputs": [],
   "source": [
    "def perceptr(train, test, learning_rate, epochs):\n",
    "    preds = []\n",
    "    weights = []\n",
    "    for i in range(len(train[0])):\n",
    "        weights.append(1.0)\n",
    "    for epoch in range(epochs):\n",
    "        sum_error = 0.0\n",
    "        for sample in train:\n",
    "            p = prediction(sample, weights)\n",
    "            error = sample[4] - p\n",
    "            sum_error += error**2\n",
    "            confidence = 100-sum_error\n",
    "            weights[0] = weights[0] + learning_rate * error\n",
    "            for i in range(len(sample)-1):\n",
    "                weights[i + 1] = weights[i + 1] + learning_rate * error * sample[i]\n",
    "        print('for epoch %d, the error is %.1f, the confidence is %.1f' % (epoch+1, sum_error, confidence))\n",
    "        pr = []\n",
    "        for sample in test:\n",
    "            pred = prediction(sample, weights)\n",
    "            pr.append(pred)\n",
    "        preds.append(pr)\n",
    "    return preds"
   ]
  },
  {
   "cell_type": "code",
   "execution_count": 215,
   "metadata": {},
   "outputs": [],
   "source": [
    "def prediction(sample, weights):\n",
    "    act = weights[0]\n",
    "    for i in range(len(sample)):\n",
    "        act += weights[i] * sample[i]\n",
    "    if act >= 0.0:\n",
    "        return 1.0\n",
    "    return 0.0"
   ]
  },
  {
   "cell_type": "code",
   "execution_count": 216,
   "metadata": {},
   "outputs": [],
   "source": [
    "def accuracy(truth, predicted):\n",
    "    correct = 0\n",
    "    for i in range(len(truth)):\n",
    "        if truth[i] == predicted[i]:\n",
    "            correct += 1\n",
    "    return correct/float(len(truth)) * 100.0"
   ]
  },
  {
   "cell_type": "code",
   "execution_count": 309,
   "metadata": {},
   "outputs": [],
   "source": [
    "def run(df, n, learning_rate, epochs):\n",
    "    folds = nfscv(df, n)\n",
    "    scores = []\n",
    "    for fold in folds:\n",
    "        train = list(folds)\n",
    "        train.remove(fold)\n",
    "        train = sum(train, [])\n",
    "        test = []\n",
    "        truth = []\n",
    "        for f in fold:\n",
    "            test.append(f)\n",
    "            truth.append(f[4])\n",
    "        predicted = perceptr(train, test, learning_rate, epochs)\n",
    "        acc = []\n",
    "        for p in predicted:\n",
    "            acc.append(accuracy(truth, p))\n",
    "        scores.append(acc)\n",
    "    return (scores, truth, predicted, folds)"
   ]
  },
  {
   "cell_type": "code",
   "execution_count": 286,
   "metadata": {},
   "outputs": [],
   "source": [
    "def total_acc(results):\n",
    "    all_epochs_acc = []\n",
    "    for fold in results:\n",
    "        epochs_acc = []\n",
    "        for epoch in fold:\n",
    "            epochs_acc.append(epoch)\n",
    "        all_epochs_acc.append(epochs_acc)\n",
    "    return all_epochs_acc"
   ]
  },
  {
   "cell_type": "code",
   "execution_count": 287,
   "metadata": {},
   "outputs": [],
   "source": [
    "def epoch_accs(df):\n",
    "    epoch_accs = []\n",
    "    for epoch in df:\n",
    "        epoch_accs.append(df[epoch].mean())\n",
    "    return epoch_accs"
   ]
  },
  {
   "cell_type": "code",
   "execution_count": 310,
   "metadata": {
    "scrolled": true
   },
   "outputs": [
    {
     "name": "stdout",
     "output_type": "stream",
     "text": [
      "for epoch 1, the error is 45.0, the confidence is 55.0\n",
      "for epoch 2, the error is 45.0, the confidence is 55.0\n",
      "for epoch 3, the error is 45.0, the confidence is 55.0\n",
      "for epoch 4, the error is 45.0, the confidence is 55.0\n",
      "for epoch 5, the error is 45.0, the confidence is 55.0\n",
      "for epoch 6, the error is 45.0, the confidence is 55.0\n",
      "for epoch 7, the error is 45.0, the confidence is 55.0\n",
      "for epoch 8, the error is 45.0, the confidence is 55.0\n",
      "for epoch 9, the error is 45.0, the confidence is 55.0\n",
      "for epoch 10, the error is 45.0, the confidence is 55.0\n",
      "for epoch 11, the error is 45.0, the confidence is 55.0\n",
      "for epoch 12, the error is 45.0, the confidence is 55.0\n",
      "for epoch 13, the error is 45.0, the confidence is 55.0\n",
      "for epoch 14, the error is 45.0, the confidence is 55.0\n",
      "for epoch 15, the error is 45.0, the confidence is 55.0\n",
      "for epoch 16, the error is 45.0, the confidence is 55.0\n",
      "for epoch 17, the error is 45.0, the confidence is 55.0\n",
      "for epoch 18, the error is 45.0, the confidence is 55.0\n",
      "for epoch 19, the error is 45.0, the confidence is 55.0\n",
      "for epoch 20, the error is 45.0, the confidence is 55.0\n",
      "for epoch 1, the error is 45.0, the confidence is 55.0\n",
      "for epoch 2, the error is 45.0, the confidence is 55.0\n",
      "for epoch 3, the error is 45.0, the confidence is 55.0\n",
      "for epoch 4, the error is 45.0, the confidence is 55.0\n",
      "for epoch 5, the error is 45.0, the confidence is 55.0\n",
      "for epoch 6, the error is 45.0, the confidence is 55.0\n",
      "for epoch 7, the error is 45.0, the confidence is 55.0\n",
      "for epoch 8, the error is 45.0, the confidence is 55.0\n",
      "for epoch 9, the error is 45.0, the confidence is 55.0\n",
      "for epoch 10, the error is 45.0, the confidence is 55.0\n",
      "for epoch 11, the error is 45.0, the confidence is 55.0\n",
      "for epoch 12, the error is 45.0, the confidence is 55.0\n",
      "for epoch 13, the error is 45.0, the confidence is 55.0\n",
      "for epoch 14, the error is 45.0, the confidence is 55.0\n",
      "for epoch 15, the error is 45.0, the confidence is 55.0\n",
      "for epoch 16, the error is 45.0, the confidence is 55.0\n",
      "for epoch 17, the error is 45.0, the confidence is 55.0\n",
      "for epoch 18, the error is 45.0, the confidence is 55.0\n",
      "for epoch 19, the error is 45.0, the confidence is 55.0\n",
      "for epoch 20, the error is 45.0, the confidence is 55.0\n",
      "for epoch 1, the error is 45.0, the confidence is 55.0\n",
      "for epoch 2, the error is 45.0, the confidence is 55.0\n",
      "for epoch 3, the error is 45.0, the confidence is 55.0\n",
      "for epoch 4, the error is 45.0, the confidence is 55.0\n",
      "for epoch 5, the error is 45.0, the confidence is 55.0\n",
      "for epoch 6, the error is 45.0, the confidence is 55.0\n",
      "for epoch 7, the error is 45.0, the confidence is 55.0\n",
      "for epoch 8, the error is 45.0, the confidence is 55.0\n",
      "for epoch 9, the error is 45.0, the confidence is 55.0\n",
      "for epoch 10, the error is 45.0, the confidence is 55.0\n",
      "for epoch 11, the error is 45.0, the confidence is 55.0\n",
      "for epoch 12, the error is 45.0, the confidence is 55.0\n",
      "for epoch 13, the error is 45.0, the confidence is 55.0\n",
      "for epoch 14, the error is 45.0, the confidence is 55.0\n",
      "for epoch 15, the error is 45.0, the confidence is 55.0\n",
      "for epoch 16, the error is 45.0, the confidence is 55.0\n",
      "for epoch 17, the error is 45.0, the confidence is 55.0\n",
      "for epoch 18, the error is 45.0, the confidence is 55.0\n",
      "for epoch 19, the error is 45.0, the confidence is 55.0\n",
      "for epoch 20, the error is 45.0, the confidence is 55.0\n",
      "for epoch 1, the error is 45.0, the confidence is 55.0\n",
      "for epoch 2, the error is 45.0, the confidence is 55.0\n",
      "for epoch 3, the error is 45.0, the confidence is 55.0\n",
      "for epoch 4, the error is 45.0, the confidence is 55.0\n",
      "for epoch 5, the error is 45.0, the confidence is 55.0\n",
      "for epoch 6, the error is 45.0, the confidence is 55.0\n",
      "for epoch 7, the error is 45.0, the confidence is 55.0\n",
      "for epoch 8, the error is 45.0, the confidence is 55.0\n",
      "for epoch 9, the error is 45.0, the confidence is 55.0\n",
      "for epoch 10, the error is 45.0, the confidence is 55.0\n",
      "for epoch 11, the error is 45.0, the confidence is 55.0\n",
      "for epoch 12, the error is 45.0, the confidence is 55.0\n",
      "for epoch 13, the error is 45.0, the confidence is 55.0\n",
      "for epoch 14, the error is 45.0, the confidence is 55.0\n",
      "for epoch 15, the error is 45.0, the confidence is 55.0\n",
      "for epoch 16, the error is 45.0, the confidence is 55.0\n",
      "for epoch 17, the error is 45.0, the confidence is 55.0\n",
      "for epoch 18, the error is 45.0, the confidence is 55.0\n",
      "for epoch 19, the error is 45.0, the confidence is 55.0\n",
      "for epoch 20, the error is 45.0, the confidence is 55.0\n",
      "for epoch 1, the error is 45.0, the confidence is 55.0\n",
      "for epoch 2, the error is 45.0, the confidence is 55.0\n",
      "for epoch 3, the error is 45.0, the confidence is 55.0\n",
      "for epoch 4, the error is 45.0, the confidence is 55.0\n",
      "for epoch 5, the error is 45.0, the confidence is 55.0\n",
      "for epoch 6, the error is 45.0, the confidence is 55.0\n",
      "for epoch 7, the error is 45.0, the confidence is 55.0\n",
      "for epoch 8, the error is 45.0, the confidence is 55.0\n",
      "for epoch 9, the error is 45.0, the confidence is 55.0\n",
      "for epoch 10, the error is 45.0, the confidence is 55.0\n",
      "for epoch 11, the error is 45.0, the confidence is 55.0\n",
      "for epoch 12, the error is 45.0, the confidence is 55.0\n",
      "for epoch 13, the error is 45.0, the confidence is 55.0\n",
      "for epoch 14, the error is 45.0, the confidence is 55.0\n",
      "for epoch 15, the error is 45.0, the confidence is 55.0\n",
      "for epoch 16, the error is 45.0, the confidence is 55.0\n",
      "for epoch 17, the error is 45.0, the confidence is 55.0\n",
      "for epoch 18, the error is 45.0, the confidence is 55.0\n",
      "for epoch 19, the error is 45.0, the confidence is 55.0\n",
      "for epoch 20, the error is 45.0, the confidence is 55.0\n",
      "for epoch 1, the error is 45.0, the confidence is 55.0\n",
      "for epoch 2, the error is 45.0, the confidence is 55.0\n",
      "for epoch 3, the error is 45.0, the confidence is 55.0\n",
      "for epoch 4, the error is 45.0, the confidence is 55.0\n",
      "for epoch 5, the error is 45.0, the confidence is 55.0\n",
      "for epoch 6, the error is 45.0, the confidence is 55.0\n",
      "for epoch 7, the error is 45.0, the confidence is 55.0\n",
      "for epoch 8, the error is 45.0, the confidence is 55.0\n",
      "for epoch 9, the error is 45.0, the confidence is 55.0\n",
      "for epoch 10, the error is 45.0, the confidence is 55.0\n",
      "for epoch 11, the error is 45.0, the confidence is 55.0\n",
      "for epoch 12, the error is 45.0, the confidence is 55.0\n",
      "for epoch 13, the error is 45.0, the confidence is 55.0\n",
      "for epoch 14, the error is 45.0, the confidence is 55.0\n",
      "for epoch 15, the error is 45.0, the confidence is 55.0\n",
      "for epoch 16, the error is 45.0, the confidence is 55.0\n",
      "for epoch 17, the error is 45.0, the confidence is 55.0\n",
      "for epoch 18, the error is 45.0, the confidence is 55.0\n",
      "for epoch 19, the error is 45.0, the confidence is 55.0\n",
      "for epoch 20, the error is 45.0, the confidence is 55.0\n",
      "for epoch 1, the error is 45.0, the confidence is 55.0\n",
      "for epoch 2, the error is 45.0, the confidence is 55.0\n",
      "for epoch 3, the error is 45.0, the confidence is 55.0\n",
      "for epoch 4, the error is 45.0, the confidence is 55.0\n",
      "for epoch 5, the error is 45.0, the confidence is 55.0\n",
      "for epoch 6, the error is 45.0, the confidence is 55.0\n",
      "for epoch 7, the error is 45.0, the confidence is 55.0\n",
      "for epoch 8, the error is 45.0, the confidence is 55.0\n",
      "for epoch 9, the error is 45.0, the confidence is 55.0\n",
      "for epoch 10, the error is 45.0, the confidence is 55.0\n",
      "for epoch 11, the error is 45.0, the confidence is 55.0\n",
      "for epoch 12, the error is 45.0, the confidence is 55.0\n",
      "for epoch 13, the error is 45.0, the confidence is 55.0\n",
      "for epoch 14, the error is 45.0, the confidence is 55.0\n",
      "for epoch 15, the error is 45.0, the confidence is 55.0\n",
      "for epoch 16, the error is 45.0, the confidence is 55.0\n",
      "for epoch 17, the error is 45.0, the confidence is 55.0\n",
      "for epoch 18, the error is 45.0, the confidence is 55.0\n",
      "for epoch 19, the error is 45.0, the confidence is 55.0\n",
      "for epoch 20, the error is 45.0, the confidence is 55.0\n",
      "for epoch 1, the error is 45.0, the confidence is 55.0\n",
      "for epoch 2, the error is 45.0, the confidence is 55.0\n",
      "for epoch 3, the error is 45.0, the confidence is 55.0\n",
      "for epoch 4, the error is 45.0, the confidence is 55.0\n",
      "for epoch 5, the error is 45.0, the confidence is 55.0\n",
      "for epoch 6, the error is 45.0, the confidence is 55.0\n",
      "for epoch 7, the error is 45.0, the confidence is 55.0\n",
      "for epoch 8, the error is 45.0, the confidence is 55.0\n",
      "for epoch 9, the error is 45.0, the confidence is 55.0\n",
      "for epoch 10, the error is 45.0, the confidence is 55.0\n",
      "for epoch 11, the error is 45.0, the confidence is 55.0\n",
      "for epoch 12, the error is 45.0, the confidence is 55.0\n",
      "for epoch 13, the error is 45.0, the confidence is 55.0\n",
      "for epoch 14, the error is 45.0, the confidence is 55.0\n",
      "for epoch 15, the error is 45.0, the confidence is 55.0\n",
      "for epoch 16, the error is 45.0, the confidence is 55.0\n",
      "for epoch 17, the error is 45.0, the confidence is 55.0\n",
      "for epoch 18, the error is 45.0, the confidence is 55.0\n",
      "for epoch 19, the error is 45.0, the confidence is 55.0\n",
      "for epoch 20, the error is 45.0, the confidence is 55.0\n",
      "for epoch 1, the error is 45.0, the confidence is 55.0\n",
      "for epoch 2, the error is 45.0, the confidence is 55.0\n",
      "for epoch 3, the error is 45.0, the confidence is 55.0\n",
      "for epoch 4, the error is 45.0, the confidence is 55.0\n",
      "for epoch 5, the error is 45.0, the confidence is 55.0\n",
      "for epoch 6, the error is 45.0, the confidence is 55.0\n",
      "for epoch 7, the error is 45.0, the confidence is 55.0\n",
      "for epoch 8, the error is 45.0, the confidence is 55.0\n",
      "for epoch 9, the error is 45.0, the confidence is 55.0\n",
      "for epoch 10, the error is 45.0, the confidence is 55.0\n",
      "for epoch 11, the error is 45.0, the confidence is 55.0\n",
      "for epoch 12, the error is 45.0, the confidence is 55.0\n",
      "for epoch 13, the error is 45.0, the confidence is 55.0\n",
      "for epoch 14, the error is 45.0, the confidence is 55.0\n",
      "for epoch 15, the error is 45.0, the confidence is 55.0\n",
      "for epoch 16, the error is 45.0, the confidence is 55.0\n",
      "for epoch 17, the error is 45.0, the confidence is 55.0\n",
      "for epoch 18, the error is 45.0, the confidence is 55.0\n",
      "for epoch 19, the error is 45.0, the confidence is 55.0\n",
      "for epoch 20, the error is 45.0, the confidence is 55.0\n",
      "for epoch 1, the error is 45.0, the confidence is 55.0\n",
      "for epoch 2, the error is 45.0, the confidence is 55.0\n",
      "for epoch 3, the error is 45.0, the confidence is 55.0\n",
      "for epoch 4, the error is 45.0, the confidence is 55.0\n",
      "for epoch 5, the error is 45.0, the confidence is 55.0\n",
      "for epoch 6, the error is 45.0, the confidence is 55.0\n",
      "for epoch 7, the error is 45.0, the confidence is 55.0\n",
      "for epoch 8, the error is 45.0, the confidence is 55.0\n",
      "for epoch 9, the error is 45.0, the confidence is 55.0\n",
      "for epoch 10, the error is 45.0, the confidence is 55.0\n",
      "for epoch 11, the error is 45.0, the confidence is 55.0\n",
      "for epoch 12, the error is 45.0, the confidence is 55.0\n",
      "for epoch 13, the error is 45.0, the confidence is 55.0\n",
      "for epoch 14, the error is 45.0, the confidence is 55.0\n",
      "for epoch 15, the error is 45.0, the confidence is 55.0\n",
      "for epoch 16, the error is 45.0, the confidence is 55.0\n",
      "for epoch 17, the error is 45.0, the confidence is 55.0\n",
      "for epoch 18, the error is 45.0, the confidence is 55.0\n",
      "for epoch 19, the error is 45.0, the confidence is 55.0\n",
      "for epoch 20, the error is 45.0, the confidence is 55.0\n"
     ]
    }
   ],
   "source": [
    "results2, truth2, predicted2, folds = run(df, 10, 0.00005, 20) "
   ]
  },
  {
   "cell_type": "code",
   "execution_count": 313,
   "metadata": {},
   "outputs": [
    {
     "name": "stdout",
     "output_type": "stream",
     "text": [
      "for epoch 1, the error is 25.0, the confidence is 75.0\n",
      "for epoch 2, the error is 25.0, the confidence is 75.0\n",
      "for epoch 3, the error is 25.0, the confidence is 75.0\n",
      "for epoch 4, the error is 25.0, the confidence is 75.0\n",
      "for epoch 5, the error is 25.0, the confidence is 75.0\n",
      "for epoch 6, the error is 25.0, the confidence is 75.0\n",
      "for epoch 7, the error is 25.0, the confidence is 75.0\n",
      "for epoch 8, the error is 25.0, the confidence is 75.0\n",
      "for epoch 9, the error is 25.0, the confidence is 75.0\n",
      "for epoch 10, the error is 25.0, the confidence is 75.0\n",
      "for epoch 11, the error is 25.0, the confidence is 75.0\n",
      "for epoch 12, the error is 25.0, the confidence is 75.0\n",
      "for epoch 13, the error is 25.0, the confidence is 75.0\n",
      "for epoch 14, the error is 25.0, the confidence is 75.0\n",
      "for epoch 15, the error is 25.0, the confidence is 75.0\n",
      "for epoch 16, the error is 21.0, the confidence is 79.0\n",
      "for epoch 17, the error is 9.0, the confidence is 91.0\n",
      "for epoch 18, the error is 3.0, the confidence is 97.0\n",
      "for epoch 19, the error is 2.0, the confidence is 98.0\n",
      "for epoch 20, the error is 1.0, the confidence is 99.0\n",
      "for epoch 1, the error is 25.0, the confidence is 75.0\n",
      "for epoch 2, the error is 25.0, the confidence is 75.0\n",
      "for epoch 3, the error is 25.0, the confidence is 75.0\n",
      "for epoch 4, the error is 25.0, the confidence is 75.0\n",
      "for epoch 5, the error is 25.0, the confidence is 75.0\n",
      "for epoch 6, the error is 25.0, the confidence is 75.0\n",
      "for epoch 7, the error is 25.0, the confidence is 75.0\n",
      "for epoch 8, the error is 25.0, the confidence is 75.0\n",
      "for epoch 9, the error is 25.0, the confidence is 75.0\n",
      "for epoch 10, the error is 25.0, the confidence is 75.0\n",
      "for epoch 11, the error is 25.0, the confidence is 75.0\n",
      "for epoch 12, the error is 25.0, the confidence is 75.0\n",
      "for epoch 13, the error is 25.0, the confidence is 75.0\n",
      "for epoch 14, the error is 25.0, the confidence is 75.0\n",
      "for epoch 15, the error is 24.0, the confidence is 76.0\n",
      "for epoch 16, the error is 17.0, the confidence is 83.0\n",
      "for epoch 17, the error is 4.0, the confidence is 96.0\n",
      "for epoch 18, the error is 3.0, the confidence is 97.0\n",
      "for epoch 19, the error is 0.0, the confidence is 100.0\n",
      "for epoch 20, the error is 0.0, the confidence is 100.0\n"
     ]
    }
   ],
   "source": [
    "results_plt, truth_plt, predicted_plt, folds = run(df, 2, 0.001, 20) "
   ]
  },
  {
   "cell_type": "code",
   "execution_count": 324,
   "metadata": {},
   "outputs": [],
   "source": [
    "sl = []\n",
    "sw = []\n",
    "i = 0\n",
    "for fold in folds:\n",
    "    if i == 0:\n",
    "        for f in fold:\n",
    "            sl.append(f[0])\n",
    "            sw.append(f[1])\n",
    "    i += 1"
   ]
  },
  {
   "cell_type": "code",
   "execution_count": 325,
   "metadata": {},
   "outputs": [],
   "source": [
    "# len(predicted_plt[19])\n",
    "plt_df = pd.DataFrame({'class': predicted_plt[19], 'sepallength': sl, 'sepalwidth': sw})"
   ]
  },
  {
   "cell_type": "code",
   "execution_count": 326,
   "metadata": {},
   "outputs": [
    {
     "data": {
      "text/plain": [
       "<matplotlib.legend.Legend at 0x113fea390>"
      ]
     },
     "execution_count": 326,
     "metadata": {},
     "output_type": "execute_result"
    },
    {
     "data": {
      "image/png": "[encoded data removed]",
      "text/plain": [
       "<Figure size 360x360 with 1 Axes>"
      ]
     },
     "metadata": {
      "needs_background": "light"
     },
     "output_type": "display_data"
    }
   ],
   "source": [
    "sns.lmplot(x=\"sepallength\", y=\"sepalwidth\", data=plt_df, fit_reg=False, hue='class', legend=False)\n",
    "plt.legend(loc='lower right')"
   ]
  },
  {
   "cell_type": "code",
   "execution_count": 263,
   "metadata": {},
   "outputs": [],
   "source": [
    "df_acc2 = pd.DataFrame(total_acc(results2))\n",
    "accs_00005 = epoch_accs(df_acc2)"
   ]
  },
  {
   "cell_type": "code",
   "execution_count": 264,
   "metadata": {},
   "outputs": [
    {
     "data": {
      "image/png": "[encoded data removed]",
      "text/plain": [
       "<Figure size 432x288 with 1 Axes>"
      ]
     },
     "metadata": {
      "needs_background": "light"
     },
     "output_type": "display_data"
    }
   ],
   "source": [
    "plt.plot(accs_00005)\n",
    "plt.ylabel('accuracy %')\n",
    "plt.xlabel('epochs')\n",
    "plt.show()"
   ]
  },
  {
   "cell_type": "code",
   "execution_count": 265,
   "metadata": {
    "scrolled": true
   },
   "outputs": [
    {
     "name": "stdout",
     "output_type": "stream",
     "text": [
      "for epoch 1, the error is 45.0, the confidence is 55.0\n",
      "for epoch 2, the error is 45.0, the confidence is 55.0\n",
      "for epoch 3, the error is 45.0, the confidence is 55.0\n",
      "for epoch 4, the error is 45.0, the confidence is 55.0\n",
      "for epoch 5, the error is 45.0, the confidence is 55.0\n",
      "for epoch 6, the error is 45.0, the confidence is 55.0\n",
      "for epoch 7, the error is 45.0, the confidence is 55.0\n",
      "for epoch 8, the error is 45.0, the confidence is 55.0\n",
      "for epoch 9, the error is 36.0, the confidence is 64.0\n",
      "for epoch 10, the error is 8.0, the confidence is 92.0\n",
      "for epoch 11, the error is 3.0, the confidence is 97.0\n",
      "for epoch 12, the error is 1.0, the confidence is 99.0\n",
      "for epoch 13, the error is 1.0, the confidence is 99.0\n",
      "for epoch 14, the error is 1.0, the confidence is 99.0\n",
      "for epoch 15, the error is 1.0, the confidence is 99.0\n",
      "for epoch 16, the error is 1.0, the confidence is 99.0\n",
      "for epoch 17, the error is 1.0, the confidence is 99.0\n",
      "for epoch 18, the error is 1.0, the confidence is 99.0\n",
      "for epoch 19, the error is 1.0, the confidence is 99.0\n",
      "for epoch 20, the error is 1.0, the confidence is 99.0\n",
      "for epoch 1, the error is 45.0, the confidence is 55.0\n",
      "for epoch 2, the error is 45.0, the confidence is 55.0\n",
      "for epoch 3, the error is 45.0, the confidence is 55.0\n",
      "for epoch 4, the error is 45.0, the confidence is 55.0\n",
      "for epoch 5, the error is 45.0, the confidence is 55.0\n",
      "for epoch 6, the error is 45.0, the confidence is 55.0\n",
      "for epoch 7, the error is 45.0, the confidence is 55.0\n",
      "for epoch 8, the error is 45.0, the confidence is 55.0\n",
      "for epoch 9, the error is 34.0, the confidence is 66.0\n",
      "for epoch 10, the error is 8.0, the confidence is 92.0\n",
      "for epoch 11, the error is 3.0, the confidence is 97.0\n",
      "for epoch 12, the error is 1.0, the confidence is 99.0\n",
      "for epoch 13, the error is 1.0, the confidence is 99.0\n",
      "for epoch 14, the error is 1.0, the confidence is 99.0\n",
      "for epoch 15, the error is 1.0, the confidence is 99.0\n",
      "for epoch 16, the error is 1.0, the confidence is 99.0\n",
      "for epoch 17, the error is 1.0, the confidence is 99.0\n",
      "for epoch 18, the error is 1.0, the confidence is 99.0\n",
      "for epoch 19, the error is 1.0, the confidence is 99.0\n",
      "for epoch 20, the error is 1.0, the confidence is 99.0\n",
      "for epoch 1, the error is 45.0, the confidence is 55.0\n",
      "for epoch 2, the error is 45.0, the confidence is 55.0\n",
      "for epoch 3, the error is 45.0, the confidence is 55.0\n",
      "for epoch 4, the error is 45.0, the confidence is 55.0\n",
      "for epoch 5, the error is 45.0, the confidence is 55.0\n",
      "for epoch 6, the error is 45.0, the confidence is 55.0\n",
      "for epoch 7, the error is 45.0, the confidence is 55.0\n",
      "for epoch 8, the error is 45.0, the confidence is 55.0\n",
      "for epoch 9, the error is 36.0, the confidence is 64.0\n",
      "for epoch 10, the error is 7.0, the confidence is 93.0\n",
      "for epoch 11, the error is 3.0, the confidence is 97.0\n",
      "for epoch 12, the error is 1.0, the confidence is 99.0\n",
      "for epoch 13, the error is 1.0, the confidence is 99.0\n",
      "for epoch 14, the error is 1.0, the confidence is 99.0\n",
      "for epoch 15, the error is 1.0, the confidence is 99.0\n",
      "for epoch 16, the error is 1.0, the confidence is 99.0\n",
      "for epoch 17, the error is 1.0, the confidence is 99.0\n",
      "for epoch 18, the error is 1.0, the confidence is 99.0\n",
      "for epoch 19, the error is 1.0, the confidence is 99.0\n",
      "for epoch 20, the error is 1.0, the confidence is 99.0\n",
      "for epoch 1, the error is 45.0, the confidence is 55.0\n",
      "for epoch 2, the error is 45.0, the confidence is 55.0\n",
      "for epoch 3, the error is 45.0, the confidence is 55.0\n",
      "for epoch 4, the error is 45.0, the confidence is 55.0\n",
      "for epoch 5, the error is 45.0, the confidence is 55.0\n",
      "for epoch 6, the error is 45.0, the confidence is 55.0\n",
      "for epoch 7, the error is 45.0, the confidence is 55.0\n",
      "for epoch 8, the error is 45.0, the confidence is 55.0\n",
      "for epoch 9, the error is 34.0, the confidence is 66.0\n",
      "for epoch 10, the error is 8.0, the confidence is 92.0\n",
      "for epoch 11, the error is 3.0, the confidence is 97.0\n",
      "for epoch 12, the error is 1.0, the confidence is 99.0\n",
      "for epoch 13, the error is 1.0, the confidence is 99.0\n",
      "for epoch 14, the error is 1.0, the confidence is 99.0\n",
      "for epoch 15, the error is 1.0, the confidence is 99.0\n",
      "for epoch 16, the error is 1.0, the confidence is 99.0\n",
      "for epoch 17, the error is 1.0, the confidence is 99.0\n",
      "for epoch 18, the error is 1.0, the confidence is 99.0\n",
      "for epoch 19, the error is 1.0, the confidence is 99.0\n",
      "for epoch 20, the error is 1.0, the confidence is 99.0\n",
      "for epoch 1, the error is 45.0, the confidence is 55.0\n",
      "for epoch 2, the error is 45.0, the confidence is 55.0\n",
      "for epoch 3, the error is 45.0, the confidence is 55.0\n",
      "for epoch 4, the error is 45.0, the confidence is 55.0\n",
      "for epoch 5, the error is 45.0, the confidence is 55.0\n",
      "for epoch 6, the error is 45.0, the confidence is 55.0\n",
      "for epoch 7, the error is 45.0, the confidence is 55.0\n",
      "for epoch 8, the error is 45.0, the confidence is 55.0\n",
      "for epoch 9, the error is 36.0, the confidence is 64.0\n",
      "for epoch 10, the error is 8.0, the confidence is 92.0\n",
      "for epoch 11, the error is 3.0, the confidence is 97.0\n",
      "for epoch 12, the error is 1.0, the confidence is 99.0\n",
      "for epoch 13, the error is 1.0, the confidence is 99.0\n",
      "for epoch 14, the error is 1.0, the confidence is 99.0\n",
      "for epoch 15, the error is 1.0, the confidence is 99.0\n",
      "for epoch 16, the error is 1.0, the confidence is 99.0\n",
      "for epoch 17, the error is 1.0, the confidence is 99.0\n",
      "for epoch 18, the error is 1.0, the confidence is 99.0\n",
      "for epoch 19, the error is 1.0, the confidence is 99.0\n",
      "for epoch 20, the error is 1.0, the confidence is 99.0\n",
      "for epoch 1, the error is 45.0, the confidence is 55.0\n",
      "for epoch 2, the error is 45.0, the confidence is 55.0\n",
      "for epoch 3, the error is 45.0, the confidence is 55.0\n",
      "for epoch 4, the error is 45.0, the confidence is 55.0\n",
      "for epoch 5, the error is 45.0, the confidence is 55.0\n",
      "for epoch 6, the error is 45.0, the confidence is 55.0\n",
      "for epoch 7, the error is 45.0, the confidence is 55.0\n",
      "for epoch 8, the error is 45.0, the confidence is 55.0\n",
      "for epoch 9, the error is 34.0, the confidence is 66.0\n",
      "for epoch 10, the error is 8.0, the confidence is 92.0\n",
      "for epoch 11, the error is 3.0, the confidence is 97.0\n",
      "for epoch 12, the error is 1.0, the confidence is 99.0\n",
      "for epoch 13, the error is 1.0, the confidence is 99.0\n",
      "for epoch 14, the error is 1.0, the confidence is 99.0\n",
      "for epoch 15, the error is 1.0, the confidence is 99.0\n",
      "for epoch 16, the error is 1.0, the confidence is 99.0\n",
      "for epoch 17, the error is 1.0, the confidence is 99.0\n",
      "for epoch 18, the error is 1.0, the confidence is 99.0\n",
      "for epoch 19, the error is 1.0, the confidence is 99.0\n",
      "for epoch 20, the error is 1.0, the confidence is 99.0\n",
      "for epoch 1, the error is 45.0, the confidence is 55.0\n",
      "for epoch 2, the error is 45.0, the confidence is 55.0\n",
      "for epoch 3, the error is 45.0, the confidence is 55.0\n",
      "for epoch 4, the error is 45.0, the confidence is 55.0\n",
      "for epoch 5, the error is 45.0, the confidence is 55.0\n",
      "for epoch 6, the error is 45.0, the confidence is 55.0\n",
      "for epoch 7, the error is 45.0, the confidence is 55.0\n",
      "for epoch 8, the error is 45.0, the confidence is 55.0\n",
      "for epoch 9, the error is 34.0, the confidence is 66.0\n",
      "for epoch 10, the error is 8.0, the confidence is 92.0\n",
      "for epoch 11, the error is 3.0, the confidence is 97.0\n",
      "for epoch 12, the error is 1.0, the confidence is 99.0\n",
      "for epoch 13, the error is 1.0, the confidence is 99.0\n",
      "for epoch 14, the error is 1.0, the confidence is 99.0\n",
      "for epoch 15, the error is 1.0, the confidence is 99.0\n",
      "for epoch 16, the error is 1.0, the confidence is 99.0\n",
      "for epoch 17, the error is 1.0, the confidence is 99.0\n",
      "for epoch 18, the error is 1.0, the confidence is 99.0\n",
      "for epoch 19, the error is 1.0, the confidence is 99.0\n",
      "for epoch 20, the error is 1.0, the confidence is 99.0\n",
      "for epoch 1, the error is 45.0, the confidence is 55.0\n",
      "for epoch 2, the error is 45.0, the confidence is 55.0\n",
      "for epoch 3, the error is 45.0, the confidence is 55.0\n",
      "for epoch 4, the error is 45.0, the confidence is 55.0\n",
      "for epoch 5, the error is 45.0, the confidence is 55.0\n",
      "for epoch 6, the error is 45.0, the confidence is 55.0\n",
      "for epoch 7, the error is 45.0, the confidence is 55.0\n",
      "for epoch 8, the error is 45.0, the confidence is 55.0\n",
      "for epoch 9, the error is 34.0, the confidence is 66.0\n",
      "for epoch 10, the error is 8.0, the confidence is 92.0\n",
      "for epoch 11, the error is 2.0, the confidence is 98.0\n",
      "for epoch 12, the error is 1.0, the confidence is 99.0\n",
      "for epoch 13, the error is 1.0, the confidence is 99.0\n",
      "for epoch 14, the error is 1.0, the confidence is 99.0\n",
      "for epoch 15, the error is 1.0, the confidence is 99.0\n",
      "for epoch 16, the error is 1.0, the confidence is 99.0\n",
      "for epoch 17, the error is 1.0, the confidence is 99.0\n",
      "for epoch 18, the error is 1.0, the confidence is 99.0\n",
      "for epoch 19, the error is 1.0, the confidence is 99.0\n",
      "for epoch 20, the error is 1.0, the confidence is 99.0\n",
      "for epoch 1, the error is 45.0, the confidence is 55.0\n",
      "for epoch 2, the error is 45.0, the confidence is 55.0\n",
      "for epoch 3, the error is 45.0, the confidence is 55.0\n",
      "for epoch 4, the error is 45.0, the confidence is 55.0\n",
      "for epoch 5, the error is 45.0, the confidence is 55.0\n",
      "for epoch 6, the error is 45.0, the confidence is 55.0\n",
      "for epoch 7, the error is 45.0, the confidence is 55.0\n",
      "for epoch 8, the error is 45.0, the confidence is 55.0\n",
      "for epoch 9, the error is 36.0, the confidence is 64.0\n",
      "for epoch 10, the error is 9.0, the confidence is 91.0\n",
      "for epoch 11, the error is 3.0, the confidence is 97.0\n",
      "for epoch 12, the error is 1.0, the confidence is 99.0\n",
      "for epoch 13, the error is 1.0, the confidence is 99.0\n",
      "for epoch 14, the error is 1.0, the confidence is 99.0\n",
      "for epoch 15, the error is 1.0, the confidence is 99.0\n",
      "for epoch 16, the error is 1.0, the confidence is 99.0\n",
      "for epoch 17, the error is 1.0, the confidence is 99.0\n",
      "for epoch 18, the error is 1.0, the confidence is 99.0\n",
      "for epoch 19, the error is 1.0, the confidence is 99.0\n",
      "for epoch 20, the error is 1.0, the confidence is 99.0\n",
      "for epoch 1, the error is 45.0, the confidence is 55.0\n",
      "for epoch 2, the error is 45.0, the confidence is 55.0\n",
      "for epoch 3, the error is 45.0, the confidence is 55.0\n",
      "for epoch 4, the error is 45.0, the confidence is 55.0\n",
      "for epoch 5, the error is 45.0, the confidence is 55.0\n",
      "for epoch 6, the error is 45.0, the confidence is 55.0\n",
      "for epoch 7, the error is 45.0, the confidence is 55.0\n",
      "for epoch 8, the error is 45.0, the confidence is 55.0\n",
      "for epoch 9, the error is 33.0, the confidence is 67.0\n",
      "for epoch 10, the error is 8.0, the confidence is 92.0\n",
      "for epoch 11, the error is 2.0, the confidence is 98.0\n",
      "for epoch 12, the error is 2.0, the confidence is 98.0\n",
      "for epoch 13, the error is 0.0, the confidence is 100.0\n",
      "for epoch 14, the error is 0.0, the confidence is 100.0\n",
      "for epoch 15, the error is 0.0, the confidence is 100.0\n",
      "for epoch 16, the error is 0.0, the confidence is 100.0\n",
      "for epoch 17, the error is 0.0, the confidence is 100.0\n",
      "for epoch 18, the error is 0.0, the confidence is 100.0\n",
      "for epoch 19, the error is 0.0, the confidence is 100.0\n",
      "for epoch 20, the error is 0.0, the confidence is 100.0\n"
     ]
    }
   ],
   "source": [
    "results3 = run(df, 10, 0.001, 20)"
   ]
  },
  {
   "cell_type": "code",
   "execution_count": 266,
   "metadata": {},
   "outputs": [],
   "source": [
    "df_acc3 = pd.DataFrame(total_acc(results3))\n",
    "accs_001 = epoch_accs(df_acc3)"
   ]
  },
  {
   "cell_type": "code",
   "execution_count": 267,
   "metadata": {},
   "outputs": [
    {
     "data": {
      "image/png": "[encoded data removed]",
      "text/plain": [
       "<Figure size 432x288 with 1 Axes>"
      ]
     },
     "metadata": {
      "needs_background": "light"
     },
     "output_type": "display_data"
    }
   ],
   "source": [
    "plt.plot(accs_001)\n",
    "plt.ylabel('accuracy %')\n",
    "plt.xlabel('epochs')\n",
    "plt.show()"
   ]
  },
  {
   "cell_type": "code",
   "execution_count": 268,
   "metadata": {
    "scrolled": true
   },
   "outputs": [
    {
     "name": "stdout",
     "output_type": "stream",
     "text": [
      "for epoch 1, the error is 45.0, the confidence is 55.0\n",
      "for epoch 2, the error is 36.0, the confidence is 64.0\n",
      "for epoch 3, the error is 2.0, the confidence is 98.0\n",
      "for epoch 4, the error is 1.0, the confidence is 99.0\n",
      "for epoch 5, the error is 2.0, the confidence is 98.0\n",
      "for epoch 6, the error is 1.0, the confidence is 99.0\n",
      "for epoch 7, the error is 2.0, the confidence is 98.0\n",
      "for epoch 8, the error is 1.0, the confidence is 99.0\n",
      "for epoch 9, the error is 2.0, the confidence is 98.0\n",
      "for epoch 10, the error is 2.0, the confidence is 98.0\n",
      "for epoch 11, the error is 1.0, the confidence is 99.0\n",
      "for epoch 12, the error is 2.0, the confidence is 98.0\n",
      "for epoch 13, the error is 1.0, the confidence is 99.0\n",
      "for epoch 14, the error is 2.0, the confidence is 98.0\n",
      "for epoch 15, the error is 1.0, the confidence is 99.0\n",
      "for epoch 16, the error is 2.0, the confidence is 98.0\n",
      "for epoch 17, the error is 1.0, the confidence is 99.0\n",
      "for epoch 18, the error is 2.0, the confidence is 98.0\n",
      "for epoch 19, the error is 2.0, the confidence is 98.0\n",
      "for epoch 20, the error is 1.0, the confidence is 99.0\n",
      "for epoch 1, the error is 45.0, the confidence is 55.0\n",
      "for epoch 2, the error is 36.0, the confidence is 64.0\n",
      "for epoch 3, the error is 1.0, the confidence is 99.0\n",
      "for epoch 4, the error is 1.0, the confidence is 99.0\n",
      "for epoch 5, the error is 1.0, the confidence is 99.0\n",
      "for epoch 6, the error is 2.0, the confidence is 98.0\n",
      "for epoch 7, the error is 1.0, the confidence is 99.0\n",
      "for epoch 8, the error is 2.0, the confidence is 98.0\n",
      "for epoch 9, the error is 1.0, the confidence is 99.0\n",
      "for epoch 10, the error is 2.0, the confidence is 98.0\n",
      "for epoch 11, the error is 2.0, the confidence is 98.0\n",
      "for epoch 12, the error is 1.0, the confidence is 99.0\n",
      "for epoch 13, the error is 2.0, the confidence is 98.0\n",
      "for epoch 14, the error is 1.0, the confidence is 99.0\n",
      "for epoch 15, the error is 2.0, the confidence is 98.0\n",
      "for epoch 16, the error is 1.0, the confidence is 99.0\n",
      "for epoch 17, the error is 2.0, the confidence is 98.0\n",
      "for epoch 18, the error is 2.0, the confidence is 98.0\n",
      "for epoch 19, the error is 1.0, the confidence is 99.0\n",
      "for epoch 20, the error is 2.0, the confidence is 98.0\n",
      "for epoch 1, the error is 45.0, the confidence is 55.0\n",
      "for epoch 2, the error is 36.0, the confidence is 64.0\n",
      "for epoch 3, the error is 1.0, the confidence is 99.0\n",
      "for epoch 4, the error is 1.0, the confidence is 99.0\n",
      "for epoch 5, the error is 1.0, the confidence is 99.0\n",
      "for epoch 6, the error is 2.0, the confidence is 98.0\n",
      "for epoch 7, the error is 2.0, the confidence is 98.0\n",
      "for epoch 8, the error is 1.0, the confidence is 99.0\n",
      "for epoch 9, the error is 2.0, the confidence is 98.0\n",
      "for epoch 10, the error is 1.0, the confidence is 99.0\n",
      "for epoch 11, the error is 2.0, the confidence is 98.0\n",
      "for epoch 12, the error is 1.0, the confidence is 99.0\n",
      "for epoch 13, the error is 2.0, the confidence is 98.0\n",
      "for epoch 14, the error is 1.0, the confidence is 99.0\n",
      "for epoch 15, the error is 2.0, the confidence is 98.0\n",
      "for epoch 16, the error is 2.0, the confidence is 98.0\n",
      "for epoch 17, the error is 1.0, the confidence is 99.0\n",
      "for epoch 18, the error is 2.0, the confidence is 98.0\n",
      "for epoch 19, the error is 1.0, the confidence is 99.0\n",
      "for epoch 20, the error is 2.0, the confidence is 98.0\n",
      "for epoch 1, the error is 45.0, the confidence is 55.0\n",
      "for epoch 2, the error is 36.0, the confidence is 64.0\n",
      "for epoch 3, the error is 2.0, the confidence is 98.0\n",
      "for epoch 4, the error is 1.0, the confidence is 99.0\n",
      "for epoch 5, the error is 2.0, the confidence is 98.0\n",
      "for epoch 6, the error is 1.0, the confidence is 99.0\n",
      "for epoch 7, the error is 2.0, the confidence is 98.0\n",
      "for epoch 8, the error is 1.0, the confidence is 99.0\n",
      "for epoch 9, the error is 2.0, the confidence is 98.0\n",
      "for epoch 10, the error is 2.0, the confidence is 98.0\n",
      "for epoch 11, the error is 1.0, the confidence is 99.0\n",
      "for epoch 12, the error is 2.0, the confidence is 98.0\n",
      "for epoch 13, the error is 1.0, the confidence is 99.0\n",
      "for epoch 14, the error is 2.0, the confidence is 98.0\n",
      "for epoch 15, the error is 1.0, the confidence is 99.0\n",
      "for epoch 16, the error is 2.0, the confidence is 98.0\n",
      "for epoch 17, the error is 2.0, the confidence is 98.0\n",
      "for epoch 18, the error is 1.0, the confidence is 99.0\n",
      "for epoch 19, the error is 2.0, the confidence is 98.0\n",
      "for epoch 20, the error is 1.0, the confidence is 99.0\n",
      "for epoch 1, the error is 45.0, the confidence is 55.0\n",
      "for epoch 2, the error is 35.0, the confidence is 65.0\n",
      "for epoch 3, the error is 2.0, the confidence is 98.0\n",
      "for epoch 4, the error is 1.0, the confidence is 99.0\n",
      "for epoch 5, the error is 2.0, the confidence is 98.0\n",
      "for epoch 6, the error is 1.0, the confidence is 99.0\n",
      "for epoch 7, the error is 2.0, the confidence is 98.0\n",
      "for epoch 8, the error is 1.0, the confidence is 99.0\n",
      "for epoch 9, the error is 2.0, the confidence is 98.0\n",
      "for epoch 10, the error is 1.0, the confidence is 99.0\n",
      "for epoch 11, the error is 2.0, the confidence is 98.0\n",
      "for epoch 12, the error is 2.0, the confidence is 98.0\n",
      "for epoch 13, the error is 1.0, the confidence is 99.0\n",
      "for epoch 14, the error is 2.0, the confidence is 98.0\n",
      "for epoch 15, the error is 1.0, the confidence is 99.0\n",
      "for epoch 16, the error is 2.0, the confidence is 98.0\n",
      "for epoch 17, the error is 1.0, the confidence is 99.0\n",
      "for epoch 18, the error is 2.0, the confidence is 98.0\n",
      "for epoch 19, the error is 2.0, the confidence is 98.0\n",
      "for epoch 20, the error is 1.0, the confidence is 99.0\n",
      "for epoch 1, the error is 45.0, the confidence is 55.0\n",
      "for epoch 2, the error is 36.0, the confidence is 64.0\n",
      "for epoch 3, the error is 1.0, the confidence is 99.0\n",
      "for epoch 4, the error is 1.0, the confidence is 99.0\n",
      "for epoch 5, the error is 1.0, the confidence is 99.0\n",
      "for epoch 6, the error is 2.0, the confidence is 98.0\n",
      "for epoch 7, the error is 1.0, the confidence is 99.0\n",
      "for epoch 8, the error is 2.0, the confidence is 98.0\n",
      "for epoch 9, the error is 1.0, the confidence is 99.0\n",
      "for epoch 10, the error is 2.0, the confidence is 98.0\n",
      "for epoch 11, the error is 2.0, the confidence is 98.0\n",
      "for epoch 12, the error is 1.0, the confidence is 99.0\n",
      "for epoch 13, the error is 2.0, the confidence is 98.0\n",
      "for epoch 14, the error is 2.0, the confidence is 98.0\n",
      "for epoch 15, the error is 1.0, the confidence is 99.0\n",
      "for epoch 16, the error is 2.0, the confidence is 98.0\n",
      "for epoch 17, the error is 1.0, the confidence is 99.0\n",
      "for epoch 18, the error is 2.0, the confidence is 98.0\n",
      "for epoch 19, the error is 2.0, the confidence is 98.0\n",
      "for epoch 20, the error is 1.0, the confidence is 99.0\n",
      "for epoch 1, the error is 45.0, the confidence is 55.0\n",
      "for epoch 2, the error is 35.0, the confidence is 65.0\n",
      "for epoch 3, the error is 1.0, the confidence is 99.0\n",
      "for epoch 4, the error is 0.0, the confidence is 100.0\n",
      "for epoch 5, the error is 0.0, the confidence is 100.0\n",
      "for epoch 6, the error is 0.0, the confidence is 100.0\n",
      "for epoch 7, the error is 0.0, the confidence is 100.0\n",
      "for epoch 8, the error is 0.0, the confidence is 100.0\n",
      "for epoch 9, the error is 0.0, the confidence is 100.0\n",
      "for epoch 10, the error is 0.0, the confidence is 100.0\n",
      "for epoch 11, the error is 0.0, the confidence is 100.0\n",
      "for epoch 12, the error is 0.0, the confidence is 100.0\n",
      "for epoch 13, the error is 0.0, the confidence is 100.0\n",
      "for epoch 14, the error is 0.0, the confidence is 100.0\n",
      "for epoch 15, the error is 0.0, the confidence is 100.0\n",
      "for epoch 16, the error is 0.0, the confidence is 100.0\n",
      "for epoch 17, the error is 0.0, the confidence is 100.0\n",
      "for epoch 18, the error is 0.0, the confidence is 100.0\n",
      "for epoch 19, the error is 0.0, the confidence is 100.0\n",
      "for epoch 20, the error is 0.0, the confidence is 100.0\n",
      "for epoch 1, the error is 45.0, the confidence is 55.0\n",
      "for epoch 2, the error is 36.0, the confidence is 64.0\n",
      "for epoch 3, the error is 1.0, the confidence is 99.0\n",
      "for epoch 4, the error is 1.0, the confidence is 99.0\n",
      "for epoch 5, the error is 1.0, the confidence is 99.0\n",
      "for epoch 6, the error is 2.0, the confidence is 98.0\n",
      "for epoch 7, the error is 2.0, the confidence is 98.0\n",
      "for epoch 8, the error is 1.0, the confidence is 99.0\n",
      "for epoch 9, the error is 2.0, the confidence is 98.0\n",
      "for epoch 10, the error is 1.0, the confidence is 99.0\n",
      "for epoch 11, the error is 2.0, the confidence is 98.0\n",
      "for epoch 12, the error is 1.0, the confidence is 99.0\n",
      "for epoch 13, the error is 2.0, the confidence is 98.0\n",
      "for epoch 14, the error is 2.0, the confidence is 98.0\n",
      "for epoch 15, the error is 1.0, the confidence is 99.0\n",
      "for epoch 16, the error is 2.0, the confidence is 98.0\n",
      "for epoch 17, the error is 1.0, the confidence is 99.0\n",
      "for epoch 18, the error is 2.0, the confidence is 98.0\n",
      "for epoch 19, the error is 1.0, the confidence is 99.0\n",
      "for epoch 20, the error is 2.0, the confidence is 98.0\n",
      "for epoch 1, the error is 45.0, the confidence is 55.0\n",
      "for epoch 2, the error is 35.0, the confidence is 65.0\n",
      "for epoch 3, the error is 2.0, the confidence is 98.0\n",
      "for epoch 4, the error is 1.0, the confidence is 99.0\n",
      "for epoch 5, the error is 2.0, the confidence is 98.0\n",
      "for epoch 6, the error is 1.0, the confidence is 99.0\n",
      "for epoch 7, the error is 2.0, the confidence is 98.0\n",
      "for epoch 8, the error is 1.0, the confidence is 99.0\n",
      "for epoch 9, the error is 2.0, the confidence is 98.0\n",
      "for epoch 10, the error is 1.0, the confidence is 99.0\n",
      "for epoch 11, the error is 2.0, the confidence is 98.0\n",
      "for epoch 12, the error is 1.0, the confidence is 99.0\n",
      "for epoch 13, the error is 2.0, the confidence is 98.0\n",
      "for epoch 14, the error is 2.0, the confidence is 98.0\n",
      "for epoch 15, the error is 1.0, the confidence is 99.0\n",
      "for epoch 16, the error is 2.0, the confidence is 98.0\n",
      "for epoch 17, the error is 1.0, the confidence is 99.0\n",
      "for epoch 18, the error is 2.0, the confidence is 98.0\n",
      "for epoch 19, the error is 1.0, the confidence is 99.0\n",
      "for epoch 20, the error is 2.0, the confidence is 98.0\n",
      "for epoch 1, the error is 45.0, the confidence is 55.0\n",
      "for epoch 2, the error is 36.0, the confidence is 64.0\n",
      "for epoch 3, the error is 1.0, the confidence is 99.0\n",
      "for epoch 4, the error is 1.0, the confidence is 99.0\n",
      "for epoch 5, the error is 2.0, the confidence is 98.0\n",
      "for epoch 6, the error is 1.0, the confidence is 99.0\n",
      "for epoch 7, the error is 2.0, the confidence is 98.0\n",
      "for epoch 8, the error is 1.0, the confidence is 99.0\n",
      "for epoch 9, the error is 2.0, the confidence is 98.0\n",
      "for epoch 10, the error is 1.0, the confidence is 99.0\n",
      "for epoch 11, the error is 2.0, the confidence is 98.0\n",
      "for epoch 12, the error is 1.0, the confidence is 99.0\n",
      "for epoch 13, the error is 2.0, the confidence is 98.0\n",
      "for epoch 14, the error is 1.0, the confidence is 99.0\n",
      "for epoch 15, the error is 2.0, the confidence is 98.0\n",
      "for epoch 16, the error is 2.0, the confidence is 98.0\n",
      "for epoch 17, the error is 1.0, the confidence is 99.0\n",
      "for epoch 18, the error is 2.0, the confidence is 98.0\n",
      "for epoch 19, the error is 1.0, the confidence is 99.0\n",
      "for epoch 20, the error is 2.0, the confidence is 98.0\n"
     ]
    }
   ],
   "source": [
    "results1 = run(df, 10, 0.005, 20)"
   ]
  },
  {
   "cell_type": "code",
   "execution_count": 269,
   "metadata": {},
   "outputs": [],
   "source": [
    "df_acc1 = pd.DataFrame(total_acc(results1))\n",
    "accs_005 = epoch_accs(df_acc1)"
   ]
  },
  {
   "cell_type": "code",
   "execution_count": 270,
   "metadata": {},
   "outputs": [
    {
     "data": {
      "image/png": "[encoded data removed]",
      "text/plain": [
       "<Figure size 432x288 with 1 Axes>"
      ]
     },
     "metadata": {
      "needs_background": "light"
     },
     "output_type": "display_data"
    }
   ],
   "source": [
    "plt.plot(accs_005)\n",
    "plt.ylabel('accuracy %')\n",
    "plt.xlabel('epochs')\n",
    "plt.show()"
   ]
  },
  {
   "cell_type": "code",
   "execution_count": null,
   "metadata": {},
   "outputs": [],
   "source": []
  }
 ],
 "metadata": {
  "kernelspec": {
   "display_name": "Python 3",
   "language": "python",
   "name": "python3"
  },
  "language_info": {
   "codemirror_mode": {
    "name": "ipython",
    "version": 3
   },
   "file_extension": ".py",
   "mimetype": "text/x-python",
   "name": "python",
   "nbconvert_exporter": "python",
   "pygments_lexer": "ipython3",
   "version": "3.7.0"
  }
 },
 "nbformat": 4,
 "nbformat_minor": 2
}
