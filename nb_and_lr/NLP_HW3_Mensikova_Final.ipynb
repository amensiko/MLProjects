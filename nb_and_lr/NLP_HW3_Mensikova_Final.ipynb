{
 "cells": [
  {
   "cell_type": "code",
   "execution_count": 1,
   "metadata": {},
   "outputs": [
    {
     "name": "stdout",
     "output_type": "stream",
     "text": [
      "/bin/sh: 1: {sys.executable}: not found\r\n"
     ]
    }
   ],
   "source": [
    "import sys\n",
    "!{sys.executable} -m pip install -U imbalanced-learn"
   ]
  },
  {
   "cell_type": "code",
   "execution_count": 1,
   "metadata": {},
   "outputs": [],
   "source": [
    "import sys\n",
    "import numpy as np\n",
    "import pandas as pd\n",
    "\n",
    "from nltk.tokenize import RegexpTokenizer\n",
    "from sklearn.feature_extraction.text import CountVectorizer\n",
    "from sklearn.feature_extraction.text import TfidfTransformer, TfidfVectorizer\n",
    "from sklearn.model_selection import KFold, StratifiedKFold, cross_validate\n",
    "from sklearn.naive_bayes import MultinomialNB\n",
    "from sklearn.linear_model import LogisticRegression\n",
    "from sklearn.metrics import accuracy_score, f1_score, confusion_matrix, classification_report\n",
    "\n",
    "pd.options.display.max_colwidth = 100"
   ]
  },
  {
   "cell_type": "markdown",
   "metadata": {},
   "source": [
    "## Loading the data"
   ]
  },
  {
   "cell_type": "code",
   "execution_count": 2,
   "metadata": {},
   "outputs": [],
   "source": [
    "pos_df = pd.read_csv(\"./CR/txt/pos.tok\", sep=\"\\n\", header=None)\n",
    "neg_df = pd.read_csv(\"./CR/txt/neg.tok\", sep=\"\\n\", header=None)\n",
    "pos_df.columns = [\"text\"]\n",
    "pos_df[\"sentiment\"] = 1\n",
    "neg_df.columns = [\"text\"]\n",
    "neg_df[\"sentiment\"] = 0"
   ]
  },
  {
   "cell_type": "code",
   "execution_count": 3,
   "metadata": {
    "scrolled": true
   },
   "outputs": [
    {
     "data": {
      "text/html": [
       "<div>\n",
       "<style scoped>\n",
       "    .dataframe tbody tr th:only-of-type {\n",
       "        vertical-align: middle;\n",
       "    }\n",
       "\n",
       "    .dataframe tbody tr th {\n",
       "        vertical-align: top;\n",
       "    }\n",
       "\n",
       "    .dataframe thead th {\n",
       "        text-align: right;\n",
       "    }\n",
       "</style>\n",
       "<table border=\"1\" class=\"dataframe\">\n",
       "  <thead>\n",
       "    <tr style=\"text-align: right;\">\n",
       "      <th></th>\n",
       "      <th>text</th>\n",
       "      <th>sentiment</th>\n",
       "    </tr>\n",
       "  </thead>\n",
       "  <tbody>\n",
       "    <tr>\n",
       "      <th>0</th>\n",
       "      <td>im a more happier person after discovering the i/p button ! .</td>\n",
       "      <td>1</td>\n",
       "    </tr>\n",
       "    <tr>\n",
       "      <th>1</th>\n",
       "      <td>but , if you 're looking for my opinion of the apex dvd player , i love it ! .</td>\n",
       "      <td>1</td>\n",
       "    </tr>\n",
       "    <tr>\n",
       "      <th>2</th>\n",
       "      <td>it practically plays almost everything you give it .</td>\n",
       "      <td>1</td>\n",
       "    </tr>\n",
       "    <tr>\n",
       "      <th>3</th>\n",
       "      <td>for the price it is a well spent investment ! .</td>\n",
       "      <td>1</td>\n",
       "    </tr>\n",
       "    <tr>\n",
       "      <th>4</th>\n",
       "      <td>this is by far the nicest one , in so many ways .</td>\n",
       "      <td>1</td>\n",
       "    </tr>\n",
       "    <tr>\n",
       "      <th>...</th>\n",
       "      <td>...</td>\n",
       "      <td>...</td>\n",
       "    </tr>\n",
       "    <tr>\n",
       "      <th>2400</th>\n",
       "      <td>i installed , activated and registered nis 2004 without issue .</td>\n",
       "      <td>1</td>\n",
       "    </tr>\n",
       "    <tr>\n",
       "      <th>2401</th>\n",
       "      <td>so far , the anti-spam feature seems to be very good .</td>\n",
       "      <td>1</td>\n",
       "    </tr>\n",
       "    <tr>\n",
       "      <th>2402</th>\n",
       "      <td>i downloaded a trial version of computer associates ex firewall and antivirus and fell in love w...</td>\n",
       "      <td>1</td>\n",
       "    </tr>\n",
       "    <tr>\n",
       "      <th>2403</th>\n",
       "      <td>i did not have any of the installation problems that people highlighted here .</td>\n",
       "      <td>1</td>\n",
       "    </tr>\n",
       "    <tr>\n",
       "      <th>2404</th>\n",
       "      <td>their products have been great and have saved my bacon on numerous occasions .</td>\n",
       "      <td>1</td>\n",
       "    </tr>\n",
       "  </tbody>\n",
       "</table>\n",
       "<p>2405 rows × 2 columns</p>\n",
       "</div>"
      ],
      "text/plain": [
       "                                                                                                     text  \\\n",
       "0                                           im a more happier person after discovering the i/p button ! .   \n",
       "1                          but , if you 're looking for my opinion of the apex dvd player , i love it ! .   \n",
       "2                                                    it practically plays almost everything you give it .   \n",
       "3                                                         for the price it is a well spent investment ! .   \n",
       "4                                                       this is by far the nicest one , in so many ways .   \n",
       "...                                                                                                   ...   \n",
       "2400                                      i installed , activated and registered nis 2004 without issue .   \n",
       "2401                                               so far , the anti-spam feature seems to be very good .   \n",
       "2402  i downloaded a trial version of computer associates ex firewall and antivirus and fell in love w...   \n",
       "2403                       i did not have any of the installation problems that people highlighted here .   \n",
       "2404                       their products have been great and have saved my bacon on numerous occasions .   \n",
       "\n",
       "      sentiment  \n",
       "0             1  \n",
       "1             1  \n",
       "2             1  \n",
       "3             1  \n",
       "4             1  \n",
       "...         ...  \n",
       "2400          1  \n",
       "2401          1  \n",
       "2402          1  \n",
       "2403          1  \n",
       "2404          1  \n",
       "\n",
       "[2405 rows x 2 columns]"
      ]
     },
     "execution_count": 3,
     "metadata": {},
     "output_type": "execute_result"
    }
   ],
   "source": [
    "pos_df"
   ]
  },
  {
   "cell_type": "code",
   "execution_count": 4,
   "metadata": {},
   "outputs": [],
   "source": [
    "df = pos_df.append(neg_df, ignore_index=True)\n",
    "df = df.sample(frac=1).reset_index(drop=True)"
   ]
  },
  {
   "cell_type": "code",
   "execution_count": 5,
   "metadata": {
    "scrolled": true
   },
   "outputs": [
    {
     "data": {
      "text/html": [
       "<div>\n",
       "<style scoped>\n",
       "    .dataframe tbody tr th:only-of-type {\n",
       "        vertical-align: middle;\n",
       "    }\n",
       "\n",
       "    .dataframe tbody tr th {\n",
       "        vertical-align: top;\n",
       "    }\n",
       "\n",
       "    .dataframe thead th {\n",
       "        text-align: right;\n",
       "    }\n",
       "</style>\n",
       "<table border=\"1\" class=\"dataframe\">\n",
       "  <thead>\n",
       "    <tr style=\"text-align: right;\">\n",
       "      <th></th>\n",
       "      <th>text</th>\n",
       "      <th>sentiment</th>\n",
       "    </tr>\n",
       "  </thead>\n",
       "  <tbody>\n",
       "    <tr>\n",
       "      <th>0</th>\n",
       "      <td>these tasks are faster and easier than in prior versions , and i found the menu to be much more ...</td>\n",
       "      <td>1</td>\n",
       "    </tr>\n",
       "    <tr>\n",
       "      <th>1</th>\n",
       "      <td>apparently , t-mobile is heavily back-logged and can 't keep up with demands .</td>\n",
       "      <td>0</td>\n",
       "    </tr>\n",
       "    <tr>\n",
       "      <th>2</th>\n",
       "      <td>the auto-focus performs well , but i love having the 12 optional scene modes - they are dummy-pr...</td>\n",
       "      <td>1</td>\n",
       "    </tr>\n",
       "    <tr>\n",
       "      <th>3</th>\n",
       "      <td>the card basically installed itself and the \" install wizard \" on the cd that came with the rout...</td>\n",
       "      <td>1</td>\n",
       "    </tr>\n",
       "    <tr>\n",
       "      <th>4</th>\n",
       "      <td>( it sure does look nice , though ! . ) i recommend this to any music lover anywhere : the quali...</td>\n",
       "      <td>1</td>\n",
       "    </tr>\n",
       "    <tr>\n",
       "      <th>...</th>\n",
       "      <td>...</td>\n",
       "      <td>...</td>\n",
       "    </tr>\n",
       "    <tr>\n",
       "      <th>3766</th>\n",
       "      <td>2 ) storage capacity</td>\n",
       "      <td>1</td>\n",
       "    </tr>\n",
       "    <tr>\n",
       "      <th>3767</th>\n",
       "      <td>you can 't do that with a sony t610 ( which i traded for a 6600 ) .</td>\n",
       "      <td>0</td>\n",
       "    </tr>\n",
       "    <tr>\n",
       "      <th>3768</th>\n",
       "      <td>so much packed in a small case and very affordable ! .</td>\n",
       "      <td>1</td>\n",
       "    </tr>\n",
       "    <tr>\n",
       "      <th>3769</th>\n",
       "      <td>this router was a huge disappointment .</td>\n",
       "      <td>0</td>\n",
       "    </tr>\n",
       "    <tr>\n",
       "      <th>3770</th>\n",
       "      <td>software definitely sucks , hangs up my notebook about half the time , but i do n 't mind buying...</td>\n",
       "      <td>0</td>\n",
       "    </tr>\n",
       "  </tbody>\n",
       "</table>\n",
       "<p>3771 rows × 2 columns</p>\n",
       "</div>"
      ],
      "text/plain": [
       "                                                                                                     text  \\\n",
       "0     these tasks are faster and easier than in prior versions , and i found the menu to be much more ...   \n",
       "1                          apparently , t-mobile is heavily back-logged and can 't keep up with demands .   \n",
       "2     the auto-focus performs well , but i love having the 12 optional scene modes - they are dummy-pr...   \n",
       "3     the card basically installed itself and the \" install wizard \" on the cd that came with the rout...   \n",
       "4     ( it sure does look nice , though ! . ) i recommend this to any music lover anywhere : the quali...   \n",
       "...                                                                                                   ...   \n",
       "3766                                                                                 2 ) storage capacity   \n",
       "3767                                  you can 't do that with a sony t610 ( which i traded for a 6600 ) .   \n",
       "3768                                               so much packed in a small case and very affordable ! .   \n",
       "3769                                                              this router was a huge disappointment .   \n",
       "3770  software definitely sucks , hangs up my notebook about half the time , but i do n 't mind buying...   \n",
       "\n",
       "      sentiment  \n",
       "0             1  \n",
       "1             0  \n",
       "2             1  \n",
       "3             1  \n",
       "4             1  \n",
       "...         ...  \n",
       "3766          1  \n",
       "3767          0  \n",
       "3768          1  \n",
       "3769          0  \n",
       "3770          0  \n",
       "\n",
       "[3771 rows x 2 columns]"
      ]
     },
     "execution_count": 5,
     "metadata": {},
     "output_type": "execute_result"
    }
   ],
   "source": [
    "df"
   ]
  },
  {
   "cell_type": "code",
   "execution_count": 6,
   "metadata": {
    "scrolled": false
   },
   "outputs": [
    {
     "name": "stdout",
     "output_type": "stream",
     "text": [
      "   sentiment  count\n",
      "0          1   2405\n",
      "1          0   1366\n"
     ]
    }
   ],
   "source": [
    "ct = df['sentiment'].value_counts().reset_index()\n",
    "ct.columns = ['sentiment', 'count']\n",
    "print(ct)\n",
    "\n",
    "# Too many positives, have to remove some\n",
    "\n",
    "# count_1 = 0\n",
    "# for index, row in df.iterrows():\n",
    "#     if row['sentiment'] == 1:\n",
    "#         count_1 += 1\n",
    "#     if row['sentiment'] == 1 and count_1 > 1366:\n",
    "#         df = df.drop(index)\n",
    "\n",
    "# ct1 = df['sentiment'].value_counts().reset_index()\n",
    "# ct1.columns = ['sentiment', 'count']\n",
    "# print(ct1)"
   ]
  },
  {
   "cell_type": "markdown",
   "metadata": {},
   "source": [
    "https://stanford.edu/~jurafsky/slp3/4.pdf"
   ]
  },
  {
   "cell_type": "markdown",
   "metadata": {},
   "source": [
    "https://machinelearningmastery.com/prepare-text-data-machine-learning-scikit-learn/"
   ]
  },
  {
   "cell_type": "markdown",
   "metadata": {},
   "source": [
    "https://scikit-learn.org/stable/tutorial/text_analytics/working_with_text_data.html"
   ]
  },
  {
   "cell_type": "code",
   "execution_count": 7,
   "metadata": {},
   "outputs": [],
   "source": [
    "def train_cross(X, Y, estimator):\n",
    "    scores = cross_validate(estimator, X, Y, cv=10, scoring=('accuracy', 'f1', 'precision', 'recall'), return_estimator=True)\n",
    "    estimators = scores[\"estimator\"]\n",
    "    best_accuracy = 0.0\n",
    "    best_f1 = 0.0\n",
    "    best = None\n",
    "\n",
    "    line = \"Accuracy: \"\n",
    "    for i in range(len(scores[\"test_accuracy\"])):\n",
    "        s = scores[\"test_accuracy\"][i]\n",
    "        line += \"\\t %0.2f\" % s\n",
    "        if best_accuracy < s:\n",
    "            best = estimators[i]\n",
    "            best_accuracy = s\n",
    "    print(line)\n",
    "\n",
    "    line = \"F1:\\t\"\n",
    "    for s in scores[\"test_f1\"]:\n",
    "        line += \"\\t %0.2f\" % s\n",
    "        if best_f1 < s:\n",
    "            best_f1 = s\n",
    "    print(line)\n",
    "    print()\n",
    "    print(\"Best test accuracy: %f\" % best_accuracy)\n",
    "    print(\"Best test f1: %f\\n\" % best_f1)\n",
    "    y_pred = best.predict(X)\n",
    "\n",
    "    print(classification_report(Y, y_pred, target_names=[\"Negative\", \"Positive\"]))\n"
   ]
  },
  {
   "cell_type": "markdown",
   "metadata": {},
   "source": [
    "# A Naïve Bayes classifier with add-1 smoothing using binary bag-of-words features"
   ]
  },
  {
   "cell_type": "code",
   "execution_count": 8,
   "metadata": {},
   "outputs": [],
   "source": [
    "feature = df['text'].to_numpy()\n",
    "labels = df['sentiment'].to_numpy()\n",
    "\n",
    "binBagCount = CountVectorizer(max_features=1000, binary=True)\n",
    "binBagFeatures = binBagCount.fit_transform(feature)\n",
    "\n",
    "binBagNGramVect = CountVectorizer(ngram_range=(1, 2), max_features=1000, binary=True) # ngram_range=(1, 2) is what makes it ngram\n",
    "binBagNGramFeatures = binBagNGramVect.fit_transform(feature)# A Naïve Bayes classifier with add-1 smoothing using binary bag-of-words features"
   ]
  },
  {
   "cell_type": "code",
   "execution_count": 9,
   "metadata": {},
   "outputs": [
    {
     "name": "stdout",
     "output_type": "stream",
     "text": [
      "Accuracy: \t 0.77\t 0.81\t 0.78\t 0.79\t 0.78\t 0.79\t 0.80\t 0.80\t 0.76\t 0.76\n",
      "F1:\t\t 0.82\t 0.86\t 0.82\t 0.84\t 0.83\t 0.84\t 0.85\t 0.84\t 0.81\t 0.81\n",
      "\n",
      "Best test accuracy: 0.814815\n",
      "Best test f1: 0.855372\n",
      "\n",
      "              precision    recall  f1-score   support\n",
      "\n",
      "    Negative       0.78      0.75      0.76      1366\n",
      "    Positive       0.86      0.88      0.87      2405\n",
      "\n",
      "    accuracy                           0.83      3771\n",
      "   macro avg       0.82      0.81      0.82      3771\n",
      "weighted avg       0.83      0.83      0.83      3771\n",
      "\n"
     ]
    }
   ],
   "source": [
    "nb = MultinomialNB(alpha=1.0) # alpha=1.0 is for add-one smoothing\n",
    "\n",
    "train_cross(binBagFeatures, labels, nb)  "
   ]
  },
  {
   "cell_type": "markdown",
   "metadata": {},
   "source": [
    "# A Naïve Bayes classifier with add-1 smoothing using binary bag-of-ngrams features (with unigrams and bigrams)"
   ]
  },
  {
   "cell_type": "code",
   "execution_count": 10,
   "metadata": {},
   "outputs": [
    {
     "name": "stdout",
     "output_type": "stream",
     "text": [
      "Accuracy: \t 0.78\t 0.81\t 0.79\t 0.80\t 0.77\t 0.80\t 0.79\t 0.79\t 0.75\t 0.74\n",
      "F1:\t\t 0.83\t 0.84\t 0.83\t 0.84\t 0.82\t 0.84\t 0.84\t 0.83\t 0.80\t 0.80\n",
      "\n",
      "Best test accuracy: 0.809524\n",
      "Best test f1: 0.844898\n",
      "\n",
      "              precision    recall  f1-score   support\n",
      "\n",
      "    Negative       0.75      0.78      0.77      1366\n",
      "    Positive       0.87      0.85      0.86      2405\n",
      "\n",
      "    accuracy                           0.83      3771\n",
      "   macro avg       0.81      0.82      0.81      3771\n",
      "weighted avg       0.83      0.83      0.83      3771\n",
      "\n"
     ]
    }
   ],
   "source": [
    "nb = MultinomialNB(alpha=1.0) # alpha=1.0 is for add-one smoothing\n",
    "\n",
    "train_cross(binBagNGramFeatures, labels, nb)"
   ]
  },
  {
   "cell_type": "markdown",
   "metadata": {},
   "source": [
    "# Logistic Regression classifier with L2 regularization (and default parameters) using binary bag-of-words features"
   ]
  },
  {
   "cell_type": "code",
   "execution_count": 11,
   "metadata": {},
   "outputs": [
    {
     "name": "stdout",
     "output_type": "stream",
     "text": [
      "Accuracy: \t 0.79\t 0.80\t 0.78\t 0.78\t 0.78\t 0.76\t 0.77\t 0.80\t 0.76\t 0.75\n",
      "F1:\t\t 0.84\t 0.84\t 0.84\t 0.83\t 0.83\t 0.82\t 0.82\t 0.85\t 0.82\t 0.81\n",
      "\n",
      "Best test accuracy: 0.800532\n",
      "Best test f1: 0.847251\n",
      "\n",
      "              precision    recall  f1-score   support\n",
      "\n",
      "    Negative       0.87      0.79      0.83      1366\n",
      "    Positive       0.89      0.93      0.91      2405\n",
      "\n",
      "    accuracy                           0.88      3771\n",
      "   macro avg       0.88      0.86      0.87      3771\n",
      "weighted avg       0.88      0.88      0.88      3771\n",
      "\n"
     ]
    }
   ],
   "source": [
    "clf = LogisticRegression(random_state=0, solver='liblinear', \n",
    "                             multi_class='ovr', penalty='l2')\n",
    "\n",
    "train_cross(binBagFeatures, labels, clf)"
   ]
  },
  {
   "cell_type": "markdown",
   "metadata": {},
   "source": [
    "# Logistic Regression classifier with L2 regularization using binary bag-of-ngrams features (with unigrams and bigrams)"
   ]
  },
  {
   "cell_type": "code",
   "execution_count": 12,
   "metadata": {},
   "outputs": [
    {
     "name": "stdout",
     "output_type": "stream",
     "text": [
      "Accuracy: \t 0.73\t 0.80\t 0.78\t 0.80\t 0.78\t 0.77\t 0.76\t 0.77\t 0.74\t 0.74\n",
      "F1:\t\t 0.80\t 0.85\t 0.83\t 0.85\t 0.83\t 0.83\t 0.81\t 0.82\t 0.80\t 0.80\n",
      "\n",
      "Best test accuracy: 0.801587\n",
      "Best test f1: 0.846626\n",
      "\n",
      "              precision    recall  f1-score   support\n",
      "\n",
      "    Negative       0.87      0.80      0.83      1366\n",
      "    Positive       0.89      0.93      0.91      2405\n",
      "\n",
      "    accuracy                           0.88      3771\n",
      "   macro avg       0.88      0.86      0.87      3771\n",
      "weighted avg       0.88      0.88      0.88      3771\n",
      "\n"
     ]
    }
   ],
   "source": [
    "clf = LogisticRegression(random_state=0, solver='liblinear', \n",
    "                             multi_class='ovr', penalty='l2')\n",
    "\n",
    "train_cross(binBagNGramFeatures, labels, clf)"
   ]
  },
  {
   "cell_type": "markdown",
   "metadata": {},
   "source": [
    "## Final Conclusion"
   ]
  },
  {
   "cell_type": "markdown",
   "metadata": {},
   "source": [
    "Given the classification reports from each one of the four exercises, we can see that all of them have very similar accuracy and F1-measure (all accuracy around 0.8 and F1 around 0.85). However, the Naïve Bayes classifier with add-1 smoothing using binary bag-of-words features (first question) seems to have the highest accuracy of 0.815 and F1-measure of 0.855."
   ]
  }
 ],
 "metadata": {
  "kernelspec": {
   "display_name": "Python 3",
   "language": "python",
   "name": "python3"
  },
  "language_info": {
   "codemirror_mode": {
    "name": "ipython",
    "version": 3
   },
   "file_extension": ".py",
   "mimetype": "text/x-python",
   "name": "python",
   "nbconvert_exporter": "python",
   "pygments_lexer": "ipython3",
   "version": "3.6.0"
  }
 },
 "nbformat": 4,
 "nbformat_minor": 2
}
